{
 "cells": [
  {
   "cell_type": "code",
   "execution_count": 4,
   "id": "2c5ede7a",
   "metadata": {},
   "outputs": [],
   "source": [
    "y = [3, 2, 1]"
   ]
  },
  {
   "cell_type": "code",
   "execution_count": 7,
   "id": "460304b0",
   "metadata": {},
   "outputs": [],
   "source": [
    "x = y"
   ]
  },
  {
   "cell_type": "code",
   "execution_count": 8,
   "id": "fb3b3e6d",
   "metadata": {},
   "outputs": [
    {
     "data": {
      "text/plain": [
       "[3, 2, 1, 0]"
      ]
     },
     "execution_count": 8,
     "metadata": {},
     "output_type": "execute_result"
    }
   ],
   "source": [
    "y.append(0)\n",
    "y"
   ]
  },
  {
   "cell_type": "code",
   "execution_count": 9,
   "id": "08115dd2",
   "metadata": {},
   "outputs": [
    {
     "data": {
      "text/plain": [
       "[3, 2, 1, 0]"
      ]
     },
     "execution_count": 9,
     "metadata": {},
     "output_type": "execute_result"
    }
   ],
   "source": [
    "x"
   ]
  },
  {
   "cell_type": "code",
   "execution_count": 10,
   "id": "da8a769f",
   "metadata": {},
   "outputs": [],
   "source": [
    "y = 3"
   ]
  },
  {
   "cell_type": "code",
   "execution_count": 11,
   "id": "2bda1144",
   "metadata": {},
   "outputs": [
    {
     "data": {
      "text/plain": [
       "[3, 2, 1, 0]"
      ]
     },
     "execution_count": 11,
     "metadata": {},
     "output_type": "execute_result"
    }
   ],
   "source": [
    "x"
   ]
  },
  {
   "cell_type": "code",
   "execution_count": 13,
   "id": "8f4978f5",
   "metadata": {},
   "outputs": [
    {
     "name": "stdout",
     "output_type": "stream",
     "text": [
      "* \n",
      "* * \n",
      "* * * \n",
      "* * * * \n",
      "* * * * * \n"
     ]
    }
   ],
   "source": [
    "rows = 5\n",
    "for i in range(1, rows+1):\n",
    "    print(\"* \"*i)"
   ]
  },
  {
   "cell_type": "markdown",
   "id": "16ec1d2f",
   "metadata": {},
   "source": [
    "# Exercises on IF Statemet"
   ]
  },
  {
   "cell_type": "code",
   "execution_count": 18,
   "id": "0df0d024",
   "metadata": {},
   "outputs": [
    {
     "name": "stdout",
     "output_type": "stream",
     "text": [
      "wait for 3 years\n"
     ]
    }
   ],
   "source": [
    "age = int(input(\"enter your age: \"))\n",
    "\n",
    "if age >= 18:\n",
    "    print('you are old enough to drive')\n",
    "else:\n",
    "    print(f\"wait for {18-age} years\")"
   ]
  },
  {
   "cell_type": "markdown",
   "id": "24450f86",
   "metadata": {},
   "source": []
  },
  {
   "cell_type": "code",
   "execution_count": 30,
   "id": "096d0ffe",
   "metadata": {},
   "outputs": [
    {
     "name": "stdout",
     "output_type": "stream",
     "text": [
      "enter your age: 31\n",
      "You're -1 year older than me\n"
     ]
    }
   ],
   "source": [
    "your_age = int(input(\"enter your age: \"))\n",
    "\n",
    "my_age = 30\n",
    "years = 'years'\n",
    "\n",
    "diff = my_age - your_age\n",
    "\n",
    "if abs(diff) == 1:\n",
    "    years = 'year'\n",
    "\n",
    "if diff > 0:\n",
    "    print(f\"I'm {abs(diff)} {years} older than you\")\n",
    "elif diff < 0:\n",
    "    print(f\"You're {abs(diff)} {years} older than me\")"
   ]
  },
  {
   "cell_type": "markdown",
   "id": "72b946c9",
   "metadata": {},
   "source": [
    "# Exercises on Python Data Types"
   ]
  },
  {
   "cell_type": "code",
   "execution_count": 36,
   "id": "f2f5b8cf",
   "metadata": {},
   "outputs": [
    {
     "name": "stdout",
     "output_type": "stream",
     "text": [
      "apple\n",
      "date\n",
      "['apple', 'banana', 'grape', 'cherry']\n"
     ]
    }
   ],
   "source": [
    "my_list = ['apple', 'banana', 'cherry', 'date']\n",
    "print(my_list[0])\n",
    "print(my_list.pop())\n",
    "my_list.insert(2, 'grape')\n",
    "print(my_list)"
   ]
  },
  {
   "cell_type": "code",
   "execution_count": 37,
   "id": "fae0ffd7",
   "metadata": {},
   "outputs": [
    {
     "name": "stdout",
     "output_type": "stream",
     "text": [
      "3\n"
     ]
    },
    {
     "ename": "TypeError",
     "evalue": "'tuple' object does not support item assignment",
     "output_type": "error",
     "traceback": [
      "\u001b[1;31m---------------------------------------------------------------------------\u001b[0m",
      "\u001b[1;31mTypeError\u001b[0m                                 Traceback (most recent call last)",
      "Cell \u001b[1;32mIn[37], line 3\u001b[0m\n\u001b[0;32m      1\u001b[0m x \u001b[38;5;241m=\u001b[39m (\u001b[38;5;241m1\u001b[39m, \u001b[38;5;241m2\u001b[39m, \u001b[38;5;241m3\u001b[39m, \u001b[38;5;241m4\u001b[39m, \u001b[38;5;241m5\u001b[39m)\n\u001b[0;32m      2\u001b[0m \u001b[38;5;28mprint\u001b[39m(x[\u001b[38;5;241m2\u001b[39m])\n\u001b[1;32m----> 3\u001b[0m x[\u001b[38;5;241m1\u001b[39m] \u001b[38;5;241m=\u001b[39m \u001b[38;5;241m0\u001b[39m\n",
      "\u001b[1;31mTypeError\u001b[0m: 'tuple' object does not support item assignment"
     ]
    }
   ],
   "source": [
    "x = (1, 2, 3, 4, 5)\n",
    "print(x[2])\n",
    "x[1] = 0"
   ]
  },
  {
   "cell_type": "code",
   "execution_count": 38,
   "id": "94e5ce0b",
   "metadata": {},
   "outputs": [
    {
     "name": "stdout",
     "output_type": "stream",
     "text": [
      "(1, 2, 3, 4, 5)\n"
     ]
    }
   ],
   "source": [
    "print(x)"
   ]
  },
  {
   "cell_type": "code",
   "execution_count": 39,
   "id": "7e62869b",
   "metadata": {},
   "outputs": [
    {
     "name": "stdout",
     "output_type": "stream",
     "text": [
      "Corolla\n",
      "{'brand': 'Toyota', 'model': 'Corolla', 'color': 'Blue'}\n"
     ]
    }
   ],
   "source": [
    "my_dict = {'brand':'Toyota',\n",
    "          'model': 'Corolla',\n",
    "          'year': 2019}\n",
    "print(my_dict['model'])\n",
    "my_dict.pop('year')\n",
    "my_dict['color'] = 'Blue'\n",
    "print(my_dict)"
   ]
  },
  {
   "cell_type": "code",
   "execution_count": null,
   "id": "9e0d23c0",
   "metadata": {},
   "outputs": [],
   "source": []
  }
 ],
 "metadata": {
  "kernelspec": {
   "display_name": "Python 3 (ipykernel)",
   "language": "python",
   "name": "python3"
  },
  "language_info": {
   "codemirror_mode": {
    "name": "ipython",
    "version": 3
   },
   "file_extension": ".py",
   "mimetype": "text/x-python",
   "name": "python",
   "nbconvert_exporter": "python",
   "pygments_lexer": "ipython3",
   "version": "3.9.13"
  }
 },
 "nbformat": 4,
 "nbformat_minor": 5
}
