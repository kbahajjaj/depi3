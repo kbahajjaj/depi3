{
 "cells": [
  {
   "cell_type": "markdown",
   "id": "e05d4248-4de5-4fcf-b9aa-a49133cb3e23",
   "metadata": {},
   "source": [
    "# OOP Practice"
   ]
  },
  {
   "cell_type": "code",
   "execution_count": 13,
   "id": "302d6d7c-caa3-424c-a38c-9664a1702689",
   "metadata": {},
   "outputs": [],
   "source": [
    "class shirt:\n",
    "    company = \"Nike\"\n",
    "    def __init__(self, style, size, color):\n",
    "        self.__style = style\n",
    "        self.size = size\n",
    "        self.color = color\n",
    "\n",
    "    def shirt_info(self):\n",
    "        print(f\"Shirt color is {self.color} and size is {self.size}\")\n",
    "\n",
    "    def shirt_style(self):\n",
    "        print(f\"shirt style is {self.__style}\")\n",
    "\n",
    "    def set_style(self, new_style):\n",
    "        self.__style = new_style"
   ]
  },
  {
   "cell_type": "code",
   "execution_count": 14,
   "id": "0b38d5ca-2db6-4261-abc1-29e0330da09a",
   "metadata": {},
   "outputs": [],
   "source": [
    "shirt1 = shirt(\"long-sleeve\", \"M\", \"red\")"
   ]
  },
  {
   "cell_type": "code",
   "execution_count": 15,
   "id": "2461cc16-7f09-4f78-9f29-46e5dca35b10",
   "metadata": {},
   "outputs": [
    {
     "name": "stdout",
     "output_type": "stream",
     "text": [
      "Shirt color is red and size is M\n"
     ]
    }
   ],
   "source": [
    "shirt1.shirt_info()"
   ]
  },
  {
   "cell_type": "code",
   "execution_count": 16,
   "id": "3890389b-74fc-4ef5-b922-b6e8cd0df568",
   "metadata": {},
   "outputs": [
    {
     "data": {
      "text/plain": [
       "'red'"
      ]
     },
     "execution_count": 16,
     "metadata": {},
     "output_type": "execute_result"
    }
   ],
   "source": [
    "shirt1.color"
   ]
  },
  {
   "cell_type": "code",
   "execution_count": 17,
   "id": "1ffc6148-47d7-4c6c-abc4-b89716f63643",
   "metadata": {},
   "outputs": [
    {
     "ename": "AttributeError",
     "evalue": "'shirt' object has no attribute 'style'",
     "output_type": "error",
     "traceback": [
      "\u001b[1;31m---------------------------------------------------------------------------\u001b[0m",
      "\u001b[1;31mAttributeError\u001b[0m                            Traceback (most recent call last)",
      "Cell \u001b[1;32mIn[17], line 1\u001b[0m\n\u001b[1;32m----> 1\u001b[0m shirt1\u001b[38;5;241m.\u001b[39mstyle\n",
      "\u001b[1;31mAttributeError\u001b[0m: 'shirt' object has no attribute 'style'"
     ]
    }
   ],
   "source": [
    "shirt1.style"
   ]
  },
  {
   "cell_type": "code",
   "execution_count": 18,
   "id": "ea6af089-94c0-44d7-a5aa-1b0a3ab20aea",
   "metadata": {},
   "outputs": [
    {
     "name": "stdout",
     "output_type": "stream",
     "text": [
      "shirt style is long-sleeve\n"
     ]
    }
   ],
   "source": [
    "shirt1.shirt_style()"
   ]
  },
  {
   "cell_type": "code",
   "execution_count": 20,
   "id": "ef2a3212-5b55-4c49-84ef-87ddf4d73b74",
   "metadata": {},
   "outputs": [],
   "source": [
    "shirt1.set_style(\"blouse\")"
   ]
  },
  {
   "cell_type": "code",
   "execution_count": 21,
   "id": "c056e0e4-6564-4520-bc4b-e88299d99231",
   "metadata": {},
   "outputs": [
    {
     "name": "stdout",
     "output_type": "stream",
     "text": [
      "shirt style is blouse\n"
     ]
    }
   ],
   "source": [
    "shirt1.shirt_style()"
   ]
  },
  {
   "cell_type": "markdown",
   "id": "6fd47686-02f6-457d-a2d9-3ec8275e3e95",
   "metadata": {},
   "source": [
    "# OOP: Task 1"
   ]
  },
  {
   "cell_type": "code",
   "execution_count": 43,
   "id": "fc4f897a-dda2-4567-82ad-811903a421e8",
   "metadata": {},
   "outputs": [],
   "source": [
    "class my_stats:\n",
    "    def __init__(self, input_list):\n",
    "        self.input_list = input_list\n",
    "\n",
    "    def count(self):\n",
    "        return len(self.input_list)\n",
    "\n",
    "    def sum(self):\n",
    "        return sum(self.input_list)\n",
    "\n",
    "    def mean(self):\n",
    "        return statistics.mean(self.input_list)\n",
    "\n",
    "    def median(self):\n",
    "        return statistics.median(self.input_list)"
   ]
  },
  {
   "cell_type": "code",
   "execution_count": 44,
   "id": "c20269c5-c917-4494-ac36-05f02e8188f3",
   "metadata": {},
   "outputs": [],
   "source": [
    "import statistics\n",
    "ages = [31, 26, 34, 37, 27, 26, 32, 32, 26, 27, 27, 24, 32, 33, 27, 25, 26, 38, 37, 31, 34, 24, 33, 29, 26]"
   ]
  },
  {
   "cell_type": "code",
   "execution_count": 45,
   "id": "3630e27b-2872-4bd7-8f6b-f3eefc7aa2b9",
   "metadata": {},
   "outputs": [],
   "source": [
    "calc = my_stats(ages)"
   ]
  },
  {
   "cell_type": "code",
   "execution_count": 46,
   "id": "ded2edab-1ae1-433e-a466-0266e09b428d",
   "metadata": {},
   "outputs": [
    {
     "data": {
      "text/plain": [
       "29.76"
      ]
     },
     "execution_count": 46,
     "metadata": {},
     "output_type": "execute_result"
    }
   ],
   "source": [
    "calc.mean()"
   ]
  },
  {
   "cell_type": "code",
   "execution_count": 47,
   "id": "4f24f8bd-3a62-4304-9463-d485a0b6796e",
   "metadata": {},
   "outputs": [
    {
     "data": {
      "text/plain": [
       "29"
      ]
     },
     "execution_count": 47,
     "metadata": {},
     "output_type": "execute_result"
    }
   ],
   "source": [
    "calc.median()"
   ]
  },
  {
   "cell_type": "code",
   "execution_count": 48,
   "id": "96ef896a-1de4-4dd4-9ffc-6294d3d7bede",
   "metadata": {},
   "outputs": [
    {
     "data": {
      "text/plain": [
       "744"
      ]
     },
     "execution_count": 48,
     "metadata": {},
     "output_type": "execute_result"
    }
   ],
   "source": [
    "calc.sum()"
   ]
  },
  {
   "cell_type": "code",
   "execution_count": 49,
   "id": "552121ce-a727-474e-9457-d0b1bc78aad5",
   "metadata": {},
   "outputs": [
    {
     "data": {
      "text/plain": [
       "25"
      ]
     },
     "execution_count": 49,
     "metadata": {},
     "output_type": "execute_result"
    }
   ],
   "source": [
    "calc.count()"
   ]
  },
  {
   "cell_type": "code",
   "execution_count": 50,
   "id": "31830515-51bc-4863-b10b-e27bb19d3cf1",
   "metadata": {},
   "outputs": [],
   "source": [
    "x = calc.mean()"
   ]
  },
  {
   "cell_type": "code",
   "execution_count": 51,
   "id": "e025d63c-04ab-4ecf-8203-cf9a2df4cb08",
   "metadata": {},
   "outputs": [
    {
     "name": "stdout",
     "output_type": "stream",
     "text": [
      "29.76\n"
     ]
    }
   ],
   "source": [
    "print(x)"
   ]
  },
  {
   "cell_type": "markdown",
   "id": "243e2f58-b19b-4a10-aee1-c7c55e97e93e",
   "metadata": {},
   "source": [
    "# OOP: Task 2"
   ]
  },
  {
   "cell_type": "code",
   "execution_count": 117,
   "id": "80a4f5d8-921a-4436-91bd-352223b56183",
   "metadata": {},
   "outputs": [],
   "source": [
    "class voting_system:\n",
    "    def __init__(self):\n",
    "        self.candidates = {}\n",
    "        \n",
    "    def add_candidate(self, name):\n",
    "        self.name = name\n",
    "        self.candidates[name] = 0\n",
    "\n",
    "    def show_candidates(self):\n",
    "        return list(self.candidates.keys())\n",
    "\n",
    "    def vote_for_candidate(self, name):\n",
    "        self.name = name\n",
    "        self.candidates[name]+= 1\n",
    "\n",
    "    def get_result_of_candidate(self, name):\n",
    "        self.name = name\n",
    "        if self.name in self.candidates.keys():\n",
    "            print(f\"number of votes for ({self.name}) are: {self.candidates[name]}\")\n",
    "        else:\n",
    "            print(\"No such candidate!\")\n",
    "\n",
    "    def display_winner(self):\n",
    "        winner_vote = sorted(self.candidates.items(), key=lambda k:k[1], reverse=True)[0]\n",
    "        print(f\"The winner is {winner_vote[0]} with {winner_vote[1]} votes.\")"
   ]
  },
  {
   "cell_type": "code",
   "execution_count": 118,
   "id": "3ec94e45-180d-4549-9d36-4f5856f8c689",
   "metadata": {},
   "outputs": [],
   "source": [
    "voting = voting_system()"
   ]
  },
  {
   "cell_type": "code",
   "execution_count": 119,
   "id": "c216086a-5620-4f96-8f7d-32c49fa19445",
   "metadata": {},
   "outputs": [
    {
     "data": {
      "text/plain": [
       "['p1', 'p2', 'p3']"
      ]
     },
     "execution_count": 119,
     "metadata": {},
     "output_type": "execute_result"
    }
   ],
   "source": [
    "voting.add_candidate('p1')\n",
    "voting.add_candidate('p2')\n",
    "voting.add_candidate('p3')\n",
    "voting.show_candidates()"
   ]
  },
  {
   "cell_type": "code",
   "execution_count": 120,
   "id": "552f21eb-422e-4c96-bbd6-1b87f1a40024",
   "metadata": {},
   "outputs": [],
   "source": [
    "voting.vote_for_candidate('p1')\n",
    "voting.vote_for_candidate('p1')\n",
    "voting.vote_for_candidate('p1')\n",
    "voting.vote_for_candidate('p2')\n",
    "voting.vote_for_candidate('p2')"
   ]
  },
  {
   "cell_type": "code",
   "execution_count": 121,
   "id": "33dbea0a-62d2-4051-b3f8-338ee0ad90c8",
   "metadata": {},
   "outputs": [
    {
     "name": "stdout",
     "output_type": "stream",
     "text": [
      "number of votes for (p1) are: 3\n"
     ]
    }
   ],
   "source": [
    "voting.get_result_of_candidate('p1')"
   ]
  },
  {
   "cell_type": "code",
   "execution_count": 122,
   "id": "db2425ca-dded-4846-a71d-d1f81a2f7386",
   "metadata": {},
   "outputs": [
    {
     "name": "stdout",
     "output_type": "stream",
     "text": [
      "number of votes for (p2) are: 2\n"
     ]
    }
   ],
   "source": [
    "voting.get_result_of_candidate('p2')"
   ]
  },
  {
   "cell_type": "code",
   "execution_count": 123,
   "id": "4bca469a-8b32-4072-b98e-9093944eb63d",
   "metadata": {},
   "outputs": [
    {
     "name": "stdout",
     "output_type": "stream",
     "text": [
      "number of votes for (p3) are: 0\n"
     ]
    }
   ],
   "source": [
    "voting.get_result_of_candidate('p3')"
   ]
  },
  {
   "cell_type": "code",
   "execution_count": 124,
   "id": "9852122a-f454-41ee-9e2b-9b52ca376bd2",
   "metadata": {},
   "outputs": [
    {
     "name": "stdout",
     "output_type": "stream",
     "text": [
      "No such candidate!\n"
     ]
    }
   ],
   "source": [
    "voting.get_result_of_candidate('p4')"
   ]
  },
  {
   "cell_type": "code",
   "execution_count": 125,
   "id": "5bb82935-9693-45ab-ace9-8f92cedaf843",
   "metadata": {},
   "outputs": [
    {
     "name": "stdout",
     "output_type": "stream",
     "text": [
      "The winner is p1 with 3 votes.\n"
     ]
    }
   ],
   "source": [
    "voting.display_winner()"
   ]
  },
  {
   "cell_type": "code",
   "execution_count": null,
   "id": "6fe0fb63-cb21-4467-b6fc-7cb66b372d7c",
   "metadata": {},
   "outputs": [],
   "source": []
  }
 ],
 "metadata": {
  "kernelspec": {
   "display_name": "Python [conda env:base] *",
   "language": "python",
   "name": "conda-base-py"
  },
  "language_info": {
   "codemirror_mode": {
    "name": "ipython",
    "version": 3
   },
   "file_extension": ".py",
   "mimetype": "text/x-python",
   "name": "python",
   "nbconvert_exporter": "python",
   "pygments_lexer": "ipython3",
   "version": "3.12.4"
  }
 },
 "nbformat": 4,
 "nbformat_minor": 5
}
