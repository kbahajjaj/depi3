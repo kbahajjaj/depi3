{
 "cells": [
  {
   "cell_type": "markdown",
   "metadata": {
    "id": "_Yf80CEGGjrS"
   },
   "source": [
    "# Python Statement and Comments"
   ]
  },
  {
   "cell_type": "markdown",
   "metadata": {
    "id": "WHgnIploGjrY",
    "tags": []
   },
   "source": [
    "## 1. Python Statement\n",
    "\n",
    "Instructions that a Python interpreter can execute are called statements. For example, **`a = 1`** is an assignment statement. **`if`** statement, **`for`** statement, **`while`** statement, etc. are other kinds of statements which will be discussed later."
   ]
  },
  {
   "cell_type": "markdown",
   "metadata": {
    "id": "J8u7craXGjrZ"
   },
   "source": [
    "### Multi-line statement\n",
    "\n",
    "In Python, the end of a statement is marked by a newline character. But we can make a statement extend over multiple lines with the line continuation character **`\\`**.\n",
    "\n",
    "* Statements finish at the end of the line:\n",
    "  * Except when there is an open bracket or paranthesis:\n",
    "  \n",
    "```python\n",
    ">>> 1+2\n",
    ">>> +3  #illegal continuation of the sum\n",
    "```\n",
    "  * A single backslash at the end of the line can also be used to indicate that a statement is still incomplete  \n",
    "  \n",
    "```python\n",
    ">>> 1 + \\\n",
    ">>>    2 + 3 # this is also okay\n",
    "```\n",
    "\n",
    "For example:"
   ]
  },
  {
   "cell_type": "code",
   "execution_count": null,
   "metadata": {
    "ExecuteTime": {
     "end_time": "2021-10-02T06:13:39.565686Z",
     "start_time": "2021-10-02T06:13:39.533459Z"
    },
    "id": "RBKvJLPjGjrb",
    "outputId": "3cec8ee2-b32a-4caa-b5c6-f7abeda4ed85"
   },
   "outputs": [
    {
     "data": {
      "text/plain": [
       "3"
      ]
     },
     "execution_count": 1,
     "metadata": {},
     "output_type": "execute_result"
    }
   ],
   "source": [
    "1+2    # assignment line 1\n",
    "+3     # assignment line 2\n",
    "\n",
    "# Python is only calculating assignment line 1"
   ]
  },
  {
   "cell_type": "markdown",
   "metadata": {
    "id": "wvzISzDwGjre"
   },
   "source": [
    "```python\n",
    "1+2 \\       # '\\' means assignment line is continue to next line\n",
    "+3\n",
    "```\n",
    "\n",
    ">**Note:** This would result in error because there should be no comment **`#`** or space after **`\\`**."
   ]
  },
  {
   "cell_type": "code",
   "execution_count": null,
   "metadata": {
    "ExecuteTime": {
     "end_time": "2021-10-02T06:13:39.671639Z",
     "start_time": "2021-10-02T06:13:39.567639Z"
    },
    "id": "xcn9CoaNGjrf",
    "outputId": "544edecb-26ab-40f2-9235-4d21553a93ba"
   },
   "outputs": [
    {
     "name": "stdout",
     "output_type": "stream",
     "text": [
      "test1 and test2 \n"
     ]
    }
   ],
   "source": [
    "# Method 1:\n",
    "\n",
    "x = \"test1 and\" \" test2 \"\" test2 \"\" test2 \"\" test2 \"\" test2 \"\" test2 \"\n",
    "\n",
    "print(x)"
   ]
  },
  {
   "cell_type": "code",
   "execution_count": null,
   "metadata": {
    "ExecuteTime": {
     "end_time": "2021-10-02T06:13:39.777600Z",
     "start_time": "2021-10-02T06:13:39.676525Z"
    },
    "id": "GN5azSx8Gjrg",
    "outputId": "eee84315-15a3-4432-caf3-3fc1ea297d6e"
   },
   "outputs": [
    {
     "data": {
      "text/plain": [
       "45"
      ]
     },
     "execution_count": 3,
     "metadata": {},
     "output_type": "execute_result"
    }
   ],
   "source": [
    "1 + 2 + 3 + \\\n",
    "4 + 5 + 6 + \\\n",
    "7 + 8 + 9"
   ]
  },
  {
   "cell_type": "markdown",
   "metadata": {
    "id": "fm3FShstGjrh"
   },
   "source": [
    "This is an explicit line continuation. In Python, line continuation is implied inside:\n",
    "1. parentheses **`( )`**,\n",
    "    For Example:\n",
    "    ```python\n",
    "(1+2\n",
    "             + 3) # perfectly OK even with spaces\n",
    "```\n",
    "2. brackets **`[ ]`**, and\n",
    "3. braces **`{ }`**.\n",
    "For instance, we can implement the above multi-line statement as:"
   ]
  },
  {
   "cell_type": "code",
   "execution_count": null,
   "metadata": {
    "ExecuteTime": {
     "end_time": "2021-10-02T06:13:39.929944Z",
     "start_time": "2021-10-02T06:13:39.781506Z"
    },
    "id": "kPn-u449Gjrh",
    "outputId": "cc6fde67-7e9a-4ec6-ae63-49d40cc30d82"
   },
   "outputs": [
    {
     "data": {
      "text/plain": [
       "6"
      ]
     },
     "execution_count": 4,
     "metadata": {},
     "output_type": "execute_result"
    }
   ],
   "source": [
    "# Method 2:\n",
    "\n",
    "(1+2\n",
    "+3)"
   ]
  },
  {
   "cell_type": "code",
   "execution_count": null,
   "metadata": {
    "ExecuteTime": {
     "end_time": "2021-10-02T06:13:40.041275Z",
     "start_time": "2021-10-02T06:13:39.933850Z"
    },
    "id": "CIpxe1frGjri",
    "outputId": "5b6e60b3-2620-4154-9d40-722bb369a771"
   },
   "outputs": [
    {
     "name": "stdout",
     "output_type": "stream",
     "text": [
      "6\n",
      "15\n",
      "24\n"
     ]
    }
   ],
   "source": [
    "print(1 + 2 + 3 )\n",
    "print(4 + 5 + 6 )\n",
    "print(7 + 8 + 9)"
   ]
  },
  {
   "cell_type": "markdown",
   "metadata": {
    "id": "DubUkyhtGjrj"
   },
   "source": [
    "Here, the surrounding parentheses **`( )`** do the line continuation implicitly. Same is the case with **`[ ]`** and **`{ }`**. For example:"
   ]
  },
  {
   "cell_type": "code",
   "execution_count": null,
   "metadata": {
    "ExecuteTime": {
     "end_time": "2021-10-02T06:13:40.160414Z",
     "start_time": "2021-10-02T06:13:40.047132Z"
    },
    "id": "I1-mjKS_Gjrk",
    "outputId": "0e3b16a6-c824-4124-fb0e-7ff32032498c"
   },
   "outputs": [
    {
     "data": {
      "text/plain": [
       "['red', 'blue', 'green', '99']"
      ]
     },
     "execution_count": 6,
     "metadata": {},
     "output_type": "execute_result"
    }
   ],
   "source": [
    "['red',\n",
    "'blue',\n",
    "    'green', '99']"
   ]
  },
  {
   "cell_type": "code",
   "execution_count": null,
   "metadata": {
    "ExecuteTime": {
     "end_time": "2021-10-02T06:13:40.314708Z",
     "start_time": "2021-10-02T06:13:40.167249Z"
    },
    "id": "-4yR1W_GGjrk",
    "outputId": "60159305-41ed-4344-d5b6-1271e49ea6ea",
    "scrolled": true
   },
   "outputs": [
    {
     "name": "stdout",
     "output_type": "stream",
     "text": [
      "1\n",
      "2\n",
      "3\n",
      "4\n",
      "5\n",
      "6\n"
     ]
    }
   ],
   "source": [
    "for i in range(1,11):\n",
    "    print(i)   #press \"Tab\" one time for 1 indentation\n",
    "    if i == 6:\n",
    "        break"
   ]
  },
  {
   "cell_type": "markdown",
   "metadata": {
    "id": "vOTkZPZuGjrl"
   },
   "source": [
    "The enforcement of indentation in Python makes the code look neat and clean. This results in Python programs that look similar and consistent.\n",
    "\n",
    "Indentation can be ignored in line continuation, but it's always a good idea to indent. It makes the code more readable. For example:"
   ]
  },
  {
   "cell_type": "code",
   "execution_count": null,
   "metadata": {
    "ExecuteTime": {
     "end_time": "2021-10-02T06:13:40.437265Z",
     "start_time": "2021-10-02T06:13:40.325457Z"
    },
    "id": "DKMjBDpIGjrl",
    "outputId": "570ecfe1-4f1f-4afd-f81a-9f6df758bd39"
   },
   "outputs": [
    {
     "name": "stdout",
     "output_type": "stream",
     "text": [
      "Hello\n"
     ]
    }
   ],
   "source": [
    "if True:\n",
    "    print('Hello')\n",
    "    a = 6"
   ]
  },
  {
   "cell_type": "markdown",
   "metadata": {
    "id": "2HDyecy9Gjrl"
   },
   "source": [
    "or"
   ]
  },
  {
   "cell_type": "code",
   "execution_count": null,
   "metadata": {
    "ExecuteTime": {
     "end_time": "2021-10-02T06:13:40.559823Z",
     "start_time": "2021-10-02T06:13:40.447031Z"
    },
    "id": "-lWO7UmeGjrm",
    "outputId": "54178de2-705b-4ee1-ca53-1f3b264d385e"
   },
   "outputs": [
    {
     "name": "stdout",
     "output_type": "stream",
     "text": [
      "Hello\n"
     ]
    }
   ],
   "source": [
    "if True: print('Hello'); a = 6"
   ]
  },
  {
   "cell_type": "markdown",
   "metadata": {
    "id": "mzz9C7wOGjrm"
   },
   "source": [
    "both are valid and do the same thing, but the former style is clearer.\n",
    "\n",
    "Incorrect indentation will result in **`IndentationError`**\n",
    "."
   ]
  },
  {
   "cell_type": "markdown",
   "metadata": {
    "id": "1CP9i4-zGjrn",
    "tags": []
   },
   "source": [
    "## 2. Python Comments\n",
    "\n",
    "Comments are very important while writing a program. They describe what is going on inside a program, so that a person looking at the source code does not have a hard time figuring it out.\n",
    "\n",
    "You might forget the key details of the program you just wrote in a month's time. So taking the time to explain these concepts in the form of comments is always fruitful.\n",
    "\n",
    "In Python, we use the hash **`#`** symbol to start writing a comment.\n",
    "\n",
    "It extends up to the newline character. Comments are for programmers to better understand a program. Python Interpreter ignores comments.\n",
    "\n",
    "Generally, comments will look something like this:\n",
    "\n",
    "```python\n",
    "#This is a Comment\n",
    "```\n",
    "\n",
    "Because comments do not **execute**, when you run a program you will not see any indication of the comment there. Comments are in the source code for **humans** to **read**, not for **computers to execute**."
   ]
  },
  {
   "cell_type": "code",
   "execution_count": null,
   "metadata": {
    "ExecuteTime": {
     "end_time": "2021-10-02T06:13:40.682382Z",
     "start_time": "2021-10-02T06:13:40.563733Z"
    },
    "id": "MgAYtcd9Gjrn"
   },
   "outputs": [],
   "source": [
    "#we difine age as a\n",
    "a = 10"
   ]
  },
  {
   "cell_type": "markdown",
   "metadata": {
    "id": "gjBr_6vRGjrn"
   },
   "source": [
    "### 1. Single lined comment:\n",
    "In case user wants to specify a single line comment, then comment must start with **`#`**.\n",
    "\n",
    "```python\n",
    "#This is single line comment.\n",
    "```"
   ]
  },
  {
   "cell_type": "code",
   "execution_count": null,
   "metadata": {
    "ExecuteTime": {
     "end_time": "2021-10-02T06:13:40.804942Z",
     "start_time": "2021-10-02T06:13:40.685314Z"
    },
    "id": "Wwt1Vf6SGjro"
   },
   "outputs": [],
   "source": [
    "#This is single line comment."
   ]
  },
  {
   "cell_type": "markdown",
   "metadata": {
    "id": "tmPrGPn8Gjro"
   },
   "source": [
    "### 2. Inline comments\n",
    "If a comment is placed on the same line as a statement, it is called an inline comment. Similar to the block comment, an inline comment begins with a single hash (#) sign and followed by a space and comment.\n",
    "\n",
    "It is recommended that an inline comment should separate from the statement at least **two spaces**. The following example demonstrates an inline comment\n",
    "\n",
    "```python\n",
    ">>>n+=1  # increase/add n by 1\n",
    "```"
   ]
  },
  {
   "cell_type": "code",
   "execution_count": null,
   "metadata": {
    "ExecuteTime": {
     "end_time": "2021-10-02T06:13:40.929942Z",
     "start_time": "2021-10-02T06:13:40.809827Z"
    },
    "id": "InFuggdwGjro",
    "outputId": "22e0f133-1da0-436b-e8d9-04adaceb1258"
   },
   "outputs": [
    {
     "data": {
      "text/plain": [
       "9"
      ]
     },
     "execution_count": 16,
     "metadata": {},
     "output_type": "execute_result"
    }
   ],
   "source": [
    "n=9\n",
    " # age as n n+=1\n",
    "n"
   ]
  },
  {
   "cell_type": "markdown",
   "metadata": {
    "id": "FU6rOfKMGjrp"
   },
   "source": [
    "### 3. Multi lined comment:\n",
    "\n",
    "We can have comments that extend up to multiple lines. One way is to use the hash **`#`** symbol at the beginning of each line. For example:"
   ]
  },
  {
   "cell_type": "code",
   "execution_count": null,
   "metadata": {
    "ExecuteTime": {
     "end_time": "2021-10-02T06:13:41.082284Z",
     "start_time": "2021-10-02T06:13:40.933849Z"
    },
    "id": "yRIfXuiMGjrp"
   },
   "outputs": [],
   "source": [
    "#This is a long comment\n",
    "#and it extends\n",
    "#to multiple lines"
   ]
  },
  {
   "cell_type": "code",
   "execution_count": null,
   "metadata": {
    "ExecuteTime": {
     "end_time": "2021-10-02T06:13:41.236581Z",
     "start_time": "2021-10-02T06:13:41.086192Z"
    },
    "id": "I4Ny15rgGjrp",
    "outputId": "2cfa35ed-6095-437f-bc5a-b15c0d02b39f"
   },
   "outputs": [
    {
     "name": "stdout",
     "output_type": "stream",
     "text": [
      "Hello\n"
     ]
    }
   ],
   "source": [
    "#This is a comment\n",
    "#print out Hello\n",
    "print('Hello')"
   ]
  },
  {
   "cell_type": "code",
   "execution_count": null,
   "metadata": {
    "id": "PRqKn7bVGjrq",
    "outputId": "b6db843a-4d3c-458b-8419-f78e948d26ad"
   },
   "outputs": [
    {
     "name": "stdout",
     "output_type": "stream",
     "text": [
      "Hello PythonThis is\n",
      "   multiline comment\n"
     ]
    }
   ],
   "source": [
    "print (\"Hello Python\"\n",
    "   '''This is\n",
    "   multiline comment''')\n"
   ]
  },
  {
   "cell_type": "code",
   "execution_count": 9,
   "metadata": {
    "ExecuteTime": {
     "end_time": "2021-10-02T06:13:41.375251Z",
     "start_time": "2021-10-02T06:13:41.247325Z"
    },
    "id": "0SPmvRWcGjrq",
    "outputId": "90982d6a-f399-4344-d274-fac25a754f9b"
   },
   "outputs": [
    {
     "data": {
      "text/plain": [
       "'This is also a\\nperfect example of\\nmulti-line comments'"
      ]
     },
     "execution_count": 9,
     "metadata": {},
     "output_type": "execute_result"
    }
   ],
   "source": [
    "\"\"\"This is also a\n",
    "perfect example of\n",
    "multi-line comments\"\"\""
   ]
  },
  {
   "cell_type": "code",
   "execution_count": null,
   "metadata": {
    "ExecuteTime": {
     "end_time": "2021-10-02T06:13:41.482679Z",
     "start_time": "2021-10-02T06:13:41.379163Z"
    },
    "id": "FYlfL7LmGjrr",
    "outputId": "0f28f5f3-fcca-4a86-e5da-b0688c9d6795"
   },
   "outputs": [
    {
     "data": {
      "text/plain": [
       "'This is also a\\nperfect example of\\nmulti-line comments'"
      ]
     },
     "execution_count": 5,
     "metadata": {},
     "output_type": "execute_result"
    }
   ],
   "source": [
    "'''This is also a\n",
    "perfect example of\n",
    "multi-line comments'''"
   ]
  },
  {
   "cell_type": "code",
   "execution_count": null,
   "metadata": {
    "ExecuteTime": {
     "end_time": "2021-10-02T06:13:41.620369Z",
     "start_time": "2021-10-02T06:13:41.488536Z"
    },
    "id": "o3Lb7KgLGjrr",
    "outputId": "a9f20a45-e17d-410b-f5e6-7d252d05ed81",
    "scrolled": true
   },
   "outputs": [
    {
     "name": "stdout",
     "output_type": "stream",
     "text": [
      "Hello PythonThis is\n",
      "multiline comment\n"
     ]
    }
   ],
   "source": [
    "#single line comment\n",
    "\"\"\"rfgdrreyery\n",
    "ghtrhy\n",
    "tryh\n",
    "try\n",
    "trhy\n",
    "tryh\n",
    "\n",
    "\"\"\"\n",
    "\"\"\"\n",
    "print (\"Hello Python\"\n",
    "'''This is\n",
    "multiline comment''')\"\"\""
   ]
  },
  {
   "cell_type": "markdown",
   "metadata": {
    "id": "VSFcJsZSGjrr"
   },
   "source": [
    "### 4. Docstrings in Python\n",
    "\n",
    "A docstring is short for documentation string.\n",
    "\n",
    "**[Python Docstrings](https://github.com/milaan9/04_Python_Functions/blob/main/Python_Docstrings.ipynb)** (documentation strings) are the **[string](https://github.com/milaan9/02_Python_Datatypes/blob/main/002_Python_String.ipynb)** literals that appear right after the definition of a function, method, class, or module.\n",
    "\n",
    "Triple quotes are used while writing docstrings. For example:\n",
    "\n",
    "```python\n",
    ">>>def double(num):\n",
    ">>>    \"\"\"Function to double the value\"\"\"\n",
    ">>>    return 3*num\n",
    "```\n",
    "\n",
    "Docstrings appear right after the definition of a function, class, or a module. This separates docstrings from multiline comments using triple quotes.\n",
    "\n",
    "The docstrings are associated with the object as their **`__doc__`** attribute.\n",
    "\n",
    "So, we can access the docstrings of the above function with the following lines of code:"
   ]
  },
  {
   "cell_type": "code",
   "execution_count": null,
   "metadata": {
    "ExecuteTime": {
     "end_time": "2021-10-02T06:13:41.729260Z",
     "start_time": "2021-10-02T06:13:41.626231Z"
    },
    "id": "easXnYsLGjrs",
    "outputId": "eeee9476-4360-4ecb-e384-fc45aa7898fa"
   },
   "outputs": [
    {
     "name": "stdout",
     "output_type": "stream",
     "text": [
      "Function to double the value\n"
     ]
    }
   ],
   "source": [
    "def double(num):\n",
    "    \"\"\"Function to double the value\"\"\"\n",
    "    return 3*num\n",
    "print(double.__doc__)"
   ]
  },
  {
   "cell_type": "markdown",
   "metadata": {
    "id": "paYPPbs0Gjrs"
   },
   "source": [
    "To learn more about docstrings in Python, visit **[Python Docstrings](https://github.com/milaan9/04_Python_Functions/blob/main/Python_Docstrings.ipynb)** ."
   ]
  },
  {
   "cell_type": "markdown",
   "metadata": {
    "id": "gB7LWXOnGjrs"
   },
   "source": [
    "## Help topics\n",
    "\n",
    "Python has extensive help built in. You can execute **`help()`** for an overview or **`help(x)`** for any library, object or type **`x`**. Try using **`help(\"topics\")`** to get a list of help pages built into the help system.\n",
    "\n",
    "`help(\"topics\")`"
   ]
  },
  {
   "cell_type": "code",
   "execution_count": null,
   "metadata": {
    "ExecuteTime": {
     "end_time": "2021-10-02T06:13:41.882578Z",
     "start_time": "2021-10-02T06:13:41.733166Z"
    },
    "id": "rfZyvHX6Gjrt",
    "outputId": "11694d6b-192e-432c-9eea-bace46067b1c",
    "scrolled": true
   },
   "outputs": [
    {
     "name": "stdout",
     "output_type": "stream",
     "text": [
      "Help on ufunc:\n",
      "\n",
      "absolute = <ufunc 'absolute'>\n",
      "    absolute(x, /, out=None, *, where=True, casting='same_kind', order='K', dtype=None, subok=True[, signature, extobj])\n",
      "    \n",
      "    Calculate the absolute value element-wise.\n",
      "    \n",
      "    ``np.abs`` is a shorthand for this function.\n",
      "    \n",
      "    Parameters\n",
      "    ----------\n",
      "    x : array_like\n",
      "        Input array.\n",
      "    out : ndarray, None, or tuple of ndarray and None, optional\n",
      "        A location into which the result is stored. If provided, it must have\n",
      "        a shape that the inputs broadcast to. If not provided or None,\n",
      "        a freshly-allocated array is returned. A tuple (possible only as a\n",
      "        keyword argument) must have length equal to the number of outputs.\n",
      "    where : array_like, optional\n",
      "        This condition is broadcast over the input. At locations where the\n",
      "        condition is True, the `out` array will be set to the ufunc result.\n",
      "        Elsewhere, the `out` array will retain its original value.\n",
      "        Note that if an uninitialized `out` array is created via the default\n",
      "        ``out=None``, locations within it where the condition is False will\n",
      "        remain uninitialized.\n",
      "    **kwargs\n",
      "        For other keyword-only arguments, see the\n",
      "        :ref:`ufunc docs <ufuncs.kwargs>`.\n",
      "    \n",
      "    Returns\n",
      "    -------\n",
      "    absolute : ndarray\n",
      "        An ndarray containing the absolute value of\n",
      "        each element in `x`.  For complex input, ``a + ib``, the\n",
      "        absolute value is :math:`\\sqrt{ a^2 + b^2 }`.\n",
      "        This is a scalar if `x` is a scalar.\n",
      "    \n",
      "    Examples\n",
      "    --------\n",
      "    >>> x = np.array([-1.2, 1.2])\n",
      "    >>> np.absolute(x)\n",
      "    array([ 1.2,  1.2])\n",
      "    >>> np.absolute(1.2 + 1j)\n",
      "    1.5620499351813308\n",
      "    \n",
      "    Plot the function over ``[-10, 10]``:\n",
      "    \n",
      "    >>> import matplotlib.pyplot as plt\n",
      "    \n",
      "    >>> x = np.linspace(start=-10, stop=10, num=101)\n",
      "    >>> plt.plot(x, np.absolute(x))\n",
      "    >>> plt.show()\n",
      "    \n",
      "    Plot the function over the complex plane:\n",
      "    \n",
      "    >>> xx = x + 1j * x[:, np.newaxis]\n",
      "    >>> plt.imshow(np.abs(xx), extent=[-10, 10, -10, 10], cmap='gray')\n",
      "    >>> plt.show()\n",
      "    \n",
      "    The `abs` function can be used as a shorthand for ``np.absolute`` on\n",
      "    ndarrays.\n",
      "    \n",
      "    >>> x = np.array([-1.2, 1.2])\n",
      "    >>> abs(x)\n",
      "    array([1.2, 1.2])\n",
      "\n"
     ]
    }
   ],
   "source": [
    "import numpy as np\n",
    "help(np.)"
   ]
  },
  {
   "cell_type": "code",
   "execution_count": null,
   "metadata": {
    "id": "M8P5fhpoGjrt"
   },
   "outputs": [],
   "source": []
  }
 ],
 "metadata": {
  "colab": {
   "provenance": []
  },
  "hide_input": false,
  "kernelspec": {
   "display_name": "Python 3 (ipykernel)",
   "language": "python",
   "name": "python3"
  },
  "language_info": {
   "codemirror_mode": {
    "name": "ipython",
    "version": 3
   },
   "file_extension": ".py",
   "mimetype": "text/x-python",
   "name": "python",
   "nbconvert_exporter": "python",
   "pygments_lexer": "ipython3",
   "version": "3.12.4"
  },
  "toc": {
   "base_numbering": 1,
   "nav_menu": {},
   "number_sections": true,
   "sideBar": true,
   "skip_h1_title": false,
   "title_cell": "Table of Contents",
   "title_sidebar": "Contents",
   "toc_cell": false,
   "toc_position": {},
   "toc_section_display": true,
   "toc_window_display": false
  },
  "varInspector": {
   "cols": {
    "lenName": 16,
    "lenType": 16,
    "lenVar": 40
   },
   "kernels_config": {
    "python": {
     "delete_cmd_postfix": "",
     "delete_cmd_prefix": "del ",
     "library": "var_list.py",
     "varRefreshCmd": "print(var_dic_list())"
    },
    "r": {
     "delete_cmd_postfix": ") ",
     "delete_cmd_prefix": "rm(",
     "library": "var_list.r",
     "varRefreshCmd": "cat(var_dic_list()) "
    }
   },
   "types_to_exclude": [
    "module",
    "function",
    "builtin_function_or_method",
    "instance",
    "_Feature"
   ],
   "window_display": false
  }
 },
 "nbformat": 4,
 "nbformat_minor": 4
}
