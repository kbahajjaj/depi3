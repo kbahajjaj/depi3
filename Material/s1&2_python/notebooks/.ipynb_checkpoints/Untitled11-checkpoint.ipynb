{
 "cells": [
  {
   "cell_type": "code",
   "execution_count": 2,
   "id": "e9903970-2f4b-48b0-95b3-7d0392bbe7c7",
   "metadata": {},
   "outputs": [
    {
     "name": "stdout",
     "output_type": "stream",
     "text": [
      "25\n"
     ]
    }
   ],
   "source": [
    "x = 10\n",
    "y = 15 \n",
    "sum = x +y \n",
    "print(sum)"
   ]
  },
  {
   "cell_type": "code",
   "execution_count": 4,
   "id": "b89f41c1-85c6-407d-b201-20a8bc2e2810",
   "metadata": {},
   "outputs": [
    {
     "name": "stdout",
     "output_type": "stream",
     "text": [
      "165\n"
     ]
    }
   ],
   "source": [
    "x = 150\n",
    "y = 15 \n",
    "sum = x +y \n",
    "print(sum)"
   ]
  },
  {
   "cell_type": "code",
   "execution_count": 10,
   "id": "4957c93b-9811-4fa4-8d4c-88f3d084c4be",
   "metadata": {},
   "outputs": [
    {
     "name": "stdout",
     "output_type": "stream",
     "text": [
      "10\n",
      "165\n",
      "15\n"
     ]
    }
   ],
   "source": [
    "x = 10\n",
    "def my_sum():\n",
    "    x = 150\n",
    "    y = 15 \n",
    "    sum = x +y \n",
    "    print(sum)\n",
    "\n",
    "print(x) # 10 \n",
    "x = 15 \n",
    "my_sum() # 165\n",
    "print(x) # 15"
   ]
  },
  {
   "cell_type": "code",
   "execution_count": null,
   "id": "94cd93a8-2215-44dd-b9f9-6809734df52e",
   "metadata": {},
   "outputs": [],
   "source": []
  },
  {
   "cell_type": "code",
   "execution_count": 12,
   "id": "73b0cc4a-0fa0-4d4d-8593-7e0efe9b268f",
   "metadata": {},
   "outputs": [
    {
     "name": "stdout",
     "output_type": "stream",
     "text": [
      "Hello everyone in our class\n"
     ]
    }
   ],
   "source": [
    "# Defining a function without any parameters and without return\n",
    "def greet():\n",
    "    print(\"Hello everyone in our class\")\n",
    "\n",
    "greet()"
   ]
  },
  {
   "cell_type": "code",
   "execution_count": 24,
   "id": "2432aa68-acdd-45a4-a5a3-d13a387ce353",
   "metadata": {},
   "outputs": [
    {
     "name": "stdout",
     "output_type": "stream",
     "text": [
      "Hello Guest in our class\n",
      "Hello Baraa in our class\n"
     ]
    }
   ],
   "source": [
    "# Defining a function with parameters and without return\n",
    "def greet(name = \"Guest\"):\n",
    "    print(f\"Hello {name} in our class\")\n",
    "\n",
    "greet()\n",
    "greet(\"Baraa\")"
   ]
  },
  {
   "cell_type": "code",
   "execution_count": 34,
   "id": "abd92c34-e1f3-40f6-8194-0217b747bb3d",
   "metadata": {},
   "outputs": [
    {
     "name": "stdout",
     "output_type": "stream",
     "text": [
      "The inner print:  180\n",
      "The outer print:  180\n",
      "90.0\n"
     ]
    }
   ],
   "source": [
    "def my_sum(x = 0 ,y = 0):\n",
    "    sum = x +y \n",
    "    print(\"The inner print: \",sum)\n",
    "    return sum\n",
    "\n",
    "oursum = my_sum(95,85)\n",
    "print(\"The outer print: \",oursum)\n",
    "avg = oursum / 2\n",
    "print(avg)"
   ]
  },
  {
   "cell_type": "code",
   "execution_count": 44,
   "id": "035619ce-4e01-4503-b655-4287df43b794",
   "metadata": {},
   "outputs": [
    {
     "name": "stdout",
     "output_type": "stream",
     "text": [
      "(170, 85.0)\n"
     ]
    }
   ],
   "source": [
    "def my_sum(x = 0 ,y = 0):\n",
    "    sum = x +y \n",
    "    avg = sum/ 2\n",
    "    return sum, avg\n",
    "\n",
    "#way 1 \n",
    "info = my_sum(90,80)\n",
    "print(info)"
   ]
  },
  {
   "cell_type": "code",
   "execution_count": 52,
   "id": "53832442-94e9-4776-8548-6439247d301c",
   "metadata": {},
   "outputs": [
    {
     "name": "stdout",
     "output_type": "stream",
     "text": [
      "170\n",
      "85.0\n"
     ]
    }
   ],
   "source": [
    "#way 2\n",
    "sumaaaa ,avgaaaa = my_sum(90,80)\n",
    "print(sumaaaa)\n",
    "print(avgaaaa)\n"
   ]
  },
  {
   "cell_type": "code",
   "execution_count": null,
   "id": "2f83fd19-bdce-449a-90f5-ddd62c4181af",
   "metadata": {},
   "outputs": [],
   "source": []
  },
  {
   "cell_type": "code",
   "execution_count": 70,
   "id": "68d7319a-f0be-407b-9ad0-0e62a6eb5471",
   "metadata": {},
   "outputs": [
    {
     "name": "stdout",
     "output_type": "stream",
     "text": [
      "Hello Moh, \n"
     ]
    },
    {
     "data": {
      "text/plain": [
       "15"
      ]
     },
     "execution_count": 70,
     "metadata": {},
     "output_type": "execute_result"
    }
   ],
   "source": [
    "def my_sum(name,list):\n",
    "    print(f\"Hello {name}, \")\n",
    "    sum = 0 \n",
    "    for i in list:\n",
    "        sum = sum  + i\n",
    "    return sum\n",
    "\n",
    "my_sum(\"Moh\",(1,2,3,4,5))"
   ]
  },
  {
   "cell_type": "code",
   "execution_count": 84,
   "id": "d06f7542-5aaa-4412-a46f-9b84a0673572",
   "metadata": {},
   "outputs": [
    {
     "name": "stdout",
     "output_type": "stream",
     "text": [
      "<class 'type'>\n",
      "Hello Moh,1 \n"
     ]
    },
    {
     "data": {
      "text/plain": [
       "2"
      ]
     },
     "execution_count": 84,
     "metadata": {},
     "output_type": "execute_result"
    }
   ],
   "source": [
    "def my_sum(name , age ,*tuple):\n",
    "    \"\"\"\n",
    "    The mysum is my own function\n",
    "    \"\"\"\n",
    "\n",
    "    print(type(list))\n",
    "    print(f\"Hello {name},{age } \")\n",
    "    sum = 0 \n",
    "    for i in tuple:\n",
    "        sum = sum  + i\n",
    "    return sum\n",
    "\n",
    "my_sum(\"Moh\",1,2)"
   ]
  },
  {
   "cell_type": "code",
   "execution_count": 90,
   "id": "54d3a340-2d0f-4d60-b83b-a115fdc79de9",
   "metadata": {},
   "outputs": [
    {
     "name": "stdout",
     "output_type": "stream",
     "text": [
      "Help on function my_sum in module __main__:\n",
      "\n",
      "my_sum(name, age, *tuple)\n",
      "    The mysum is my own function\n",
      "\n"
     ]
    }
   ],
   "source": [
    "help(my_sum)"
   ]
  },
  {
   "cell_type": "code",
   "execution_count": null,
   "id": "b9d4cdb6-1af8-4824-94ae-3a82a5fba5cd",
   "metadata": {},
   "outputs": [],
   "source": []
  },
  {
   "cell_type": "code",
   "execution_count": 141,
   "id": "a4729415-52be-43c9-ac9d-f58524538bb2",
   "metadata": {},
   "outputs": [],
   "source": [
    "class my_math:\n",
    "    def count_even(num):\n",
    "        evens = len([i for i in range(num+1) if i%2 == 0])\n",
    "        return evens\n",
    "    \n",
    "    def count_odd(num):\n",
    "        odds = len([i for i in range(num+1) if i%2 != 0])\n",
    "        return odds\n",
    "        \n",
    "    def sum(*nums):\n",
    "        sum = 0\n",
    "        for i in nums:\n",
    "            sum = sum +i\n",
    "        return sum \n",
    "        "
   ]
  },
  {
   "cell_type": "code",
   "execution_count": 143,
   "id": "9b99550d-51e2-4487-bb98-11f5b81ce9e4",
   "metadata": {},
   "outputs": [
    {
     "data": {
      "text/plain": [
       "10"
      ]
     },
     "execution_count": 143,
     "metadata": {},
     "output_type": "execute_result"
    }
   ],
   "source": [
    "my_math.sum(1,2,3,4)"
   ]
  },
  {
   "cell_type": "code",
   "execution_count": 135,
   "id": "8e20d3eb-ede5-4490-b7b9-14fc250a73e9",
   "metadata": {},
   "outputs": [
    {
     "data": {
      "text/plain": [
       "51"
      ]
     },
     "execution_count": 135,
     "metadata": {},
     "output_type": "execute_result"
    }
   ],
   "source": [
    "my_math.count_even(100)"
   ]
  },
  {
   "cell_type": "code",
   "execution_count": 137,
   "id": "a9b82ed3-0edc-4a85-8409-6ffdcacd589b",
   "metadata": {},
   "outputs": [
    {
     "data": {
      "text/plain": [
       "50"
      ]
     },
     "execution_count": 137,
     "metadata": {},
     "output_type": "execute_result"
    }
   ],
   "source": [
    "my_math.count_odd(100)"
   ]
  },
  {
   "cell_type": "code",
   "execution_count": null,
   "id": "fb33c4f8-e7a7-4f3c-88b9-4fb55865736f",
   "metadata": {},
   "outputs": [],
   "source": []
  },
  {
   "cell_type": "code",
   "execution_count": null,
   "id": "def523a1-4545-40ad-8c86-8d728389d9b1",
   "metadata": {},
   "outputs": [],
   "source": []
  },
  {
   "cell_type": "code",
   "execution_count": null,
   "id": "9fd8a5a9-9b57-42d4-81c2-6ad155e4490c",
   "metadata": {},
   "outputs": [],
   "source": []
  },
  {
   "cell_type": "code",
   "execution_count": 145,
   "id": "db44dfbd-9c7a-423f-9a37-91c1a22b7480",
   "metadata": {},
   "outputs": [],
   "source": [
    "#class\n",
    "class Calculator:\n",
    "    def add(self, a, b):\n",
    "        return a + b\n",
    "\n",
    "    def subtract(self, a, b):\n",
    "        return a - b\n",
    "\n",
    "    def multiply(self, a, b):\n",
    "        return a * b\n",
    "\n",
    "    def divide(self, a, b):\n",
    "        if b == 0:\n",
    "            return \"Cannot divide by zero!\"\n",
    "        return a / b\n"
   ]
  },
  {
   "cell_type": "code",
   "execution_count": 147,
   "id": "e3523a81-2fc3-4e3a-89e9-e86b62376f70",
   "metadata": {},
   "outputs": [
    {
     "data": {
      "text/plain": [
       "25"
      ]
     },
     "execution_count": 147,
     "metadata": {},
     "output_type": "execute_result"
    }
   ],
   "source": [
    "#obj\n",
    "calc1 = Calculator()\n",
    "calc1.add(10,15)"
   ]
  },
  {
   "cell_type": "code",
   "execution_count": null,
   "id": "e58fb40a-f738-4de7-9411-b92b92550541",
   "metadata": {},
   "outputs": [],
   "source": [
    "calc1.add(10,15)"
   ]
  },
  {
   "cell_type": "code",
   "execution_count": null,
   "id": "473dfb7e-6946-40a2-9466-bfff27f83f03",
   "metadata": {},
   "outputs": [],
   "source": []
  },
  {
   "cell_type": "code",
   "execution_count": null,
   "id": "1ea3706c-0aae-47e6-9e5b-23818fc0c260",
   "metadata": {},
   "outputs": [],
   "source": []
  },
  {
   "cell_type": "code",
   "execution_count": null,
   "id": "b74e90cc-5217-4983-bf8e-582934f9c09a",
   "metadata": {},
   "outputs": [],
   "source": []
  },
  {
   "cell_type": "code",
   "execution_count": null,
   "id": "654efe5d-ea17-48b3-8787-5fd20c3a199c",
   "metadata": {},
   "outputs": [],
   "source": []
  },
  {
   "cell_type": "code",
   "execution_count": 149,
   "id": "6ac28e4b-aa60-4c85-883d-9eb09ab02b06",
   "metadata": {},
   "outputs": [
    {
     "name": "stdout",
     "output_type": "stream",
     "text": [
      "Hi your car with model MA1000 and price 20000\n"
     ]
    }
   ],
   "source": [
    "class car: \n",
    "    manufactuer = \"BMW\"\n",
    "    def __init__(self, model, price):\n",
    "        self.model= model\n",
    "        self.price= price\n",
    "\n",
    "    \n",
    "    def info(self):\n",
    "        print(f\"Hi your car with model {self.model} and price {self.price }\")\n",
    "\n",
    "#obj1 \n",
    "car1 = car(\"MA1000\",20000)\n",
    "car1.info()"
   ]
  },
  {
   "cell_type": "code",
   "execution_count": 153,
   "id": "89a1edf6-8fef-4976-89d9-ad63fd21d7a7",
   "metadata": {},
   "outputs": [
    {
     "name": "stdout",
     "output_type": "stream",
     "text": [
      "Hi your car with model MA5555 and price 90000\n"
     ]
    }
   ],
   "source": [
    "#obj2 \n",
    "car2 = car(\"MA5555\",90000)\n",
    "car2.info()"
   ]
  },
  {
   "cell_type": "code",
   "execution_count": null,
   "id": "fd83dc3d-36ce-4e41-a0ed-ab8e6ea97d88",
   "metadata": {},
   "outputs": [],
   "source": []
  },
  {
   "cell_type": "code",
   "execution_count": null,
   "id": "6dbb3ebd-8b28-4462-b6a3-778331bbfe27",
   "metadata": {},
   "outputs": [],
   "source": []
  },
  {
   "cell_type": "code",
   "execution_count": null,
   "id": "e53ce738-1514-43bf-ab00-f3bfb6c446d7",
   "metadata": {},
   "outputs": [],
   "source": []
  },
  {
   "cell_type": "code",
   "execution_count": null,
   "id": "19713c3b-2ed7-4597-b281-47b71ee34c45",
   "metadata": {},
   "outputs": [],
   "source": []
  },
  {
   "cell_type": "code",
   "execution_count": null,
   "id": "1b86fd44-b7e4-40cb-b707-f9267f12da41",
   "metadata": {},
   "outputs": [],
   "source": []
  }
 ],
 "metadata": {
  "kernelspec": {
   "display_name": "Python 3 (ipykernel)",
   "language": "python",
   "name": "python3"
  },
  "language_info": {
   "codemirror_mode": {
    "name": "ipython",
    "version": 3
   },
   "file_extension": ".py",
   "mimetype": "text/x-python",
   "name": "python",
   "nbconvert_exporter": "python",
   "pygments_lexer": "ipython3",
   "version": "3.12.3"
  }
 },
 "nbformat": 4,
 "nbformat_minor": 5
}
