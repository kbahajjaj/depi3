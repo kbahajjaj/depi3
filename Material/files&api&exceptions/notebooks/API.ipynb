{
 "cells": [
  {
   "cell_type": "code",
   "execution_count": null,
   "id": "48a6b70d-7efb-44f9-8779-5e640602a470",
   "metadata": {},
   "outputs": [],
   "source": [
    "!pip install requests"
   ]
  },
  {
   "cell_type": "code",
   "execution_count": 2,
   "id": "993ddf48-492d-465a-a04d-e5a10a017054",
   "metadata": {},
   "outputs": [],
   "source": [
    "import requests"
   ]
  },
  {
   "cell_type": "markdown",
   "id": "4df9ab1e-bc7b-4210-82e1-b92a324d30cd",
   "metadata": {},
   "source": [
    "# Example: GET Request\n",
    "###### Perform a GET request to retrieve data from a public API, such as JSONPlaceholder, a free API for testing.\n",
    "\r\n"
   ]
  },
  {
   "cell_type": "code",
   "execution_count": 7,
   "id": "8da539a2-827e-4231-805a-0897b2b21b3a",
   "metadata": {},
   "outputs": [
    {
     "name": "stdout",
     "output_type": "stream",
     "text": [
      "Response Data:\n",
      "{'userId': 1, 'id': 1, 'title': 'sunt aut facere repellat provident occaecati excepturi optio reprehenderit', 'body': 'quia et suscipit\\nsuscipit recusandae consequuntur expedita et cum\\nreprehenderit molestiae ut ut quas totam\\nnostrum rerum est autem sunt rem eveniet architecto'}\n"
     ]
    }
   ],
   "source": [
    "\n",
    "import requests\n",
    "\n",
    "# API URL\n",
    "api_url = \"https://jsonplaceholder.typicode.com/posts/1\"\n",
    "\n",
    "# Send a GET request\n",
    "response = requests.get(api_url)\n",
    "\n",
    "# Check if the request was successful\n",
    "if response.status_code == 200:\n",
    "    # Parse and print the JSON data\n",
    "    data = response.json()\n",
    "    print(\"Response Data:\")\n",
    "    print(data)\n",
    "else:\n",
    "    print(f\"Failed to fetch data. Status code: {response.status_code}\")"
   ]
  },
  {
   "cell_type": "markdown",
   "id": "c88a1c07-eb21-47e5-b822-6dbd014c3fc6",
   "metadata": {},
   "source": [
    "# Example: POST Request\n",
    "##### You can also send data to the API using a POST request."
   ]
  },
  {
   "cell_type": "code",
   "execution_count": 11,
   "id": "d0462559-c74f-4c01-acba-7deb65c5531f",
   "metadata": {},
   "outputs": [
    {
     "name": "stdout",
     "output_type": "stream",
     "text": [
      "Data posted successfully!\n",
      "Response Data:\n",
      "{'title': 'Test Post', 'body': 'This is a simple test post.', 'userId': 1, 'id': 101}\n"
     ]
    }
   ],
   "source": [
    "# API URL for POST request\n",
    "post_url = \"https://jsonplaceholder.typicode.com/posts\"\n",
    "\n",
    "# Data to send\n",
    "payload = {\n",
    "    \"title\": \"Test Post\",\n",
    "    \"body\": \"This is a simple test post.\",\n",
    "    \"userId\": 1\n",
    "}\n",
    "\n",
    "# Send a POST request\n",
    "response = requests.post(post_url, json=payload)\n",
    "\n",
    "# Check if the request was successful\n",
    "if response.status_code == 201:  # 201 indicates that data was created successfully\n",
    "    print(\"Data posted successfully!\")\n",
    "    print(\"Response Data:\")\n",
    "    print(response.json())\n",
    "else:\n",
    "    print(f\"Failed to post data. Status code: {response.status_code}\")\n"
   ]
  },
  {
   "cell_type": "markdown",
   "id": "fbc57f7c-0529-4e4e-a6b9-5668da6e1f01",
   "metadata": {},
   "source": [
    "### Explanation:\n",
    "#### GET Request:\n",
    "\n",
    "##### Retrieves data from the API.\n",
    "###### In this example, it fetches a post with ID 1 from the JSONPlaceholder API.\n",
    "#### POST Request:\n",
    "\n",
    "##### Sends data to the API.\n",
    "###### In this example, it creates a new post with a title, body, and user ID."
   ]
  },
  {
   "cell_type": "markdown",
   "id": "79cb8247-b347-445d-8197-d60f356ac10f",
   "metadata": {},
   "source": [
    "### Result:\n",
    "##### GET Request: Displays the fetched data.\n",
    "##### POST Request: Confirms that the data was successfully created and shows the response.\n"
   ]
  },
  {
   "cell_type": "markdown",
   "id": "972279f8-ec03-4bdb-9342-77dfd39ea144",
   "metadata": {
    "jp-MarkdownHeadingCollapsed": true
   },
   "source": [
    "##### This simple example is a great way to understand and test REST APIs in Jupyter Notebook!"
   ]
  }
 ],
 "metadata": {
  "kernelspec": {
   "display_name": "Python 3 (ipykernel)",
   "language": "python",
   "name": "python3"
  },
  "language_info": {
   "codemirror_mode": {
    "name": "ipython",
    "version": 3
   },
   "file_extension": ".py",
   "mimetype": "text/x-python",
   "name": "python",
   "nbconvert_exporter": "python",
   "pygments_lexer": "ipython3",
   "version": "3.12.3"
  }
 },
 "nbformat": 4,
 "nbformat_minor": 5
}
