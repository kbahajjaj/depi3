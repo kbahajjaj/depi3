{
 "cells": [
  {
   "cell_type": "markdown",
   "id": "c3d3cc01-4ab1-49fb-baf4-b2820b9c0ae0",
   "metadata": {},
   "source": [
    "# Web scraping Task\n",
    "##### Student: Khalid Salim\n",
    "##### Student Number: 2\n",
    "##### Group: CAI3_AIS4_G1"
   ]
  },
  {
   "cell_type": "markdown",
   "id": "33517d0b-2669-4a87-b249-90a3457956d2",
   "metadata": {},
   "source": [
    "## For the webpage: https://baraasalout.github.io/test.html, perform the following tasks"
   ]
  },
  {
   "cell_type": "markdown",
   "id": "e4ab92ef-b1cd-4785-b844-037d54aca31d",
   "metadata": {},
   "source": [
    "### Task 1 - Extract Text Data:"
   ]
  },
  {
   "cell_type": "markdown",
   "id": "cd88f4d3-fa3d-4992-bcef-5d7c199d4eb1",
   "metadata": {},
   "source": [
    "- Extract all headings `(<h1>, <h2>)`.\n",
    "- Extract all text content inside `<p>` and `<li>` tags\n",
    "- Save this data into a `Extract_Text_Data.CSV` file.\n",
    "- https://www.pythontutorial.net/python-basics/python-write-csv-file/"
   ]
  },
  {
   "cell_type": "code",
   "execution_count": 13,
   "id": "d8fdfa99-98f2-4394-b7e0-98a59d97fd68",
   "metadata": {},
   "outputs": [
    {
     "name": "stdout",
     "output_type": "stream",
     "text": [
      "Requirement already satisfied: requests in c:\\users\\aastmt\\anaconda3\\lib\\site-packages (2.31.0)\n",
      "Requirement already satisfied: charset-normalizer<4,>=2 in c:\\users\\aastmt\\anaconda3\\lib\\site-packages (from requests) (2.0.4)\n",
      "Requirement already satisfied: idna<4,>=2.5 in c:\\users\\aastmt\\anaconda3\\lib\\site-packages (from requests) (3.4)\n",
      "Requirement already satisfied: urllib3<3,>=1.21.1 in c:\\users\\aastmt\\anaconda3\\lib\\site-packages (from requests) (2.0.7)\n",
      "Requirement already satisfied: certifi>=2017.4.17 in c:\\users\\aastmt\\anaconda3\\lib\\site-packages (from requests) (2024.7.4)\n",
      "Requirement already satisfied: beautifulsoup4 in c:\\users\\aastmt\\anaconda3\\lib\\site-packages (4.12.2)\n"
     ]
    },
    {
     "name": "stderr",
     "output_type": "stream",
     "text": [
      "ERROR: Could not find a version that satisfies the requirement as (from versions: none)\n",
      "ERROR: No matching distribution found for as\n"
     ]
    }
   ],
   "source": [
    "# Installing required libraries\n",
    "!pip install requests\n",
    "!pip install beautifulsoup4"
   ]
  },
  {
   "cell_type": "code",
   "execution_count": 15,
   "id": "c6a7e1a9-1622-4afb-b1ad-a7f520c973e3",
   "metadata": {},
   "outputs": [],
   "source": [
    "# Importing libraries\n",
    "import requests\n",
    "from bs4 import BeautifulSoup"
   ]
  },
  {
   "cell_type": "code",
   "execution_count": 17,
   "id": "ddc9a5a7-93f1-4ebc-b818-849cb13d08c9",
   "metadata": {},
   "outputs": [],
   "source": [
    "# Parsing HTML content\n",
    "url = 'https://baraasalout.github.io/test.html'\n",
    "\n",
    "page = requests.get(url)\n",
    "soup = BeautifulSoup(page.content, 'html.parser')"
   ]
  },
  {
   "cell_type": "code",
   "execution_count": null,
   "id": "fb14a850-4aab-4198-8c63-557ab3cecc63",
   "metadata": {},
   "outputs": [],
   "source": []
  }
 ],
 "metadata": {
  "kernelspec": {
   "display_name": "Python 3 (ipykernel)",
   "language": "python",
   "name": "python3"
  },
  "language_info": {
   "codemirror_mode": {
    "name": "ipython",
    "version": 3
   },
   "file_extension": ".py",
   "mimetype": "text/x-python",
   "name": "python",
   "nbconvert_exporter": "python",
   "pygments_lexer": "ipython3",
   "version": "3.11.7"
  }
 },
 "nbformat": 4,
 "nbformat_minor": 5
}
