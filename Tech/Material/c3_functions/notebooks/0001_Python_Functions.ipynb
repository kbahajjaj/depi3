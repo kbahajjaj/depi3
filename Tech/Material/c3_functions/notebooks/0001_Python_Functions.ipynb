{
 "cells": [
  {
   "cell_type": "markdown",
   "metadata": {
    "id": "irCjxT_IxDej"
   },
   "source": [
    "# Python Functions\n",
    "\n",
    "In this class, you'll learn about functions, what a function is, the syntax, components, and types of functions. Also, you'll learn to create a function in Python.\n",
    "-  ##### What is a function in Python?\n",
    "- ##### Types of Functions\n",
    "- ##### Defining a Function:\n",
    "    * Defining a function without any parameters\n",
    "    *  Defining a function without parameters and return value\n",
    "    * Defining a function with parameters\n",
    "    * Defining a function with parameters and return value\n",
    "- ##### Passing Arguments with Key and Value\n",
    "- ##### How to call a function in python?\n",
    "- ##### Docstrings\n",
    "- ##### Global, Local Variables\n",
    "- ##### Module functions"
   ]
  },
  {
   "cell_type": "code",
   "execution_count": null,
   "metadata": {},
   "outputs": [],
   "source": [
    "x = 10 \n",
    "y = 15 \n",
    "sum = x * y \n",
    "print(sum)"
   ]
  },
  {
   "cell_type": "code",
   "execution_count": null,
   "metadata": {},
   "outputs": [],
   "source": [
    "x = 20 \n",
    "y = 20 \n",
    "sum = x + y \n",
    "print(sum)"
   ]
  },
  {
   "cell_type": "code",
   "execution_count": 9,
   "metadata": {},
   "outputs": [
    {
     "name": "stdout",
     "output_type": "stream",
     "text": [
      "Hello everyone in our class \n",
      " the class lead by Baraa Abu Sallout\n"
     ]
    }
   ],
   "source": [
    "\n",
    "def greet():\n",
    "    print(\"Hello everyone in our class \\n the class lead by Baraa Abu Sallout\")\n",
    "\n",
    "\n",
    "greet()\n",
    "\n"
   ]
  },
  {
   "cell_type": "code",
   "execution_count": 35,
   "metadata": {},
   "outputs": [
    {
     "name": "stdout",
     "output_type": "stream",
     "text": [
      "Hello Ali in our class \n",
      " the class lead by Baraa Abu Sallout\n"
     ]
    }
   ],
   "source": [
    "\n",
    "def greet(name ):\n",
    "    print(\"Hello {} in our class \\n the class lead by Baraa Abu Sallout\".format(name))\n",
    "\n",
    "\n",
    "\n",
    "\n",
    "greetNow = greet(\"Ali\")"
   ]
  },
  {
   "cell_type": "code",
   "execution_count": 37,
   "metadata": {},
   "outputs": [],
   "source": [
    "greetNow"
   ]
  },
  {
   "cell_type": "code",
   "execution_count": null,
   "metadata": {},
   "outputs": [],
   "source": [
    "print(z)"
   ]
  },
  {
   "cell_type": "code",
   "execution_count": 55,
   "metadata": {},
   "outputs": [
    {
     "name": "stdout",
     "output_type": "stream",
     "text": [
      "20\n"
     ]
    }
   ],
   "source": [
    "\n",
    "def mysum(x ,y ):\n",
    "    sum = x +y\n",
    "    return sum\n",
    "    \n",
    "test = mysum(10,10)\n",
    "print(test)"
   ]
  },
  {
   "cell_type": "code",
   "execution_count": 69,
   "metadata": {},
   "outputs": [],
   "source": [
    "def mysum(x ,y ):\n",
    "    sum = x +y\n",
    "    print(sum)\n",
    "    return sum +10\n",
    "    \n"
   ]
  },
  {
   "cell_type": "code",
   "execution_count": 71,
   "metadata": {},
   "outputs": [
    {
     "name": "stdout",
     "output_type": "stream",
     "text": [
      "20\n",
      "30\n"
     ]
    }
   ],
   "source": [
    "oursum  = mysum(10,10)\n",
    "\n",
    "print(oursum)"
   ]
  },
  {
   "cell_type": "code",
   "execution_count": null,
   "metadata": {
    "id": "We8vxTCxxDej",
    "outputId": "2d538300-f018-4c27-8aaa-0ab2b6e8cdae"
   },
   "outputs": [],
   "source": [
    "help(print)"
   ]
  },
  {
   "cell_type": "markdown",
   "metadata": {
    "id": "MTo-Z9NIxDej",
    "tags": []
   },
   "source": [
    "# What is a function in Python?\n",
    "\n",
    "In Python, a **function is a block of organized, reusable (DRY- Don’t Repeat Yourself) code with a name** that is used to perform a single, specific task. It can take arguments and returns the value.\n",
    "\n",
    "Functions help break our program into smaller and modular chunks. As our program grows larger and larger, functions make it more organized and manageable.\n",
    "\n",
    "Furthermore, it improves efficiency and reduces errors because of the reusability of a code."
   ]
  },
  {
   "cell_type": "code",
   "execution_count": null,
   "metadata": {
    "id": "NyRYZOIrxDek"
   },
   "outputs": [],
   "source": []
  },
  {
   "cell_type": "markdown",
   "metadata": {
    "id": "PM2xAIa8xDek",
    "tags": []
   },
   "source": [
    "## Types of Functions\n",
    "\n",
    "Python support two types of functions\n",
    "\n",
    "1. **[Built-in]()** function\n",
    "2. **[User-defined]()** function\n",
    "\n",
    "1.**Built-in function**\n",
    "\n",
    "The functions which are come along with Python itself are called a built-in function or predefined function. Some of them are:\n",
    "**`range()`**, **`print()`**, **`input()`**, **`type()`**, **`id()`**, **`eval()`** etc.\n",
    "\n",
    "**Example:** Python **`range()`** function generates the immutable sequence of numbers starting from the given start integer to the stop integer.\n",
    "\n",
    "```python\n",
    ">>> for i in range(1, 10):\n",
    ">>>     print(i, end=' ')\n",
    "\n",
    "1 2 3 4 5 6 7 8 9\n",
    "```\n",
    "\n",
    "2. **User-defined function**\n",
    "\n",
    "Functions which are created by programmer explicitly according to the requirement are called a user-defined function."
   ]
  },
  {
   "cell_type": "markdown",
   "metadata": {
    "id": "uc_VVE_UxDel"
   },
   "source": [
    "**Syntax:**\n",
    "\n",
    "```python\n",
    "def function_name(parameter1, parameter2):\n",
    "    \"\"\"docstring\"\"\"\n",
    "    # function body    \n",
    "    # write some action\n",
    "return value\n",
    "```\n",
    "\n",
    "<div>\n",
    "<img src=\"img/f1.png\" width=\"550\"/>\n",
    "</div>"
   ]
  },
  {
   "cell_type": "code",
   "execution_count": null,
   "metadata": {
    "id": "e4iOAs9GxDel"
   },
   "outputs": [],
   "source": [
    "def print(i):\n",
    "    print(i +1)\n",
    "print(6)"
   ]
  },
  {
   "cell_type": "raw",
   "metadata": {
    "id": "YXci7oOZxDel",
    "tags": []
   },
   "source": [
    "## Defining a Function\n",
    "\n",
    "1. **`def`** is a keyword that marks the start of the function header.\n",
    "\n",
    "2. **`function_name`** to uniquely identify the function. Function naming follows the same **[rules of writing identifiers in Python]()**.\n",
    "\n",
    "2. **`parameter`** is the value passed to the function. They are optional.\n",
    "\n",
    "3. **`:`** (colon) to mark the end of the function header.\n",
    "\n",
    "4. **`function body`** is a block of code that performs some task and all the statements in **`function body`** must have the same **indentation** level (usually 4 spaces).\n",
    "\n",
    "5. **\"\"\"docstring\"\"\"** documentation string is used to describe what the function does.\n",
    "\n",
    "6. **`return`** is a keyword to return a value from the function.. A return statement with no arguments is the same as return **`None`**.\n",
    "\n",
    ">**Note:** While defining a function, we use two keywords, **`def`** (mandatory) and **`return`** (optional).\n",
    "\n",
    "**Example:**\n",
    "\n",
    "```python\n",
    ">>> def add(num1,num2):           # Function name: 'add', Parameters: 'num1', 'num2'\n",
    ">>>     print(\"Number 1: \", num1) #  Function body\n",
    ">>>     print(\"Number 2: \", num2) #  Function body\n",
    ">>>     addition = num1 + num2    #  Function body\n",
    ">>>     return addition           # return value\n",
    "\n",
    "\n",
    ">>> res = add(2, 4)   # Function call\n",
    ">>> print(\"Result: \", res)\n",
    "```"
   ]
  },
  {
   "cell_type": "code",
   "execution_count": null,
   "metadata": {
    "id": "ZYrlqs-UxDem",
    "outputId": "537e3d63-ff41-4233-bd1c-276e14191ec9"
   },
   "outputs": [],
   "source": [
    "def myAvarge():\n",
    "    num1= 10\n",
    "    num2 =20\n",
    "    num3= 30\n",
    "    avg = (num1+num2+num3)/3\n",
    "    print(avg)\n",
    "\n",
    "myAvarge()"
   ]
  },
  {
   "cell_type": "markdown",
   "metadata": {
    "id": "QLqdfF3MxDem",
    "tags": []
   },
   "source": [
    "## Defining a function without any parameters\n",
    "\n",
    "Function can be declared without parameters."
   ]
  },
  {
   "cell_type": "code",
   "execution_count": 2,
   "metadata": {
    "ExecuteTime": {
     "end_time": "2021-10-08T17:47:57.838353Z",
     "start_time": "2021-10-08T17:47:57.814918Z"
    },
    "id": "8SCQqqUKxDem",
    "outputId": "237a948f-a60e-4c42-b82a-b791b7231577",
    "scrolled": true
   },
   "outputs": [
    {
     "name": "stdout",
     "output_type": "stream",
     "text": [
      "Welcome to Python for Data Science\n"
     ]
    }
   ],
   "source": [
    "# Example 1:\n",
    "\n",
    "def greet():\n",
    "    print(\"Welcome to Python for Data Science\")\n",
    "\n",
    "# call function using its name\n",
    "greet()"
   ]
  },
  {
   "cell_type": "code",
   "execution_count": 4,
   "metadata": {},
   "outputs": [
    {
     "name": "stdout",
     "output_type": "stream",
     "text": [
      "9\n"
     ]
    }
   ],
   "source": [
    "num_one = 3\n",
    "num_two = 6\n",
    "total = num_one + num_two\n",
    "print(total)"
   ]
  },
  {
   "cell_type": "code",
   "execution_count": 6,
   "metadata": {
    "ExecuteTime": {
     "end_time": "2021-10-08T17:47:57.946753Z",
     "start_time": "2021-10-08T17:47:57.840309Z"
    },
    "id": "HbnYeI7zxDen",
    "outputId": "c649950d-3d29-447b-f101-2177598c5b04"
   },
   "outputs": [
    {
     "name": "stdout",
     "output_type": "stream",
     "text": [
      "9\n"
     ]
    }
   ],
   "source": [
    "# Example 2:\n",
    "\n",
    "def add_two_numbers ():\n",
    "    num_one = 3\n",
    "    num_two = 6\n",
    "    total = num_one + num_two\n",
    "    print(total)\n",
    "add_two_numbers() # calling a function"
   ]
  },
  {
   "cell_type": "code",
   "execution_count": 40,
   "metadata": {},
   "outputs": [
    {
     "data": {
      "text/plain": [
       "0"
      ]
     },
     "execution_count": 40,
     "metadata": {},
     "output_type": "execute_result"
    }
   ],
   "source": [
    "# Example 2:\n",
    "\n",
    "def add_two_numbers (num_one=0, num_two=0):\n",
    "\n",
    "    total = num_one + num_two\n",
    "    return total\n",
    "xb = add_two_numbers() # calling a function\n",
    "xb"
   ]
  },
  {
   "cell_type": "code",
   "execution_count": null,
   "metadata": {},
   "outputs": [],
   "source": []
  },
  {
   "cell_type": "code",
   "execution_count": 66,
   "metadata": {},
   "outputs": [
    {
     "data": {
      "text/plain": [
       "65"
      ]
     },
     "execution_count": 66,
     "metadata": {},
     "output_type": "execute_result"
    }
   ],
   "source": [
    "def add__numbers (*num):\n",
    "    sum = 0\n",
    "    for i in num:\n",
    "        sum += i\n",
    "    return sum\n",
    "xb = add__numbers(10,25,30) # calling a function\n",
    "xb"
   ]
  },
  {
   "cell_type": "code",
   "execution_count": null,
   "metadata": {},
   "outputs": [],
   "source": []
  },
  {
   "cell_type": "code",
   "execution_count": null,
   "metadata": {},
   "outputs": [],
   "source": []
  },
  {
   "cell_type": "code",
   "execution_count": null,
   "metadata": {
    "ExecuteTime": {
     "end_time": "2021-10-08T17:47:58.053200Z",
     "start_time": "2021-10-08T17:47:57.950659Z"
    },
    "id": "PrXNnNaxxDen",
    "outputId": "9e523bf9-7508-41d5-bb54-e1dad083e1cb",
    "scrolled": true
   },
   "outputs": [],
   "source": [
    "# Example 3:\n",
    "\n",
    "def generate_full_name ():\n",
    "    first_name = 'Milaan'\n",
    "    last_name = 'Parmar'\n",
    "    space = ' '\n",
    "    full_name = first_name + space + last_name\n",
    "    print(full_name)\n",
    "generate_full_name () # calling a function"
   ]
  },
  {
   "cell_type": "markdown",
   "metadata": {
    "id": "TgBrbygaxDen",
    "tags": []
   },
   "source": [
    "## Defining a function without parameters and `return` value\n",
    "\n",
    "Function can also return values, if a function does not have a **`return`** statement, the value of the function is None. Let us rewrite the above functions using **`return`**. From now on, we get a value from a function when we call the function and print it."
   ]
  },
  {
   "cell_type": "code",
   "execution_count": null,
   "metadata": {
    "ExecuteTime": {
     "end_time": "2021-10-08T17:47:58.176733Z",
     "start_time": "2021-10-08T17:47:58.057106Z"
    },
    "id": "GZB6yKCbxDen",
    "outputId": "226643fa-ee17-4854-afe8-12ee117d1714"
   },
   "outputs": [],
   "source": [
    "# Example 1:\n",
    "\n",
    "def add_two_numbers ():\n",
    "    num_one = 3\n",
    "    num_two = 6\n",
    "    total = num_one + num_two\n",
    "    return\n",
    "\n",
    "mysum = add_two_numbers()\n",
    "print(mysum)"
   ]
  },
  {
   "cell_type": "code",
   "execution_count": null,
   "metadata": {
    "ExecuteTime": {
     "end_time": "2021-10-08T17:47:58.298319Z",
     "start_time": "2021-10-08T17:47:58.185523Z"
    },
    "id": "C2bsbppYxDeo",
    "outputId": "e4e05029-a8f9-4b95-cf5c-ea3ffad23a34",
    "scrolled": true
   },
   "outputs": [],
   "source": [
    "# Example 2:\n",
    "\n",
    "def generate_full_name ():\n",
    "    first_name = 'Milaan'\n",
    "    last_name = 'Parmar'\n",
    "    space = ' '\n",
    "    full_name = first_name + space + last_name\n",
    "    return full_name\n",
    "print(generate_full_name())"
   ]
  },
  {
   "cell_type": "markdown",
   "metadata": {
    "id": "xsUyd2DGxDeo",
    "tags": []
   },
   "source": [
    "## Defining a function with parameters\n",
    "\n",
    "In a function we can pass different data types(number, string, boolean, list, tuple, dictionary or set) as a parameter."
   ]
  },
  {
   "cell_type": "markdown",
   "metadata": {
    "id": "bKzRuVqKxDeo"
   },
   "source": [
    "### Single Parameter:\n",
    "\n",
    "If our function takes a parameter we should call our function with an argument"
   ]
  },
  {
   "cell_type": "code",
   "execution_count": 73,
   "metadata": {
    "ExecuteTime": {
     "end_time": "2021-10-08T17:47:58.422343Z",
     "start_time": "2021-10-08T17:47:58.301246Z"
    },
    "id": "rVESYYvSxDeo",
    "outputId": "c2a1c0a6-f6b7-41b4-cf8e-f4df7b6aca04",
    "scrolled": true
   },
   "outputs": [
    {
     "name": "stdout",
     "output_type": "stream",
     "text": [
      "Hello, 565.5. Good morning!\n"
     ]
    }
   ],
   "source": [
    "def greet(name):\n",
    "    if type(name) == str :\n",
    "        print(\"Hello, \" + name + \". Good morning!\")   # No output!\n",
    "    else:\n",
    "        print(\"EGLAB\")\n",
    "greet(\"565.5\")"
   ]
  },
  {
   "cell_type": "markdown",
   "metadata": {},
   "source": [
    "## Task:\n",
    "\n",
    "#### Write a Python function that calculates the sum of numbers from 0 to a given number \"n\", where \"n\" is the input to the function. The function should then print the final sum.\n",
    "\n",
    "## For example:\n",
    "\n",
    "#### When the function is called with the input 10, the output should be 55.\n",
    "#### When the function is called with the input 100, the output should be 5050."
   ]
  },
  {
   "cell_type": "code",
   "execution_count": null,
   "metadata": {
    "ExecuteTime": {
     "end_time": "2021-10-08T17:47:58.545876Z",
     "start_time": "2021-10-08T17:47:58.430154Z"
    },
    "id": "6fnECPrbxDeo",
    "outputId": "e4926e4b-f671-4894-bb95-44e9c6849b48",
    "scrolled": true
   },
   "outputs": [],
   "source": [
    "# Example 2:\n",
    "\n",
    "def sum_of_numbers(n):\n",
    "    total = 0\n",
    "    for i in range(n+1):\n",
    "        total+=i\n",
    "    print(total)\n",
    "print(sum_of_numbers(10))  # 55\n",
    "print(sum_of_numbers(100)) # 5050"
   ]
  },
  {
   "cell_type": "markdown",
   "metadata": {
    "id": "-GfWtL3_xDer"
   },
   "source": [
    "### Two Parameter:\n",
    "\n",
    "A function may or may not have a parameter or parameters. A function may also have two or more parameters. If our function takes parameters we should call it with arguments."
   ]
  },
  {
   "cell_type": "code",
   "execution_count": 78,
   "metadata": {
    "ExecuteTime": {
     "end_time": "2021-10-08T17:47:58.652810Z",
     "start_time": "2021-10-08T17:47:58.552712Z"
    },
    "id": "Bx9q9zfxxDer",
    "outputId": "37d06db3-1c0f-4ab9-a70f-1f2a580f227f"
   },
   "outputs": [
    {
     "ename": "TypeError",
     "evalue": "course() missing 1 required keyword-only argument: 'id'",
     "output_type": "error",
     "traceback": [
      "\u001b[1;31m---------------------------------------------------------------------------\u001b[0m",
      "\u001b[1;31mTypeError\u001b[0m                                 Traceback (most recent call last)",
      "Cell \u001b[1;32mIn[78], line 9\u001b[0m\n\u001b[0;32m      6\u001b[0m         \u001b[38;5;28mprint\u001b[39m(\u001b[38;5;124m\"\u001b[39m\u001b[38;5;124mYour course id = \u001b[39m\u001b[38;5;132;01m{}\u001b[39;00m\u001b[38;5;124m is\u001b[39m\u001b[38;5;124m\"\u001b[39m\u001b[38;5;241m.\u001b[39mformat(count), nameCourse)\n\u001b[0;32m      7\u001b[0m         count\u001b[38;5;241m+\u001b[39m\u001b[38;5;241m=\u001b[39m \u001b[38;5;241m1\u001b[39m\n\u001b[1;32m----> 9\u001b[0m course(\u001b[38;5;124m\"\u001b[39m\u001b[38;5;124mbaraa\u001b[39m\u001b[38;5;124m\"\u001b[39m,\u001b[38;5;124m'\u001b[39m\u001b[38;5;124mPython\u001b[39m\u001b[38;5;124m'\u001b[39m,\u001b[38;5;124m'\u001b[39m\u001b[38;5;124mc++\u001b[39m\u001b[38;5;124m'\u001b[39m,\u001b[38;5;124m'\u001b[39m\u001b[38;5;124mc\u001b[39m\u001b[38;5;124m'\u001b[39m,)\n",
      "\u001b[1;31mTypeError\u001b[0m: course() missing 1 required keyword-only argument: 'id'"
     ]
    }
   ],
   "source": [
    "# Example 1:\n",
    "def course(name , *course_name ):\n",
    "    print(\"Hello\", name, \"Welcome to our courses\")\n",
    "    count = 1\n",
    "    for nameCourse in course_name:\n",
    "        print(\"Your course id = {} is\".format(count), nameCourse)\n",
    "        count+= 1\n",
    "\n",
    "course(\"baraa\",'Python','c++','c',)   # call function"
   ]
  },
  {
   "cell_type": "markdown",
   "metadata": {
    "id": "2Y9_HHNTxDer",
    "tags": []
   },
   "source": [
    "## Defining a function with parameters and `return` value"
   ]
  },
  {
   "cell_type": "code",
   "execution_count": null,
   "metadata": {
    "ExecuteTime": {
     "end_time": "2021-10-08T17:47:58.761206Z",
     "start_time": "2021-10-08T17:47:58.657692Z"
    },
    "id": "AQHkduTyxDes",
    "outputId": "212bed40-f43b-47f0-8264-4cb7bb23b192"
   },
   "outputs": [],
   "source": [
    "# Example 1:\n",
    "\n",
    "def greetings (name):  # single parameter\n",
    "    message = name + ', welcome to Python for Data Science'\n",
    "    return message\n",
    "\n",
    "print(greetings('Milaan'))"
   ]
  },
  {
   "cell_type": "code",
   "execution_count": null,
   "metadata": {
    "ExecuteTime": {
     "end_time": "2021-10-08T17:47:58.853005Z",
     "start_time": "2021-10-08T17:47:58.764137Z"
    },
    "id": "TXDQW7alxDes",
    "outputId": "b91f94a6-5969-424e-c2fd-2d7751aaeed9"
   },
   "outputs": [],
   "source": [
    "# Example 2:\n",
    "\n",
    "def add_ten(num):  # single parameter\n",
    "    ten = 10\n",
    "    return num + ten\n",
    "print(add_ten(90))"
   ]
  },
  {
   "cell_type": "code",
   "execution_count": null,
   "metadata": {
    "ExecuteTime": {
     "end_time": "2021-10-08T17:47:58.976051Z",
     "start_time": "2021-10-08T17:47:58.855934Z"
    },
    "id": "pv1A_ltuxDet",
    "outputId": "0b482741-f61a-4a9f-ff82-f4bb794b708e"
   },
   "outputs": [],
   "source": [
    "# Example 3:\n",
    "\n",
    "def square_number(x):  # single parameter\n",
    "    return x * x\n",
    "print(square_number(3))"
   ]
  },
  {
   "cell_type": "code",
   "execution_count": null,
   "metadata": {
    "ExecuteTime": {
     "end_time": "2021-10-08T17:47:59.084452Z",
     "start_time": "2021-10-08T17:47:58.978980Z"
    },
    "id": "wHOjEuYhxDet",
    "outputId": "733f54ba-716a-4887-ca8c-126d2edeae19"
   },
   "outputs": [],
   "source": [
    "# Example 4:\n",
    "\n",
    "def area_of_circle (r):  # single parameter\n",
    "    PI = 3.14\n",
    "    area = PI * r ** 2\n",
    "    return area\n",
    "print(area_of_circle(10))"
   ]
  },
  {
   "cell_type": "code",
   "execution_count": null,
   "metadata": {
    "ExecuteTime": {
     "end_time": "2021-10-08T17:47:59.192846Z",
     "start_time": "2021-10-08T17:47:59.087380Z"
    },
    "id": "XmthgE7gxDet",
    "outputId": "9e6c813e-04ed-4c53-e084-093c312b3b41"
   },
   "outputs": [],
   "source": [
    "# Example 5:\n",
    "\n",
    "def calculator(a, b):  # two parameter\n",
    "    add = a + b\n",
    "    return add    # return the addition\n",
    "\n",
    "result = calculator(30, 6)   # call function & take return value in variable\n",
    "print(\"Addition :\", result)   # Output Addition : 36"
   ]
  },
  {
   "cell_type": "code",
   "execution_count": null,
   "metadata": {
    "ExecuteTime": {
     "end_time": "2021-10-08T17:47:59.299295Z",
     "start_time": "2021-10-08T17:47:59.199687Z"
    },
    "id": "sIeZFRe_xDet",
    "outputId": "0fefbf89-1b4c-4319-ea3c-3d1eabb7e68c"
   },
   "outputs": [],
   "source": [
    "# Example 6:\n",
    "\n",
    "def generate_full_name (first_name, last_name):  # two parameter\n",
    "    space = ' '\n",
    "    full_name = first_name + space + last_name\n",
    "    return full_name\n",
    "print('Full Name: ', generate_full_name('Milaan','Parmar'))"
   ]
  },
  {
   "cell_type": "code",
   "execution_count": null,
   "metadata": {
    "ExecuteTime": {
     "end_time": "2021-10-08T17:47:59.422342Z",
     "start_time": "2021-10-08T17:47:59.302224Z"
    },
    "id": "4tNtZVaIxDet",
    "outputId": "34e0b21d-5423-464a-effa-38fcad4aba8b"
   },
   "outputs": [],
   "source": [
    "# Example 7:\n",
    "\n",
    "def sum_two_numbers (num_one, num_two):  # two parameter\n",
    "    sum = num_one + num_two\n",
    "    return sum\n",
    "print('Sum of two numbers: ', sum_two_numbers(1, 9))"
   ]
  },
  {
   "cell_type": "code",
   "execution_count": null,
   "metadata": {
    "ExecuteTime": {
     "end_time": "2021-10-08T17:47:59.530738Z",
     "start_time": "2021-10-08T17:47:59.425271Z"
    },
    "id": "2pgV-MLsxDeu",
    "outputId": "3bfad5d6-8ca4-4b57-86e4-00b5dcb8c306"
   },
   "outputs": [],
   "source": [
    "# Example 8:\n",
    "\n",
    "def calculate_age (current_year, birth_year):  # two parameter\n",
    "    age = current_year - birth_year\n",
    "    return age;\n",
    "\n",
    "print('Age: ', calculate_age(2021, 1819))"
   ]
  },
  {
   "cell_type": "code",
   "execution_count": null,
   "metadata": {
    "ExecuteTime": {
     "end_time": "2021-10-08T17:47:59.623513Z",
     "start_time": "2021-10-08T17:47:59.533669Z"
    },
    "id": "Li7TRDO6xDeu",
    "outputId": "6b0ab8df-9c22-45e6-9447-f61167ce77f8"
   },
   "outputs": [],
   "source": [
    "# Example 9:\n",
    "\n",
    "def weight_of_object (mass, gravity):  # two parameter\n",
    "    weight = str(mass * gravity)+ ' N' # the value has to be changed to a string first\n",
    "    return weight\n",
    "print('Weight of an object in Newtons: ', weight_of_object(100, 9.81))"
   ]
  },
  {
   "cell_type": "markdown",
   "metadata": {
    "id": "2fnwx2pfxDeu",
    "jp-MarkdownHeadingCollapsed": true,
    "tags": []
   },
   "source": [
    "## Function `return` Statement\n",
    "\n",
    "In Python, to return value from the function, a **`return`** statement is used. It returns the value of the expression following the returns keyword.\n",
    "\n",
    "**Syntax:**\n",
    "\n",
    "```python\n",
    "def fun():\n",
    "    statement-1\n",
    "    statement-2\n",
    "    statement-3\n",
    "    .          \n",
    "    .          \n",
    "    return [expression]\n",
    "```\n",
    "\n",
    "The **`return`** value is nothing but a outcome of function.\n",
    "\n",
    "* The **`return`** statement ends the function execution.\n",
    "* For a function, it is not mandatory to return a value.\n",
    "* If a **`return`** statement is used without any expression, then the **`None`** is returned.\n",
    "* The **`return`** statement should be inside of the function block."
   ]
  },
  {
   "cell_type": "markdown",
   "metadata": {
    "id": "_SeceWOuxDeu",
    "tags": []
   },
   "source": [
    "## Passing Arguments with Key and Value\n",
    "\n",
    "If we pass the arguments with key and value, the order of the arguments does not matter."
   ]
  },
  {
   "cell_type": "code",
   "execution_count": null,
   "metadata": {
    "ExecuteTime": {
     "end_time": "2021-10-08T17:47:59.854957Z",
     "start_time": "2021-10-08T17:47:59.727520Z"
    },
    "id": "x4ds1717xDeu",
    "outputId": "b9e8b07e-9ead-4b81-c305-61acd96298a9"
   },
   "outputs": [],
   "source": [
    "# Example 1:\n",
    "\n",
    "def print_fullname(firstname, lastname):\n",
    "    space = ' '\n",
    "    full_name = firstname  + space + lastname\n",
    "    print(full_name)\n",
    "\n",
    "print(print_fullname(firstname = 'Milaan','Parmar'))"
   ]
  },
  {
   "cell_type": "code",
   "execution_count": null,
   "metadata": {
    "ExecuteTime": {
     "end_time": "2021-10-08T17:47:59.978006Z",
     "start_time": "2021-10-08T17:47:59.860817Z"
    },
    "id": "wUVLencExDeu",
    "outputId": "96cb1dca-577c-41ef-dcc4-e5f00a24f962"
   },
   "outputs": [],
   "source": [
    "# Example 2:\n",
    "\n",
    "def add_two_numbers (num1, num2):\n",
    "    total = num1 + num2\n",
    "    print(total)\n",
    "print(add_two_numbers(num2 = 3, num1 = 2)) # Order does not matter"
   ]
  },
  {
   "cell_type": "markdown",
   "metadata": {
    "id": "x07rl2UPxDez"
   },
   "source": [
    "If we do not **`return`** a value with a function, then our function is returning **`None`** by default. To return a value with a function we use the keyword **`return`** followed by the variable we are returning. We can return any kind of data types from a function."
   ]
  },
  {
   "cell_type": "code",
   "execution_count": null,
   "metadata": {
    "ExecuteTime": {
     "end_time": "2021-10-08T17:48:00.178202Z",
     "start_time": "2021-10-08T17:47:59.981912Z"
    },
    "id": "09UEufR2xDe0",
    "outputId": "1fc81964-71c2-4836-df72-934977277a85"
   },
   "outputs": [],
   "source": [
    "# Example 1:  with return statement\n",
    "\n",
    "def print_fullname(firstname, lastname):\n",
    "    space = ' '\n",
    "    full_name = firstname  + space + lastname\n",
    "    return full_name\n",
    "print(print_fullname(firstname = 'Milaan', lastname = 'Parmar'))"
   ]
  },
  {
   "cell_type": "code",
   "execution_count": null,
   "metadata": {
    "ExecuteTime": {
     "end_time": "2021-10-08T17:48:00.286600Z",
     "start_time": "2021-10-08T17:48:00.182107Z"
    },
    "id": "jbtnIjHbxDe0",
    "outputId": "9afe7e29-a5a8-499e-a0a7-d368b4a9b33b"
   },
   "outputs": [],
   "source": [
    "# Example 2:  with return statement\n",
    "\n",
    "def add_two_numbers (num1, num2):\n",
    "    total = num1 + num2\n",
    "    return total\n",
    "print(add_two_numbers(num2 = 3, num1 = 2)) # Order does not matter"
   ]
  },
  {
   "cell_type": "code",
   "execution_count": null,
   "metadata": {
    "ExecuteTime": {
     "end_time": "2021-10-08T17:48:00.394507Z",
     "start_time": "2021-10-08T17:48:00.300275Z"
    },
    "id": "2qoB3dCCxDe0",
    "outputId": "f7d4fbb2-009a-4833-c75f-796e97c27eae"
   },
   "outputs": [],
   "source": [
    "# Example 3:\n",
    "def absolute_value(num):\n",
    "    \"\"\"This function returns the absolute\n",
    "    value of the entered number and \\n \\t if number negative i mlu by 10\"\"\"\n",
    "\n",
    "    if num >= 0:\n",
    "        return num\n",
    "    else:\n",
    "        return -num *10\n",
    "\n",
    "help(absolute_value)"
   ]
  },
  {
   "cell_type": "code",
   "execution_count": null,
   "metadata": {
    "ExecuteTime": {
     "end_time": "2021-10-08T17:48:00.529768Z",
     "start_time": "2021-10-08T17:48:00.400370Z"
    },
    "id": "44MX1b1ixDe0",
    "outputId": "bb235a82-831f-4289-c5fd-8697c7ebedb6",
    "scrolled": true
   },
   "outputs": [],
   "source": [
    "# Example 4:\n",
    "\n",
    "def sum(a,b):  # Function 1\n",
    "    print(\"Adding the two values\")\n",
    "    print(\"Printing within Function\")\n",
    "    print(a+b)\n",
    "    return a+b\n",
    "\n",
    "def msg():  # Function 2\n",
    "    print(\"Hello\")\n",
    "    return\n",
    "\n",
    "total=sum(10,20)\n",
    "print('total : ',total)\n",
    "msg()\n",
    "print(\"Rest of code\")"
   ]
  },
  {
   "cell_type": "code",
   "execution_count": null,
   "metadata": {
    "ExecuteTime": {
     "end_time": "2021-10-08T17:48:00.672343Z",
     "start_time": "2021-10-08T17:48:00.537579Z"
    },
    "id": "P3mJMgvkxDe0",
    "outputId": "a4e487e0-5bf7-4bea-d6e9-afa7a194eade"
   },
   "outputs": [],
   "source": [
    "# Example 5:\n",
    "\n",
    "def is_even(list1):\n",
    "    even_num = []\n",
    "    for n in list1:\n",
    "        if n % 2 == 0:\n",
    "            even_num.append(n)\n",
    "    # return a list\n",
    "    return even_num\n",
    "\n",
    "# Pass list to the function\n",
    "even_num = is_even([2, 3, 46, 63, 72, 83, 90, 19])\n",
    "print(\"Even numbers are:\", even_num)"
   ]
  },
  {
   "cell_type": "markdown",
   "metadata": {
    "id": "mdbvu6yfxDe0"
   },
   "source": [
    "### Return Multiple Values\n",
    "\n",
    "You can also return multiple values from a function. Use the return statement by separating each expression by a comma."
   ]
  },
  {
   "cell_type": "code",
   "execution_count": 74,
   "metadata": {
    "ExecuteTime": {
     "end_time": "2021-10-08T17:48:00.795876Z",
     "start_time": "2021-10-08T17:48:00.677226Z"
    },
    "id": "OznnpqUhxDe1"
   },
   "outputs": [
    {
     "data": {
      "text/plain": [
       "8"
      ]
     },
     "execution_count": 74,
     "metadata": {},
     "output_type": "execute_result"
    }
   ],
   "source": [
    "# Example 1:\n",
    "\n",
    "def arithmetic(num1, num2):\n",
    "    add = num1 + num2\n",
    "    sub = num1 - num2\n",
    "    multiply = num1 * num2\n",
    "    division = num1 / num2\n",
    "    # return four values\n",
    "    return add,multiply,sub,division\n",
    "\n",
    "arithTuple = arithmetic(10,2)\n"
   ]
  },
  {
   "cell_type": "markdown",
   "metadata": {
    "id": "TCbxI0yqxDe1",
    "tags": []
   },
   "source": [
    "### Return Boolean Values"
   ]
  },
  {
   "cell_type": "code",
   "execution_count": null,
   "metadata": {
    "ExecuteTime": {
     "end_time": "2021-10-08T17:48:00.903786Z",
     "start_time": "2021-10-08T17:48:00.803691Z"
    },
    "id": "aDr9aig-xDe1",
    "outputId": "e039f50a-7251-44a1-93f3-4256e9902ed9",
    "scrolled": true
   },
   "outputs": [],
   "source": [
    "# Example 1:\n",
    "\n",
    "def is_even (n):\n",
    "    if n % 2 == 0:\n",
    "        return True    # return stops further execution of the function, similar to break\n",
    "    return False\n",
    "\n",
    "print(is_even(11))\n"
   ]
  },
  {
   "cell_type": "markdown",
   "metadata": {
    "id": "yWFZHotrxDe1"
   },
   "source": [
    "### Return a List"
   ]
  },
  {
   "cell_type": "code",
   "execution_count": null,
   "metadata": {
    "ExecuteTime": {
     "end_time": "2021-10-08T17:48:01.028789Z",
     "start_time": "2021-10-08T17:48:00.906718Z"
    },
    "id": "yGzHmdWXxDe1",
    "outputId": "e4ad6800-81a2-4ce0-9826-555f6e1abe91"
   },
   "outputs": [],
   "source": [
    "# Example 1:\n",
    "\n",
    "def find_even_numbers(n):\n",
    "    x  = n *10\n",
    "    print(x)\n",
    "    if (x < 1000):\n",
    "       find_even_numbers(x / 5)\n",
    "\n",
    "\n",
    "\n",
    "\n",
    "find_even_numbers(10)"
   ]
  },
  {
   "cell_type": "markdown",
   "metadata": {
    "id": "1k_XjtgexDe1",
    "tags": []
   },
   "source": [
    "## How to call a function in python?\n",
    "\n",
    "Once we have defined a function, we can call it from another function, program or even the Python prompt. To call a function we simply type the function name with appropriate parameters.\n",
    "\n",
    "<div>\n",
    "<img src=\"img/f2.png\" width=\"500\"/>\n",
    "</div>"
   ]
  },
  {
   "cell_type": "code",
   "execution_count": null,
   "metadata": {
    "ExecuteTime": {
     "end_time": "2021-10-08T17:48:01.243633Z",
     "start_time": "2021-10-08T17:48:01.140118Z"
    },
    "id": "ztu2V9gZxDe2",
    "outputId": "b9a8ee76-cd5e-4c5a-a53e-26c2e4c9bf4a"
   },
   "outputs": [],
   "source": [
    "# Example 1:\n",
    "\n",
    "def wish(name):\n",
    "    \"\"\"\n",
    "    This function wishes to the person passed in as a parameter\n",
    "    \"\"\"\n",
    "    print(\"Happy birthday, \" + name + \". Hope you have a wonderful day!\")\n",
    "\n",
    "wish('Bill')"
   ]
  },
  {
   "cell_type": "code",
   "execution_count": null,
   "metadata": {
    "ExecuteTime": {
     "end_time": "2021-10-08T17:48:01.446289Z",
     "start_time": "2021-10-08T17:48:01.251445Z"
    },
    "id": "d5eTK3tExDe2",
    "outputId": "73ad95b3-d0fa-48df-ed35-f1d91cfda639"
   },
   "outputs": [],
   "source": [
    "# Example 2:\n",
    "\n",
    "def greetings (name = 'Clark'):\n",
    "    message = name + ', welcome to Python for Data Science'\n",
    "    return message\n",
    "print(greetings())\n",
    "print(greetings('Milaan'))"
   ]
  },
  {
   "cell_type": "code",
   "execution_count": null,
   "metadata": {
    "ExecuteTime": {
     "end_time": "2021-10-08T17:48:01.699688Z",
     "start_time": "2021-10-08T17:48:01.454570Z"
    },
    "id": "hUCx0CWXxDe2",
    "outputId": "ebdadaea-6029-4ae1-cddb-7cbc864766ae"
   },
   "outputs": [],
   "source": [
    "# Example 3:\n",
    "\n",
    "def generate_full_name (first_name = 'Milaan', last_name = 'Parmar'):\n",
    "    space = ' '\n",
    "    full_name = first_name + space + last_name\n",
    "    return full_name\n",
    "print(generate_full_name())\n",
    "print(generate_full_name('Ethan','Hunt'))"
   ]
  },
  {
   "cell_type": "code",
   "execution_count": 92,
   "metadata": {
    "ExecuteTime": {
     "end_time": "2021-10-08T17:48:01.793476Z",
     "start_time": "2021-10-08T17:48:01.702617Z"
    },
    "id": "ZW0occxVxDe2",
    "outputId": "811f3b96-7055-4aa1-8207-42bf376eb705"
   },
   "outputs": [
    {
     "name": "stdout",
     "output_type": "stream",
     "text": [
      "Age:  28\n"
     ]
    }
   ],
   "source": [
    "\n",
    "def calculate_age (birth_year,current_year = 2024):\n",
    "    age = current_year - birth_year\n",
    "    return age;\n",
    "print('Age: ', calculate_age(2000,2028))"
   ]
  },
  {
   "cell_type": "code",
   "execution_count": 94,
   "metadata": {
    "ExecuteTime": {
     "end_time": "2021-10-08T17:48:01.900373Z",
     "start_time": "2021-10-08T17:48:01.797831Z"
    },
    "id": "MYwn83xzxDe2",
    "outputId": "a34fe7b0-b596-42ff-9d1d-48f36e1f4531"
   },
   "outputs": [
    {
     "name": "stdout",
     "output_type": "stream",
     "text": [
      "value of x is: 9\n",
      "value of y is: 6\n"
     ]
    }
   ],
   "source": [
    "# Example 5:\n",
    "\n",
    "def swap(x, y):\n",
    "    \"\"\"\n",
    "    This function swaps the value of two variables\n",
    "    \"\"\"\n",
    "    temp = x;  # value of x will go inside temp\n",
    "    x = y;     # value of y will go inside x\n",
    "    y = temp;  # value of temp will go inside y\n",
    "    print(\"value of x is:\", x)\n",
    "    print(\"value of y is:\", y)\n",
    "    return     # \"return\" is optional\n",
    "\n",
    "x = 6\n",
    "y = 9\n",
    "swap(x, y)     #call function"
   ]
  },
  {
   "cell_type": "code",
   "execution_count": null,
   "metadata": {
    "ExecuteTime": {
     "end_time": "2021-10-08T17:48:02.023908Z",
     "start_time": "2021-10-08T17:48:01.903301Z"
    },
    "id": "dDJki0VCxDe3",
    "outputId": "b6292bd3-07c3-4fc2-ab91-5253e12fccfd"
   },
   "outputs": [],
   "source": [
    "# Example 6:\n",
    "\n",
    "def even_odd(n):\n",
    "    if n % 2 == 0:   # check number is even or odd\n",
    "        print(n, 'is a Even number')\n",
    "    else:\n",
    "        print(n, 'is a Odd Number')\n",
    "\n",
    "even_odd(9)   # calling function by its name"
   ]
  },
  {
   "cell_type": "code",
   "execution_count": null,
   "metadata": {
    "ExecuteTime": {
     "end_time": "2021-10-08T17:48:02.147933Z",
     "start_time": "2021-10-08T17:48:02.026837Z"
    },
    "id": "tF8qM7TExDe3",
    "outputId": "c501c364-80a4-4e52-fa1f-a35777845e53"
   },
   "outputs": [],
   "source": [
    "# Example 7:\n",
    "\n",
    "def weight_of_object (mass, gravity = 9.81):\n",
    "    weight = str(mass * gravity)+ ' N' # the value has to be changed to string first\n",
    "    return weight\n",
    "print('Weight of an object in Newtons: ', weight_of_object(100)) # 9.81 - average gravity on Earth's surface\n",
    "print('Weight of an object in Newtons: ', weight_of_object(100, 1.62)) # gravity on the surface of the Moon"
   ]
  },
  {
   "cell_type": "markdown",
   "metadata": {
    "id": "B-JaXbvixDe3",
    "tags": []
   },
   "source": [
    "\n",
    "## Docstrings\n",
    "\n",
    "The first string after the function header is called the **docstring** and is short for documentation string. It is a descriptive text (like a comment) written by a programmer to let others know what block of code does.\n",
    "\n",
    "Although **optional**, documentation is a good programming practice. Unless you can remember what you had for dinner last week, always document your code.\n",
    "\n",
    "It is being declared using triple single quotes **`''' '''`** or triple-double quote **`\"\"\" \"\"\"`** so that docstring can extend up to multiple lines.\n",
    "\n",
    "We can access docstring using doc attribute **`__doc__`** for any object like list, tuple, dict, and user-defined function, etc.\n",
    "\n",
    "In the above example, we have a docstring immediately below the function header."
   ]
  },
  {
   "cell_type": "code",
   "execution_count": null,
   "metadata": {
    "ExecuteTime": {
     "end_time": "2021-10-08T17:48:02.284654Z",
     "start_time": "2021-10-08T17:48:02.154767Z"
    },
    "id": "QHD6V5-nxDe3",
    "outputId": "5c7db6a9-b0db-4593-ea29-e08ea941c25c",
    "scrolled": true
   },
   "outputs": [],
   "source": [
    "print(wish.__doc__)\n"
   ]
  },
  {
   "cell_type": "code",
   "execution_count": null,
   "metadata": {
    "id": "4QRCLZZgxDe4",
    "outputId": "4926005a-4ec0-4642-8ebd-25f94111cacc"
   },
   "outputs": [],
   "source": [
    "print(help(wish))"
   ]
  },
  {
   "cell_type": "markdown",
   "metadata": {
    "id": "TFkUZCwVxDe4"
   },
   "source": [
    "To learn more about docstrings in Python, visit **[Python Docstrings]()**."
   ]
  },
  {
   "cell_type": "markdown",
   "metadata": {
    "id": "rbc8EQH5xDe4",
    "tags": []
   },
   "source": [
    "## Function `pass` Statement\n",
    "\n",
    "In Python, the **`pass`** is the keyword, which won’t do anything. Sometimes there is a situation where we need to define a syntactically empty block. We can define that block using the **`pass`** keyword.\n",
    "\n",
    "When the interpreter finds a **`pass`** statement in the program, it returns no operation."
   ]
  },
  {
   "cell_type": "code",
   "execution_count": null,
   "metadata": {
    "ExecuteTime": {
     "end_time": "2021-10-08T17:48:02.420395Z",
     "start_time": "2021-10-08T17:48:02.294414Z"
    },
    "id": "9ME10YsRxDe5"
   },
   "outputs": [],
   "source": [
    "# Example 1:\n",
    "\n",
    "def addition(num1, num2):\n",
    "    pass\n",
    "\n",
    "addition(10, 2)"
   ]
  },
  {
   "cell_type": "markdown",
   "metadata": {
    "id": "IEyrTHeXxDe5",
    "tags": []
   },
   "source": [
    "## Python Global and Local variables\n"
   ]
  },
  {
   "cell_type": "code",
   "execution_count": null,
   "metadata": {
    "id": "Zv39Teb_xDe5",
    "outputId": "10039051-82f5-470c-a045-a36112e574ff"
   },
   "outputs": [],
   "source": [
    "\n",
    "globalVar= 100\n",
    "\n",
    "def myprint():\n",
    "    global globalVar\n",
    "    globalVar = globalVar +50\n",
    "    print(globalVar)\n",
    "\n",
    "myprint()\n",
    "print(\"globalVar >>> \",globalVar)"
   ]
  },
  {
   "cell_type": "code",
   "execution_count": null,
   "metadata": {
    "id": "mwDnW-INxDe6",
    "outputId": "29cb27d3-490a-4d8e-c989-8140516f3808"
   },
   "outputs": [],
   "source": [
    "# Example 2: Create a Global Variable\n",
    "\n",
    "global_var = 900\n",
    "\n",
    "def fun1():\n",
    "    print(\"Value in 1st function:\", global_var)\n",
    "\n",
    "def fun2():\n",
    "    print(\"Value in 2nd function:\", global_var)\n",
    "\n",
    "fun1()\n",
    "fun2()"
   ]
  },
  {
   "cell_type": "code",
   "execution_count": null,
   "metadata": {},
   "outputs": [],
   "source": [
    "def my_sum(x=10,y=20):\n",
    "    print(x+y)\n",
    "\n",
    "my_sum(23,5)"
   ]
  },
  {
   "cell_type": "code",
   "execution_count": null,
   "metadata": {},
   "outputs": [],
   "source": []
  },
  {
   "cell_type": "code",
   "execution_count": null,
   "metadata": {},
   "outputs": [],
   "source": []
  },
  {
   "cell_type": "markdown",
   "metadata": {
    "id": "GzWG5uACxDe6",
    "tags": []
   },
   "source": [
    "## 💻 Exercises ➞ <span class='label label-default'>Functions</span>\n"
   ]
  },
  {
   "cell_type": "markdown",
   "metadata": {
    "id": "NBUFs8ARxDe6",
    "tags": []
   },
   "source": [
    "\n",
    "### Exercises ➞ <span class='label label-default'>Level 1</span>\n",
    "\n",
    "1. Area of a circle is calculated as follows: **area = π x r x r** and **perimeter = 2 x π x r**. Write a function that calculates **`area_of_circle`** and **`perimeter_of_circle`**.\n",
    "2. Write a function called **`add_all_nums`** which takes arbitrary number of arguments and sums all the arguments. Check if all the list items are number types. If not do give a reasonable feedback.\n",
    "3. Temperature in **°C** can be converted to **°F** using this formula: **°F = (°C x 9/5) + 32**. Write a function which converts **°C to °F**, **`convert_celsius_2_fahrenheit`**.\n",
    "4. Write a function called **`check_season`**, it takes a month parameter and returns the season: Autumn, Winter, Spring or Summer.\n",
    "5. Write a function called **`calculate_slope`** which return the slope of a linear equation\n",
    "6. Quadratic equation is calculated as follows: **ax² + bx + c = 0**. Write a function which calculates solution set of a quadratic equation, **`solve_quadratic_eqn`**.\n",
    "7. Declare a function named **`print_list`**. It takes a list as a parameter and it prints out each element of the list.\n",
    "\n",
    "\n",
    "9. Declare a function named **`capitalize_list_items`**. It takes a list as a parameter and it returns a capitalized list of items\n",
    "10. Declare a function named **`add_item`**. It takes a list and an item parameters. It returns a list with the item added at the end.\n",
    "\n",
    "    - ```py\n",
    "food_staff = ['Potato', 'Tomato', 'Mango', 'Milk']\n",
    "print(add_item(food_staff, 'Fungi'))  #['Potato', 'Tomato', 'Mango', 'Milk', 'Fungi']\n",
    "numbers = [2, 3, 7, 9]\n",
    "print(add_item(numbers, 5))      #[2, 3, 7, 9, 5]\n",
    "    ```\n",
    "\n",
    "11. Declare a function named **`remove_item`**. It takes a list and an item parameters. It returns a list with the item removed from it.\n",
    "\n",
    "    - ```py\n",
    "food_staff = ['Potato', 'Tomato', 'Mango', 'Milk']\n",
    "print(remove_item(food_staff, 'Mango'))  # ['Potato', 'Tomato', 'Milk']\n",
    "numbers = [2, 3, 7, 9]\n",
    "print(remove_item(numbers, 3))  # [2, 7, 9]\n",
    "    ```\n",
    "\n",
    "12. Declare a function named **`sum_of_numbers`**. It takes a number parameter and it adds all the numbers in that range.\n",
    "\n",
    "- ```py\n",
    "print(sum_of_numbers(5))  # 15\n",
    "print(sum_all_numbers(10)) # 55\n",
    "print(sum_all_numbers(100)) # 5050\n",
    " ```\n",
    "\n",
    "13. Declare a function named **`sum_of_odds`**. It takes a number parameter and it adds all the odd numbers in that range.\n",
    "14. Declare a function named **`sum_of_even`**. It takes a number parameter and it adds all the even numbers in that - range.\n"
   ]
  },
  {
   "cell_type": "code",
   "execution_count": null,
   "metadata": {
    "id": "RjUZr_1zxDe7"
   },
   "outputs": [],
   "source": []
  },
  {
   "cell_type": "markdown",
   "metadata": {},
   "source": [
    "\n",
    "### Exercises ➞ <span class='label label-default'>Level 2</span>\n",
    "\n",
    "\n",
    "1. Declare a function named **`capitalize_list_items`**. It takes a list as a parameter and it returns a capitalized list of items\n",
    "2. Declare a function named **`add_item`**. It takes a list and an item parameters. It returns a list with the item added at the end.\n",
    "\n",
    "3. Declare a function named **`reverse_list`**. It takes an array as a parameter and it returns the reverse of the array (use loops).\n",
    "\n",
    "```py\n",
    "print(reverse_list([1, 2, 3, 4, 5]))\n",
    "#[5, 4, 3, 2, 1]\n",
    "print(reverse_list1([\"A\", \"B\", \"C\"]))\n",
    "#[\"C\", \"B\", \"A\"]\n",
    "```\n",
    "4.  Declare a function named **`evens_and_odds`**. It takes a positive integer as parameter and it counts number of evens and odds in the number.\n",
    "\n",
    "```py\n",
    "print(evens_and_odds(100))\n",
    "#The number of odds are 50.\n",
    "#The number of evens are 51.\n",
    "```\n",
    "\n",
    "5. Write different functions which take lists. They should **`calculate_mean`**, **`calculate_median`**, **`calculate_mode`**\n",
    "6. Declare a function named **`print_list`**. It takes a list as a parameter and it prints out each element of the list.\n",
    "\n",
    "### Exercises ➞ <span class='label label-default'>Level 3</span>\n",
    "\n",
    "1. Write a function called **`is_prime`**, which checks if a number is prime.\n",
    "2. Write a functions which checks if all items are unique in the list.\n",
    "3. Write a function which checks if all the items of the list are of the same data type.\n",
    "4. Write a function which check if provided variable is a valid python variable\n"
   ]
  },
  {
   "cell_type": "code",
   "execution_count": null,
   "metadata": {},
   "outputs": [],
   "source": []
  },
  {
   "cell_type": "code",
   "execution_count": null,
   "metadata": {},
   "outputs": [],
   "source": []
  }
 ],
 "metadata": {
  "colab": {
   "provenance": []
  },
  "gist": {
   "data": {
    "description": "01_Learn_Python4Data/04_Python_Functions/001_Python_Functions.ipynb",
    "public": true
   },
   "id": ""
  },
  "hide_input": false,
  "kernelspec": {
   "display_name": "Python 3 (ipykernel)",
   "language": "python",
   "name": "python3"
  },
  "language_info": {
   "codemirror_mode": {
    "name": "ipython",
    "version": 3
   },
   "file_extension": ".py",
   "mimetype": "text/x-python",
   "name": "python",
   "nbconvert_exporter": "python",
   "pygments_lexer": "ipython3",
   "version": "3.12.3"
  },
  "toc": {
   "base_numbering": 1,
   "nav_menu": {},
   "number_sections": true,
   "sideBar": true,
   "skip_h1_title": false,
   "title_cell": "Table of Contents",
   "title_sidebar": "Contents",
   "toc_cell": false,
   "toc_position": {},
   "toc_section_display": true,
   "toc_window_display": false
  },
  "varInspector": {
   "cols": {
    "lenName": 16,
    "lenType": 16,
    "lenVar": 40
   },
   "kernels_config": {
    "python": {
     "delete_cmd_postfix": "",
     "delete_cmd_prefix": "del ",
     "library": "var_list.py",
     "varRefreshCmd": "print(var_dic_list())"
    },
    "r": {
     "delete_cmd_postfix": ") ",
     "delete_cmd_prefix": "rm(",
     "library": "var_list.r",
     "varRefreshCmd": "cat(var_dic_list()) "
    }
   },
   "types_to_exclude": [
    "module",
    "function",
    "builtin_function_or_method",
    "instance",
    "_Feature"
   ],
   "window_display": false
  }
 },
 "nbformat": 4,
 "nbformat_minor": 4
}
