{
  "nbformat": 4,
  "nbformat_minor": 0,
  "metadata": {
    "colab": {
      "provenance": [],
      "collapsed_sections": [
        "X3B3JVWQLdzO"
      ]
    },
    "kernelspec": {
      "name": "python3",
      "display_name": "Python 3"
    },
    "language_info": {
      "name": "python"
    }
  },
  "cells": [
    {
      "cell_type": "markdown",
      "source": [
        "# Defining Classes and Creating Objects"
      ],
      "metadata": {
        "id": "X3B3JVWQLdzO"
      }
    },
    {
      "cell_type": "markdown",
      "source": [
        "Basic Class and Object Creation"
      ],
      "metadata": {
        "id": "qAG-c4JsLpod"
      }
    },
    {
      "cell_type": "code",
      "execution_count": 3,
      "metadata": {
        "colab": {
          "base_uri": "https://localhost:8080/"
        },
        "id": "7FMhwEcALaLr",
        "outputId": "51a9730d-a624-4c6b-f60f-19618a08ff62"
      },
      "outputs": [
        {
          "output_type": "stream",
          "name": "stdout",
          "text": [
            "Alice\n",
            "30\n",
            "Name: Alice, Age: 30\n"
          ]
        }
      ],
      "source": [
        "class Person:\n",
        "    # Constructor method to initialize attributes\n",
        "    def __init__(self, name, age):\n",
        "        self.name = name  # Attribute 'name'\n",
        "        self.age = age    # Attribute 'age'\n",
        "\n",
        "    # Method to display the person's details\n",
        "    def display_info(self):\n",
        "        print(f\"Name: {self.name}, Age: {self.age}\")\n",
        "\n",
        "# Creating an object of the Person class\n",
        "person1 = Person(\"Alice\", 30)\n",
        "\n",
        "# Accessing object attributes and methods\n",
        "print(person1.name)  # Output: Alice\n",
        "print(person1.age)   # Output: 30\n",
        "person1.display_info()  # Output: Name: Alice, Age: 30"
      ]
    },
    {
      "cell_type": "markdown",
      "source": [
        "Using Multiple Objects"
      ],
      "metadata": {
        "id": "eA6KcZX5Lzzw"
      }
    },
    {
      "cell_type": "code",
      "source": [
        "class Dog:\n",
        "    def __init__(self, name, breed):\n",
        "        self.name = name\n",
        "        self.breed = breed\n",
        "\n",
        "    def bark(self):\n",
        "        print(f\"{self.name} says woof!\")\n",
        "\n",
        "# Creating multiple Dog objects\n",
        "dog1 = Dog(\"Buddy\", \"Golden Retriever\")\n",
        "dog2 = Dog(\"Lucy\", \"Labrador\")\n",
        "\n",
        "# Calling methods on different objects\n",
        "dog1.bark()  # Output: Buddy says woof!\n",
        "dog2.bark()  # Output: Lucy says woof!\n"
      ],
      "metadata": {
        "colab": {
          "base_uri": "https://localhost:8080/"
        },
        "id": "SYze4gUKL0Eu",
        "outputId": "ee49b2cd-be24-40cd-e5f0-66ccfdde5dde"
      },
      "execution_count": 4,
      "outputs": [
        {
          "output_type": "stream",
          "name": "stdout",
          "text": [
            "Buddy says woof!\n",
            "Lucy says woof!\n"
          ]
        }
      ]
    },
    {
      "cell_type": "markdown",
      "source": [
        "Adding Behavior with Methods"
      ],
      "metadata": {
        "id": "MTmeU59GM8i4"
      }
    },
    {
      "cell_type": "code",
      "source": [
        "class Car:\n",
        "    def __init__(self, make, model, year):\n",
        "        self.make = make\n",
        "        self.model = model\n",
        "        self.year = year\n",
        "\n",
        "    def start(self):\n",
        "        print(f\"The {self.year} {self.make} {self.model} is starting.\")\n",
        "\n",
        "    def stop(self):\n",
        "        print(f\"The {self.year} {self.make} {self.model} is stopping.\")\n",
        "\n",
        "# Creating an object of the Car class\n",
        "my_car = Car(\"Toyota\", \"Camry\", 2020)\n",
        "\n",
        "# Calling methods on the object\n",
        "my_car.start()  # Output: The 2020 Toyota Camry is starting.\n",
        "my_car.stop()   # Output: The 2020 Toyota Camry is stopping.\n"
      ],
      "metadata": {
        "colab": {
          "base_uri": "https://localhost:8080/"
        },
        "id": "iS2NhdncM9c4",
        "outputId": "a90ce7a6-7d83-440e-f480-e3f4cba00586"
      },
      "execution_count": 5,
      "outputs": [
        {
          "output_type": "stream",
          "name": "stdout",
          "text": [
            "The 2020 Toyota Camry is starting.\n",
            "The 2020 Toyota Camry is stopping.\n"
          ]
        }
      ]
    },
    {
      "cell_type": "markdown",
      "source": [
        "Updating Object Attributes"
      ],
      "metadata": {
        "id": "U5GG7Uc6M_iK"
      }
    },
    {
      "cell_type": "code",
      "source": [
        "class Student:\n",
        "    def __init__(self, name, grade):\n",
        "        self.name = name\n",
        "        self.grade = grade\n",
        "\n",
        "    def update_grade(self, new_grade):\n",
        "        self.grade = new_grade\n",
        "\n",
        "    def display_info(self):\n",
        "        print(f\"Student: {self.name}, Grade: {self.grade}\")\n",
        "\n",
        "# Creating a Student object\n",
        "student1 = Student(\"John\", \"B\")\n",
        "student1.display_info()  # Output: Student: John, Grade: B\n",
        "\n",
        "# Updating the student's grade\n",
        "student1.update_grade(\"A\")\n",
        "student1.display_info()  # Output: Student: John, Grade: A\n"
      ],
      "metadata": {
        "colab": {
          "base_uri": "https://localhost:8080/"
        },
        "id": "fADUqAPoM_vC",
        "outputId": "c123794d-ca64-4e4a-bb9c-31a7c2efe3d7"
      },
      "execution_count": 6,
      "outputs": [
        {
          "output_type": "stream",
          "name": "stdout",
          "text": [
            "Student: John, Grade: B\n",
            "Student: John, Grade: A\n"
          ]
        }
      ]
    },
    {
      "cell_type": "markdown",
      "source": [
        "Using a Method to Return Information"
      ],
      "metadata": {
        "id": "QopIIYeyNCjF"
      }
    },
    {
      "cell_type": "code",
      "source": [
        "class Book:\n",
        "    def __init__(self, title, author):\n",
        "        self.title = title\n",
        "        self.author = author\n",
        "\n",
        "    def get_description(self):\n",
        "        return f\"'{self.title}' by {self.author}\"\n",
        "\n",
        "# Creating a Book object\n",
        "book1 = Book(\"1984\", \"George Orwell\")\n",
        "\n",
        "# Using a method to get information about the book\n",
        "description = book1.get_description()\n",
        "print(description)  # Output: '1984' by George Orwell\n"
      ],
      "metadata": {
        "colab": {
          "base_uri": "https://localhost:8080/"
        },
        "id": "xjIC7dtnNDlc",
        "outputId": "e7a78aca-52f8-4195-ec6a-54cf490cfcf8"
      },
      "execution_count": 7,
      "outputs": [
        {
          "output_type": "stream",
          "name": "stdout",
          "text": [
            "'1984' by George Orwell\n"
          ]
        }
      ]
    },
    {
      "cell_type": "markdown",
      "source": [
        "# Practical Examples"
      ],
      "metadata": {
        "id": "1ywNGvwOLjLs"
      }
    },
    {
      "cell_type": "markdown",
      "source": [
        "Managing a Simple Inventory System"
      ],
      "metadata": {
        "id": "yZmISo1VO18u"
      }
    },
    {
      "cell_type": "code",
      "source": [
        "class Product:\n",
        "    def __init__(self, name, price, quantity):\n",
        "        self.name = name\n",
        "        self.price = price\n",
        "        self.quantity = quantity\n",
        "\n",
        "    def restock(self, amount):\n",
        "        self.quantity += amount\n",
        "        print(f\"Restocked {self.name}. New quantity: {self.quantity}\")\n",
        "\n",
        "    def sell(self, amount):\n",
        "        if amount <= self.quantity:\n",
        "            self.quantity -= amount\n",
        "            print(f\"Sold {amount} of {self.name}. Remaining quantity: {self.quantity}\")\n",
        "        else:\n",
        "            print(\"Not enough stock to sell.\")\n",
        "\n",
        "# Example usage\n",
        "product1 = Product(\"Laptop\", 1200, 10)\n",
        "product1.restock(5)   # Output: Restocked Laptop. New quantity: 15\n",
        "product1.sell(3)      # Output: Sold 3 of Laptop. Remaining quantity: 12\n",
        "product1.sell(20)     # Output: Not enough stock to sell."
      ],
      "metadata": {
        "colab": {
          "base_uri": "https://localhost:8080/"
        },
        "id": "CeGF50zwLjGa",
        "outputId": "96af2598-2b60-4a21-f9a7-87fc21694424"
      },
      "execution_count": 8,
      "outputs": [
        {
          "output_type": "stream",
          "name": "stdout",
          "text": [
            "Restocked Laptop. New quantity: 15\n",
            "Sold 3 of Laptop. Remaining quantity: 12\n",
            "Not enough stock to sell.\n"
          ]
        }
      ]
    },
    {
      "cell_type": "markdown",
      "source": [
        "Simple Calculator Class"
      ],
      "metadata": {
        "id": "np7tHLYuO5HO"
      }
    },
    {
      "cell_type": "code",
      "source": [
        "class Calculator:\n",
        "    def add(self, a, b):\n",
        "        return a + b\n",
        "\n",
        "    def subtract(self, a, b):\n",
        "        return a - b\n",
        "\n",
        "    def multiply(self, a, b):\n",
        "        return a * b\n",
        "\n",
        "    def divide(self, a, b):\n",
        "        if b != 0:\n",
        "            return a / b\n",
        "        else:\n",
        "            return \"Error: Division by zero.\"\n",
        "\n",
        "# Example usage\n",
        "calc = Calculator()\n",
        "print(calc.add(10, 5))       # Output: 15\n",
        "print(calc.subtract(10, 5))  # Output: 5\n",
        "print(calc.multiply(10, 5))  # Output: 50\n",
        "print(calc.divide(10, 2))    # Output: 5.0\n",
        "print(calc.divide(10, 0))    # Output: Error: Division by zero."
      ],
      "metadata": {
        "colab": {
          "base_uri": "https://localhost:8080/"
        },
        "id": "uhXNBvqrO3Rl",
        "outputId": "363a42e1-7acd-47a4-c46a-e7d5a8dde857"
      },
      "execution_count": 9,
      "outputs": [
        {
          "output_type": "stream",
          "name": "stdout",
          "text": [
            "15\n",
            "5\n",
            "50\n",
            "5.0\n",
            "Error: Division by zero.\n"
          ]
        }
      ]
    },
    {
      "cell_type": "markdown",
      "source": [
        "Creating a Student Management System"
      ],
      "metadata": {
        "id": "AyM4_y3fO8Nw"
      }
    },
    {
      "cell_type": "code",
      "source": [
        "class Student:\n",
        "    def __init__(self, name, student_id):\n",
        "        self.name = name\n",
        "        self.student_id = student_id\n",
        "        self.courses = []\n",
        "\n",
        "    def enroll(self, course):\n",
        "        self.courses.append(course)\n",
        "        print(f\"{self.name} has enrolled in {course}\")\n",
        "\n",
        "    def display_info(self):\n",
        "        print(f\"Student: {self.name}, ID: {self.student_id}, Courses: {', '.join(self.courses)}\")\n",
        "\n",
        "# Example usage\n",
        "student1 = Student(\"John Doe\", \"S12345\")\n",
        "student1.enroll(\"Math\")\n",
        "student1.enroll(\"Science\")\n",
        "student1.display_info()  # Output: Student: John Doe, ID: S12345, Courses: Math, Science\n"
      ],
      "metadata": {
        "colab": {
          "base_uri": "https://localhost:8080/"
        },
        "id": "OfwuSPXpO6mc",
        "outputId": "4f7137a6-7048-49ca-a691-460b335dd0b1"
      },
      "execution_count": 10,
      "outputs": [
        {
          "output_type": "stream",
          "name": "stdout",
          "text": [
            "John Doe has enrolled in Math\n",
            "John Doe has enrolled in Science\n",
            "Student: John Doe, ID: S12345, Courses: Math, Science\n"
          ]
        }
      ]
    },
    {
      "cell_type": "markdown",
      "source": [
        "Modeling a Bank Account"
      ],
      "metadata": {
        "id": "BJCywu5EO-vz"
      }
    },
    {
      "cell_type": "code",
      "source": [
        "class BankAccount:\n",
        "    def __init__(self, account_holder, balance=0):\n",
        "        self.account_holder = account_holder\n",
        "        self.balance = balance\n",
        "\n",
        "    def deposit(self, amount):\n",
        "        self.balance += amount\n",
        "        print(f\"Deposited {amount}. New balance: {self.balance}\")\n",
        "\n",
        "    def withdraw(self, amount):\n",
        "        if amount <= self.balance:\n",
        "            self.balance -= amount\n",
        "            print(f\"Withdrew {amount}. Remaining balance: {self.balance}\")\n",
        "        else:\n",
        "            print(\"Insufficient funds.\")\n",
        "\n",
        "# Example usage\n",
        "account = BankAccount(\"Alice\")\n",
        "account.deposit(1000)   # Output: Deposited 1000. New balance: 1000\n",
        "account.withdraw(500)   # Output: Withdrew 500. Remaining balance: 500\n",
        "account.withdraw(1000)  # Output: Insufficient funds.\n"
      ],
      "metadata": {
        "colab": {
          "base_uri": "https://localhost:8080/"
        },
        "id": "zLdu0R_1O9aF",
        "outputId": "9f8f94c1-bbb5-4420-e8ba-1b400e5fa7a7"
      },
      "execution_count": 11,
      "outputs": [
        {
          "output_type": "stream",
          "name": "stdout",
          "text": [
            "Deposited 1000. New balance: 1000\n",
            "Withdrew 500. Remaining balance: 500\n",
            "Insufficient funds.\n"
          ]
        }
      ]
    },
    {
      "cell_type": "markdown",
      "source": [
        "Modeling a Simple Library System"
      ],
      "metadata": {
        "id": "A9MeZoOUPBtX"
      }
    },
    {
      "cell_type": "code",
      "source": [
        "class Book:\n",
        "    def __init__(self, title, author):\n",
        "        self.title = title\n",
        "        self.author = author\n",
        "\n",
        "    def display(self):\n",
        "        print(f\"Title: {self.title}, Author: {self.author}\")\n",
        "\n",
        "class Library:\n",
        "    def __init__(self):\n",
        "        self.books = []\n",
        "\n",
        "    def add_book(self, book):\n",
        "        self.books.append(book)\n",
        "        print(f\"Added book: {book.title}\")\n",
        "\n",
        "    def list_books(self):\n",
        "        print(\"Library books:\")\n",
        "        for book in self.books:\n",
        "            book.display()\n",
        "\n",
        "# Example usage\n",
        "book1 = Book(\"1984\", \"George Orwell\")\n",
        "book2 = Book(\"To Kill a Mockingbird\", \"Harper Lee\")\n",
        "library = Library()\n",
        "library.add_book(book1)  # Output: Added book: 1984\n",
        "library.add_book(book2)  # Output: Added book: To Kill a Mockingbird\n",
        "library.list_books()\n"
      ],
      "metadata": {
        "colab": {
          "base_uri": "https://localhost:8080/"
        },
        "id": "wDf_stXAO_19",
        "outputId": "cad288b8-9296-40a2-be16-195c4a2f0421"
      },
      "execution_count": 12,
      "outputs": [
        {
          "output_type": "stream",
          "name": "stdout",
          "text": [
            "Added book: 1984\n",
            "Added book: To Kill a Mockingbird\n",
            "Library books:\n",
            "Title: 1984, Author: George Orwell\n",
            "Title: To Kill a Mockingbird, Author: Harper Lee\n"
          ]
        }
      ]
    },
    {
      "cell_type": "markdown",
      "source": [
        "Simple Voting System"
      ],
      "metadata": {
        "id": "krPTx-ogPE2C"
      }
    },
    {
      "cell_type": "code",
      "source": [
        "class Candidate:\n",
        "    def __init__(self, name):\n",
        "        self.name = name\n",
        "        self.votes = 0\n",
        "\n",
        "    def add_vote(self):\n",
        "        self.votes += 1\n",
        "\n",
        "    def display(self):\n",
        "        print(f\"Candidate: {self.name}, Votes: {self.votes}\")\n",
        "\n",
        "# Example usage\n",
        "candidate1 = Candidate(\"Alice\")\n",
        "candidate2 = Candidate(\"Bob\")\n",
        "\n",
        "# Voting\n",
        "candidate1.add_vote()\n",
        "candidate1.add_vote()\n",
        "candidate2.add_vote()\n",
        "\n",
        "# Display results\n",
        "candidate1.display()  # Output: Candidate: Alice, Votes: 2\n",
        "candidate2.display()  # Output: Candidate: Bob, Votes: 1\n"
      ],
      "metadata": {
        "colab": {
          "base_uri": "https://localhost:8080/"
        },
        "id": "HbEjBngfPCo-",
        "outputId": "afccf787-b19d-403b-f43f-a03074d790f8"
      },
      "execution_count": 13,
      "outputs": [
        {
          "output_type": "stream",
          "name": "stdout",
          "text": [
            "Candidate: Alice, Votes: 2\n",
            "Candidate: Bob, Votes: 1\n"
          ]
        }
      ]
    },
    {
      "cell_type": "markdown",
      "source": [
        "Simple Temperature Converter"
      ],
      "metadata": {
        "id": "CNdZ3X65PHJ-"
      }
    },
    {
      "cell_type": "code",
      "source": [
        "class TemperatureConverter:\n",
        "    def __init__(self, celsius):\n",
        "        self.celsius = celsius\n",
        "\n",
        "    def to_fahrenheit(self):\n",
        "        return (self.celsius * 9/5) + 32\n",
        "\n",
        "    def to_kelvin(self):\n",
        "        return self.celsius + 273.15\n",
        "\n",
        "# Example usage\n",
        "temp = TemperatureConverter(25)\n",
        "print(\"Fahrenheit:\", temp.to_fahrenheit())  # Output: Fahrenheit: 77.0\n",
        "print(\"Kelvin:\", temp.to_kelvin())          # Output: Kelvin: 298.15\n"
      ],
      "metadata": {
        "colab": {
          "base_uri": "https://localhost:8080/"
        },
        "id": "IePClLIBPF6V",
        "outputId": "4f720139-8033-49ce-a05b-09323cbe5b1d"
      },
      "execution_count": 14,
      "outputs": [
        {
          "output_type": "stream",
          "name": "stdout",
          "text": [
            "Fahrenheit: 77.0\n",
            "Kelvin: 298.15\n"
          ]
        }
      ]
    },
    {
      "cell_type": "markdown",
      "source": [
        "Modeling a Car Rental System"
      ],
      "metadata": {
        "id": "IFelKI5yPJ-l"
      }
    },
    {
      "cell_type": "code",
      "source": [
        "class Car:\n",
        "    def __init__(self, make, model, year):\n",
        "        self.make = make\n",
        "        self.model = model\n",
        "        self.year = year\n",
        "        self.is_rented = False\n",
        "\n",
        "    def rent(self):\n",
        "        if not self.is_rented:\n",
        "            self.is_rented = True\n",
        "            print(f\"{self.make} {self.model} rented.\")\n",
        "        else:\n",
        "            print(f\"{self.make} {self.model} is already rented.\")\n",
        "\n",
        "    def return_car(self):\n",
        "        if self.is_rented:\n",
        "            self.is_rented = False\n",
        "            print(f\"{self.make} {self.model} returned.\")\n",
        "        else:\n",
        "            print(f\"{self.make} {self.model} was not rented.\")\n",
        "\n",
        "# Example usage\n",
        "car1 = Car(\"Toyota\", \"Corolla\", 2020)\n",
        "car1.rent()       # Output: Toyota Corolla rented.\n",
        "car1.rent()       # Output: Toyota Corolla is already rented.\n",
        "car1.return_car() # Output: Toyota Corolla returned.\n",
        "car1.return_car() # Output: Toyota Corolla was not rented.\n"
      ],
      "metadata": {
        "colab": {
          "base_uri": "https://localhost:8080/"
        },
        "id": "pAXMsC2kPIHd",
        "outputId": "8d13cc68-641a-46ca-d370-c19bcbb11457"
      },
      "execution_count": 15,
      "outputs": [
        {
          "output_type": "stream",
          "name": "stdout",
          "text": [
            "Toyota Corolla rented.\n",
            "Toyota Corolla is already rented.\n",
            "Toyota Corolla returned.\n",
            "Toyota Corolla was not rented.\n"
          ]
        }
      ]
    }
  ]
}