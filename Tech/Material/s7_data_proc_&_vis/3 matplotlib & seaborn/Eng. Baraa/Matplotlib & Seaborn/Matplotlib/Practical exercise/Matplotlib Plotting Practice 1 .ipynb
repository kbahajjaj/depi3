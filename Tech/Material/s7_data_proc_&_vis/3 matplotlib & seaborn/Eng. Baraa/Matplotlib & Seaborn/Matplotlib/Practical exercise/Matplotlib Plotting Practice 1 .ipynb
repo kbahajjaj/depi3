{
 "cells": [
  {
   "cell_type": "markdown",
   "metadata": {
    "id": "Ovh8iLRU2D6d"
   },
   "source": [
    "# Matplotlib Practice\n",
    "\n",
    "\n",
    "In this practice, we will analyze various statistics from MBA applicants across 22 different industries.  The data is contained in the file \"MBA_Stat.csv\"."
   ]
  },
  {
   "cell_type": "markdown",
   "metadata": {
    "id": "G9l86pW62D6f"
   },
   "source": [
    "First, read in the data and use the head method to double check that everything has been read in correctly.  Make sure to add you \"%matplotlib inline\" statement at the top of the code block as well importing pandas and matplotlib.pyplot."
   ]
  },
  {
   "cell_type": "code",
   "execution_count": null,
   "metadata": {
    "id": "87iH6XsH2D6g"
   },
   "outputs": [],
   "source": [
    "%matplotlib inline\n",
    "\n",
    "#Import here\n",
    "\n",
    "\n",
    "#Set your style if you want\n",
    "\n",
    "\n",
    "#Write your code here\n"
   ]
  },
  {
   "cell_type": "markdown",
   "metadata": {
    "id": "tJ8UcwxI2D6h"
   },
   "source": [
    "We will begin by creating some basic single plots.  First create a scatterplot of Avg. Age vs. Avg. GMAT Score."
   ]
  },
  {
   "cell_type": "code",
   "execution_count": null,
   "metadata": {
    "id": "IWixvLiM2D6h"
   },
   "outputs": [],
   "source": [
    "#Create figure and axis\n",
    "\n",
    "#Create your plot here\n",
    "\n",
    "#Update the axes labels and the title\n"
   ]
  },
  {
   "cell_type": "markdown",
   "metadata": {
    "id": "2JSvmdY82D6h"
   },
   "source": [
    "Next, we would like to create the following two histograms, which give us how the average GMAT and average previous work experience is distributed across industries."
   ]
  },
  {
   "cell_type": "markdown",
   "metadata": {
    "id": "X_VWKu_92D6h"
   },
   "source": [
    " <img src=\"distributions.png\">"
   ]
  },
  {
   "cell_type": "markdown",
   "metadata": {
    "id": "GtLwjDK22D6h"
   },
   "source": [
    "First create the 1x2 figure.  Use figsize = (10,5). Add the figure title."
   ]
  },
  {
   "cell_type": "code",
   "execution_count": null,
   "metadata": {
    "id": "YfpFmXiZ2D6i",
    "scrolled": true
   },
   "outputs": [],
   "source": []
  },
  {
   "cell_type": "markdown",
   "metadata": {
    "id": "r0sT-E6f2D6i"
   },
   "source": [
    "Next create the first histogram on ax0.  Vary the bin size so the histogram provides as much information as possible. Also, add the appropriate x-axis title."
   ]
  },
  {
   "cell_type": "code",
   "execution_count": null,
   "metadata": {
    "id": "6aQOE6Bq2D6i"
   },
   "outputs": [],
   "source": []
  },
  {
   "cell_type": "markdown",
   "metadata": {
    "id": "xGmr1PwF2D6j"
   },
   "source": [
    "Now add in the vertical dashed average line with the corresponding annotation."
   ]
  },
  {
   "cell_type": "code",
   "execution_count": null,
   "metadata": {
    "id": "V_gYk54-2D6j"
   },
   "outputs": [],
   "source": []
  },
  {
   "cell_type": "markdown",
   "metadata": {
    "id": "E-xqsfB12D6j"
   },
   "source": [
    "Now create the second histogram for work experience"
   ]
  },
  {
   "cell_type": "code",
   "execution_count": null,
   "metadata": {
    "id": "9IiSTSDU2D6j"
   },
   "outputs": [],
   "source": []
  },
  {
   "cell_type": "markdown",
   "metadata": {
    "id": "N1iE1QeG2D6j"
   },
   "source": [
    "Now on to the main event. We would like to create the following plot."
   ]
  },
  {
   "cell_type": "markdown",
   "metadata": {
    "id": "C_ZVwlQa2D6k"
   },
   "source": [
    " <img src=\"MBAplots.png\">\n"
   ]
  },
  {
   "cell_type": "markdown",
   "metadata": {
    "id": "b-6x6ADr2D6k"
   },
   "source": [
    "Create a 1X3 figure with a shared y axis and three axes. Set figsize = (10,10). Add the figure title to the figure."
   ]
  },
  {
   "cell_type": "code",
   "execution_count": null,
   "metadata": {
    "id": "M9kKNf9x2D6k"
   },
   "outputs": [],
   "source": [
    "#Create axes + figure\n",
    "\n",
    "\n",
    "#Create the plot on ax0, you should set kind = \"barh\". Add the appropriate titles and axes labels.\n",
    "\n",
    "#Update axes features.  Make the x axis go from 600 to 690.\n",
    "\n",
    "#Create the plot on ax1\n",
    "\n",
    "#Update axes features.  Make the x axis go from  25 to 32.\n",
    "\n",
    "#Create the plot on ax2\n",
    "\n",
    "#Update axes features.  Make the x axis go from  45 to 75.\n"
   ]
  }
 ],
 "metadata": {
  "colab": {
   "provenance": []
  },
  "kernelspec": {
   "display_name": "Python [conda env:base] *",
   "language": "python",
   "name": "conda-base-py"
  },
  "language_info": {
   "codemirror_mode": {
    "name": "ipython",
    "version": 3
   },
   "file_extension": ".py",
   "mimetype": "text/x-python",
   "name": "python",
   "nbconvert_exporter": "python",
   "pygments_lexer": "ipython3",
   "version": "3.12.7"
  },
  "toc": {
   "colors": {
    "hover_highlight": "#DAA520",
    "navigate_num": "#000000",
    "navigate_text": "#333333",
    "running_highlight": "#FF0000",
    "selected_highlight": "#FFD700",
    "sidebar_border": "#EEEEEE",
    "wrapper_background": "#FFFFFF"
   },
   "moveMenuLeft": true,
   "nav_menu": {
    "height": "30px",
    "width": "252px"
   },
   "navigate_menu": true,
   "number_sections": true,
   "sideBar": true,
   "skip_h1_title": false,
   "threshold": 4,
   "toc_cell": false,
   "toc_position": {},
   "toc_section_display": "block",
   "toc_window_display": false,
   "widenNotebook": false
  }
 },
 "nbformat": 4,
 "nbformat_minor": 4
}
