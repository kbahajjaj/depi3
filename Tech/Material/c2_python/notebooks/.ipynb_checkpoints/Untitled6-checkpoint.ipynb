{
 "cells": [
  {
   "cell_type": "code",
   "execution_count": 1,
   "id": "39d55d51-c5bd-4fd6-8253-95b77cdcdc35",
   "metadata": {},
   "outputs": [],
   "source": [
    "my_list= [\"test1\",13,[1,5,7,9],\"Baraa\"]\n",
    "my_tuple= (999,44,5,94,86)"
   ]
  },
  {
   "cell_type": "code",
   "execution_count": 5,
   "id": "c4c4dcc7-9d24-4663-8993-87db032d0ab5",
   "metadata": {},
   "outputs": [
    {
     "name": "stdout",
     "output_type": "stream",
     "text": [
      "test1\n",
      "13\n",
      "[1, 5, 7, 9]\n",
      "Baraa\n"
     ]
    }
   ],
   "source": [
    "for item in my_list:\n",
    "    print(item)"
   ]
  },
  {
   "cell_type": "code",
   "execution_count": 7,
   "id": "5960e5e1-decc-428d-a175-6873f62513a7",
   "metadata": {},
   "outputs": [
    {
     "name": "stdin",
     "output_type": "stream",
     "text": [
      "Enter password 234\n",
      "Enter password 234\n",
      "Enter password 34\n",
      "Enter password 56779\n",
      "Enter password pass12345\n"
     ]
    },
    {
     "name": "stdout",
     "output_type": "stream",
     "text": [
      "Access granted\n"
     ]
    }
   ],
   "source": [
    "correct_pass = \"pass12345\"\n",
    "input_password =\"\"\n",
    "\n",
    "while input_password != correct_pass:\n",
    "    input_password = input(\"Enter password\")\n",
    "print(\"Access granted\")\n"
   ]
  },
  {
   "cell_type": "code",
   "execution_count": null,
   "id": "271af880-68ae-46bb-836f-e719efe0a3b9",
   "metadata": {},
   "outputs": [],
   "source": [
    "# Example 2: Running a game until the player decides to quit:\n"
   ]
  },
  {
   "cell_type": "code",
   "execution_count": 7,
   "id": "6d294faf-0c94-4ef7-bac4-804d62507b7a",
   "metadata": {},
   "outputs": [
    {
     "name": "stdin",
     "output_type": "stream",
     "text": [
      "Do you want to continue playing? (yes/no) NO\n"
     ]
    },
    {
     "name": "stdout",
     "output_type": "stream",
     "text": [
      "Game over\n"
     ]
    }
   ],
   "source": [
    "playing = True\n",
    "while playing:\n",
    "    user_input = input(\"Do you want to continue playing? (yes/no)\")\n",
    "    if user_input.lower() == \"no\":\n",
    "        playing= False\n",
    "\n",
    "print(\"Game over\")\n",
    "    "
   ]
  },
  {
   "cell_type": "code",
   "execution_count": 9,
   "id": "8f7d6633-8ccf-4736-8d16-220563204bd6",
   "metadata": {},
   "outputs": [
    {
     "name": "stdout",
     "output_type": "stream",
     "text": [
      "1\n",
      "3\n",
      "6\n",
      "10\n",
      "15\n",
      "21\n",
      "28\n",
      "36\n",
      "45\n",
      "55\n"
     ]
    }
   ],
   "source": [
    "# sum of 10 numbers  1 +2 +3 +4 +5 +6 7 > even\n",
    "sum = 0\n",
    "for i in range(1,11):\n",
    "    sum = sum + i\n",
    "    #sum += i\n",
    "    print(sum)"
   ]
  },
  {
   "cell_type": "code",
   "execution_count": null,
   "id": "1c5d023b-603d-49f9-a47d-5f88a742ba8a",
   "metadata": {},
   "outputs": [],
   "source": []
  }
 ],
 "metadata": {
  "kernelspec": {
   "display_name": "Python 3 (ipykernel)",
   "language": "python",
   "name": "python3"
  },
  "language_info": {
   "codemirror_mode": {
    "name": "ipython",
    "version": 3
   },
   "file_extension": ".py",
   "mimetype": "text/x-python",
   "name": "python",
   "nbconvert_exporter": "python",
   "pygments_lexer": "ipython3",
   "version": "3.12.3"
  }
 },
 "nbformat": 4,
 "nbformat_minor": 5
}
