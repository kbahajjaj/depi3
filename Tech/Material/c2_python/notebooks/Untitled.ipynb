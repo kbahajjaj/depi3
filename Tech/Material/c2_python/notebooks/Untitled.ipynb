{
 "cells": [
  {
   "cell_type": "code",
   "execution_count": 17,
   "id": "3e2e74ad-6002-4f03-872a-fc4fd64c80bf",
   "metadata": {},
   "outputs": [
    {
     "name": "stdout",
     "output_type": "stream",
     "text": [
      "First:  2\n",
      "Sec:  2\n"
     ]
    }
   ],
   "source": [
    "  x = 2\n",
    "y =45\n",
    "if x > 5:\n",
    "    pass\n",
    "print(\"First: \",x)\n",
    "print(\"Sec: \",x)"
   ]
  },
  {
   "cell_type": "code",
   "execution_count": 39,
   "id": "c299b470-837d-44ba-bbe8-4efa56cd5785",
   "metadata": {},
   "outputs": [
    {
     "ename": "SyntaxError",
     "evalue": "invalid syntax (2654830213.py, line 1)",
     "output_type": "error",
     "traceback": [
      "\u001b[1;36m  Cell \u001b[1;32mIn[39], line 1\u001b[1;36m\u001b[0m\n\u001b[1;33m    Str x = \"5\"\u001b[0m\n\u001b[1;37m        ^\u001b[0m\n\u001b[1;31mSyntaxError\u001b[0m\u001b[1;31m:\u001b[0m invalid syntax\n"
     ]
    }
   ],
   "source": [
    "Str x = \"5\"\n",
    "type(x)"
   ]
  },
  {
   "cell_type": "code",
   "execution_count": 61,
   "id": "069fc032-90a4-4ba5-b15f-2f6ddf995767",
   "metadata": {},
   "outputs": [],
   "source": [
    "x =  10\n"
   ]
  },
  {
   "cell_type": "code",
   "execution_count": 63,
   "id": "864ab172-6296-4433-a72b-bb3cdf4a0152",
   "metadata": {},
   "outputs": [
    {
     "name": "stdout",
     "output_type": "stream",
     "text": [
      "10\n"
     ]
    }
   ],
   "source": [
    "print(x)"
   ]
  },
  {
   "cell_type": "code",
   "execution_count": 47,
   "id": "4fb74df1-9ba8-41a4-a967-1c9e4f691761",
   "metadata": {},
   "outputs": [],
   "source": [
    "x =15"
   ]
  },
  {
   "cell_type": "code",
   "execution_count": 49,
   "id": "ce42cd16-5e27-41d4-87d0-2d6e7f8040ec",
   "metadata": {},
   "outputs": [
    {
     "data": {
      "text/plain": [
       "15"
      ]
     },
     "execution_count": 49,
     "metadata": {},
     "output_type": "execute_result"
    }
   ],
   "source": [
    "x"
   ]
  },
  {
   "cell_type": "code",
   "execution_count": null,
   "id": "95947e83-f7cc-4555-a8a4-719df2165354",
   "metadata": {},
   "outputs": [],
   "source": []
  },
  {
   "cell_type": "markdown",
   "id": "44ce795f-af0e-48a9-b030-6ee63b68c8d0",
   "metadata": {},
   "source": [
    "Python"
   ]
  },
  {
   "cell_type": "code",
   "execution_count": null,
   "id": "82a1047f-108a-4431-80ff-27dd016f8d68",
   "metadata": {},
   "outputs": [],
   "source": [
    "Python"
   ]
  },
  {
   "cell_type": "code",
   "execution_count": 77,
   "id": "7a2277e1-1482-4872-8289-6b0cc71aa117",
   "metadata": {},
   "outputs": [],
   "source": [
    "x = 10\n",
    "y =15\n",
    "s =105\n",
    "\n",
    "sum = x +\\\n",
    "        y+\\\n",
    "            s"
   ]
  },
  {
   "cell_type": "code",
   "execution_count": 73,
   "id": "cffd9d71-804a-4dc0-bb1e-80af18c82d49",
   "metadata": {},
   "outputs": [
    {
     "data": {
      "text/plain": [
       "130"
      ]
     },
     "execution_count": 73,
     "metadata": {},
     "output_type": "execute_result"
    }
   ],
   "source": [
    "sum"
   ]
  },
  {
   "cell_type": "code",
   "execution_count": 81,
   "id": "c3677f78-10da-491e-91c0-cc53d0a64a04",
   "metadata": {},
   "outputs": [
    {
     "data": {
      "text/plain": [
       "'Bara'"
      ]
     },
     "execution_count": 81,
     "metadata": {},
     "output_type": "execute_result"
    }
   ],
   "source": [
    "name= \"Baraa Abu Sallout\"\n",
    "name[:4]"
   ]
  },
  {
   "cell_type": "code",
   "execution_count": 87,
   "id": "4e938d29-1528-4ef0-bbe0-3ebc2e8f2174",
   "metadata": {},
   "outputs": [
    {
     "data": {
      "text/plain": [
       "'Baraa Sallout'"
      ]
     },
     "execution_count": 87,
     "metadata": {},
     "output_type": "execute_result"
    }
   ],
   "source": [
    "fname = \"Baraa\"\n",
    "lname = \"Sallout\"\n",
    "Fullname= fname+\" \"+lname\n",
    "Fullname\n"
   ]
  },
  {
   "cell_type": "code",
   "execution_count": 95,
   "id": "136bcb6a-f0f2-4f81-88fe-90f7e02a5fdf",
   "metadata": {},
   "outputs": [
    {
     "name": "stdout",
     "output_type": "stream",
     "text": [
      "Baraa Sallout\n"
     ]
    }
   ],
   "source": [
    "print(fname , lname)"
   ]
  },
  {
   "cell_type": "code",
   "execution_count": 97,
   "id": "eaa4151f-a39c-4466-8c3a-672573533ffc",
   "metadata": {},
   "outputs": [
    {
     "data": {
      "text/plain": [
       "str"
      ]
     },
     "execution_count": 97,
     "metadata": {},
     "output_type": "execute_result"
    }
   ],
   "source": [
    "type(fname)"
   ]
  },
  {
   "cell_type": "code",
   "execution_count": 99,
   "id": "3a5cdbc1-2745-4158-9e4f-020bd28c2745",
   "metadata": {},
   "outputs": [],
   "source": [
    "x = 10"
   ]
  },
  {
   "cell_type": "code",
   "execution_count": 103,
   "id": "78bb2964-f09c-4229-ab9e-6405e8282784",
   "metadata": {},
   "outputs": [
    {
     "data": {
      "text/plain": [
       "str"
      ]
     },
     "execution_count": 103,
     "metadata": {},
     "output_type": "execute_result"
    }
   ],
   "source": [
    "str(x)"
   ]
  },
  {
   "cell_type": "code",
   "execution_count": 111,
   "id": "2a648e84-1747-4c9a-b32c-124c47b57eb2",
   "metadata": {},
   "outputs": [
    {
     "data": {
      "text/plain": [
       "dict"
      ]
     },
     "execution_count": 111,
     "metadata": {},
     "output_type": "execute_result"
    }
   ],
   "source": [
    "myvar = {}\n",
    "type(myvar)"
   ]
  },
  {
   "cell_type": "code",
   "execution_count": 129,
   "id": "3eb01a2d-a753-4758-9cd5-a5b489354030",
   "metadata": {},
   "outputs": [
    {
     "data": {
      "text/plain": [
       "[2, 5, 7]"
      ]
     },
     "execution_count": 129,
     "metadata": {},
     "output_type": "execute_result"
    }
   ],
   "source": [
    "mylist = [2,5,6,7,98]\n",
    "mylist.pop(2)\n",
    "mylist\n",
    "mylist.pop()\n",
    "mylist"
   ]
  },
  {
   "cell_type": "code",
   "execution_count": 115,
   "id": "147dd84a-e866-4bf5-b295-781c43ee46bc",
   "metadata": {},
   "outputs": [
    {
     "data": {
      "text/plain": [
       "6"
      ]
     },
     "execution_count": 115,
     "metadata": {},
     "output_type": "execute_result"
    }
   ],
   "source": [
    "myTuple = (2,5,6,7,98)\n",
    "myTuple[2]"
   ]
  },
  {
   "cell_type": "code",
   "execution_count": 117,
   "id": "4eb35b2f-84c1-4f5a-9fae-5acaec171b54",
   "metadata": {},
   "outputs": [
    {
     "ename": "TypeError",
     "evalue": "'set' object is not subscriptable",
     "output_type": "error",
     "traceback": [
      "\u001b[1;31m---------------------------------------------------------------------------\u001b[0m",
      "\u001b[1;31mTypeError\u001b[0m                                 Traceback (most recent call last)",
      "Cell \u001b[1;32mIn[117], line 2\u001b[0m\n\u001b[0;32m      1\u001b[0m mySet \u001b[38;5;241m=\u001b[39m {\u001b[38;5;241m2\u001b[39m,\u001b[38;5;241m5\u001b[39m,\u001b[38;5;241m6\u001b[39m,\u001b[38;5;241m7\u001b[39m,\u001b[38;5;241m98\u001b[39m}\n\u001b[1;32m----> 2\u001b[0m mySet[\u001b[38;5;241m2\u001b[39m]\n",
      "\u001b[1;31mTypeError\u001b[0m: 'set' object is not subscriptable"
     ]
    }
   ],
   "source": [
    "mySet = {2,5,6,7,98}\n",
    "mySet[2]"
   ]
  },
  {
   "cell_type": "code",
   "execution_count": null,
   "id": "4ab53b14-b346-46c3-a1c9-b64a423a4887",
   "metadata": {},
   "outputs": [],
   "source": [
    "myDict = {2:\"baraa\",5:\"ali\"}"
   ]
  },
  {
   "cell_type": "code",
   "execution_count": null,
   "id": "6cb0205e-03b9-4db1-a2f3-a2a56d1a5050",
   "metadata": {},
   "outputs": [],
   "source": []
  },
  {
   "cell_type": "markdown",
   "id": "5fbee6b1-046d-45cf-9e38-9ccc2339aa83",
   "metadata": {},
   "source": [
    "elif = else if "
   ]
  },
  {
   "cell_type": "code",
   "execution_count": 28,
   "id": "0fe7dd5e-43d9-4a19-92f5-2dfd1a323a64",
   "metadata": {},
   "outputs": [
    {
     "name": "stdout",
     "output_type": "stream",
     "text": [
      "12\n",
      "out\n"
     ]
    }
   ],
   "source": [
    "x = 7 \n",
    "if x>5:\n",
    "    if x <10:\n",
    "        x = x +5\n",
    "        print(x)\n",
    "    else:\n",
    "        print(x-5)\n",
    "elif x == 5:\n",
    "    print(\"x =\",5)\n",
    "else:\n",
    "    print(\"Not Found\")\n",
    "print(\"out\")"
   ]
  },
  {
   "cell_type": "code",
   "execution_count": null,
   "id": "e7d79fd6-2e22-457e-a1a5-f93558bb0162",
   "metadata": {},
   "outputs": [],
   "source": []
  },
  {
   "cell_type": "code",
   "execution_count": null,
   "id": "4b59f31c-3f45-4633-9870-f27299c45b5e",
   "metadata": {},
   "outputs": [],
   "source": []
  },
  {
   "cell_type": "code",
   "execution_count": null,
   "id": "c6d03107-8c5c-48c3-8f8b-9fe889550aea",
   "metadata": {},
   "outputs": [],
   "source": []
  }
 ],
 "metadata": {
  "kernelspec": {
   "display_name": "Python 3 (ipykernel)",
   "language": "python",
   "name": "python3"
  },
  "language_info": {
   "codemirror_mode": {
    "name": "ipython",
    "version": 3
   },
   "file_extension": ".py",
   "mimetype": "text/x-python",
   "name": "python",
   "nbconvert_exporter": "python",
   "pygments_lexer": "ipython3",
   "version": "3.12.3"
  }
 },
 "nbformat": 4,
 "nbformat_minor": 5
}
