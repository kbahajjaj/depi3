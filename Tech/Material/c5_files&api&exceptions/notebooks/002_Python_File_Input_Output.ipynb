{
 "cells": [
  {
   "cell_type": "markdown",
   "metadata": {
    "id": "4qe97FWGoF63"
   },
   "source": [
    "# Python File I/O\n",
    "\n",
    "In this class, you'll learn about Python file operations. More specifically, opening a file, reading from it, writing into it, closing it, and various file methods that you should be aware of."
   ]
  },
  {
   "cell_type": "markdown",
   "metadata": {
    "id": "Rys-nF_RoF7A"
   },
   "source": [
    "## Files\n",
    "\n",
    "Files are named locations on disk to store related information. They are used to permanently store data in a non-volatile memory (e.g. hard disk).\n",
    "\n",
    "Since Random Access Memory (RAM) is volatile (which loses its data when the computer is turned off), we use files for future use of the data by permanently storing them.\n",
    "\n",
    "When we want to read from or write to a file, we need to open it first. When we are done, it needs to be closed so that the resources that are tied with the file are freed.\n",
    "\n",
    "Hence, in Python, a file operation takes place in the following order:\n",
    "<b>\n",
    "1. Open a file\n",
    "2. Close the file\n",
    "3. Write into files (perform operation)\n",
    "4. Read contents of files (perform operation)\n",
    "</b>"
   ]
  },
  {
   "cell_type": "markdown",
   "metadata": {
    "id": "xQcGpJI5oF7C"
   },
   "source": [
    "## 1. Opening Files in Python\n",
    "\n",
    "Python has a built-in **`open()`** function to open a file. This function returns a file object, also called a handle, as it is used to read or modify the file accordingly.\n",
    "\n",
    "```python\n",
    ">>> f = open(\"test.txt\")  # open file in current directory\n",
    ">>> f = open(\"C:/Python99/README.txt\")   # specifying full path\n",
    "```\n",
    "\n",
    "We can specify the mode while opening a file. In mode, we specify whether we want to read **`r`**, write **`w`** or append **`a`** to the file. We can also specify if we want to open the file in text mode or binary mode.\n",
    "\n",
    "The default is reading in text mode. In this mode, we get strings when reading from the file.\n",
    "\n",
    "On the other hand, binary mode returns bytes and this is the mode to be used when dealing with non-text files like images or executable files.\n",
    "\n",
    "| Mode | Description |\n",
    "|:----:| :--- |\n",
    "| **`r`** | **Read** -Opens a file for reading only. The file pointer is placed at the beginning of the file. This is the default mode.   |\n",
    "| **`t`** | **Text** - Opens in text mode. (default).   |\n",
    "| **`b`** | **Binary** - Opens in binary mode (e.g. images).  |\n",
    "| **`x`** | **Create** - Opens a file for exclusive creation. If the file already exists, the operation fails.   |\n",
    "| **`rb`** | Opens a file for reading only in binary format. The file pointer is placed at the beginning of the file. This is the default mode.   |\n",
    "| **`r+`** | Opens a file for both reading and writing. The file pointer placed at the beginning of the file.   |\n",
    "| **`rb+`** | Opens a file for both reading and writing in binary format. The file pointer placed at the beginning of the file.   |  \n",
    "| **`w`** | **Write** - Opens a file for writing only. Overwrites the file if the file exists. If the file does not exist, creates a new file for writing.   |\n",
    "| **`wb`** | Opens a file for writing only in binary format. Overwrites the file if the file exists. If the file does not exist, creates a new file for writing.   |\n",
    "| **`w+`** | Opens a file for both writing and reading. Overwrites the existing file if the file exists. If the file does not exist, creates a new file for reading and writing.   |\n",
    "| **`wb+`** | Opens a file for both writing and reading in binary format. Overwrites the existing file if the file exists. If the file does not exist, creates a new file for reading and writing.   |\n",
    "| **`a`** | **Append** - Opens a file for appending. The file pointer is at the end of the file if the file exists. That is, the file is in the append mode. If the file does not exist, it creates a new file for writing.   |\n",
    "| **`ab`** | Opens a file for appending in binary format. The file pointer is at the end of the file if the file exists. That is, the file is in the append mode. If the file does not exist, it creates a new file for writing.   |\n",
    "| **`a+`** | Opens a file for both appending and reading. The file pointer is at the end of the file if the file exists. The file opens in the append mode. If the file does not exist, it creates a new file for reading and writing.   |\n",
    "| **`ab+`** | Opens a file for both appending and reading in binary format. The file pointer is at the end of the file if the file exists. The file opens in the append mode. If the file does not exist, it creates a new file for reading and writing.   |  "
   ]
  },
  {
   "cell_type": "markdown",
   "metadata": {
    "id": "DLLquYqHoF7G"
   },
   "source": [
    "As you can see in the example above, I printed the opened file and it gave  some information about it. Opened file has different reading methods: **`read()`**, **`readline`**, **`readlines`**. An opened file has to be closed with **`close()`** method."
   ]
  },
  {
   "cell_type": "code",
   "execution_count": 38,
   "metadata": {
    "ExecuteTime": {
     "end_time": "2021-10-25T14:28:08.207692Z",
     "start_time": "2021-10-25T14:28:08.151052Z"
    },
    "id": "CBIlvvdtoF7G"
   },
   "outputs": [
    {
     "name": "stdout",
     "output_type": "stream",
     "text": [
      "<_io.TextIOWrapper name='test.txt' mode='w' encoding='cp1252'>\n"
     ]
    }
   ],
   "source": [
    "f = open(\"test.txt\",'w')  # write in text mode\n",
    "print(f)\n",
    "f.close() "
   ]
  },
  {
   "cell_type": "markdown",
   "metadata": {
    "id": "dPcDV8RvoF7H"
   },
   "source": [
    "Unlike other languages, the character **`a`** does not imply the number 97 until it is encoded using **`ASCII`** (or other equivalent encodings).\n",
    "\n",
    "Moreover, the default encoding is platform dependent. In windows, it is **`cp1252`** but **`utf-8`** in Linux.\n",
    "\n",
    "So, we must not also rely on the default encoding or else our code will behave differently in different platforms.\n",
    "\n",
    "Hence, when working with files in text mode, it is highly recommended to specify the encoding type."
   ]
  },
  {
   "cell_type": "code",
   "execution_count": 40,
   "metadata": {
    "ExecuteTime": {
     "end_time": "2021-10-25T14:28:08.426445Z",
     "start_time": "2021-10-25T14:28:08.321954Z"
    },
    "id": "qT-i3lrqoF7H"
   },
   "outputs": [
    {
     "ename": "FileNotFoundError",
     "evalue": "[Errno 2] No such file or directory: 'test.txt'",
     "output_type": "error",
     "traceback": [
      "\u001b[1;31m---------------------------------------------------------------------------\u001b[0m",
      "\u001b[1;31mFileNotFoundError\u001b[0m                         Traceback (most recent call last)",
      "Cell \u001b[1;32mIn[40], line 1\u001b[0m\n\u001b[1;32m----> 1\u001b[0m f \u001b[38;5;241m=\u001b[39m \u001b[38;5;28mopen\u001b[39m(\u001b[38;5;124m\"\u001b[39m\u001b[38;5;124mtest.txt\u001b[39m\u001b[38;5;124m\"\u001b[39m, mode\u001b[38;5;241m=\u001b[39m\u001b[38;5;124m'\u001b[39m\u001b[38;5;124mr\u001b[39m\u001b[38;5;124m'\u001b[39m, encoding\u001b[38;5;241m=\u001b[39m\u001b[38;5;124m'\u001b[39m\u001b[38;5;124mutf-8\u001b[39m\u001b[38;5;124m'\u001b[39m)\n",
      "File \u001b[1;32m~\\anaconda3\\Lib\\site-packages\\IPython\\core\\interactiveshell.py:324\u001b[0m, in \u001b[0;36m_modified_open\u001b[1;34m(file, *args, **kwargs)\u001b[0m\n\u001b[0;32m    317\u001b[0m \u001b[38;5;28;01mif\u001b[39;00m file \u001b[38;5;129;01min\u001b[39;00m {\u001b[38;5;241m0\u001b[39m, \u001b[38;5;241m1\u001b[39m, \u001b[38;5;241m2\u001b[39m}:\n\u001b[0;32m    318\u001b[0m     \u001b[38;5;28;01mraise\u001b[39;00m \u001b[38;5;167;01mValueError\u001b[39;00m(\n\u001b[0;32m    319\u001b[0m         \u001b[38;5;124mf\u001b[39m\u001b[38;5;124m\"\u001b[39m\u001b[38;5;124mIPython won\u001b[39m\u001b[38;5;124m'\u001b[39m\u001b[38;5;124mt let you open fd=\u001b[39m\u001b[38;5;132;01m{\u001b[39;00mfile\u001b[38;5;132;01m}\u001b[39;00m\u001b[38;5;124m by default \u001b[39m\u001b[38;5;124m\"\u001b[39m\n\u001b[0;32m    320\u001b[0m         \u001b[38;5;124m\"\u001b[39m\u001b[38;5;124mas it is likely to crash IPython. If you know what you are doing, \u001b[39m\u001b[38;5;124m\"\u001b[39m\n\u001b[0;32m    321\u001b[0m         \u001b[38;5;124m\"\u001b[39m\u001b[38;5;124myou can use builtins\u001b[39m\u001b[38;5;124m'\u001b[39m\u001b[38;5;124m open.\u001b[39m\u001b[38;5;124m\"\u001b[39m\n\u001b[0;32m    322\u001b[0m     )\n\u001b[1;32m--> 324\u001b[0m \u001b[38;5;28;01mreturn\u001b[39;00m io_open(file, \u001b[38;5;241m*\u001b[39margs, \u001b[38;5;241m*\u001b[39m\u001b[38;5;241m*\u001b[39mkwargs)\n",
      "\u001b[1;31mFileNotFoundError\u001b[0m: [Errno 2] No such file or directory: 'test.txt'"
     ]
    }
   ],
   "source": [
    "f = open(\"test.txt\", mode='r', encoding='utf-8')"
   ]
  },
  {
   "cell_type": "markdown",
   "metadata": {
    "id": "Ti6BQ-ijoF7I"
   },
   "source": [
    "## 2. Closing Files in Python\n",
    "\n",
    "When we are done with performing operations on the file, we need to properly close the file.\n",
    "\n",
    "Closing a file will free up the resources that were tied with the file. It is done using the **`close()`** method available in Python.\n",
    "\n",
    "Python has a garbage collector to clean up unreferenced objects but we must not rely on it to close the file."
   ]
  },
  {
   "cell_type": "code",
   "execution_count": null,
   "metadata": {
    "ExecuteTime": {
     "end_time": "2021-10-25T14:28:08.582216Z",
     "start_time": "2021-10-25T14:28:08.430355Z"
    },
    "id": "Yb1Pb5e-oF7I"
   },
   "outputs": [],
   "source": [
    "f = open(\"test.txt\", encoding = 'utf-8')\n",
    "# perform file operations\n",
    "f.close()"
   ]
  },
  {
   "cell_type": "markdown",
   "metadata": {
    "id": "L6Ufr4BRoF7J"
   },
   "source": [
    "This method is not entirely safe. If an exception occurs when we are performing some operation with the file, the code exits without closing the file.\n",
    "\n",
    "A safer way is to use a **[try-finally]()** block."
   ]
  },
  {
   "cell_type": "code",
   "execution_count": null,
   "metadata": {
    "ExecuteTime": {
     "end_time": "2021-10-25T14:28:08.881538Z",
     "start_time": "2021-10-25T14:28:08.590028Z"
    },
    "id": "D1XgJaR5oF7J"
   },
   "outputs": [],
   "source": [
    "try:\n",
    "    f = open(\"test.txt\", encoding = 'utf-8')\n",
    "    # perform file operations\n",
    "finally:\n",
    "    f.close()"
   ]
  },
  {
   "cell_type": "markdown",
   "metadata": {
    "id": "4JxzcVYIoF7K"
   },
   "source": [
    "This way, we are guaranteeing that the file is properly closed even if an exception is raised that causes program flow to stop.\n",
    "\n",
    "The best way to close a file is by using the **`with`** statement. This ensures that the file is closed when the block inside the **`with`** statement is exited.\n",
    "\n",
    "We don't need to explicitly call the **`close()`** method. It is done internally.\n",
    "\n",
    "```python\n",
    ">>>with open(\"test.txt\", encoding = 'utf-8') as f:\n",
    "   # perform file operations\n",
    "```"
   ]
  },
  {
   "cell_type": "markdown",
   "metadata": {
    "id": "LuabCfkdoF7K"
   },
   "source": [
    "### The file Object Attributes\n",
    "\n",
    "* **file.closed** - Returns true if file is closed, false otherwise.\n",
    "* **file.mode** - Returns access mode with which file was opened.\n",
    "* **file.name** - Returns name of the file."
   ]
  },
  {
   "cell_type": "code",
   "execution_count": 44,
   "metadata": {
    "ExecuteTime": {
     "end_time": "2021-10-25T14:28:09.020214Z",
     "start_time": "2021-10-25T14:28:08.891306Z"
    },
    "id": "bKSCGgPwoF7K"
   },
   "outputs": [
    {
     "name": "stdout",
     "output_type": "stream",
     "text": [
      "Name of the file:  test.txt\n",
      "Closed or not :  False\n",
      "Opening mode :  wb\n",
      "Closed or not :  True\n"
     ]
    }
   ],
   "source": [
    "# Open a file\n",
    "data = open(\"test.txt\", \"wb\")\n",
    "print (\"Name of the file: \", data.name)\n",
    "print (\"Closed or not : \", data.closed)\n",
    "print (\"Opening mode : \", data.mode)\n",
    "data.close()  #closed test.txt file\n",
    "print (\"Closed or not : \", data.closed)\n"
   ]
  },
  {
   "cell_type": "markdown",
   "metadata": {
    "id": "GZbZP1NQoF7K",
    "jp-MarkdownHeadingCollapsed": true
   },
   "source": [
    "## 3. Writing to Files in Python\n",
    "\n",
    "In order to write into a file in Python, we need to open it in write **`w`**, append **`a`** or exclusive creation **`x`** mode.\n",
    "\n",
    "We need to be careful with the **`w`** mode, as it will overwrite into the file if it already exists. Due to this, all the previous data are erased.\n",
    "\n",
    "Writing a string or sequence of bytes (for binary files) is done using the **`write()`** method. This method returns the number of characters written to the file."
   ]
  },
  {
   "cell_type": "code",
   "execution_count": 50,
   "metadata": {
    "ExecuteTime": {
     "end_time": "2021-10-25T14:28:09.124707Z",
     "start_time": "2021-10-25T14:28:09.028027Z"
    },
    "id": "U-ZFsxASoF7L"
   },
   "outputs": [],
   "source": [
    "with open(\"test_1.txt\",'w',encoding = 'utf-8') as f:\n",
    "    f.write(\"my First file\\n\")\n",
    "    f.write(\"This file\\n\\n\")\n",
    "    f.write(\"contains three lines\\n\")"
   ]
  },
  {
   "cell_type": "markdown",
   "metadata": {
    "id": "0zRPYtfaoF7L"
   },
   "source": [
    "This program will create a new file named **`test_1.txt`** in the current directory if it does not exist. If it does exist, it is overwritten.\n",
    "\n",
    "We must include the newline characters ourselves to distinguish the different lines."
   ]
  },
  {
   "cell_type": "code",
   "execution_count": null,
   "metadata": {
    "ExecuteTime": {
     "end_time": "2021-10-25T14:28:09.269731Z",
     "start_time": "2021-10-25T14:28:09.134477Z"
    },
    "id": "WZFFb3SXoF7L"
   },
   "outputs": [],
   "source": [
    "with open(\"test_2.txt\",'w',encoding = 'utf-8') as f:\n",
    "    f.write(\"This is file\\n\")\n",
    "    f.write(\"my\\n\")\n",
    "    f.write(\"first file\\n\")"
   ]
  },
  {
   "cell_type": "markdown",
   "metadata": {
    "id": "0cMPerF_oF7L"
   },
   "source": [
    "Let us append **`a`** some text to the file we have been reading:"
   ]
  },
  {
   "cell_type": "code",
   "execution_count": null,
   "metadata": {
    "ExecuteTime": {
     "end_time": "2021-10-25T14:28:09.296102Z",
     "start_time": "2021-10-25T14:28:09.274614Z"
    },
    "id": "lO3ZIYb0oF7M"
   },
   "outputs": [],
   "source": [
    "with open(\"test_2.txt\",'a',encoding = 'utf-8') as f:\n",
    "    f.write('This text has to be appended at the end')"
   ]
  },
  {
   "cell_type": "code",
   "execution_count": null,
   "metadata": {
    "ExecuteTime": {
     "end_time": "2021-10-25T14:28:09.404501Z",
     "start_time": "2021-10-25T14:28:09.300006Z"
    },
    "id": "SWS86owuoF7M"
   },
   "outputs": [],
   "source": [
    "# open a file in current directory\n",
    "data = open(\"data_1.txt\", \"w\") # \"w\" write in text mode,\n",
    "data.write(\"Welcome to Dr. Milan Parmar's Python Tutorial\")\n",
    "print(\"done\")\n",
    "data.close()"
   ]
  },
  {
   "cell_type": "markdown",
   "metadata": {
    "id": "rQN9AVjYoF7M"
   },
   "source": [
    "<div>\n",
    "<img src=\"img/io1.png\" width=\"1000\"/>\n",
    "</div>"
   ]
  },
  {
   "cell_type": "markdown",
   "metadata": {
    "id": "-nF8XynioF7M",
    "jp-MarkdownHeadingCollapsed": true
   },
   "source": [
    "## 4. Reading Files in Python\n",
    "\n",
    "To read a file in Python, we must open the file in reading **`r`** mode.\n",
    "\n",
    "There are various methods available for this purpose. We can use the **`read(size)`** method to read in the **`size`** number of data. If the **`size`** parameter is not specified, it reads and returns up to the end of the file.\n",
    "\n",
    "We can read the **`text_1.txt`** file we wrote in the above section in the following way:"
   ]
  },
  {
   "cell_type": "code",
   "execution_count": null,
   "metadata": {
    "ExecuteTime": {
     "end_time": "2021-10-25T14:28:09.525600Z",
     "start_time": "2021-10-25T14:28:09.418663Z"
    },
    "id": "5pffv_NyoF7M",
    "scrolled": true
   },
   "outputs": [],
   "source": [
    "f = open(\"test_1.txt\",'r',encoding = 'utf-8')\n",
    "txt = f.read()  # read all the characters in the file\n",
    "print(type(txt))\n",
    "print(txt)\n",
    "f.close()"
   ]
  },
  {
   "cell_type": "code",
   "execution_count": null,
   "metadata": {
    "ExecuteTime": {
     "end_time": "2021-10-25T14:28:09.662808Z",
     "start_time": "2021-10-25T14:28:09.529505Z"
    },
    "id": "2TqZtmGGoF7N"
   },
   "outputs": [],
   "source": [
    "f = open(\"test_1.txt\",'r',encoding = 'utf-8')\n",
    "f.read(8)  # read the first 8 data characters"
   ]
  },
  {
   "cell_type": "code",
   "execution_count": null,
   "metadata": {
    "ExecuteTime": {
     "end_time": "2021-10-25T14:28:09.816134Z",
     "start_time": "2021-10-25T14:28:09.665737Z"
    },
    "id": "H6DgcxO4oF7N"
   },
   "outputs": [],
   "source": [
    "f.read(5)  # read the next 5 data characters"
   ]
  },
  {
   "cell_type": "code",
   "execution_count": null,
   "metadata": {
    "ExecuteTime": {
     "end_time": "2021-10-25T14:28:09.924044Z",
     "start_time": "2021-10-25T14:28:09.820039Z"
    },
    "id": "cXZkzi0koF7N"
   },
   "outputs": [],
   "source": [
    "f.read()  # read in the rest till end of file"
   ]
  },
  {
   "cell_type": "code",
   "execution_count": null,
   "metadata": {
    "ExecuteTime": {
     "end_time": "2021-10-25T14:28:10.032936Z",
     "start_time": "2021-10-25T14:28:09.928929Z"
    },
    "id": "ogpnRUzLoF7N"
   },
   "outputs": [],
   "source": [
    "f.read()  # further reading returns empty sting"
   ]
  },
  {
   "cell_type": "markdown",
   "metadata": {
    "id": "yYQaDyVpoF7N"
   },
   "source": [
    "We can read a file line-by-line using a **[for loop]()**. This is both efficient and fast."
   ]
  },
  {
   "cell_type": "code",
   "execution_count": null,
   "metadata": {
    "ExecuteTime": {
     "end_time": "2021-10-25T14:28:10.454334Z",
     "start_time": "2021-10-25T14:28:10.364489Z"
    },
    "id": "VZmEwDopoF7O"
   },
   "outputs": [],
   "source": [
    "f = open(\"test_1.txt\",'r+',encoding = 'utf-8')\n",
    "for line in f:\n",
    "    print(line, end = '')\n"
   ]
  },
  {
   "cell_type": "markdown",
   "metadata": {
    "id": "K9gedHgloF7O"
   },
   "source": [
    "In this program, the lines in the file itself include a newline character **`\\n`**. So, we use the end parameter of the **`print()`** function to avoid two newlines when printing."
   ]
  },
  {
   "cell_type": "markdown",
   "metadata": {
    "id": "tMnwnPY8oF7O"
   },
   "source": [
    "Alternatively, we can use the **`readline()`** method to read individual lines of a file. This method reads a file till the newline, including the newline character."
   ]
  },
  {
   "cell_type": "code",
   "execution_count": null,
   "metadata": {
    "ExecuteTime": {
     "end_time": "2021-10-25T14:28:10.578847Z",
     "start_time": "2021-10-25T14:28:10.458240Z"
    },
    "id": "YutvK8vnoF7O"
   },
   "outputs": [],
   "source": [
    "f.seek(0)  # bring file cursor to initial position\n",
    "f.readline()"
   ]
  },
  {
   "cell_type": "code",
   "execution_count": null,
   "metadata": {
    "ExecuteTime": {
     "end_time": "2021-10-25T14:28:10.749264Z",
     "start_time": "2021-10-25T14:28:10.582755Z"
    },
    "id": "4QiSSXchoF7P"
   },
   "outputs": [],
   "source": [
    "f.readline()"
   ]
  },
  {
   "cell_type": "code",
   "execution_count": null,
   "metadata": {
    "ExecuteTime": {
     "end_time": "2021-10-25T14:28:10.874263Z",
     "start_time": "2021-10-25T14:28:10.760981Z"
    },
    "id": "qMrTws7koF7P"
   },
   "outputs": [],
   "source": [
    "f.readline()"
   ]
  },
  {
   "cell_type": "code",
   "execution_count": null,
   "metadata": {
    "ExecuteTime": {
     "end_time": "2021-10-25T14:28:11.014891Z",
     "start_time": "2021-10-25T14:28:10.880126Z"
    },
    "id": "v3b_OfB7oF7P"
   },
   "outputs": [],
   "source": [
    "f.readline()"
   ]
  },
  {
   "cell_type": "code",
   "execution_count": null,
   "metadata": {
    "id": "kG6O6RxAoF7P"
   },
   "outputs": [],
   "source": [
    "f.readline()"
   ]
  },
  {
   "cell_type": "code",
   "execution_count": null,
   "metadata": {
    "id": "iW2UJaILoF7P"
   },
   "outputs": [],
   "source": [
    "f.readline()"
   ]
  },
  {
   "cell_type": "markdown",
   "metadata": {
    "id": "0A8EmeWpoF7U"
   },
   "source": [
    "Lastly, the **`readlines()`** method returns a list of remaining lines of the entire file. All these reading methods return empty values when the end of file **(EOF)** is reached."
   ]
  },
  {
   "cell_type": "code",
   "execution_count": null,
   "metadata": {
    "ExecuteTime": {
     "end_time": "2021-10-25T14:28:11.139894Z",
     "start_time": "2021-10-25T14:28:11.018801Z"
    },
    "id": "uWWnTRZToF7U",
    "scrolled": true
   },
   "outputs": [],
   "source": [
    "f.seek(0)  # bring file cursor to initial position\n",
    "f.readline()"
   ]
  },
  {
   "cell_type": "markdown",
   "metadata": {
    "id": "BiamBjghoF7V"
   },
   "source": [
    "Another way to get all the lines as a list is using **`splitlines()`**"
   ]
  },
  {
   "cell_type": "code",
   "execution_count": null,
   "metadata": {
    "ExecuteTime": {
     "end_time": "2021-10-25T14:28:11.279548Z",
     "start_time": "2021-10-25T14:28:11.142828Z"
    },
    "id": "Adg19bxmoF7V"
   },
   "outputs": [],
   "source": [
    "f.seek(0)  # bring file cursor to initial position\n",
    "f.read().splitlines()"
   ]
  },
  {
   "cell_type": "code",
   "execution_count": null,
   "metadata": {
    "ExecuteTime": {
     "end_time": "2021-10-25T14:28:11.388926Z",
     "start_time": "2021-10-25T14:28:11.283456Z"
    },
    "id": "7qBxlqtBoF7V",
    "scrolled": true
   },
   "outputs": [],
   "source": [
    "# Open a file\n",
    "data = open(\"data_1.txt\", \"r+\")\n",
    "file_data = data.read(27) # read 3.375 byte only\n",
    "full_data = data.read()   # read all byte into file from last cursor\n",
    "print(file_data)\n",
    "print(full_data)\n",
    "data.close()"
   ]
  },
  {
   "cell_type": "markdown",
   "metadata": {
    "id": "Kwrjq2xToF7V",
    "jp-MarkdownHeadingCollapsed": true
   },
   "source": [
    "## File Positions\n",
    "\n",
    "The **`tell()`** method tells you the current position within the file; in other words, the next read or write will occur at that many bytes from the beginning of the file.\n",
    "\n",
    "The **`seek(offset[, from])`** method changes the current file position. The offset argument indicates the number of bytes to be moved. The from argument specifies the reference position from where the bytes are to be moved.\n",
    "\n",
    "If from is set to 0, the beginning of the file is used as the reference position. If it is set to 1, the current position is used as the reference position. If it is set to 2 then the end of the file would be taken as the reference position."
   ]
  },
  {
   "cell_type": "code",
   "execution_count": null,
   "metadata": {
    "ExecuteTime": {
     "end_time": "2021-10-25T14:28:11.545181Z",
     "start_time": "2021-10-25T14:28:11.392833Z"
    },
    "id": "U48PZasVoF7V"
   },
   "outputs": [],
   "source": [
    "# Open a file\n",
    "data = open(\"data_1.txt\", \"r+\")\n",
    "file_data = data.read(18) # read 18 byte only\n",
    "print(\"current position after reading 18 byte :\",data.tell())\n",
    "data.seek(0) #here current position set to 0 (starting of file)\n",
    "full_data = data.read() #read all byte\n",
    "print(\"file_data >>> \",file_data)\n",
    "print(\"full_data >>> \",full_data)\n",
    "print(\"position after reading file : \",data.tell())\n",
    "\n",
    "data.close()"
   ]
  },
  {
   "cell_type": "markdown",
   "metadata": {
    "id": "ExIsXwBMoF7V",
    "jp-MarkdownHeadingCollapsed": true
   },
   "source": [
    "## Python File Methods\n",
    "\n",
    "There are various methods available with the file object. Some of them have been used in the above examples.\n",
    "\n",
    "Here is the complete list of methods in text mode with a brief description:\n",
    "\n",
    "| Method | Description |\n",
    "|:----| :--- |\n",
    "| **`close()`** |   Closes an opened file. It has no effect if the file is already closed.   |\n",
    "| **`detach()`** |   Separates the underlying binary buffer from the **`TextIOBase`** and returns it.   |\n",
    "| **`fileno()`** |   Returns an integer number (file descriptor) of the file.   |\n",
    "| **`flush()`** |   Flushes the write buffer of the file stream.   |\n",
    "| **`isatty()`** |   Returns **`True`** if the file stream is interactive.   |\n",
    "| **`read(n)`** |   Reads at most `n` characters from the file. Reads till end of file if it is negative or `None`.   |\n",
    "| **`readable()`** |   Returns **`True`** if the file stream can be read from.   |\n",
    "| **`readline(n=-1)`** |   Reads and returns one line from the file. Reads in at most **`n`** bytes if specified.   |\n",
    "| **`readlines(n=-1)`** |   Reads and returns a list of lines from the file. Reads in at most **`n`** bytes/characters if specified.   |\n",
    "| **`seek(offset,from=SEEK_SET)`** |   Changes the file position to **`offset`** bytes, in reference to `from` (start, current, end).   |\n",
    "| **`seekable()`** |   Returns **`True`** if the file stream supports random access.   |\n",
    "| **`tell()`** |   Returns the current file location.   |\n",
    "| **`truncate(size=None)`** |   Resizes the file stream to **`size`** bytes. If **`size`** is not specified, resizes to current location..   |\n",
    "| **`writable()`** |   Returns **`True`** if the file stream can be written to.   |\n",
    "| **`write(s)`** |   Writes the string **`s`** to the file and returns the number of characters written..   |\n",
    "| **`writelines(lines)`** |   Writes a list of **`lines`** to the file..   |"
   ]
  },
  {
   "cell_type": "markdown",
   "metadata": {
    "id": "3eaqKGwXoF7V",
    "jp-MarkdownHeadingCollapsed": true
   },
   "source": [
    "## Deleting Files\n",
    "\n",
    "We have seen in previous section, how to make and remove a directory using **[os]()** module (04_Python_Functions ➞ 007_Python_Function_Module ➞ Python Built-In Modules). Again now, if we want to remove a file we use **`os`** module."
   ]
  },
  {
   "cell_type": "code",
   "execution_count": null,
   "metadata": {
    "ExecuteTime": {
     "end_time": "2021-10-25T14:28:12.170196Z",
     "start_time": "2021-10-25T14:28:11.555923Z"
    },
    "id": "thEVehJFoF7W"
   },
   "outputs": [],
   "source": [
    "import os\n",
    "os.remove('example.txt')"
   ]
  },
  {
   "cell_type": "markdown",
   "metadata": {
    "id": "2ykDLxKeoF7W"
   },
   "source": [
    "If the file does not exist, the remove method will raise an error, so it is good to use a condition like this:"
   ]
  },
  {
   "cell_type": "code",
   "execution_count": null,
   "metadata": {
    "ExecuteTime": {
     "end_time": "2021-10-25T14:28:19.870587Z",
     "start_time": "2021-10-25T14:28:19.861800Z"
    },
    "id": "oL9SoxNvoF7W"
   },
   "outputs": [],
   "source": [
    "import os\n",
    "if os.path.exists('./files/example.txt'):\n",
    "    os.remove('./files/example.txt')\n",
    "else:\n",
    "    print('The file does not exist')"
   ]
  },
  {
   "cell_type": "markdown",
   "metadata": {
    "id": "TccTGtk4oF7W"
   },
   "source": [
    "## File Types"
   ]
  },
  {
   "cell_type": "markdown",
   "metadata": {
    "id": "BrRaa-LfoF7W"
   },
   "source": [
    "### File with txt Extension\n",
    "\n",
    "File with **txt** extension is a very common form of data and we have covered it in the previous section. Let us move to the JSON file."
   ]
  },
  {
   "cell_type": "markdown",
   "metadata": {
    "id": "_NWYtLstoF7W"
   },
   "source": [
    "### File with json Extension\n",
    "\n",
    "**JSON** stands for **J**ava**S**cript **O**bject **N**otation. Actually, it is a stringified JavaScript object or Python dictionary."
   ]
  },
  {
   "cell_type": "markdown",
   "metadata": {
    "id": "hjU74iR9oF7X"
   },
   "source": [
    "### File with csv Extension\n",
    "\n",
    "**CSV** stands for **C**omma **S**eparated **V**alues. CSV is a simple file format used to store tabular data, such as a spreadsheet or database. CSV is a very common data format in data science.\n",
    "\n",
    "For example, create **csv_example.csv** in your working directory with the following contents:\n",
    "\n",
    "```csv\n",
    "\"name\",\"country\",\"city\",\"skills\"\n",
    "\"Milaan\",\"England\",\"London\",\"Python\"\n",
    "```"
   ]
  },
  {
   "cell_type": "markdown",
   "metadata": {
    "id": "hcTJENQpoF7X",
    "tags": []
   },
   "source": [
    "### File with xml Extension\n",
    "\n",
    "**XML** is another structured data format which looks like HTML. In XML the tags are not predefined. The first line is an XML declaration. The person tag is the root of the XML. The person has a gender attribute.\n",
    "\n",
    "```xml\n",
    "<?xml version=\"1.0\"?>\n",
    "<person gender=\"female\">\n",
    "  <name>Asabeneh</name>\n",
    "  <country>Finland</country>\n",
    "  <city>Helsinki</city>\n",
    "  <skills>\n",
    "    <skill>JavaScrip</skill>\n",
    "    <skill>React</skill>\n",
    "    <skill>Python</skill>\n",
    "  </skills>\n",
    "</person>\n",
    "```"
   ]
  },
  {
   "cell_type": "code",
   "execution_count": null,
   "metadata": {},
   "outputs": [],
   "source": []
  },
  {
   "cell_type": "code",
   "execution_count": 234,
   "metadata": {},
   "outputs": [
    {
     "name": "stdout",
     "output_type": "stream",
     "text": [
      "66\n",
      "2431\n"
     ]
    }
   ],
   "source": [
    "def counterTxt (path):\n",
    "    with open(path,'r') as f :\n",
    "        listLines = f.readlines()\n",
    "        print(len(listLines))\n",
    "        counter = 0\n",
    "        for line in listLines:\n",
    "            counter = counter + len(line.split(\" \"))\n",
    "        print(counter)\n",
    "\n",
    "counterTxt(r\"H:\\anaconda\\Lec9\\speech_barack_obama.txt\")      "
   ]
  },
  {
   "cell_type": "code",
   "execution_count": null,
   "metadata": {},
   "outputs": [],
   "source": []
  },
  {
   "cell_type": "markdown",
   "metadata": {
    "id": "kryEBAyooF7X",
    "jp-MarkdownHeadingCollapsed": true
   },
   "source": [
    "## 💻 Exercises ➞ <span class='label label-default'>Files</span>\n",
    "\n",
    "### Exercises ➞ <span class='label label-default'>Level 1</span>\n",
    "\n",
    "1. Write a function which count number of lines and number of words in a text.\n",
    "  - a) Read **[speech_barack_obama.txt]()** file and count number of lines and words\n",
    "  - b) Read **[speech_michelle_obama.txt ]()** file and count number of lines and words\n",
    "  - c) Read **[speech_donald_trump.txt]()** file and count number of lines and words\n",
    "  - d) Read **[speech_melina_trump.txt]()** file and count number of lines and words\n",
    "    \n",
    "\n",
    "2. Use the function, find_most_frequent_words to find:\n",
    "  - a) The ten most frequent words used in **[Barack Obama's Speech.txt]()**\n",
    "  - b) The ten most frequent words used in **[Michelle Obama's Speech.txt ]()**\n",
    "  - c) The ten most frequent words used in **[Donald Trump's Speech.txt]()**\n",
    "  - d) The ten most frequent words used in **[Melina Trump's Speech.txt]()**\n",
    "  \n",
    "3. Find the 10 most repeated words in the **[romeo_and_juliet.txt]()**.\n",
    "\n",
    "### Exercises ➞ <span class='label label-default'>Level 2</span>\n",
    "\n",
    "1. Extract all incoming email addresses as a list from the **[email_exchanges_big.txt]()** file.\n",
    "\n",
    "2. Write a python application that checks similarity between two texts. It takes a file or a string as a parameter and it will evaluate the similarity of the two texts. For instance check the similarity between the transcripts of **[Michelle Obama's Speech.txt ]()** and **[Melina Trump's Speech.txt]()** speech. You may need a couple of functions, function to clean the text (**`clean_text`**), function to remove support words (**`remove_support_words`**) and finally to check the similarity (**`check_text_similarity`**). List of **[support_words]()**.\n",
    "\n",
    "\n"
   ]
  },
  {
   "cell_type": "code",
   "execution_count": null,
   "metadata": {
    "id": "uuRkmEkroF7X"
   },
   "outputs": [],
   "source": []
  }
 ],
 "metadata": {
  "colab": {
   "provenance": []
  },
  "hide_input": false,
  "kernelspec": {
   "display_name": "Python 3 (ipykernel)",
   "language": "python",
   "name": "python3"
  },
  "language_info": {
   "codemirror_mode": {
    "name": "ipython",
    "version": 3
   },
   "file_extension": ".py",
   "mimetype": "text/x-python",
   "name": "python",
   "nbconvert_exporter": "python",
   "pygments_lexer": "ipython3",
   "version": "3.12.4"
  },
  "toc": {
   "base_numbering": 1,
   "nav_menu": {},
   "number_sections": true,
   "sideBar": true,
   "skip_h1_title": false,
   "title_cell": "Table of Contents",
   "title_sidebar": "Contents",
   "toc_cell": false,
   "toc_position": {
    "height": "calc(100% - 180px)",
    "left": "10px",
    "top": "150px",
    "width": "204.797px"
   },
   "toc_section_display": true,
   "toc_window_display": false
  },
  "varInspector": {
   "cols": {
    "lenName": 16,
    "lenType": 16,
    "lenVar": 40
   },
   "kernels_config": {
    "python": {
     "delete_cmd_postfix": "",
     "delete_cmd_prefix": "del ",
     "library": "var_list.py",
     "varRefreshCmd": "print(var_dic_list())"
    },
    "r": {
     "delete_cmd_postfix": ") ",
     "delete_cmd_prefix": "rm(",
     "library": "var_list.r",
     "varRefreshCmd": "cat(var_dic_list()) "
    }
   },
   "types_to_exclude": [
    "module",
    "function",
    "builtin_function_or_method",
    "instance",
    "_Feature"
   ],
   "window_display": false
  }
 },
 "nbformat": 4,
 "nbformat_minor": 4
}
