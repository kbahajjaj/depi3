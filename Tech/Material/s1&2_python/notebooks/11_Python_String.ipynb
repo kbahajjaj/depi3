{
 "cells": [
  {
   "cell_type": "markdown",
   "metadata": {},
   "source": [
    "# Lec3"
   ]
  },
  {
   "cell_type": "markdown",
   "metadata": {},
   "source": [
    "## Breaking appart strings\n",
    "\n",
    "When processing text, the ability to split strings appart is particularly useful. \n",
    "\n",
    "* `partition(separator)`: breaks a string into three parts based on a separator\n",
    "\n",
    "* `split()`: breaks string into words separated by white-space (optionally takes a separator as argument)\n",
    "\n",
    "* `join()`: joins the result of a split using string as separator"
   ]
  },
  {
   "cell_type": "code",
   "execution_count": 218,
   "metadata": {
    "ExecuteTime": {
     "end_time": "2021-10-02T09:54:20.959236Z",
     "start_time": "2021-10-02T09:54:20.944590Z"
    }
   },
   "outputs": [
    {
     "name": "stdout",
     "output_type": "stream",
     "text": [
      "('one ', '➡', ' two ➡ three')\n",
      "['one', '➡', 'two', '➡', 'three']\n",
      "['one', 'two', 'three']\n",
      "one;two;three\n"
     ]
    }
   ],
   "source": [
    "s = \"one ➡ two ➡ three\"\n",
    "print( s.partition(\"➡\") )\n",
    "print( s.split() )\n",
    "print( s.split(\" ➡ \") )\n",
    "print( \";\".join( s.split(\" ➡ \") ) )"
   ]
  },
  {
   "cell_type": "code",
   "execution_count": 17,
   "metadata": {
    "ExecuteTime": {
     "end_time": "2021-10-02T09:54:21.296686Z",
     "start_time": "2021-10-02T09:54:21.268364Z"
    }
   },
   "outputs": [
    {
     "data": {
      "text/plain": [
       "['This', 'will', 'split', 'all', 'words', 'into', 'a', 'list']"
      ]
     },
     "execution_count": 17,
     "metadata": {},
     "output_type": "execute_result"
    }
   ],
   "source": [
    "\"This will split all words into a list\".split()"
   ]
  },
  {
   "cell_type": "code",
   "execution_count": 4,
   "metadata": {
    "ExecuteTime": {
     "end_time": "2021-10-02T09:54:21.420238Z",
     "start_time": "2021-10-02T09:54:21.400709Z"
    }
   },
   "outputs": [
    {
     "data": {
      "text/plain": [
       "'This will join all words into a string'"
      ]
     },
     "execution_count": 4,
     "metadata": {},
     "output_type": "execute_result"
    }
   ],
   "source": [
    "' '.join(['This', 'will', 'join', 'all', 'words', 'into', 'a', 'string'])"
   ]
  },
  {
   "cell_type": "code",
   "execution_count": 19,
   "metadata": {
    "ExecuteTime": {
     "end_time": "2021-10-02T09:54:21.728875Z",
     "start_time": "2021-10-02T09:54:21.714225Z"
    }
   },
   "outputs": [
    {
     "data": {
      "text/plain": [
       "7"
      ]
     },
     "execution_count": 19,
     "metadata": {},
     "output_type": "execute_result"
    }
   ],
   "source": [
    "'Happy New Year'.find('ew')"
   ]
  },
  {
   "cell_type": "code",
   "execution_count": 6,
   "metadata": {
    "ExecuteTime": {
     "end_time": "2021-10-02T09:54:21.843638Z",
     "start_time": "2021-10-02T09:54:21.822Z"
    },
    "scrolled": true
   },
   "outputs": [
    {
     "data": {
      "text/plain": [
       "'Brilliant New Year'"
      ]
     },
     "execution_count": 6,
     "metadata": {},
     "output_type": "execute_result"
    }
   ],
   "source": [
    "'Happy New Year'.replace('Happy','Brilliant')"
   ]
  },
  {
   "cell_type": "code",
   "execution_count": null,
   "metadata": {},
   "outputs": [],
   "source": []
  },
  {
   "cell_type": "markdown",
   "metadata": {},
   "source": [
    "### Iterating Through a string\n",
    "\n",
    "We can iterate through a string using a **[for loop](https://github.com/milaan9/03_Python_Flow_Control/blob/main/005_Python_for_Loop.ipynb)**. Here is an example to count the number of  'l's in a string."
   ]
  },
  {
   "cell_type": "code",
   "execution_count": null,
   "metadata": {},
   "outputs": [],
   "source": [
    "# Iterating through a string\n",
    "count = 0\n",
    "for letter in 'Hello World':\n",
    "    if(letter == 'l'):\n",
    "        count += 1\n",
    "print(count,'letters found')"
   ]
  },
  {
   "cell_type": "markdown",
   "metadata": {},
   "source": [
    "### Built-in functions to Work with Python\n",
    "\n",
    "Various built-in functions that work with sequence work with strings as well.\n",
    "\n",
    "Some of the commonly used ones are **`enumerate()`** and **`len()`**. The **[enumerate()]()** function returns an enumerate object. It contains the index and value of all the items in the string as pairs. This can be useful for iteration.\n",
    "\n",
    "Similarly, **[len()]()** returns the length (number of characters) of the string."
   ]
  },
  {
   "cell_type": "code",
   "execution_count": 212,
   "metadata": {},
   "outputs": [
    {
     "data": {
      "text/plain": [
       "enumerate"
      ]
     },
     "execution_count": 212,
     "metadata": {},
     "output_type": "execute_result"
    }
   ],
   "source": [
    "name = \"ali\"\n",
    "enumerate(name)"
   ]
  },
  {
   "cell_type": "code",
   "execution_count": 214,
   "metadata": {},
   "outputs": [
    {
     "name": "stdout",
     "output_type": "stream",
     "text": [
      "list(enumerate(str) =  [(0, 'c'), (1, 'o'), (2, 'l'), (3, 'd')]\n",
      "len(str) =  4\n"
     ]
    }
   ],
   "source": [
    "str = 'cold'\n",
    "\n",
    "# enumerate()\n",
    "list_enumerate = list(enumerate(str))\n",
    "print('list(enumerate(str) = ', list_enumerate)\n",
    "\n",
    "#character count\n",
    "print('len(str) = ', len(str))"
   ]
  },
  {
   "cell_type": "markdown",
   "metadata": {},
   "source": [
    "### Old style formatting\n",
    "\n",
    "We can even format strings like the old **`sprintf()`** style used in C programming language. We use the **`%`** operator to accomplish this."
   ]
  },
  {
   "cell_type": "markdown",
   "metadata": {},
   "source": [
    "The **`%`** operator is used to format a string inserting the value that comes after. It relies on the string containing a format specifier that identifies where to insert the value. The most common types of format specifiers are:\n",
    "\n",
    "   - **`%s`** ➡ string\n",
    "   - **`%d`** ➡ Integer\n",
    "   - **`%f`** ➡ Float\n",
    "   - **`%o`** ➡ Octal\n",
    "   - **`%x`** ➡ Hexadecimal\n",
    "   - **`%e`** ➡ exponential\n",
    "    \n",
    "These will be very familiar to anyone who has ever written a C or Java program and follow nearly exactly the same rules as the **[printf() function](https://en.wikipedia.org/wiki/Printf_format_string)**."
   ]
  },
  {
   "cell_type": "code",
   "execution_count": 221,
   "metadata": {
    "ExecuteTime": {
     "end_time": "2021-10-02T09:54:40.123964Z",
     "start_time": "2021-10-02T09:54:40.114198Z"
    }
   },
   "outputs": [
    {
     "ename": "ValueError",
     "evalue": "incomplete format",
     "output_type": "error",
     "traceback": [
      "\u001b[1;31m---------------------------------------------------------------------------\u001b[0m",
      "\u001b[1;31mValueError\u001b[0m                                Traceback (most recent call last)",
      "Cell \u001b[1;32mIn[221], line 2\u001b[0m\n\u001b[0;32m      1\u001b[0m x \u001b[38;5;241m=\u001b[39m \u001b[38;5;241m36.3456789\u001b[39m\n\u001b[1;32m----> 2\u001b[0m \u001b[38;5;28mprint\u001b[39m(\u001b[38;5;124m'\u001b[39m\u001b[38;5;124mThe value of x is \u001b[39m\u001b[38;5;124m%\u001b[39m\u001b[38;5;124m6.26\u001b[39m\u001b[38;5;124m'\u001b[39m \u001b[38;5;241m%\u001b[39mx)\n",
      "\u001b[1;31mValueError\u001b[0m: incomplete format"
     ]
    }
   ],
   "source": [
    "x = 36.3456789\n",
    "print('The value of x is %6.26' %x)"
   ]
  },
  {
   "cell_type": "code",
   "execution_count": 63,
   "metadata": {
    "ExecuteTime": {
     "end_time": "2021-10-02T09:54:40.507801Z",
     "start_time": "2021-10-02T09:54:40.491203Z"
    }
   },
   "outputs": [
    {
     "name": "stdout",
     "output_type": "stream",
     "text": [
      "The value of x is                                                                                               36.346\n"
     ]
    }
   ],
   "source": [
    "print('The value of x is %100.3f' %x)"
   ]
  },
  {
   "cell_type": "code",
   "execution_count": 19,
   "metadata": {
    "ExecuteTime": {
     "end_time": "2021-10-02T09:54:29.168853Z",
     "start_time": "2021-10-02T09:54:29.151277Z"
    }
   },
   "outputs": [
    {
     "name": "stdout",
     "output_type": "stream",
     "text": [
      "Hello 123\n",
      "Actual Number = 19\n",
      "Float of the number = 19.000000\n",
      "Octal equivalent of the number = 23\n",
      "Hexadecimal equivalent of the number = 13\n",
      "Exponential equivalent of the number = 1.900000e+01\n"
     ]
    }
   ],
   "source": [
    "string1= 123\n",
    "print(\"Hello %s\" % string1)\n",
    "print(\"Actual Number = %d\" %19)\n",
    "print(\"Float of the number = %f\" %19)\n",
    "print(\"Octal equivalent of the number = %o\" %19)\n",
    "print(\"Hexadecimal equivalent of the number = %x\" %19)\n",
    "print(\"Exponential equivalent of the number = %e\" %19)"
   ]
  },
  {
   "cell_type": "markdown",
   "metadata": {},
   "source": [
    "When referring to multiple variables parentheses is used. Values are inserted in the order they appear in the parantheses (more on tuples in the next section)"
   ]
  },
  {
   "cell_type": "code",
   "execution_count": 36,
   "metadata": {
    "ExecuteTime": {
     "end_time": "2021-10-02T09:54:29.626435Z",
     "start_time": "2021-10-02T09:54:29.609835Z"
    }
   },
   "outputs": [
    {
     "name": "stdout",
     "output_type": "stream",
     "text": [
      "Hello World !. My name is Bond, you can call me 99\n"
     ]
    }
   ],
   "source": [
    "print(\"Hello %s %s. My name is Bond, you can call me %d\" %(string1,string2,99))"
   ]
  },
  {
   "cell_type": "markdown",
   "metadata": {},
   "source": [
    "We can also specify the width of the field and the number of decimal places to be used. \n",
    "For example:"
   ]
  },
  {
   "cell_type": "code",
   "execution_count": 106,
   "metadata": {
    "ExecuteTime": {
     "end_time": "2021-10-02T09:54:30.050810Z",
     "start_time": "2021-10-02T09:54:30.029814Z"
    },
    "scrolled": true
   },
   "outputs": [
    {
     "name": "stdout",
     "output_type": "stream",
     "text": [
      "Print width 10: |         x|\n",
      "Print width 10: |x         |\n",
      "The number pi = 3.1 to 1 decimal places\n",
      "The number pi = 3.14 to 2 decimal places\n",
      "More space pi = 3.1415000000\n",
      "Pad pi with 0 = 000003.14150\n"
     ]
    }
   ],
   "source": [
    "print('Print width 10: |%10s|'%'x')\n",
    "print('Print width 10: |%-10s|'%'x') # left justified\n",
    "print(\"The number pi = %.1f to 1 decimal places\"%3.1415)\n",
    "print(\"The number pi = %.2f to 2 decimal places\"%3.1415)\n",
    "print(\"More space pi = %.10f\"%3.1415)\n",
    "print(\"Pad pi with 0 = %012.5f\"%3.1415) # pad with zeros "
   ]
  },
  {
   "cell_type": "code",
   "execution_count": 7,
   "metadata": {},
   "outputs": [
    {
     "data": {
      "text/plain": [
       "'hello#omer'"
      ]
     },
     "execution_count": 7,
     "metadata": {},
     "output_type": "execute_result"
    }
   ],
   "source": [
    "\"#\".join([\"hello\",\"omer\"])"
   ]
  },
  {
   "cell_type": "markdown",
   "metadata": {
    "jp-MarkdownHeadingCollapsed": true
   },
   "source": [
    "## Common Python String Methods\n",
    "\n",
    "There are numerous methods available with the string object. The **`format()`** method that we mentioned above is one of them. \n",
    "\n",
    "Strings can be tranformed by a variety of functions that are all methods on a string. That is they are called by putting the function name with a **`.`** after the string. They include:\n",
    "\n",
    "* Upper vs lower case: **`upper()`**, **`lower()`**, **`captialize()`**, **`title()`** and **`swapcase()`**, **`join()`**, **`split()`**, **`find()`**, **`replace()`** etc, with mostly the obvious meaning. Note that `capitalize` makes the first letter of the string a capital only, while **`title`** selects upper case for the first letter of every word.\n",
    "\n",
    "\n",
    "* Padding strings: **`center(n)`**, **`ljust(n)`** and **`rjust(n)`** each place the string into a longer string of length n  padded by spaces (centered, left-justified or right-justified respectively). **`zfill(n)`** works similarly but pads with leading zeros.\n",
    "\n",
    "\n",
    "* Stripping strings: Often we want to remove spaces, this is achived with the functions **`strip()`**, **`lstrip()`**, and **`rstrip()`** respectively to remove from spaces from the both end, just left or just the right respectively. An optional argument can be used to list a set of other characters to be removed."
   ]
  },
  {
   "cell_type": "code",
   "execution_count": 109,
   "metadata": {},
   "outputs": [
    {
     "name": "stdout",
     "output_type": "stream",
     "text": [
      "creating new string 01X345 OK\n",
      "01X345 still OK\n"
     ]
    }
   ],
   "source": [
    "s='012345'\n",
    "sX=s[:2]+'X'+s[3:] # this creates a new string with 2 replaced by X\n",
    "print(\"creating new string\",sX,\"OK\")\n",
    "\n",
    "sX=s.replace('2','X') # the same thing\n",
    "print(sX,\"still OK\")"
   ]
  },
  {
   "cell_type": "code",
   "execution_count": 225,
   "metadata": {},
   "outputs": [
    {
     "name": "stdout",
     "output_type": "stream",
     "text": [
      "Help on built-in function replace:\n",
      "\n",
      "replace(old, new, count=-1, /) method of builtins.str instance\n",
      "    Return a copy with all occurrences of substring old replaced by new.\n",
      "\n",
      "      count\n",
      "        Maximum number of occurrences to replace.\n",
      "        -1 (the default value) means replace all occurrences.\n",
      "\n",
      "    If the optional argument count is given, only the first count occurrences are\n",
      "    replaced.\n",
      "\n"
     ]
    }
   ],
   "source": [
    "help(s.replace)"
   ]
  },
  {
   "cell_type": "code",
   "execution_count": 111,
   "metadata": {
    "ExecuteTime": {
     "end_time": "2021-10-02T09:54:41.294533Z",
     "start_time": "2021-10-02T09:54:41.282814Z"
    }
   },
   "outputs": [
    {
     "name": "stdout",
     "output_type": "stream",
     "text": [
      "Hello world! vs Hello World!\n",
      "upper case: 'HELLO WORLD!' lower case: 'hello world!' and swapped: 'HEllO WorlD!'\n",
      "|         Hello World          |\n",
      "|lots of space|\n",
      "%s without leading/trailing d,h,L or ! = |%s| eLLo wOR\n",
      "Hello Class\n"
     ]
    }
   ],
   "source": [
    "# Example:\n",
    "\n",
    "s=\"heLLo wORLd!\"\n",
    "print(s.capitalize(),\"vs\",s.title())\n",
    "\n",
    "print(\"upper case: '%s'\"%s.upper(),\"lower case: '%s'\"%s.lower(),\"and swapped: '%s'\"%s.swapcase())\n",
    "\n",
    "print('|%s|' % \"Hello World\".center(30)) # center in 30 characters\n",
    "\n",
    "print('|%s|'% \"     lots of space             \".strip()) # remove leading and trailing whitespace\n",
    "\n",
    "print('%s without leading/trailing d,h,L or ! = |%s|',s.strip(\"dhL!\"))\n",
    "\n",
    "print(\"Hello World\".replace(\"World\",\"Class\"))"
   ]
  },
  {
   "cell_type": "code",
   "execution_count": 229,
   "metadata": {},
   "outputs": [
    {
     "data": {
      "text/plain": [
       "'          ^^           12345                  '"
      ]
     },
     "execution_count": 229,
     "metadata": {},
     "output_type": "execute_result"
    }
   ],
   "source": [
    "s = \"          ^^           12345                  \"\n",
    "s.strip(\"^^\")"
   ]
  },
  {
   "cell_type": "code",
   "execution_count": 113,
   "metadata": {
    "ExecuteTime": {
     "end_time": "2021-10-02T09:54:41.665189Z",
     "start_time": "2021-10-02T09:54:41.658355Z"
    }
   },
   "outputs": [
    {
     "name": "stdout",
     "output_type": "stream",
     "text": [
      "Python datatypes\n"
     ]
    }
   ],
   "source": [
    "# capitalize(): Converts the first character the string to Capital Letter\n",
    "\n",
    "challenge = 'Python Datatypes'\n",
    "print(challenge.capitalize()) # 'Python Datatypes'"
   ]
  },
  {
   "cell_type": "code",
   "execution_count": 54,
   "metadata": {
    "ExecuteTime": {
     "end_time": "2021-10-02T09:54:42.050983Z",
     "start_time": "2021-10-02T09:54:42.036334Z"
    }
   },
   "outputs": [
    {
     "name": "stdout",
     "output_type": "stream",
     "text": [
      "2\n",
      "1\n",
      "1\n"
     ]
    }
   ],
   "source": [
    "# count(): returns occurrences of substring in string, count(substring, start=.., end=..)\n",
    "\n",
    "challenge = 'Python Datatypes'\n",
    "print(challenge.count('y')) # 2\n",
    "print(challenge.count('y', 6, 14)) # 1\n",
    "print(challenge.count('ty')) # 1"
   ]
  },
  {
   "cell_type": "code",
   "execution_count": 117,
   "metadata": {
    "ExecuteTime": {
     "end_time": "2021-10-02T09:54:42.358641Z",
     "start_time": "2021-10-02T09:54:42.343993Z"
    }
   },
   "outputs": [
    {
     "name": "stdout",
     "output_type": "stream",
     "text": [
      "True\n",
      "False\n"
     ]
    }
   ],
   "source": [
    "# endswith(): Checks if a string ends with a specified ending\n",
    "\n",
    "challenge = 'Python Datatypes'\n",
    "print(challenge.endswith('es'))   # True\n",
    "print(challenge.endswith('type')) # False"
   ]
  },
  {
   "cell_type": "code",
   "execution_count": 56,
   "metadata": {
    "ExecuteTime": {
     "end_time": "2021-10-02T09:54:42.681931Z",
     "start_time": "2021-10-02T09:54:42.667280Z"
    }
   },
   "outputs": [
    {
     "name": "stdout",
     "output_type": "stream",
     "text": [
      "Python  Datatypes\n",
      "Python    Datatypes\n"
     ]
    }
   ],
   "source": [
    "# expandtabs(): Replaces tab character with spaces, default tab size is 8. It takes tab size argument\n",
    "\n",
    "challenge = 'Python\\tDatatypes'\n",
    "print(challenge.expandtabs())   # 'Python  Datatypes'\n",
    "print(challenge.expandtabs(10)) # 'Python    Datatypes'"
   ]
  },
  {
   "cell_type": "code",
   "execution_count": 197,
   "metadata": {
    "ExecuteTime": {
     "end_time": "2021-10-02T09:54:42.958331Z",
     "start_time": "2021-10-02T09:54:42.943686Z"
    }
   },
   "outputs": [
    {
     "name": "stdout",
     "output_type": "stream",
     "text": [
      "1\n",
      "1\n",
      "12\n",
      "-1\n",
      "--------------------------------\n",
      "12\n",
      "12\n",
      "1\n",
      "-1\n"
     ]
    }
   ],
   "source": [
    "# find(): Returns the index of first occurrence of substring\n",
    "# ```python\n",
    "# str.find(sub[, start[, end]] )\n",
    "# ```\n",
    "\n",
    "challenge = 'Python Datatypes'\n",
    "print(challenge.find('y'))  # 1\n",
    "print(challenge.find('y',1))  # 1\n",
    "print(challenge.find('y',2,13))  # 1\n",
    "print(challenge.find('u')) # -1\n",
    "print(\"--------------------------------\")\n",
    "print(challenge.rfind('y')) \n",
    "print(challenge.rfind('y',1))  \n",
    "print(challenge.rfind('y',1,11))  \n",
    "print(challenge.rfind('u')) "
   ]
  },
  {
   "cell_type": "code",
   "execution_count": null,
   "metadata": {},
   "outputs": [],
   "source": []
  },
  {
   "cell_type": "code",
   "execution_count": 58,
   "metadata": {
    "ExecuteTime": {
     "end_time": "2021-10-02T09:54:43.065772Z",
     "start_time": "2021-10-02T09:54:43.039399Z"
    }
   },
   "outputs": [
    {
     "name": "stdout",
     "output_type": "stream",
     "text": [
      "I am Milaan Parmar. I am a Lecturer. I live in Finland.\n"
     ]
    }
   ],
   "source": [
    "# format()\tformats string into nicer output    \n",
    "first_name = 'Milaan'\n",
    "last_name = 'Parmar'\n",
    "job = 'Lecturer'\n",
    "country = 'Finland'\n",
    "sentence = 'I am {} {}. I am a {}. I live in {}.'.format(first_name, last_name, job, country)\n",
    "print(sentence) # I am Milaan Parmar. I am a Lecturer. I live in Finland."
   ]
  },
  {
   "cell_type": "code",
   "execution_count": 11,
   "metadata": {
    "ExecuteTime": {
     "end_time": "2021-10-02T09:54:43.876429Z",
     "start_time": "2021-10-02T09:54:43.867639Z"
    }
   },
   "outputs": [
    {
     "name": "stdout",
     "output_type": "stream",
     "text": [
      "True\n",
      "False\n"
     ]
    }
   ],
   "source": [
    "# isalpha(): Checks if all characters are alphabets\n",
    "challenge = 'PythonDatatypes'\n",
    "print(challenge.isalpha()) # True\n",
    "num = '123h'\n",
    "print(num.isalpha())      # False"
   ]
  },
  {
   "cell_type": "code",
   "execution_count": 78,
   "metadata": {
    "ExecuteTime": {
     "end_time": "2021-10-02T09:54:44.597228Z",
     "start_time": "2021-10-02T09:54:44.577696Z"
    }
   },
   "outputs": [
    {
     "name": "stdout",
     "output_type": "stream",
     "text": [
      "False\n",
      "True\n"
     ]
    }
   ],
   "source": [
    "# isdigit(): Checks Digit Characters\n",
    "\n",
    "challenge = 'Ninety'\n",
    "print(challenge.isdigit()) # False\n",
    "challenge = '917044'\n",
    "print(challenge.isdigit())   # True"
   ]
  },
  {
   "cell_type": "code",
   "execution_count": 64,
   "metadata": {
    "ExecuteTime": {
     "end_time": "2021-10-02T09:54:44.904399Z",
     "start_time": "2021-10-02T09:54:44.895612Z"
    }
   },
   "outputs": [
    {
     "name": "stdout",
     "output_type": "stream",
     "text": [
      "True\n",
      "False\n"
     ]
    }
   ],
   "source": [
    "# isdecimal():Checks decimal characters\n",
    "\n",
    "num = '30'\n",
    "print(num.isdecimal()) # True\n",
    "num = '30.6'\n",
    "print(num.isdecimal()) # False"
   ]
  },
  {
   "cell_type": "code",
   "execution_count": 82,
   "metadata": {
    "ExecuteTime": {
     "end_time": "2021-10-02T09:54:45.122200Z",
     "start_time": "2021-10-02T09:54:45.101693Z"
    }
   },
   "outputs": [
    {
     "name": "stdout",
     "output_type": "stream",
     "text": [
      "False\n",
      "True\n"
     ]
    }
   ],
   "source": [
    "# isidentifier():Checks for valid identifier means it check if a string is a valid variable name\n",
    "\n",
    "challenge = '2021PythonDatatypes'\n",
    "print(challenge.isidentifier()) # False, because it starts with a number\n",
    "challenge = 'Python_Datatypes'\n",
    "print(challenge.isidentifier()) # True"
   ]
  },
  {
   "cell_type": "code",
   "execution_count": 66,
   "metadata": {
    "ExecuteTime": {
     "end_time": "2021-10-02T09:54:45.612994Z",
     "start_time": "2021-10-02T09:54:45.606157Z"
    }
   },
   "outputs": [
    {
     "name": "stdout",
     "output_type": "stream",
     "text": [
      "True\n",
      "False\n"
     ]
    }
   ],
   "source": [
    "# islower():Checks if all alphabets in a string are lowercase\n",
    "\n",
    "challenge = 'python datatypes'\n",
    "print(challenge.islower()) # True\n",
    "challenge = 'Python datatypes'\n",
    "print(challenge.islower()) # False"
   ]
  },
  {
   "cell_type": "code",
   "execution_count": 67,
   "metadata": {
    "ExecuteTime": {
     "end_time": "2021-10-02T09:54:45.998787Z",
     "start_time": "2021-10-02T09:54:45.984139Z"
    }
   },
   "outputs": [
    {
     "name": "stdout",
     "output_type": "stream",
     "text": [
      "False\n",
      "True\n"
     ]
    }
   ],
   "source": [
    "# isupper(): returns if all characters are uppercase characters\n",
    "\n",
    "challenge = 'python datatypes'\n",
    "print(challenge.isupper()) #  False\n",
    "challenge = 'PYTHON DATATYPES'\n",
    "print(challenge.isupper()) # True"
   ]
  },
  {
   "cell_type": "code",
   "execution_count": 68,
   "metadata": {
    "ExecuteTime": {
     "end_time": "2021-10-02T09:54:46.582851Z",
     "start_time": "2021-10-02T09:54:46.575041Z"
    }
   },
   "outputs": [
    {
     "name": "stdout",
     "output_type": "stream",
     "text": [
      "True\n",
      "False\n"
     ]
    }
   ],
   "source": [
    "# isnumeric():Checks numeric characters\n",
    "\n",
    "num = '90'\n",
    "print(num.isnumeric())         # True\n",
    "print('ninety'.isnumeric())    # False"
   ]
  },
  {
   "cell_type": "code",
   "execution_count": 69,
   "metadata": {
    "ExecuteTime": {
     "end_time": "2021-10-02T09:54:46.923717Z",
     "start_time": "2021-10-02T09:54:46.909068Z"
    }
   },
   "outputs": [
    {
     "name": "stdout",
     "output_type": "stream",
     "text": [
      "HTML#, CSS#, JavaScript#, React\n"
     ]
    }
   ],
   "source": [
    "# join(): Returns a concatenated string\n",
    "\n",
    "web_tech = ['HTML', 'CSS', 'JavaScript', 'React']\n",
    "result = '#, '.join(web_tech)\n",
    "print(result) # 'HTML# CSS# JavaScript# React'"
   ]
  },
  {
   "cell_type": "code",
   "execution_count": 100,
   "metadata": {
    "ExecuteTime": {
     "end_time": "2021-10-02T09:54:47.339298Z",
     "start_time": "2021-10-02T09:54:47.325629Z"
    }
   },
   "outputs": [
    {
     "name": "stdout",
     "output_type": "stream",
     "text": [
      "python datatypes\n"
     ]
    }
   ],
   "source": [
    "# strip(): Removes both leading and trailing characters\n",
    "\n",
    "challenge = ' python datatypes '\n",
    "print(challenge.strip()) "
   ]
  },
  {
   "cell_type": "code",
   "execution_count": 71,
   "metadata": {
    "ExecuteTime": {
     "end_time": "2021-10-02T09:54:47.706536Z",
     "start_time": "2021-10-02T09:54:47.692864Z"
    }
   },
   "outputs": [
    {
     "name": "stdout",
     "output_type": "stream",
     "text": [
      "python data-types\n"
     ]
    }
   ],
   "source": [
    "# replace(): Replaces substring inside\n",
    "\n",
    "challenge = 'python datatypes'\n",
    "print(challenge.replace('datatypes', 'data-types')) # 'thirty days of coding'"
   ]
  },
  {
   "cell_type": "code",
   "execution_count": 72,
   "metadata": {
    "ExecuteTime": {
     "end_time": "2021-10-02T09:54:48.015660Z",
     "start_time": "2021-10-02T09:54:47.999062Z"
    }
   },
   "outputs": [
    {
     "name": "stdout",
     "output_type": "stream",
     "text": [
      "['python', 'datatypes']\n"
     ]
    }
   ],
   "source": [
    "# split():Splits String from Left\n",
    "\n",
    "challenge = 'python datatypes'\n",
    "print(challenge.split()) # ['python', 'datatypes']"
   ]
  },
  {
   "cell_type": "code",
   "execution_count": 73,
   "metadata": {
    "ExecuteTime": {
     "end_time": "2021-10-02T09:54:48.385339Z",
     "start_time": "2021-10-02T09:54:48.371668Z"
    }
   },
   "outputs": [
    {
     "name": "stdout",
     "output_type": "stream",
     "text": [
      "Python Datatypes\n"
     ]
    }
   ],
   "source": [
    "# title(): Returns a Title Cased String\n",
    "\n",
    "challenge = 'python datatypes'\n",
    "print(challenge.title()) # Python Datatypes"
   ]
  },
  {
   "cell_type": "code",
   "execution_count": 74,
   "metadata": {
    "ExecuteTime": {
     "end_time": "2021-10-02T09:54:48.739886Z",
     "start_time": "2021-10-02T09:54:48.726213Z"
    }
   },
   "outputs": [
    {
     "name": "stdout",
     "output_type": "stream",
     "text": [
      "PYTHON DATATYPES\n",
      "pYTHON dATATYPES\n"
     ]
    }
   ],
   "source": [
    "# swapcase(): Checks if String Starts with the Specified String\n",
    "  \n",
    "challenge = 'python datatypes'\n",
    "print(challenge.swapcase())   # PYTHON DATATYPES\n",
    "challenge = 'Python Datatypes'\n",
    "print(challenge.swapcase())  # pYTHON dATATYPES"
   ]
  },
  {
   "cell_type": "code",
   "execution_count": 75,
   "metadata": {
    "ExecuteTime": {
     "end_time": "2021-10-02T09:54:49.063167Z",
     "start_time": "2021-10-02T09:54:49.051449Z"
    }
   },
   "outputs": [
    {
     "name": "stdout",
     "output_type": "stream",
     "text": [
      "True\n",
      "False\n"
     ]
    }
   ],
   "source": [
    "# startswith(): Checks if String Starts with the Specified String\n",
    "\n",
    "challenge = 'python datatypes'\n",
    "print(challenge.startswith('python')) # True\n",
    "challenge = '2 python datatypes'\n",
    "print(challenge.startswith('two')) # False"
   ]
  },
  {
   "cell_type": "markdown",
   "metadata": {},
   "source": [
    "#### Inspecting Strings\n",
    "\n",
    "There are also lost of ways to inspect or check strings. Examples of a few of these are given here:\n",
    "\n",
    "* Checking the start or end of a string: **`startswith(\"string\")`** and **`endswith(\"string\")`** checks if it starts/ends with the string given as argument\n",
    "\n",
    "* Capitalisation: There are boolean counterparts for all forms of capitalisation, such as **`isupper()`**, **`islower()`** and **`istitle()`**\n",
    "\n",
    "* Character type: does the string only contain the characters:\n",
    "  * 0-9: **`isdecimal()`**. Note there is also **`isnumeric()`** and **`isdigit()`** which are effectively the same function except for certain unicode characters\n",
    "  * a-zA-Z: **`isalpha()`** or combined with digits: **`isalnum()`**\n",
    "  * non-control code: **`isprintable()`** accepts anything except '\\n' an other ASCII control codes\n",
    "  * \\t\\n \\r (white space characters): **`isspace()`**\n",
    "  * Suitable as variable name: **`isidentifier()`**\n",
    "  \n",
    "* Find elements of string: **`s.count(w)`** finds the number of times **`w`** occurs in **`s`**, while **`s.find(w)`** and **`s.rfind(w)`** find the first and last position of the string **`w`** in **`s`**."
   ]
  },
  {
   "cell_type": "code",
   "execution_count": 76,
   "metadata": {
    "ExecuteTime": {
     "end_time": "2021-10-02T09:54:50.266457Z",
     "start_time": "2021-10-02T09:54:50.251809Z"
    }
   },
   "outputs": [
    {
     "name": "stdout",
     "output_type": "stream",
     "text": [
      "The length of 'Hello World' is 11 characters\n",
      "There are 3 'l's but only 1 World in Hello World\n",
      "\"el\" is at index 1 in Hello World\n"
     ]
    }
   ],
   "source": [
    "# Example:\n",
    "\n",
    "s=\"Hello World\"\n",
    "print(\"The length of '%s' is\"%s,len(s),\"characters\") # len() gives length of the string\n",
    "\n",
    "s.startswith(\"Hello\") and s.endswith(\"World\") # check start/end\n",
    "\n",
    "# count strings\n",
    "print(\"There are %d 'l's but only %d World in %s\" % (s.count('l'),s.count('World'),s))\n",
    "\n",
    "print('\"el\" is at index',s.find('el'),\"in\",s) #index from 0 or -1"
   ]
  },
  {
   "cell_type": "markdown",
   "metadata": {},
   "source": [
    "## 💻 Exercises ➞ <span class='label label-default'>String</span>\n",
    "\n",
    "1. Concatenate the string **`Python`**, **`4`**, **`Data`**, **`Science`** to a single string, **`Python 4 Data Science`**.\n",
    "\n",
    "2. Declare a variable named **`course`** and assign it to an initial value **`Python 4 Data Science`**.\n",
    "\n",
    "3. Print the length of the **`course`** string using **[len()]()** method and **[print()]()**.\n",
    "\n",
    "4. Change all the characters of variable company to uppercase and lowercase letters using **[upper()]()** and **[lower()]()** method.\n",
    "\n",
    "5. Use **[capitalize()]()**, **[title()]()**, **[swapcase()]()** methods to format the value of the string **`Python 4 Data Science`**.\n",
    "\n",
    "6. Cut(slice) out the first word of **`Python 4 Data Science`**.\n",
    "\n",
    "7. Check if **`Python 4 Data Science`** string contains a word **`Python`** using the method: **[index()]()**, **[find()]()** or other methods.\n",
    "\n",
    "8. Change **`Python 4 Data Science`** to **`Python 4 Everybody`** using the **[replace()]()** method or other methods.\n",
    "\n",
    "9. Split the string **`Python 4 Data Science`** using space as the separator (**[split()]()**).\n",
    "\n",
    "11. **`Google, Facebook, Microsoft, Apple, IBM, Oracle, Amazon`** split the string at the comma.\n",
    "\n",
    "12. What is the character at index 9 in the string **`Python 4 Data Science`**.\n",
    "\n",
    "13. What is the second last index of the string **`Python 4 Data Science`**.\n",
    "\n",
    "14. Create an acronym or an abbreviation for the name **`Python 4 Data Science`**.\n",
    "\n",
    "15. Use **[index()]** to determine the position of the first occurrence of **`D`** in **`Python 4 Data Science`**.\n",
    "\n",
    "16. Use **[rfind]()** to determine the position of the last occurrence of **`e`** in **`Python 4 Data Science`**.\n",
    "\n",
    "17. Use **[index()]()** or **[find()]()** to find the position of the first occurrence of the word **`because`** in the following sentence: \n",
    "\n",
    "    - **`We cannot end the sentence with ‘because’, because ‘because’ is a conjunction.`**.\n",
    "\n",
    "18. Use **[rindex]()** to find the position of the first and last occurrence of the word **`because`** in the following sentence: \n",
    "\n",
    "    - **`We cannot end the sentence with ‘because’, because ‘because’ is a conjunction.`**.\n",
    "\n",
    "19. Slice out the phrase **`‘because’, because ‘because’`** in the following sentence: \n",
    "\n",
    "    - **`We cannot end the sentence with ‘because’, because ‘because’ is a conjunction.`**.\n",
    "\n",
    "20. Does **`Python 4 Data Science`** start with a substring **`Python`**?\n",
    "\n",
    "21. Does '**`Python 4 Data Science`** contains with a substring **`Python`**?\n",
    "\n",
    "22. **`             Python 4 DataScience                                  `** remove the left and right trailing spaces in the given string.\n",
    "\n",
    "23. The following list contains the names of some of python libraries: **`['Django', 'Flask', 'Bottle', 'Pyramid', 'Falcon']`**. Join the list with a hash with space string.\n",
    "\n",
    "24. Which one of the following variables return True when we use the method **[isidentifier()]()**\n",
    "    ```py\n",
    "    2021PythonDataypes\n",
    "    Python_Dataypes_2021\n",
    "    ```\n",
    "25. Make the following using string formatting methods:\n",
    "\n",
    "```py\n",
    "8 + 6 = 14\n",
    "8 - 6 = 2\n",
    "8 * 6 = 48\n",
    "8 / 6 = 1.33\n",
    "8 % 6 = 2\n",
    "8 // 6 = 1\n",
    "8 ** 6 = 262144\n",
    "```\n",
    "\n",
    "26. Use a **new line** and **tab** escape sequence to print the following lines.\n",
    "     ```py\n",
    "    Name      Age     Country   City\n",
    "    Milaan    96      Finland   Tampere\n",
    "    ```"
   ]
  },
  {
   "cell_type": "code",
   "execution_count": 43,
   "metadata": {},
   "outputs": [
    {
     "name": "stdin",
     "output_type": "stream",
     "text": [
      "Enter your age:  2\n"
     ]
    }
   ],
   "source": [
    "age = int(input(\"Enter your age: \"))"
   ]
  },
  {
   "cell_type": "code",
   "execution_count": 45,
   "metadata": {},
   "outputs": [
    {
     "name": "stdout",
     "output_type": "stream",
     "text": [
      "0.5\n"
     ]
    }
   ],
   "source": [
    "print(age/4)"
   ]
  },
  {
   "cell_type": "code",
   "execution_count": 31,
   "metadata": {},
   "outputs": [
    {
     "data": {
      "text/plain": [
       "int"
      ]
     },
     "execution_count": 31,
     "metadata": {},
     "output_type": "execute_result"
    }
   ],
   "source": [
    "type(age)"
   ]
  },
  {
   "cell_type": "code",
   "execution_count": null,
   "metadata": {},
   "outputs": [],
   "source": []
  },
  {
   "cell_type": "code",
   "execution_count": 47,
   "metadata": {},
   "outputs": [
    {
     "name": "stdin",
     "output_type": "stream",
     "text": [
      "Enter your first, last and age space by # Baraa#Sallout#1998\n"
     ]
    }
   ],
   "source": [
    "det = input(\"Enter your first, last and age space by #\")"
   ]
  },
  {
   "cell_type": "code",
   "execution_count": 55,
   "metadata": {},
   "outputs": [],
   "source": [
    "mylist = det.split(\"#\")"
   ]
  },
  {
   "cell_type": "code",
   "execution_count": 65,
   "metadata": {},
   "outputs": [
    {
     "data": {
      "text/plain": [
       "1998"
      ]
     },
     "execution_count": 65,
     "metadata": {},
     "output_type": "execute_result"
    }
   ],
   "source": [
    "fname = mylist[0]\n",
    "lname = mylist[1]\n",
    "birthday = mylist[2]\n",
    "int(mylist[2])"
   ]
  },
  {
   "cell_type": "code",
   "execution_count": 59,
   "metadata": {},
   "outputs": [
    {
     "data": {
      "text/plain": [
       "'Sallout'"
      ]
     },
     "execution_count": 59,
     "metadata": {},
     "output_type": "execute_result"
    }
   ],
   "source": []
  },
  {
   "cell_type": "code",
   "execution_count": null,
   "metadata": {},
   "outputs": [],
   "source": []
  }
 ],
 "metadata": {
  "hide_input": false,
  "kernelspec": {
   "display_name": "Python 3 (ipykernel)",
   "language": "python",
   "name": "python3"
  },
  "language_info": {
   "codemirror_mode": {
    "name": "ipython",
    "version": 3
   },
   "file_extension": ".py",
   "mimetype": "text/x-python",
   "name": "python",
   "nbconvert_exporter": "python",
   "pygments_lexer": "ipython3",
   "version": "3.12.3"
  },
  "toc": {
   "base_numbering": 1,
   "nav_menu": {},
   "number_sections": true,
   "sideBar": true,
   "skip_h1_title": false,
   "title_cell": "Table of Contents",
   "title_sidebar": "Contents",
   "toc_cell": false,
   "toc_position": {},
   "toc_section_display": true,
   "toc_window_display": false
  },
  "varInspector": {
   "cols": {
    "lenName": 16,
    "lenType": 16,
    "lenVar": 40
   },
   "kernels_config": {
    "python": {
     "delete_cmd_postfix": "",
     "delete_cmd_prefix": "del ",
     "library": "var_list.py",
     "varRefreshCmd": "print(var_dic_list())"
    },
    "r": {
     "delete_cmd_postfix": ") ",
     "delete_cmd_prefix": "rm(",
     "library": "var_list.r",
     "varRefreshCmd": "cat(var_dic_list()) "
    }
   },
   "types_to_exclude": [
    "module",
    "function",
    "builtin_function_or_method",
    "instance",
    "_Feature"
   ],
   "window_display": false
  }
 },
 "nbformat": 4,
 "nbformat_minor": 4
}
