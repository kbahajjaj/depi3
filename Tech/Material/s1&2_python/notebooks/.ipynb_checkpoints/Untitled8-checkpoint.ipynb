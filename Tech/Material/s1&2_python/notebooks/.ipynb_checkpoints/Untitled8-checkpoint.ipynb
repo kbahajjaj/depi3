{
 "cells": [
  {
   "cell_type": "code",
   "execution_count": 405,
   "id": "8fd7e67d-051f-44e9-be6f-b2671bed7ee1",
   "metadata": {},
   "outputs": [],
   "source": [
    "my_list = [\"ali\", \"omer\" , \"Aya\"]\n",
    "my_list.append(\"baraa\")"
   ]
  },
  {
   "cell_type": "code",
   "execution_count": null,
   "id": "a5f96f60-3dc1-4213-8acf-32a4fe0c3eb2",
   "metadata": {},
   "outputs": [],
   "source": []
  },
  {
   "cell_type": "code",
   "execution_count": 409,
   "id": "87b62cc7-3ff5-4d31-aa7f-4ca68c21f874",
   "metadata": {},
   "outputs": [],
   "source": [
    "mylist2 = [\"baraa\",\"Hatem\",\"Hend\"]\n",
    "my_list.extend(mylist2)"
   ]
  },
  {
   "cell_type": "code",
   "execution_count": 411,
   "id": "c1b47090-199c-45c2-b329-6a79260ea357",
   "metadata": {},
   "outputs": [
    {
     "data": {
      "text/plain": [
       "['ali', 'omer', 'Aya', 'baraa', 'baraa', 'Hatem', 'Hend']"
      ]
     },
     "execution_count": 411,
     "metadata": {},
     "output_type": "execute_result"
    }
   ],
   "source": [
    "my_list"
   ]
  },
  {
   "cell_type": "code",
   "execution_count": 413,
   "id": "773e0605-d4c0-4018-abaf-5d6ea11bd439",
   "metadata": {},
   "outputs": [
    {
     "data": {
      "text/plain": [
       "['ali', 'omer', 'Aya', 'baraa', 'Hatem', 'Hend']"
      ]
     },
     "execution_count": 413,
     "metadata": {},
     "output_type": "execute_result"
    }
   ],
   "source": [
    "my_list.remove(\"baraa\") \n",
    "my_list"
   ]
  },
  {
   "cell_type": "code",
   "execution_count": 417,
   "id": "96ff3d96-101e-472d-b878-7e4e3ad9ed67",
   "metadata": {},
   "outputs": [
    {
     "data": {
      "text/plain": [
       "['ali', 'omer', 'baraa', 'Hatem']"
      ]
     },
     "execution_count": 417,
     "metadata": {},
     "output_type": "execute_result"
    }
   ],
   "source": [
    "my_list.pop(2)\n",
    "my_list"
   ]
  },
  {
   "cell_type": "code",
   "execution_count": 421,
   "id": "bf36c5fa-aa6a-44d8-981f-cf3116b282f0",
   "metadata": {},
   "outputs": [
    {
     "data": {
      "text/plain": [
       "['ali', 'Hend', 'baraa', 'Hatem']"
      ]
     },
     "execution_count": 421,
     "metadata": {},
     "output_type": "execute_result"
    }
   ],
   "source": [
    "my_list[1] = \"Hend\"\n",
    "my_list"
   ]
  },
  {
   "cell_type": "code",
   "execution_count": 423,
   "id": "4191e3c0-f673-46e2-ab3f-95d52e78c362",
   "metadata": {},
   "outputs": [],
   "source": [
    "my_list.insert(1,\"omer\")"
   ]
  },
  {
   "cell_type": "code",
   "execution_count": 425,
   "id": "9f33905f-a003-4986-952b-ab37e98963ab",
   "metadata": {},
   "outputs": [
    {
     "data": {
      "text/plain": [
       "['ali', 'omer', 'Hend', 'baraa', 'Hatem']"
      ]
     },
     "execution_count": 425,
     "metadata": {},
     "output_type": "execute_result"
    }
   ],
   "source": [
    "my_list"
   ]
  },
  {
   "cell_type": "code",
   "execution_count": 429,
   "id": "27a4cb62-b099-48a5-a547-0dcf3bc07fe2",
   "metadata": {},
   "outputs": [
    {
     "data": {
      "text/plain": [
       "['ali', 'omer', 'Hend', 'baraa', 'Hatem', ['baraa', 'Hatem', 'Hend']]"
      ]
     },
     "execution_count": 429,
     "metadata": {},
     "output_type": "execute_result"
    }
   ],
   "source": [
    "mylist2 = [\"baraa\",\"Hatem\",\"Hend\"]\n",
    "my_list.append(mylist2)\n",
    "my_list"
   ]
  },
  {
   "cell_type": "code",
   "execution_count": 439,
   "id": "5adae32e-9157-4d0e-9628-831ce34fb400",
   "metadata": {},
   "outputs": [
    {
     "data": {
      "text/plain": [
       "'baraa'"
      ]
     },
     "execution_count": 439,
     "metadata": {},
     "output_type": "execute_result"
    }
   ],
   "source": [
    "my_list[5][0]"
   ]
  },
  {
   "cell_type": "code",
   "execution_count": null,
   "id": "e6624445-6e4b-4b46-b1bc-aad96b968d56",
   "metadata": {},
   "outputs": [],
   "source": []
  },
  {
   "cell_type": "code",
   "execution_count": 447,
   "id": "1c3e1e98-ccc9-4466-baa9-1f2faf7cbd99",
   "metadata": {},
   "outputs": [],
   "source": [
    "my_set = { 3 ,\"baraa\", (2,4,6)   }"
   ]
  },
  {
   "cell_type": "code",
   "execution_count": 449,
   "id": "e005efef-1034-42bc-a593-be4999bacb43",
   "metadata": {},
   "outputs": [],
   "source": [
    "my_set.add(\"56\")"
   ]
  },
  {
   "cell_type": "code",
   "execution_count": 455,
   "id": "63c9f9b7-2e56-4886-9d69-d88609cef0cc",
   "metadata": {},
   "outputs": [
    {
     "data": {
      "text/plain": [
       "{(2, 4, 6), 3, '56', 'baraa'}"
      ]
     },
     "execution_count": 455,
     "metadata": {},
     "output_type": "execute_result"
    }
   ],
   "source": [
    "my_set "
   ]
  },
  {
   "cell_type": "code",
   "execution_count": 465,
   "id": "b10e7bae-92e1-4d35-a77d-2b2710bc80d7",
   "metadata": {},
   "outputs": [
    {
     "data": {
      "text/plain": [
       "{6, 7, 8}"
      ]
     },
     "execution_count": 465,
     "metadata": {},
     "output_type": "execute_result"
    }
   ],
   "source": [
    "myset = {6,7,7,8,8,8}\n",
    "myset\n"
   ]
  },
  {
   "cell_type": "code",
   "execution_count": 467,
   "id": "145090d5-feb9-4290-9ab5-6f08baba21d1",
   "metadata": {},
   "outputs": [],
   "source": [
    "myset.add(4)"
   ]
  },
  {
   "cell_type": "code",
   "execution_count": 471,
   "id": "2f13278b-3ad3-4c45-9b4e-8b685dd4a1b2",
   "metadata": {},
   "outputs": [],
   "source": [
    "myset\n",
    "myset.add(6)"
   ]
  },
  {
   "cell_type": "code",
   "execution_count": 473,
   "id": "b053d39e-2b87-4fbb-8f97-eb3f27d0a9dd",
   "metadata": {},
   "outputs": [
    {
     "data": {
      "text/plain": [
       "{4, 6, 7, 8}"
      ]
     },
     "execution_count": 473,
     "metadata": {},
     "output_type": "execute_result"
    }
   ],
   "source": [
    "myset"
   ]
  },
  {
   "cell_type": "code",
   "execution_count": null,
   "id": "13b8126f-fd04-4ccf-bcd4-0db837ac54ba",
   "metadata": {},
   "outputs": [],
   "source": []
  },
  {
   "cell_type": "code",
   "execution_count": 477,
   "id": "41797948-3c34-494b-a7e9-d206503f7ecc",
   "metadata": {},
   "outputs": [
    {
     "data": {
      "text/plain": [
       "{4, 45, 6, 'baraa'}"
      ]
     },
     "execution_count": 477,
     "metadata": {},
     "output_type": "execute_result"
    }
   ],
   "source": [
    "myset = {6,\"baraa\",45}\n",
    "myset1 = {6,\"baraa\",4}\n",
    "myset | myset1 "
   ]
  },
  {
   "cell_type": "code",
   "execution_count": 481,
   "id": "649a14d9-01c0-4d33-a460-a22f4b304427",
   "metadata": {},
   "outputs": [
    {
     "data": {
      "text/plain": [
       "{45}"
      ]
     },
     "execution_count": 481,
     "metadata": {},
     "output_type": "execute_result"
    }
   ],
   "source": [
    "myset - myset1 "
   ]
  },
  {
   "cell_type": "code",
   "execution_count": null,
   "id": "428fcf76-9084-4ab9-a35f-085df52b2762",
   "metadata": {},
   "outputs": [],
   "source": []
  },
  {
   "cell_type": "code",
   "execution_count": 501,
   "id": "51401941-f123-4e6d-9481-768e929267f0",
   "metadata": {},
   "outputs": [
    {
     "data": {
      "text/plain": [
       "{6: 'baraa', 'age': 27}"
      ]
     },
     "execution_count": 501,
     "metadata": {},
     "output_type": "execute_result"
    }
   ],
   "source": [
    "my_dict ={ 6: \"baraa\", \"age\":27}\n",
    "my_dict"
   ]
  },
  {
   "cell_type": "code",
   "execution_count": 507,
   "id": "b0918a4a-b0fb-4870-9870-27278d343e6f",
   "metadata": {},
   "outputs": [],
   "source": [
    "my_dict[66] = \"100\""
   ]
  },
  {
   "cell_type": "code",
   "execution_count": 509,
   "id": "dbc43a5e-50e7-4f3b-9110-1d1e78d22e93",
   "metadata": {},
   "outputs": [
    {
     "data": {
      "text/plain": [
       "{6: '100', 'age': 27, 66: '100'}"
      ]
     },
     "execution_count": 509,
     "metadata": {},
     "output_type": "execute_result"
    }
   ],
   "source": [
    "my_dict"
   ]
  },
  {
   "cell_type": "code",
   "execution_count": 513,
   "id": "78c17521-3c28-4123-9023-45a9644b9cda",
   "metadata": {},
   "outputs": [
    {
     "data": {
      "text/plain": [
       "27"
      ]
     },
     "execution_count": 513,
     "metadata": {},
     "output_type": "execute_result"
    }
   ],
   "source": [
    "my_dict.pop(\"age\")"
   ]
  },
  {
   "cell_type": "code",
   "execution_count": 515,
   "id": "9b9bcb2f-9ca9-4fc1-b909-2e1ba6e637b4",
   "metadata": {},
   "outputs": [
    {
     "data": {
      "text/plain": [
       "{6: '100', 66: '100'}"
      ]
     },
     "execution_count": 515,
     "metadata": {},
     "output_type": "execute_result"
    }
   ],
   "source": [
    "my_dict"
   ]
  },
  {
   "cell_type": "code",
   "execution_count": null,
   "id": "ce78e392-b39d-4f61-b9a1-8f61d1c5321a",
   "metadata": {},
   "outputs": [],
   "source": []
  },
  {
   "cell_type": "code",
   "execution_count": 519,
   "id": "acb4db14-bfc5-49db-8e9d-40cd36da1add",
   "metadata": {},
   "outputs": [
    {
     "data": {
      "text/plain": [
       "set"
      ]
     },
     "execution_count": 519,
     "metadata": {},
     "output_type": "execute_result"
    }
   ],
   "source": [
    "my_set = set()\n",
    "type(my_set)"
   ]
  },
  {
   "cell_type": "code",
   "execution_count": null,
   "id": "202865a8-39de-4501-b2c2-df44c9c4edb6",
   "metadata": {},
   "outputs": [],
   "source": []
  },
  {
   "cell_type": "code",
   "execution_count": 544,
   "id": "a52d5eb4-4e8a-41ab-8075-0619406a2efe",
   "metadata": {},
   "outputs": [
    {
     "name": "stdout",
     "output_type": "stream",
     "text": [
      "10  equal 10\n"
     ]
    }
   ],
   "source": [
    "x = 10\n",
    "if x >= 10:\n",
    "    if x == 10:\n",
    "        print(x,\" equal 10\")\n",
    "    else:\n",
    "        print( x, \"is bigger than 10\")\n",
    "else: \n",
    "    print(x, \"is smaller than 10\")"
   ]
  },
  {
   "cell_type": "code",
   "execution_count": null,
   "id": "b93e3428-6f06-4ad1-802e-f38ac1e07d5e",
   "metadata": {},
   "outputs": [],
   "source": []
  },
  {
   "cell_type": "code",
   "execution_count": 548,
   "id": "470efaf1-04e5-44ee-88eb-0ce2da5e0196",
   "metadata": {},
   "outputs": [
    {
     "name": "stdout",
     "output_type": "stream",
     "text": [
      "you can make activity\n"
     ]
    }
   ],
   "source": [
    "age = 22\n",
    "activity= \"eat\" # eat , drink , snakes\n",
    "\n",
    "if age >= 21:\n",
    "    print(\"you can make activity\")\n",
    "else:\n",
    "    print(\"you can't make activity\")"
   ]
  },
  {
   "cell_type": "code",
   "execution_count": null,
   "id": "5f775f6e-5e88-48c0-8a83-ce0707aa0d3a",
   "metadata": {},
   "outputs": [],
   "source": []
  },
  {
   "cell_type": "code",
   "execution_count": null,
   "id": "4bdcbceb-80d2-4aac-952d-7397cecc6a85",
   "metadata": {},
   "outputs": [],
   "source": []
  },
  {
   "cell_type": "code",
   "execution_count": null,
   "id": "5183e8f2-5f79-4101-9b28-125362f7adf4",
   "metadata": {},
   "outputs": [],
   "source": []
  },
  {
   "cell_type": "code",
   "execution_count": null,
   "id": "6477dd58-24d9-46bb-bfdf-90e67aaa5cfc",
   "metadata": {},
   "outputs": [],
   "source": []
  }
 ],
 "metadata": {
  "kernelspec": {
   "display_name": "Python 3 (ipykernel)",
   "language": "python",
   "name": "python3"
  },
  "language_info": {
   "codemirror_mode": {
    "name": "ipython",
    "version": 3
   },
   "file_extension": ".py",
   "mimetype": "text/x-python",
   "name": "python",
   "nbconvert_exporter": "python",
   "pygments_lexer": "ipython3",
   "version": "3.12.3"
  }
 },
 "nbformat": 4,
 "nbformat_minor": 5
}
