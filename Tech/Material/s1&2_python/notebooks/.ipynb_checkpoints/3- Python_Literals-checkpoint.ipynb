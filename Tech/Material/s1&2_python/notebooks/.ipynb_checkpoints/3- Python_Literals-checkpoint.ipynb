{
 "cells": [
  {
   "cell_type": "markdown",
   "metadata": {
    "id": "4LnDlcQBSQLJ"
   },
   "source": [
    "# Python Literals\n",
    "\n",
    "**Literal** is a raw data given in a **variable** or **constant**. In Python, there are various types of literals they are as follows:"
   ]
  },
  {
   "cell_type": "markdown",
   "metadata": {
    "id": "jPZCM-YpSQLL",
    "tags": []
   },
   "source": [
    "## 1. Numeric Literals\n",
    "\n",
    "Numeric Literals are **immutable (unchangeable)**. Numeric literals can belong to 3 different numerical types **`Integer`**, **`Float`** and **`Complex`**.\n",
    "\n",
    "<div>\n",
    "<img src=\"img/li0.png\" width=\"500\"/>\n",
    "</div>"
   ]
  },
  {
   "cell_type": "markdown",
   "metadata": {
    "id": "l2b3zLUOSQLL"
   },
   "source": [
    "Number data types in Python:\n",
    "\n",
    "1. Integers: Integer(negative, zero and positive) numbers\n",
    "   - Example:\n",
    "       - ... -3, -2, -1, 0, 1, 2, 3 ...\n",
    "\n",
    "\n",
    "2. Floating Point Numbers(Decimal numbers)\n",
    "   - Example:\n",
    "       - ... -3.5, -2.25, -1.0, 0.0, 1.1, 2.2, 3.5 ...\n",
    "\n",
    "\n",
    "3. Complex Numbers\n",
    "   - Example:\n",
    "       - 1 + j, 2 + 3j, 1 - 1j"
   ]
  },
  {
   "cell_type": "code",
   "execution_count": null,
   "metadata": {
    "ExecuteTime": {
     "end_time": "2021-10-02T07:56:41.965572Z",
     "start_time": "2021-10-02T07:56:41.949947Z"
    },
    "id": "7Vk5ymLNSQLM",
    "outputId": "87cf1e27-9ac6-44e9-f6ba-4c84912faf89"
   },
   "outputs": [
    {
     "name": "stdout",
     "output_type": "stream",
     "text": [
      "10 100 200 300\n",
      "10 99\n",
      "10.5 150.0\n",
      "3.14j 3.14 0.0\n"
     ]
    }
   ],
   "source": [
    "# Example:\n",
    "\n",
    "a = 0b1010 #Binary Literals\n",
    "b = 100 #Decimal Literal\n",
    "c = 0o310 #Octal Literal\n",
    "d = 0x12c #Hexadecimal Literal\n",
    "\n",
    "# Integer Literal\n",
    "int_1 = 10\n",
    "int_2 = 99\n",
    "\n",
    "\n",
    "# Float Literal\n",
    "float_1 = 10.5\n",
    "float_2 = 1.5e2\n",
    "\n",
    "\n",
    "# Complex Literal\n",
    "x = 3.14j\n",
    "\n",
    "print(a, b, c, d)\n",
    "print(int_1, int_2)\n",
    "print(float_1, float_2)\n",
    "print(x, x.imag, x.real)"
   ]
  },
  {
   "cell_type": "markdown",
   "metadata": {
    "id": "3QoGd6T9SQLO"
   },
   "source": [
    "In the above program\n",
    "\n",
    "* We assigned integer literals into different variables. Here, **`a`** is **binary** literal, **`b`** is a **decimal** literal,**`c`** is an **octal** literal and **`d`** is a **hexadecimal** literal.\n",
    "\n",
    "* When we print the variables, all the literals are converted into **decimal** values.\n",
    "\n",
    "* **`10.5`** and **`1.5e2`** are **floating point** literals. **`1.5e2`** is **expressed** with **exponential** and is **equivalent** to **`1.5 * 10^2`**.\n",
    "\n",
    "* We assigned a complex literal i.e **`3.14j`** in variable **`x`**. Then we use **imaginary** literal (x.imag) and **real** literal (x.real) to create imaginary and real part of **complex number**.\n",
    "\n",
    "To learn more about Numeric Literals, refer to **[Python Numbers]()**."
   ]
  },
  {
   "cell_type": "markdown",
   "metadata": {
    "id": "TLjklVonSQLP"
   },
   "source": [
    "### Type Conversion of Numbers in Python\n",
    "\n",
    "As a programmer, you can convert a variable of any data type to Number data types in Python using the below Python inbuilt functions. Also, using these functions, you can convert a number from one Number data type to another i.e from int to float, float to decimal, decimal to int and so on.\n",
    "\n",
    "* **`int ()`** : This function converts any data type to integer data type.\n",
    "* **`float ()`** : This function converts any data type to float data type.\n",
    "* **`complex (real, imaginary)`** or **`complex (real)`** : This function converts any data type to complex data type.\n",
    "\n",
    "> **Note**: There is no 'long' integer in Python 3, int and long are unified now. This means int behave more like long. Sample program showing type conversion of Numbers in Python"
   ]
  },
  {
   "cell_type": "code",
   "execution_count": null,
   "metadata": {
    "ExecuteTime": {
     "end_time": "2021-10-02T07:56:41.980222Z",
     "start_time": "2021-10-02T07:56:41.968501Z"
    },
    "id": "yNwN0HbPSQLP",
    "outputId": "f47e8861-16f0-4f24-9de4-cd1325b6064a"
   },
   "outputs": [
    {
     "ename": "ValueError",
     "evalue": "invalid literal for int() with base 10: 'dsgfrsdg'",
     "output_type": "error",
     "traceback": [
      "\u001b[1;31m---------------------------------------------------------------------------\u001b[0m",
      "\u001b[1;31mValueError\u001b[0m                                Traceback (most recent call last)",
      "\u001b[1;32m~\\AppData\\Local\\Temp\\ipykernel_13988\\2992168781.py\u001b[0m in \u001b[0;36m<module>\u001b[1;34m\u001b[0m\n\u001b[0;32m      1\u001b[0m \u001b[1;31m# Example:\u001b[0m\u001b[1;33m\u001b[0m\u001b[1;33m\u001b[0m\u001b[0m\n\u001b[0;32m      2\u001b[0m \u001b[0mx\u001b[0m \u001b[1;33m=\u001b[0m \u001b[1;34m\"dsgfrsdg\"\u001b[0m\u001b[1;33m\u001b[0m\u001b[1;33m\u001b[0m\u001b[0m\n\u001b[1;32m----> 3\u001b[1;33m \u001b[0my\u001b[0m \u001b[1;33m=\u001b[0m\u001b[0mint\u001b[0m\u001b[1;33m(\u001b[0m\u001b[0mx\u001b[0m\u001b[1;33m)\u001b[0m\u001b[1;33m\u001b[0m\u001b[1;33m\u001b[0m\u001b[0m\n\u001b[0m\u001b[0;32m      4\u001b[0m \u001b[0mprint\u001b[0m\u001b[1;33m(\u001b[0m\u001b[0mtype\u001b[0m\u001b[1;33m(\u001b[0m\u001b[0my\u001b[0m\u001b[1;33m)\u001b[0m\u001b[1;33m)\u001b[0m\u001b[1;33m\u001b[0m\u001b[1;33m\u001b[0m\u001b[0m\n",
      "\u001b[1;31mValueError\u001b[0m: invalid literal for int() with base 10: 'dsgfrsdg'"
     ]
    }
   ],
   "source": [
    "# Example:\n",
    "x = \"dsgfrsdg\"\n",
    "y =int(x)\n",
    "print(type(y))"
   ]
  },
  {
   "cell_type": "markdown",
   "metadata": {
    "id": "tYBvwLhrSQLQ",
    "tags": []
   },
   "source": [
    "## 2. String literals (unicode character strings)\n",
    "\n",
    "A **string** literal is a **sequence of characters** surrounded by **quotes**. We can use both **single**, **double** or **triple** quotes for a string. And, a **character literal** is a single character surrounded by single or double quotes."
   ]
  },
  {
   "cell_type": "code",
   "execution_count": null,
   "metadata": {
    "ExecuteTime": {
     "end_time": "2021-10-02T07:56:42.487053Z",
     "start_time": "2021-10-02T07:56:41.990964Z"
    },
    "id": "3p9vPDBdSQLQ",
    "outputId": "72709c71-d054-41f8-fc20-f8c0d9d68afd"
   },
   "outputs": [
    {
     "ename": "SyntaxError",
     "evalue": "EOF while scanning triple-quoted string literal (3419978803.py, line 15)",
     "output_type": "error",
     "traceback": [
      "\u001b[1;36m  File \u001b[1;32m\"C:\\Users\\Baraa\\AppData\\Local\\Temp\\ipykernel_13988\\3419978803.py\"\u001b[1;36m, line \u001b[1;32m15\u001b[0m\n\u001b[1;33m    print(d)\u001b[0m\n\u001b[1;37m            \n^\u001b[0m\n\u001b[1;31mSyntaxError\u001b[0m\u001b[1;31m:\u001b[0m EOF while scanning triple-quoted string literal\n"
     ]
    }
   ],
   "source": [
    "# Example:\n",
    "\n",
    "a = '''Apple''\n",
    "\n",
    "b = \"\"\"1\"\"\"\n",
    "\n",
    "c = '2'\n",
    "\n",
    "d = \"3\"\n",
    "\n",
    "print(a)\n",
    "\n",
    "print(b)\n",
    "print(c)\n",
    "print(d)\n"
   ]
  },
  {
   "cell_type": "markdown",
   "metadata": {
    "id": "p_0uHjdGSQLR",
    "tags": []
   },
   "source": [
    "## 3. Boolean literals\n",
    "\n",
    "A Boolean literal can have any of the two values: **`True`** or **`False`**."
   ]
  },
  {
   "cell_type": "code",
   "execution_count": null,
   "metadata": {
    "ExecuteTime": {
     "end_time": "2021-10-02T07:56:53.639879Z",
     "start_time": "2021-10-02T07:56:53.626204Z"
    },
    "id": "Ztoj9-uWSQLR",
    "outputId": "8f7d8792-7aa0-44af-fbd5-85b348f0c4a7",
    "scrolled": true
   },
   "outputs": [
    {
     "name": "stdout",
     "output_type": "stream",
     "text": [
      "x is True\n",
      "False\n",
      "a: 7\n",
      "b: 90\n"
     ]
    }
   ],
   "source": [
    "# Example:\n",
    "\n",
    "#REMEMBER  True == 1   False == 0\n",
    "\n",
    "x = (1 == True)\n",
    "y = (1 == False)\n",
    "a = True + 6\n",
    "b = False + 90\n",
    "\n",
    "print(\"x is\", x)\n",
    "print( y)\n",
    "print(\"a:\", a)\n",
    "print(\"b:\", b)"
   ]
  },
  {
   "cell_type": "markdown",
   "metadata": {
    "id": "4ZNTpwQ8SQLS",
    "tags": []
   },
   "source": [
    "## Special literals\n",
    "\n",
    "Python contains one **special** literal i.e., **`None`**. We use it to specify to that field that is not created."
   ]
  },
  {
   "cell_type": "code",
   "execution_count": null,
   "metadata": {
    "ExecuteTime": {
     "end_time": "2021-10-02T07:56:54.823957Z",
     "start_time": "2021-10-02T07:56:54.812240Z"
    },
    "id": "LOseCwFpSQLS",
    "outputId": "86779826-b735-41bc-f9d6-d545426a5f1d",
    "scrolled": true
   },
   "outputs": [
    {
     "name": "stdout",
     "output_type": "stream",
     "text": [
      "Available\n",
      "None\n"
     ]
    }
   ],
   "source": [
    "# Example:\n",
    "\n",
    "juice = \"Available\"\n",
    "soup = None\n",
    "def menu(x):\n",
    "    if x == juice:\n",
    "        print(juice)\n",
    "    else:\n",
    "        print(soup)\n",
    "menu(juice)\n",
    "menu(soup)"
   ]
  },
  {
   "cell_type": "code",
   "execution_count": null,
   "metadata": {
    "id": "RzlLiV2GSQLS"
   },
   "outputs": [],
   "source": []
  },
  {
   "cell_type": "markdown",
   "metadata": {
    "id": "Je3WOCMTSQLT",
    "tags": []
   },
   "source": [
    "## Literal Collections\n",
    "\n",
    "There are four different literal collections **List literals, Tuple literals, Dict literals**, and **Set literals**."
   ]
  },
  {
   "cell_type": "code",
   "execution_count": null,
   "metadata": {
    "ExecuteTime": {
     "end_time": "2021-10-02T07:56:55.311263Z",
     "start_time": "2021-10-02T07:56:55.288834Z"
    },
    "id": "miv7N7nCSQLT",
    "outputId": "473e5a4d-2b24-4cc5-d31f-e121ba8767d0"
   },
   "outputs": [
    {
     "name": "stdout",
     "output_type": "stream",
     "text": [
      "('Banana', 'Apple', 'Strawberry')\n",
      "['Banana', 'Apple', 'Strawberry']\n",
      "{'Apple', 'Strawberry', 'Banana'}\n",
      "{'1': 'Banana', '2': 'Apple', '3': 'Strawberry'}\n"
     ]
    }
   ],
   "source": [
    "# Example:\n",
    "\n",
    "fruits1 = (\"Banana\", \"Apple\", \"Strawberry\")             # tuple ()\n",
    "fruits2 = [\"Banana\", \"Apple\", \"Strawberry\"]             # list []\n",
    "fruits3 = {\"Banana\", \"Apple\", \"Strawberry\"}             # set {}\n",
    "fruits4 = {\"1\":\"Banana\", \"2\":\"Apple\", \"3\":\"Strawberry\"} # dictionary {\"Key\":\"Value\"}\n",
    "\n",
    "print(fruits1)\n",
    "print(fruits2)\n",
    "print(fruits3)\n",
    "print(fruits4)"
   ]
  },
  {
   "cell_type": "code",
   "execution_count": null,
   "metadata": {
    "ExecuteTime": {
     "end_time": "2021-10-02T07:56:55.723859Z",
     "start_time": "2021-10-02T07:56:55.715559Z"
    },
    "id": "Om0LBK49SQLT",
    "outputId": "2122fd5d-e13d-41e3-9439-7497a45c2a55"
   },
   "outputs": [
    {
     "name": "stdout",
     "output_type": "stream",
     "text": [
      "['apple', 'mango', 'orange']\n",
      "(1, 2, 3)\n",
      "{'a': 'apple', 'b': 'ball', 'c': 'cat'}\n",
      "{'u', 'e', 'o', 'a', 'i'}\n"
     ]
    }
   ],
   "source": [
    "# Example:\n",
    "\n",
    "fruits = [\"apple\", \"mango\", \"orange\"] #list\n",
    "numbers = (1, 2, 3) #tuple\n",
    "alphabets = {'a':'apple', 'b':'ball', 'c':'cat'} #dictionary\n",
    "vowels = {'a', 'e', 'i' , 'o', 'u'} #set\n",
    "\n",
    "print(fruits)\n",
    "print(numbers)\n",
    "print(alphabets)\n",
    "print(vowels)"
   ]
  }
 ],
 "metadata": {
  "colab": {
   "provenance": []
  },
  "hide_input": false,
  "kernelspec": {
   "display_name": "Python 3 (ipykernel)",
   "language": "python",
   "name": "python3"
  },
  "language_info": {
   "codemirror_mode": {
    "name": "ipython",
    "version": 3
   },
   "file_extension": ".py",
   "mimetype": "text/x-python",
   "name": "python",
   "nbconvert_exporter": "python",
   "pygments_lexer": "ipython3",
   "version": "3.12.4"
  },
  "toc": {
   "base_numbering": 1,
   "nav_menu": {},
   "number_sections": true,
   "sideBar": true,
   "skip_h1_title": false,
   "title_cell": "Table of Contents",
   "title_sidebar": "Contents",
   "toc_cell": false,
   "toc_position": {},
   "toc_section_display": true,
   "toc_window_display": false
  },
  "varInspector": {
   "cols": {
    "lenName": 16,
    "lenType": 16,
    "lenVar": 40
   },
   "kernels_config": {
    "python": {
     "delete_cmd_postfix": "",
     "delete_cmd_prefix": "del ",
     "library": "var_list.py",
     "varRefreshCmd": "print(var_dic_list())"
    },
    "r": {
     "delete_cmd_postfix": ") ",
     "delete_cmd_prefix": "rm(",
     "library": "var_list.r",
     "varRefreshCmd": "cat(var_dic_list()) "
    }
   },
   "types_to_exclude": [
    "module",
    "function",
    "builtin_function_or_method",
    "instance",
    "_Feature"
   ],
   "window_display": false
  }
 },
 "nbformat": 4,
 "nbformat_minor": 4
}
