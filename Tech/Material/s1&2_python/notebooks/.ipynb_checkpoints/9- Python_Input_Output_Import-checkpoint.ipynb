{
 "cells": [
  {
   "cell_type": "markdown",
   "metadata": {
    "id": "ATfXeEs7R63L",
    "tags": []
   },
   "source": [
    "# Python Input, Output and Import\n",
    "\n",
    "This class focuses on two built-in functions **`print()`** and **`input()`** to perform I/O task in Python. Also, you will learn to import modules and use them in your program.\n",
    "\n",
    "Python provides numerous **[built-in functions](https://github.com/milaan9/04_Python_Functions/tree/main/002_Python_Functions_Built_in)** that are readily available to us at the Python prompt.\n",
    "\n",
    "Some of the functions like **`print()`** and **`input()`** are widely used for standard input and output operations respectively. Let us see the output section first."
   ]
  },
  {
   "cell_type": "markdown",
   "metadata": {
    "id": "SOy0C2EIR63O",
    "tags": []
   },
   "source": [
    "## 1. Python Output Using `print()` function\n",
    "\n",
    "We use the **`print()`** function to output data to the standard output device (screen). We can also **[output data to a file](https://github.com/milaan9/05_Python_Files/blob/main/001_Python_File_Input_Output.ipynb)**, but this will be discussed later.\n",
    "\n",
    "An example of its use is given below."
   ]
  },
  {
   "cell_type": "code",
   "execution_count": null,
   "metadata": {
    "ExecuteTime": {
     "end_time": "2021-10-02T08:38:42.903413Z",
     "start_time": "2021-10-02T08:38:42.882906Z"
    },
    "id": "UO3q4PyPR63P"
   },
   "outputs": [],
   "source": [
    "# Example 1:\n",
    "\n",
    "print('This sentence is output to the screen')"
   ]
  },
  {
   "cell_type": "code",
   "execution_count": null,
   "metadata": {
    "ExecuteTime": {
     "end_time": "2021-10-02T08:38:43.026458Z",
     "start_time": "2021-10-02T08:38:42.906342Z"
    },
    "id": "PJXYCBJkR63R"
   },
   "outputs": [],
   "source": [
    "# Example 2:\n",
    "\n",
    "a = 9\n",
    "print('The value of a is', a)"
   ]
  },
  {
   "cell_type": "markdown",
   "metadata": {
    "id": "qqSLd1WJR63R"
   },
   "source": [
    "In the second **`print()`** statement, we can notice that space was added between the **[string](https://github.com/milaan9/02_Python_Datatypes/blob/main/002_Python_String.ipynb)** and the value of variable **`a`**. This is by default, but we can change it."
   ]
  },
  {
   "cell_type": "markdown",
   "metadata": {
    "id": "iWN3zsbbR63S"
   },
   "source": [
    "**Syntax** of the **`print()`** function is:\n",
    "\n",
    "```python\n",
    "print(*objects, sep=' ', end='\\n', file=sys.stdout, flush=False)\n",
    "```\n",
    "\n",
    "Here, objects is the value(s) to be printed.\n",
    "\n",
    "The **`sep`** separator is used between the values. It defaults into a space character.\n",
    "\n",
    "After all values are printed, **`end`** is printed. It defaults into a new line.\n",
    "\n",
    "The **`file`** is the object where the values are printed and its default value is **`sys.stdout`** (screen). Here is an example to illustrate this."
   ]
  },
  {
   "cell_type": "code",
   "execution_count": 28,
   "metadata": {
    "ExecuteTime": {
     "end_time": "2021-10-02T08:38:43.200289Z",
     "start_time": "2021-10-02T08:38:43.030366Z"
    },
    "id": "hG3LUZg-R63S"
   },
   "outputs": [
    {
     "name": "stdout",
     "output_type": "stream",
     "text": [
      "1 2 3 4\n",
      "1#2#3#4\n"
     ]
    }
   ],
   "source": [
    "print(1, 2, 3, 4)\n",
    "print(1, 2, 3, 4, sep='#')   # It will separate your elements with '#'\n",
    "#print(1, 2, 3, 4, sep='*', end='&')  # It will separate your elements with '*' and end with '&'"
   ]
  },
  {
   "cell_type": "code",
   "execution_count": null,
   "metadata": {
    "id": "ga9BJK_fR63T"
   },
   "outputs": [],
   "source": [
    "def out(x):\n",
    "    print(x)\n",
    "\n",
    "out(4)"
   ]
  },
  {
   "cell_type": "markdown",
   "metadata": {
    "id": "blIpLYStR63U",
    "tags": []
   },
   "source": [
    "## Output formatting\n",
    "\n",
    "Sometimes we would like to format our output to make it look attractive. This can be done by using the **`str.format()`** method. This method is visible to any string object."
   ]
  },
  {
   "cell_type": "code",
   "execution_count": null,
   "metadata": {
    "id": "FTIVfJYnR63U"
   },
   "outputs": [],
   "source": []
  },
  {
   "cell_type": "code",
   "execution_count": null,
   "metadata": {
    "ExecuteTime": {
     "end_time": "2021-10-02T08:38:43.315521Z",
     "start_time": "2021-10-02T08:38:43.207124Z"
    },
    "id": "NxtefMhvR63U"
   },
   "outputs": [],
   "source": [
    "name = \"baraa\"\n",
    "email = \"baa@gmail.com\"\n",
    "# Hello baraa with your email baa@gmail.com\n",
    "print(\"Hello {1} with your email {0}\".format(email,name))"
   ]
  },
  {
   "cell_type": "markdown",
   "metadata": {
    "id": "x6yVbgZ7R63V"
   },
   "source": [
    "Here, the curly braces **`{}`** are used as placeholders. We can specify the order in which they are printed by using numbers (tuple index)."
   ]
  },
  {
   "cell_type": "code",
   "execution_count": null,
   "metadata": {
    "id": "u1-GUBC6R63V"
   },
   "outputs": [],
   "source": []
  },
  {
   "cell_type": "code",
   "execution_count": null,
   "metadata": {
    "id": "7Lof_KUOR63W"
   },
   "outputs": [],
   "source": []
  },
  {
   "cell_type": "code",
   "execution_count": null,
   "metadata": {
    "ExecuteTime": {
     "end_time": "2021-10-02T08:38:43.468840Z",
     "start_time": "2021-10-02T08:38:43.319429Z"
    },
    "id": "w3kCT9sQR63W"
   },
   "outputs": [],
   "source": [
    "print('I love {0} and {1}'.format('Mango','Banana'))\n",
    "print('I love {1} and {0}'.format('Mango','Banana'))"
   ]
  },
  {
   "cell_type": "markdown",
   "metadata": {
    "id": "I3y-vcQfR63W"
   },
   "source": [
    "We can even use keyword arguments to format the string."
   ]
  },
  {
   "cell_type": "code",
   "execution_count": null,
   "metadata": {
    "ExecuteTime": {
     "end_time": "2021-10-02T08:38:43.575285Z",
     "start_time": "2021-10-02T08:38:43.472749Z"
    },
    "id": "tNhK0tH1R63W"
   },
   "outputs": [],
   "source": [
    "print('Hello {name}, {greeting}!'.format(greeting = 'Good morning', name = 'Mark'))"
   ]
  },
  {
   "cell_type": "markdown",
   "metadata": {
    "id": "Keif0ffNR63X",
    "tags": []
   },
   "source": [
    "## 2. Python Input Using `input()` function\n",
    "\n",
    "Up until now, our programs were static. The value of variables was defined or hard coded into the source code.\n",
    "\n",
    "To allow flexibility, we might want to take the input from the user. In Python, we have a built-in function **`input()`** to accept user input.\n",
    "\n",
    "**Syntax**:\n",
    "\n",
    "```python\n",
    "input([prompt])\n",
    "```\n",
    "\n",
    "where **`prompt`** is the string we wish to display on the screen. It is optional."
   ]
  },
  {
   "cell_type": "code",
   "execution_count": null,
   "metadata": {
    "ExecuteTime": {
     "end_time": "2021-10-02T08:38:49.322840Z",
     "start_time": "2021-10-02T08:38:43.764252Z"
    },
    "id": "jm4zLKl5R63X",
    "scrolled": true
   },
   "outputs": [],
   "source": [
    "name = input()\n",
    "print(type(name))"
   ]
  },
  {
   "cell_type": "markdown",
   "metadata": {
    "id": "F083sucPR63Y"
   },
   "source": [
    "Here, we can see that the entered value **`90`** is a string, not a number. To convert this into a number we can use **`int()`** or **`float()`** functions."
   ]
  },
  {
   "cell_type": "code",
   "execution_count": null,
   "metadata": {
    "ExecuteTime": {
     "end_time": "2021-10-02T08:38:49.356046Z",
     "start_time": "2021-10-02T08:38:49.325771Z"
    },
    "id": "o8jVOfeJR63Y"
   },
   "outputs": [],
   "source": [
    "int('90')  # converting string '90' to integer"
   ]
  },
  {
   "cell_type": "code",
   "execution_count": null,
   "metadata": {
    "ExecuteTime": {
     "end_time": "2021-10-02T08:38:49.447843Z",
     "start_time": "2021-10-02T08:38:49.367766Z"
    },
    "id": "hHtV9I6HR63Y"
   },
   "outputs": [],
   "source": [
    "float('90')"
   ]
  },
  {
   "cell_type": "code",
   "execution_count": null,
   "metadata": {
    "ExecuteTime": {
     "end_time": "2021-10-02T08:38:49.575282Z",
     "start_time": "2021-10-02T08:38:49.451748Z"
    },
    "id": "Nhizn4CiR63Z"
   },
   "outputs": [],
   "source": [
    "a = \"6\"  # Is this a STRING character\n",
    "b = \"P\"  # IS this a STRING chracter\n",
    "c = a + b\n",
    "print(c)"
   ]
  },
  {
   "cell_type": "code",
   "execution_count": null,
   "metadata": {
    "ExecuteTime": {
     "end_time": "2021-10-02T08:38:50.362880Z",
     "start_time": "2021-10-02T08:38:49.579190Z"
    },
    "id": "vU2lwe4aR63Z"
   },
   "outputs": [],
   "source": [
    "int('6+3') # ERROR! cannot add numbers as string data type"
   ]
  },
  {
   "cell_type": "markdown",
   "metadata": {
    "id": "srUsyuLyR63a"
   },
   "source": [
    "This same operation can be performed using the **`eval()`** function. But **`eval`** takes it further. It can evaluate even expressions, provided the input is a string."
   ]
  },
  {
   "cell_type": "code",
   "execution_count": null,
   "metadata": {
    "ExecuteTime": {
     "end_time": "2021-10-02T08:38:53.640709Z",
     "start_time": "2021-10-02T08:38:53.621182Z"
    },
    "id": "JezVJAc3R63a"
   },
   "outputs": [],
   "source": [
    "eval('6+3') # Eval function can add numbers in string data type"
   ]
  },
  {
   "cell_type": "code",
   "execution_count": null,
   "metadata": {
    "ExecuteTime": {
     "end_time": "2021-10-02T08:38:54.253017Z",
     "start_time": "2021-10-02T08:38:54.241296Z"
    },
    "id": "kPmJcOabR63b"
   },
   "outputs": [],
   "source": [
    "eval('print(5*3)')"
   ]
  },
  {
   "cell_type": "markdown",
   "metadata": {
    "id": "T9OXp6GmR63b"
   },
   "source": [
    "### Accepting User Inputs (as both integer and string)\n",
    "\n",
    "**`input(prompt)`** prompts for and returns input as a string. Hence, if the user inputs a integer, the code should convert the string to an integer and then proceed."
   ]
  },
  {
   "cell_type": "code",
   "execution_count": null,
   "metadata": {
    "ExecuteTime": {
     "end_time": "2021-10-02T08:39:07.564534Z",
     "start_time": "2021-10-02T08:38:55.970790Z"
    },
    "id": "0DrTWzO2R63b"
   },
   "outputs": [],
   "source": [
    "a = input(\"Hello, \\nHow are you?\") # \\n means new line"
   ]
  },
  {
   "cell_type": "code",
   "execution_count": null,
   "metadata": {
    "ExecuteTime": {
     "end_time": "2021-10-02T08:39:28.302329Z",
     "start_time": "2021-10-02T08:39:11.084068Z"
    },
    "id": "b0YJ9oXrR63c",
    "scrolled": true
   },
   "outputs": [],
   "source": [
    "abc = input(\"Type something here and it will be stored in variable abc \\t\")"
   ]
  },
  {
   "cell_type": "code",
   "execution_count": null,
   "metadata": {
    "ExecuteTime": {
     "end_time": "2021-10-02T08:39:28.471274Z",
     "start_time": "2021-10-02T08:39:28.460533Z"
    },
    "id": "GkDLyaTlR63c",
    "scrolled": true
   },
   "outputs": [],
   "source": [
    "type(abc)"
   ]
  },
  {
   "cell_type": "markdown",
   "metadata": {
    "id": "qR0w2CHiR63c"
   },
   "source": [
    "**Note**: **`type( )`** returns the format or the type of a variable or a number"
   ]
  },
  {
   "cell_type": "code",
   "execution_count": 4,
   "metadata": {
    "ExecuteTime": {
     "end_time": "2021-10-02T08:39:42.854575Z",
     "start_time": "2021-10-02T08:39:31.634854Z"
    },
    "id": "rtOWQDhNR63d"
   },
   "outputs": [
    {
     "name": "stdin",
     "output_type": "stream",
     "text": [
      "Enter Student Name:  1\n",
      "Enter Major:  2\n",
      "Enter University:  3\n"
     ]
    },
    {
     "name": "stdout",
     "output_type": "stream",
     "text": [
      "\n",
      "\n",
      "Printing Student Details\n",
      "Name Major University\n",
      "1 2 3\n"
     ]
    }
   ],
   "source": [
    "name = input(\"Enter Student Name: \")\n",
    "major = input(\"Enter Major: \")\n",
    "university = input(\"Enter University: \")\n",
    "\n",
    "print(\"\\n\")\n",
    "print(\"Printing Student Details\")\n",
    "print(\"Name\", \"Major\", \"University\")\n",
    "print(name, major, university)"
   ]
  },
  {
   "cell_type": "code",
   "execution_count": 6,
   "metadata": {
    "ExecuteTime": {
     "end_time": "2021-10-02T08:39:50.664632Z",
     "start_time": "2021-10-02T08:39:45.749108Z"
    },
    "id": "ok932KluR63d"
   },
   "outputs": [
    {
     "name": "stdin",
     "output_type": "stream",
     "text": [
      "Enter number:  1\n",
      "Enter name:  2\n"
     ]
    },
    {
     "name": "stdout",
     "output_type": "stream",
     "text": [
      "\n",
      "\n",
      "Printing type of a input value\n",
      "type of number <class 'str'>\n",
      "type of name <class 'str'>\n"
     ]
    }
   ],
   "source": [
    "number = input(\"Enter number: \")\n",
    "name = input(\"Enter name: \")\n",
    "\n",
    "print(\"\\n\")\n",
    "print(\"Printing type of a input value\")\n",
    "print(\"type of number\", type(number))\n",
    "print(\"type of name\", type(name))"
   ]
  },
  {
   "cell_type": "markdown",
   "metadata": {
    "id": "myC_YC1ER63d"
   },
   "source": [
    "### Accepting User Inputs (only as integer)\n",
    "\n",
    "A useful function to use in conjunction with this is **`eval()`** which takes a string and evaluates it as a python expression.\n",
    "\n",
    "*Note:* In notebooks it is often easier just to modify the code than to prompt for input."
   ]
  },
  {
   "cell_type": "code",
   "execution_count": 5,
   "metadata": {
    "ExecuteTime": {
     "end_time": "2021-10-02T08:40:01.840902Z",
     "start_time": "2021-10-02T08:40:00.158777Z"
    },
    "id": "8bvecgaAR63e"
   },
   "outputs": [
    {
     "name": "stdin",
     "output_type": "stream",
     "text": [
      "xyz =  10.25\n"
     ]
    },
    {
     "name": "stdout",
     "output_type": "stream",
     "text": [
      "10.25\n",
      "<class 'str'>\n",
      "<class 'float'>\n",
      "10.25 = 10.25\n"
     ]
    }
   ],
   "source": [
    "xyz =  input(\"xyz = \")\n",
    "print(xyz)\n",
    "print(type(xyz))\n",
    "\n",
    "xyzValue=eval(xyz)  # change input to integer data type from string data type\n",
    "print(type(xyzValue))\n",
    "print(xyz,'=',xyzValue)"
   ]
  },
  {
   "cell_type": "code",
   "execution_count": null,
   "metadata": {
    "ExecuteTime": {
     "end_time": "2021-10-02T08:40:05.221765Z",
     "start_time": "2021-10-02T08:40:05.207119Z"
    },
    "id": "SJfGm2UsR63e"
   },
   "outputs": [],
   "source": [
    "int(\"99\")"
   ]
  },
  {
   "cell_type": "code",
   "execution_count": null,
   "metadata": {
    "ExecuteTime": {
     "end_time": "2021-10-02T08:40:14.438563Z",
     "start_time": "2021-10-02T08:40:07.353115Z"
    },
    "id": "hv0v8Vq7R63r"
   },
   "outputs": [],
   "source": [
    "# program to calculate addition of two input numbers\n",
    "\n",
    "first_number = int(input(\"Enter first number: \"))  # converting input value to integer\n",
    "second_number = int(input(\"Enter second number: \"))  # converting input value to integer\n",
    "\n",
    "print(\"\\n\")\n",
    "print(\"First Number: \", first_number)\n",
    "print(\"Second Number: \", second_number)\n",
    "sum1 = first_number + second_number\n",
    "print(\"Addition of two number is: \", sum1)"
   ]
  },
  {
   "cell_type": "markdown",
   "metadata": {
    "id": "0MqOKCyGR63s"
   },
   "source": [
    "### Get multiple input values from a user in one line\n",
    "\n",
    "In Python, It is possible to get multiple values from the user in one line. i.e., In Python, we can accept two or three values from the user in one **`input()`** call.\n",
    "\n",
    "For example, in a single execution of the **`input()`** function, we can ask the user his/her name, age, and phone number and store it in three different variables. Lets see how to do this."
   ]
  },
  {
   "cell_type": "code",
   "execution_count": 23,
   "metadata": {
    "ExecuteTime": {
     "end_time": "2021-10-02T08:42:18.784825Z",
     "start_time": "2021-10-02T08:41:58.604150Z"
    },
    "id": "JlVBvsyAR63s",
    "outputId": "d22b92da-1e9c-4b17-86e5-dbbc7de84d29"
   },
   "outputs": [
    {
     "name": "stdin",
     "output_type": "stream",
     "text": [
      "Enter your Name, Age, Phone_number separated by space:  baraa wael sallout\n"
     ]
    },
    {
     "data": {
      "text/plain": [
       "['baraa', 'wael', 'sallout']"
      ]
     },
     "execution_count": 23,
     "metadata": {},
     "output_type": "execute_result"
    }
   ],
   "source": [
    "a  = input(\"Enter your Name, Age, Phone_number separated by space: \").split(' ')\n",
    "a"
   ]
  },
  {
   "cell_type": "code",
   "execution_count": 21,
   "metadata": {},
   "outputs": [
    {
     "data": {
      "text/plain": [
       "['baraa', 'sallout']"
      ]
     },
     "execution_count": 21,
     "metadata": {},
     "output_type": "execute_result"
    }
   ],
   "source": [
    "\n"
   ]
  },
  {
   "cell_type": "markdown",
   "metadata": {
    "id": "we58LP_mR63t",
    "tags": []
   },
   "source": [
    "### Format output strings by its positions\n"
   ]
  },
  {
   "cell_type": "code",
   "execution_count": 8,
   "metadata": {
    "ExecuteTime": {
     "end_time": "2021-10-02T08:43:32.535822Z",
     "start_time": "2021-10-02T08:43:12.278007Z"
    },
    "id": "goz6t7cCR63t"
   },
   "outputs": [
    {
     "name": "stdin",
     "output_type": "stream",
     "text": [
      "Enter First Name:  55\n",
      "Enter Last Name:  66\n",
      "Enter Organization Name:  44\n"
     ]
    },
    {
     "name": "stdout",
     "output_type": "stream",
     "text": [
      "\n",
      "\n",
      "55, 66 works at 44\n",
      "66, 55 works at 44\n",
      "FirstName 55, LastName 66 works at 44\n",
      "55, 66 55, 66 works at 44\n"
     ]
    }
   ],
   "source": [
    "firstName = input(\"Enter First Name: \")\n",
    "lastName = input(\"Enter Last Name: \")\n",
    "organization = input(\"Enter Organization Name: \")\n",
    "\n",
    "print(\"\\n\")\n",
    "print('{0}, {1} works at {2}'.format(firstName, lastName, organization))\n",
    "print('{1}, {0} works at {2}'.format(firstName, lastName, organization))\n",
    "print('FirstName {0}, LastName {1} works at {2}'.format(firstName, lastName, organization))\n",
    "print('{0}, {1} {0}, {1} works at {2}'.format(firstName, lastName, organization))"
   ]
  },
  {
   "cell_type": "markdown",
   "metadata": {
    "id": "7ewOzAf4R63u"
   },
   "source": [
    "### Accessing output string arguments by name\n"
   ]
  },
  {
   "cell_type": "code",
   "execution_count": null,
   "metadata": {
    "ExecuteTime": {
     "end_time": "2021-10-02T08:43:49.939149Z",
     "start_time": "2021-10-02T08:43:41.487002Z"
    },
    "id": "-3OxZu0LR63u"
   },
   "outputs": [],
   "source": [
    "name = input(\"Enter Name: \")\n",
    "marks = input(\"Enter marks: \")\n",
    "\n",
    "print(\"\\n\")\n",
    "print('Student: Name:  {firstName}, Marks: {percentage}%'.format(firstName=name, percentage=marks))"
   ]
  }
 ],
 "metadata": {
  "colab": {
   "provenance": []
  },
  "hide_input": false,
  "kernelspec": {
   "display_name": "Python 3 (ipykernel)",
   "language": "python",
   "name": "python3"
  },
  "language_info": {
   "codemirror_mode": {
    "name": "ipython",
    "version": 3
   },
   "file_extension": ".py",
   "mimetype": "text/x-python",
   "name": "python",
   "nbconvert_exporter": "python",
   "pygments_lexer": "ipython3",
   "version": "3.12.4"
  },
  "toc": {
   "base_numbering": 1,
   "nav_menu": {},
   "number_sections": true,
   "sideBar": true,
   "skip_h1_title": false,
   "title_cell": "Table of Contents",
   "title_sidebar": "Contents",
   "toc_cell": false,
   "toc_position": {},
   "toc_section_display": true,
   "toc_window_display": false
  },
  "varInspector": {
   "cols": {
    "lenName": 16,
    "lenType": 16,
    "lenVar": 40
   },
   "kernels_config": {
    "python": {
     "delete_cmd_postfix": "",
     "delete_cmd_prefix": "del ",
     "library": "var_list.py",
     "varRefreshCmd": "print(var_dic_list())"
    },
    "r": {
     "delete_cmd_postfix": ") ",
     "delete_cmd_prefix": "rm(",
     "library": "var_list.r",
     "varRefreshCmd": "cat(var_dic_list()) "
    }
   },
   "types_to_exclude": [
    "module",
    "function",
    "builtin_function_or_method",
    "instance",
    "_Feature"
   ],
   "window_display": false
  }
 },
 "nbformat": 4,
 "nbformat_minor": 4
}
