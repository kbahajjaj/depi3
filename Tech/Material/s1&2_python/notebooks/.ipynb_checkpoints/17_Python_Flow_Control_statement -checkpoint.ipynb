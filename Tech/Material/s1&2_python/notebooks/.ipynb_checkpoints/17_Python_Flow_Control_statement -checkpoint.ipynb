{
 "cells": [
  {
   "cell_type": "markdown",
   "metadata": {},
   "source": [
    "# Python Flow-Control (Decision-Making) Statements\n"
   ]
  },
  {
   "cell_type": "markdown",
   "metadata": {},
   "source": [
    "## Control Flow Statements\n",
    "\n",
    "The flow control statements are divided into **three** categories:\n",
    "\n",
    "1. **Conditional statements**\n",
    "2. **Iterative statements**\n",
    "3. **Transfer/Control statements**\n",
    "\n",
    "<div>\n",
    "<img src=\"img/fcs.png\" width=\"500\"/>\n",
    "</div>"
   ]
  },
  {
   "cell_type": "markdown",
   "metadata": {},
   "source": [
    "## Conditional statements\n",
    "\n",
    "In Python, condition statements act depending on whether a given condition is true or false. You can execute different blocks of codes depending on the outcome of a condition. Condition statements always evaluate to either **`True`** or **`False`**.\n",
    "\n",
    "There are **four** types of conditional statements:\n",
    "\n",
    "1. **[if]()**\n",
    "2. **[if-else]()**\n",
    "3. **[if-elif-else]()**\n",
    "4. **[nested-if]()**"
   ]
  },
  {
   "cell_type": "markdown",
   "metadata": {},
   "source": [
    "## Iterative statements\n",
    "\n",
    "In Python, iterative statements allow us to execute a block of code repeatedly as long as the condition is **`True`**. We also call it a loop statements.\n",
    "\n",
    "Python provides us the following **two** loop statement to perform some actions repeatedly\n",
    "\n",
    "1. **[for loop]()**\n",
    "2. **[while loop]()**"
   ]
  },
  {
   "cell_type": "markdown",
   "metadata": {},
   "source": [
    "## Transfer statements\n",
    "\n",
    "In Python, transfer statements are used to alter the program’s way of execution in a certain manner. For this purpose, we use **three** types of transfer statements.\n",
    "\n",
    "1. **[break statement]()**\n",
    "2. **[continue statement]()**\n",
    "3. **[pass statements]()**"
   ]
  },
  {
   "cell_type": "markdown",
   "metadata": {},
   "source": [
    "# Python `if` statement\n",
    "\n",
    "In control statements, The **`if`** statement is the simplest form. It takes a condition and evaluates to either **`True`** or **`False`**.\n",
    "\n",
    "If the condition is **`True`**, then the **`True`** block of code will be executed, and if the condition is **`False`**, then the block of code is skipped, and The controller moves to the next line."
   ]
  },
  {
   "cell_type": "markdown",
   "metadata": {},
   "source": [
    "### Syntax:\n",
    "\n",
    "```python\n",
    "if(condition):\n",
    "    statement 1\n",
    "    statement 2\n",
    "    statement n\n",
    "```\n",
    "\n",
    "* An **`if`** statement should be preceded by the keyword **`if`** and ended with a colon **`:`**. The condition of an if statement can be written with or without round brackets **`()`**.\n",
    "\n",
    "* In Python, the body of the **`if`** statement is indicated by the indentation. The body starts with an indentation and the first unindented line marks the end.\n",
    "\n",
    "* Python interprets non-zero values as **`True`**. **`None`** and **`0`** are interpreted as **`False`**.\n",
    "\n",
    "<div>\n",
    "<img src=\"img/if2.png\" width=\"250\"/>\n",
    "</div>"
   ]
  },
  {
   "cell_type": "markdown",
   "metadata": {
    "jp-MarkdownHeadingCollapsed": true
   },
   "source": [
    "# Python `if-else` statement\n",
    "\n",
    "It is likely that we will want the program to do something even when an **[if statement]()** **evaluates to false**. In our grade example of previous tutorial, we will want output whether the grade is passing or failing."
   ]
  },
  {
   "cell_type": "markdown",
   "metadata": {},
   "source": [
    "### Syntax :\n",
    "\n",
    "```python\n",
    "if condition:\n",
    "    statement 1\n",
    "else:\n",
    "    statement 2\n",
    "```\n",
    "\n",
    "1. The **`if..else`** statement evaluates **`condition`** and will execute the body of **`if`** only when the test condition is **`True`**.\n",
    "\n",
    "2. If the condition is **`False`**, the body of **`else`** is executed. Indentation is used to separate the blocks.\n",
    "\n",
    "<div>\n",
    "<img src=\"img/ife0.png\" width=\"300\"/>\n",
    "</div>\n",
    "\n",
    "To do this, we will add an else statement to the grade condition above that is constructed like this:\n",
    "\n",
    "```python\n",
    ">>> grade = 60   \n",
    ">>> if grade >= 65:\n",
    ">>>     print(\"Passing grade\")\n",
    ">>> else:\n",
    ">>>     print(\"Failing grade\")\n",
    "\n",
    "Failing grade\n",
    "```\n",
    "\n",
    "Since the grade variable above has the value of 60, the if statement evaluates as false, so the program will not print out Passing grade. The else statement that follows tells the program to do **something anyway**.\n",
    "\n",
    "If we then rewrite the program to give the grade a value of 65 or higher, we will instead receive the output Passing grade."
   ]
  },
  {
   "cell_type": "markdown",
   "metadata": {
    "jp-MarkdownHeadingCollapsed": true
   },
   "source": [
    "# Python `if-elif-else` statement\n",
    "\n",
    "So far, we have presented a Boolean option for conditional statements, with each **[if statement]()** evaluating to either **`True`** or **`False`**. In Python, the **`if-elif-else`** condition statement has an **`elif`** keyword used to chain multiple conditions one after another."
   ]
  },
  {
   "cell_type": "markdown",
   "metadata": {},
   "source": [
    "### Syntax:\n",
    "\n",
    "```python\n",
    "if condition-1:  \n",
    "     statement 1 \n",
    "elif condition-2:\n",
    "     stetement 2 \n",
    "elif condition-3:\n",
    "     stetement 3 \n",
    "     ...         \n",
    "else:            \n",
    "     statement  \n",
    "```\n",
    "\n",
    "1. The **`elif`** is short for else if. It allows us to check for multiple expressions.\n",
    "\n",
    "2. If the condition for **`if`** is **`False`**, it checks the condition of the next **`elif`** block and so on.\n",
    "\n",
    "3. If all the conditions are **`False`**, the body of **`else`** is executed.\n",
    "\n",
    "4. Only one block among the several **`if-elif-else`** blocks is executed according to the condition.\n",
    "\n",
    "5. The **`if`** block can have only one **`else`** block. But it can have multiple **`elif`** blocks.\n",
    "\n",
    "<div>\n",
    "<img src=\"img/eif0.png\" width=\"500\"/>\n",
    "</div>"
   ]
  },
  {
   "cell_type": "markdown",
   "metadata": {},
   "source": [
    "## 💻 Exercises  ➞ <span class='label label-default'>if & if else</span>\n",
    "​\n",
    "1.  Get user input using **`input(“Enter your age: ”)`**. If user is 18 or older, give feedback: **`You are old enough to drive`**. If below 18 give feedback to **`You need #number more years to learn to drive`**.\n",
    "​\n",
    "Output:\n",
    "​\n",
    "```py\n",
    "    Enter your age: 30\n",
    "    You are old enough to learn to drive.\n",
    "    Output:\n",
    "    Enter your age: 15\n",
    "    You need 3 more years to learn to drive.\n",
    "```\n",
    "​\n",
    "2.  Compare the values of my_age and your_age using **`if-else`**. Who is older (me or you)? Use **`input(“Enter your age: ”)`** to get the age as input. You can use a nested condition to print **`'year'`** for 1 year difference in age, **`'years'`** for bigger differences, and a custom text if **`my_age = your_age`**.\n",
    "\n",
    "​\n",
    "Output:\n",
    "​\n",
    "```py\n",
    "    Enter your age: 30\n",
    "    You are 5 years older than me.\n",
    "```\n",
    "\n",
    "## 💻 Exercises ➞ <span class='label label-default'>if_elif_else</span>\n",
    "​\n",
    "### Exercises ➞ <span class='label label-default'>Level 1</span>\n",
    "​\n",
    "1.  Get two numbers from the user using input prompt. If **`num_1`** is greater than **`num_2`** return **`num_1`** is greater than **`num_2`**, if **`num_1`** is less **`num_2`** return **`num_1`** is smaller than **`num_2`**, else **`num_1`** is equal to **`num_2`**. Output:\n",
    "​\n",
    "```sh\n",
    "Enter number one: 9\n",
    "Enter number two: 6\n",
    "9 is greater than 6\n",
    "```\n",
    "​\n",
    "### Exercises ➞ <span class='label label-default'>Level 2</span>\n",
    "​\n",
    "1. Write a code which gives grade to students according to theirs scores:\n",
    "   \n",
    "```py\n",
    " 80-100, A\n",
    " 70-89, B\n",
    " 60-69, C\n",
    " 50-59, D\n",
    " 0-49, F\n",
    "```\n",
    "​\n",
    "2. Check if the season is Autumn, Winter, Spring or Summer.\n",
    "    - If the user input is:\n",
    "        - September, October or November, the season is Autumn.\n",
    "        - December, January or February, the season is Winter.\n",
    "        - March, April or May, the season is Spring\n",
    "        - June, July or August, the season is Summer\n",
    "​\n",
    "​\n",
    "3.  The following list contains some fruits:\n",
    "       - If a fruit doesn't exist in the list add the fruit to the list and print the modified list. If the fruit exists print **`('That fruit already exist in the list')`**\n",
    "    \n",
    "```py\n",
    " fruits = ['banana', 'orange', 'mango', 'pear']\n",
    "```    \n",
    "​\n",
    "​\n",
    "### Exercises ➞ <span class='label label-default'>Level 3</span>\n",
    "​\n",
    "   1. Here we have a person dictionary. Feel free to modify it!\n",
    "   \n",
    "```py\n",
    "    person={\n",
    "    'first_name': 'Milaan',\n",
    "    'last_name': 'Parmar',\n",
    "    'age': 96,\n",
    "    'country': 'Finland',\n",
    "    'is_marred': True,\n",
    "    'skills': ['Python', 'Matlab', 'R', 'C', 'C++'],\n",
    "    'address': {\n",
    "        'street': 'Space street',\n",
    "        'zipcode': '02210'\n",
    "    }\n",
    "    }\n",
    "```\n",
    "​\n",
    "* Check if the person dictionary has skills key, if so print out the middle skill in the skills list.\n",
    "* Check if the person dictionary has skills key, if so check if the person has 'Python' skill and print out the result.\n",
    "* If a person skills has only Python and Matlab, print('He knows machine learning'), if the person skills has Python, and R print('He knows statistics'), if the person skills has C, and C++, Print('He knows software development'), else print('unknown title') - for more accurate results more conditions can be nested!\n",
    "* If the person is married and if he lives in Finland, print the information in the following format:\n",
    "​\n",
    "```py\n",
    "    Milaan Parmar lives in Finland. He is married.\n",
    "```\n",
    "\n"
   ]
  },
  {
   "cell_type": "code",
   "execution_count": null,
   "metadata": {},
   "outputs": [],
   "source": [
    "m"
   ]
  }
 ],
 "metadata": {
  "hide_input": false,
  "kernelspec": {
   "display_name": "Python 3 (ipykernel)",
   "language": "python",
   "name": "python3"
  },
  "language_info": {
   "codemirror_mode": {
    "name": "ipython",
    "version": 3
   },
   "file_extension": ".py",
   "mimetype": "text/x-python",
   "name": "python",
   "nbconvert_exporter": "python",
   "pygments_lexer": "ipython3",
   "version": "3.12.3"
  },
  "toc": {
   "base_numbering": 1,
   "nav_menu": {},
   "number_sections": true,
   "sideBar": true,
   "skip_h1_title": false,
   "title_cell": "Table of Contents",
   "title_sidebar": "Contents",
   "toc_cell": false,
   "toc_position": {},
   "toc_section_display": true,
   "toc_window_display": false
  },
  "varInspector": {
   "cols": {
    "lenName": 16,
    "lenType": 16,
    "lenVar": 40
   },
   "kernels_config": {
    "python": {
     "delete_cmd_postfix": "",
     "delete_cmd_prefix": "del ",
     "library": "var_list.py",
     "varRefreshCmd": "print(var_dic_list())"
    },
    "r": {
     "delete_cmd_postfix": ") ",
     "delete_cmd_prefix": "rm(",
     "library": "var_list.r",
     "varRefreshCmd": "cat(var_dic_list()) "
    }
   },
   "types_to_exclude": [
    "module",
    "function",
    "builtin_function_or_method",
    "instance",
    "_Feature"
   ],
   "window_display": false
  }
 },
 "nbformat": 4,
 "nbformat_minor": 4
}
