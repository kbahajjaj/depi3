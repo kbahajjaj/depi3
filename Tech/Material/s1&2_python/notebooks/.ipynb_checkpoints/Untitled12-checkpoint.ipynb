{
 "cells": [
  {
   "cell_type": "code",
   "execution_count": 18,
   "id": "fd4c88e3-a2c8-48c7-b31b-407c88bb271c",
   "metadata": {
    "scrolled": true
   },
   "outputs": [
    {
     "name": "stdout",
     "output_type": "stream",
     "text": [
      "1\n",
      "2\n",
      "3\n",
      "4\n"
     ]
    }
   ],
   "source": [
    "#for \n",
    "# Know the range \n",
    "for i in range(1,5):\n",
    "    print(i)\n"
   ]
  },
  {
   "cell_type": "code",
   "execution_count": 44,
   "id": "f23b084f-da49-46e1-bd46-8a9986b9da89",
   "metadata": {},
   "outputs": [
    {
     "name": "stdout",
     "output_type": "stream",
     "text": [
      "ali\n",
      "Baraa\n",
      "Aya\n"
     ]
    }
   ],
   "source": [
    "# loop data containers\n",
    "mylist = {0:\"ali\", 1:\"Baraa\",2:\"Aya\"}\n",
    "for i in mylist.values():\n",
    "    print(i)"
   ]
  },
  {
   "cell_type": "code",
   "execution_count": null,
   "id": "6b0c9d21-74b5-4ede-82f3-b1aa65f7bafd",
   "metadata": {},
   "outputs": [],
   "source": []
  },
  {
   "cell_type": "code",
   "execution_count": 50,
   "id": "0191e5d3-a242-4f97-b12d-7c87e5591fb5",
   "metadata": {},
   "outputs": [
    {
     "name": "stdin",
     "output_type": "stream",
     "text": [
      "Do you want end game enter yes:  no \n",
      "Do you want end game enter yes:  Yes\n"
     ]
    }
   ],
   "source": [
    "#while \n",
    "playing = True \n",
    "while playing:\n",
    "    user_input= input(\"Do you want end game enter yes: \")\n",
    "    if user_input.lower() == \"yes\":\n",
    "        playing = False\n",
    "\n"
   ]
  },
  {
   "cell_type": "code",
   "execution_count": 52,
   "id": "655b9a15-9dc3-458e-86f1-44651f9c00c9",
   "metadata": {
    "scrolled": true
   },
   "outputs": [
    {
     "name": "stdout",
     "output_type": "stream",
     "text": [
      "1\n",
      "2\n",
      "3\n",
      "4\n",
      "5\n",
      "6\n",
      "7\n",
      "8\n",
      "9\n"
     ]
    }
   ],
   "source": [
    "bbbbbbbbbbbbb \n",
    "while x < 10:\n",
    "    print(x)\n",
    "    x += 1"
   ]
  },
  {
   "cell_type": "code",
   "execution_count": null,
   "id": "64a1827c-72a5-42d3-9e76-45900974b934",
   "metadata": {},
   "outputs": [],
   "source": []
  },
  {
   "cell_type": "code",
   "execution_count": 56,
   "id": "a5494da5-a2d3-4135-a229-c474b51c91d6",
   "metadata": {},
   "outputs": [
    {
     "name": "stdout",
     "output_type": "stream",
     "text": [
      "0\n",
      "1\n",
      "2\n",
      "3\n",
      "4\n",
      "6\n",
      "7\n",
      "8\n",
      "9\n"
     ]
    }
   ],
   "source": [
    "# break , continue\n",
    "\n",
    "for i in range(10):\n",
    "    if i == 5:\n",
    "        continue \n",
    "    print(i)"
   ]
  },
  {
   "cell_type": "code",
   "execution_count": null,
   "id": "2772cb01-886d-455d-8394-f8d5417983e2",
   "metadata": {},
   "outputs": [],
   "source": []
  },
  {
   "cell_type": "code",
   "execution_count": 72,
   "id": "18639e8d-7bf8-4421-856a-4b88e5b31cee",
   "metadata": {},
   "outputs": [
    {
     "ename": "IndentationError",
     "evalue": "expected an indented block after 'if' statement on line 4 (3440710732.py, line 7)",
     "output_type": "error",
     "traceback": [
      "\u001b[1;36m  Cell \u001b[1;32mIn[72], line 7\u001b[1;36m\u001b[0m\n\u001b[1;33m    print(i)\u001b[0m\n\u001b[1;37m    ^\u001b[0m\n\u001b[1;31mIndentationError\u001b[0m\u001b[1;31m:\u001b[0m expected an indented block after 'if' statement on line 4\n"
     ]
    }
   ],
   "source": [
    "# loop data containers\n",
    "mylist = {0:\"ali\", 1:\"Baraa\",2:\"Aya\"}\n",
    "for i in mylist.values():\n",
    "    if i == \"Baraa\":\n",
    "         \n",
    "        pass\n",
    "    print(i)"
   ]
  },
  {
   "cell_type": "code",
   "execution_count": 74,
   "id": "71141a4f-09bd-4ff9-824d-1245d27a7033",
   "metadata": {},
   "outputs": [
    {
     "name": "stdout",
     "output_type": "stream",
     "text": [
      "4\n"
     ]
    }
   ],
   "source": [
    "name = \"Baraa Abu Sallout\"\n",
    "count= 0\n",
    "for i in name: \n",
    "    if i == \"a\":\n",
    "        count+=1\n",
    "print(count)"
   ]
  },
  {
   "cell_type": "code",
   "execution_count": 84,
   "id": "74777d91-ac53-405e-9e68-d1d1276adcbc",
   "metadata": {
    "scrolled": true
   },
   "outputs": [
    {
     "name": "stdout",
     "output_type": "stream",
     "text": [
      "Aya\n",
      "Baraa\n",
      "ali\n"
     ]
    }
   ],
   "source": [
    "mylist = [\"ali\", \"Baraa\",\"Aya\"]\n",
    "\n",
    "for i in reversed(mylist):\n",
    "    print(i)"
   ]
  },
  {
   "cell_type": "code",
   "execution_count": null,
   "id": "d8ee857e-7c6b-4f28-92dc-0de492f3df0c",
   "metadata": {},
   "outputs": [],
   "source": []
  },
  {
   "cell_type": "code",
   "execution_count": 90,
   "id": "822a0a55-d6e1-4572-9715-c379eba27e9f",
   "metadata": {},
   "outputs": [
    {
     "name": "stdout",
     "output_type": "stream",
     "text": [
      "Red flower\n",
      "Red watch\n",
      "Red iphone\n",
      "Pink flower\n",
      "Pink watch\n",
      "Pink iphone\n",
      "blue flower\n",
      "blue watch\n",
      "blue iphone\n"
     ]
    }
   ],
   "source": [
    "color = ['Red', 'Pink',\"blue\"]\n",
    "element = ['flower', 'watch',\"iphone\"]\n",
    "\n",
    "for i in color:\n",
    "    for j in element:\n",
    "        print(i,j)\n",
    "\n",
    "# red flower\n",
    "# red watch\n",
    "# Pink flower\n",
    "# Pink watch"
   ]
  },
  {
   "cell_type": "code",
   "execution_count": null,
   "id": "d66fa276-180e-4848-a862-fb109384f679",
   "metadata": {},
   "outputs": [],
   "source": [
    "*\n",
    "* *\n",
    "* * *\n",
    "* * * *\n",
    "* * * * *"
   ]
  },
  {
   "cell_type": "code",
   "execution_count": 3,
   "id": "c4b8a870-7a88-49e0-92b6-57a93aca9dea",
   "metadata": {},
   "outputs": [
    {
     "name": "stdout",
     "output_type": "stream",
     "text": [
      "* \n",
      "* * \n",
      "* * * \n",
      "* * * * \n",
      "* * * * * \n"
     ]
    }
   ],
   "source": [
    "row= 5\n",
    "for i in range(1,row+1):\n",
    "    for j in range(1,i+1):\n",
    "        print(\"*\",end = \" \")\n",
    "    print(\"\")\n"
   ]
  },
  {
   "cell_type": "code",
   "execution_count": null,
   "id": "8a14681b-b94a-4651-8569-82375bbfb96e",
   "metadata": {},
   "outputs": [],
   "source": []
  },
  {
   "cell_type": "code",
   "execution_count": null,
   "id": "4a3beab5-971a-41ff-bfdb-f96b62f80055",
   "metadata": {},
   "outputs": [],
   "source": []
  },
  {
   "cell_type": "code",
   "execution_count": null,
   "id": "82b92575-50ae-4e8e-bbdd-b60f38bb1a2f",
   "metadata": {},
   "outputs": [],
   "source": []
  }
 ],
 "metadata": {
  "kernelspec": {
   "display_name": "Python 3 (ipykernel)",
   "language": "python",
   "name": "python3"
  },
  "language_info": {
   "codemirror_mode": {
    "name": "ipython",
    "version": 3
   },
   "file_extension": ".py",
   "mimetype": "text/x-python",
   "name": "python",
   "nbconvert_exporter": "python",
   "pygments_lexer": "ipython3",
   "version": "3.12.3"
  }
 },
 "nbformat": 4,
 "nbformat_minor": 5
}
