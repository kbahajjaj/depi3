{
 "cells": [
  {
   "cell_type": "markdown",
   "metadata": {},
   "source": [
    "# Python Dictionary\n",
    "\n",
    "In this class, you'll learn everything about Python dictionaries; how they are created, accessing, adding, removing elements from them and various built-in methods."
   ]
  },
  {
   "attachments": {},
   "cell_type": "markdown",
   "metadata": {},
   "source": [
    "## What is Dictionary in Python?\n",
    "\n",
    "Python dictionary is an unordered collection of items. Each item of a dictionary has a **`key/value`** pair. \n",
    "\n",
    "Dictionaries are optimized to retrieve values when the key is known.\n",
    "\n",
    "<div>\n",
    "<img src=\"img/d0.png\" width=\"600\"/>\n",
    "</div>\n",
    "\n",
    "**Example:**\n",
    "\n",
    "```python\n",
    ">>> dict = { }  #empty dictionary\n",
    ">>> dict = {1:'Python',2:'Java',3:'C++'}\n",
    "```\n",
    "\n",
    "* **Dictionary is mutable** i.e., value can be updated.\n",
    "\n",
    "* Key must be unique and immutable. Value is accessed by key. Value can be updated while key cannot be changed. \n",
    "\n",
    "* Dictionary is known as Associative array since the Key works as Index and they are decided by the user.\n",
    "\n",
    "### Summary\n",
    "\n",
    "| Data types     | Type          |         |\n",
    "| :------------: | :-----------: |:------: |\n",
    "| **String**     | **immutable** |  |\n",
    "| **List**       | **mutable**   |✎|\n",
    "| **Tuple**      | **immutable** |  |\n",
    "| **Dictionary** | **mutable**   |✎|"
   ]
  },
  {
   "cell_type": "code",
   "execution_count": 63,
   "metadata": {},
   "outputs": [
    {
     "data": {
      "text/plain": [
       "{1: 'apple', 'type': 'ball'}"
      ]
     },
     "execution_count": 63,
     "metadata": {},
     "output_type": "execute_result"
    }
   ],
   "source": [
    "d =  {1:\"apple\",\"type\":\"ball\"}\n",
    "d"
   ]
  },
  {
   "cell_type": "code",
   "execution_count": 67,
   "metadata": {},
   "outputs": [
    {
     "data": {
      "text/plain": [
       "'Best language'"
      ]
     },
     "execution_count": 67,
     "metadata": {},
     "output_type": "execute_result"
    }
   ],
   "source": [
    "my_dict =  {1:\"python\",2:\"C#\",3: \"Java\",'c':'Best language'}\n",
    "my_dict[2]\n",
    "my_dict.get('c')"
   ]
  },
  {
   "cell_type": "code",
   "execution_count": 71,
   "metadata": {},
   "outputs": [
    {
     "data": {
      "text/plain": [
       "'Best language'"
      ]
     },
     "execution_count": 71,
     "metadata": {},
     "output_type": "execute_result"
    }
   ],
   "source": [
    "my_dict['c']\n"
   ]
  },
  {
   "cell_type": "code",
   "execution_count": 95,
   "metadata": {},
   "outputs": [
    {
     "data": {
      "text/plain": [
       "{1: 'python', 2: 'C#', 3: 'Java language', 'c': 'Best language'}"
      ]
     },
     "execution_count": 95,
     "metadata": {},
     "output_type": "execute_result"
    }
   ],
   "source": [
    "my_dict =  {1:\"python\",2:\"C#\",3: \"Java\",'c':'Best language'}\n",
    "my_dict.keys()\n",
    "\n",
    "my_dict[3] =\"Java language\"\n",
    "my_dict\n",
    "my_dict[4] =\"R language\"\n",
    "my_dict\n",
    "my_dict.pop(4)\n",
    "my_dict"
   ]
  },
  {
   "cell_type": "code",
   "execution_count": 99,
   "metadata": {},
   "outputs": [
    {
     "data": {
      "text/plain": [
       "('c', 'Best language')"
      ]
     },
     "execution_count": 99,
     "metadata": {},
     "output_type": "execute_result"
    }
   ],
   "source": [
    "my_dict.popitem()\n"
   ]
  },
  {
   "cell_type": "code",
   "execution_count": 101,
   "metadata": {},
   "outputs": [
    {
     "data": {
      "text/plain": [
       "{1: 'python', 2: 'C#', 3: 'Java language'}"
      ]
     },
     "execution_count": 101,
     "metadata": {},
     "output_type": "execute_result"
    }
   ],
   "source": [
    "my_dict"
   ]
  },
  {
   "cell_type": "code",
   "execution_count": 105,
   "metadata": {},
   "outputs": [],
   "source": [
    "my_dict.clear()"
   ]
  },
  {
   "cell_type": "code",
   "execution_count": 109,
   "metadata": {},
   "outputs": [],
   "source": [
    "del my_dict"
   ]
  },
  {
   "cell_type": "code",
   "execution_count": 111,
   "metadata": {},
   "outputs": [
    {
     "ename": "NameError",
     "evalue": "name 'my_dict' is not defined",
     "output_type": "error",
     "traceback": [
      "\u001b[1;31m---------------------------------------------------------------------------\u001b[0m",
      "\u001b[1;31mNameError\u001b[0m                                 Traceback (most recent call last)",
      "Cell \u001b[1;32mIn[111], line 1\u001b[0m\n\u001b[1;32m----> 1\u001b[0m my_dict\n",
      "\u001b[1;31mNameError\u001b[0m: name 'my_dict' is not defined"
     ]
    }
   ],
   "source": [
    "my_dict"
   ]
  },
  {
   "cell_type": "code",
   "execution_count": 83,
   "metadata": {},
   "outputs": [
    {
     "name": "stdout",
     "output_type": "stream",
     "text": [
      "1 : python  Found\n"
     ]
    }
   ],
   "source": [
    "for i in my_dict.keys():\n",
    "    if my_dict[i]== 'python':\n",
    "        print(i, \":\",my_dict[i] ,\" Found\")"
   ]
  },
  {
   "cell_type": "code",
   "execution_count": null,
   "metadata": {},
   "outputs": [],
   "source": [
    "my_dict =  {1:\"python\",2:\"C#\",3: \"Java\",'c':'Best language'}\n"
   ]
  },
  {
   "cell_type": "code",
   "execution_count": null,
   "metadata": {},
   "outputs": [],
   "source": []
  },
  {
   "cell_type": "code",
   "execution_count": null,
   "metadata": {},
   "outputs": [],
   "source": []
  },
  {
   "cell_type": "code",
   "execution_count": null,
   "metadata": {},
   "outputs": [],
   "source": []
  },
  {
   "cell_type": "code",
   "execution_count": null,
   "metadata": {},
   "outputs": [],
   "source": []
  },
  {
   "cell_type": "code",
   "execution_count": null,
   "metadata": {},
   "outputs": [],
   "source": []
  },
  {
   "cell_type": "code",
   "execution_count": null,
   "metadata": {},
   "outputs": [],
   "source": []
  },
  {
   "cell_type": "code",
   "execution_count": null,
   "metadata": {},
   "outputs": [],
   "source": []
  },
  {
   "cell_type": "code",
   "execution_count": null,
   "metadata": {},
   "outputs": [],
   "source": []
  },
  {
   "cell_type": "code",
   "execution_count": null,
   "metadata": {},
   "outputs": [],
   "source": []
  },
  {
   "cell_type": "code",
   "execution_count": null,
   "metadata": {},
   "outputs": [],
   "source": []
  },
  {
   "cell_type": "markdown",
   "metadata": {
    "jp-MarkdownHeadingCollapsed": true
   },
   "source": [
    "## Creating Python Dictionary\n",
    "\n",
    "Creating a dictionary is as simple as placing items inside curly braces **`{}`** separated by commas or the **[dict()](https://github.com/milaan9/04_Python_Functions/blob/main/002_Python_Functions_Built_in/015_Python_dict%28%29.ipynb)** built-in function.\n",
    "\n",
    "An item has a **`key`** and a corresponding **`value`** that is expressed as a pair {**key: value**}.\n",
    "\n",
    "The **`key`** and the **`value`** is separated by a colon **`:`**. Items are separated from each other by a comma **`,`**.\n",
    "\n",
    "While the values can be of any data type and can repeat, keys must be of immutable type (**[string](https://github.com/milaan9/02_Python_Datatypes/blob/main/002_Python_String.ipynb)**, **[number](https://github.com/milaan9/02_Python_Datatypes/blob/main/001_Python_Numbers.ipynb)** or **[tuple](https://github.com/milaan9/02_Python_Datatypes/blob/main/004_Python_Tuple.ipynb)** with immutable elements) and must be unique."
   ]
  },
  {
   "cell_type": "code",
   "execution_count": 1,
   "metadata": {
    "ExecuteTime": {
     "end_time": "2021-10-03T15:24:34.175014Z",
     "start_time": "2021-10-03T15:24:34.150602Z"
    }
   },
   "outputs": [
    {
     "name": "stdout",
     "output_type": "stream",
     "text": [
      "{} [] () set() \n",
      "<class 'dict'> <class 'list'> <class 'tuple'> <class 'set'> <class 'str'>\n",
      "{1: 'apple', 2: 'ball'}\n",
      "{1: 'hi', 'name': 666, 1.5: ('yes', 'very much'), 9: [3, 6, 9]}\n",
      "<class 'list'>\n",
      "{1: 'apple', 2: 'ball'}\n",
      "2\n"
     ]
    }
   ],
   "source": [
    "# Example: empty dictionary\n",
    "\n",
    "d = {}; l = []; t = (); s = set(); st = \"\"\n",
    "print(d,l,t,s,st)     # ▶ {} [] () set() \n",
    "print(type(d),type(l),type(t), type(s), type(st)) \n",
    "# ▶ <class 'dict'> <class 'list'> <class 'tuple'> <class 'set'> <class 'str'>\n",
    "\n",
    "# dictionary with integer keys\n",
    "my_dict1 = {1: 'apple', 2: 'ball'}\n",
    "print(my_dict1)        # ▶ {1: 'apple', 2: 'ball'}\n",
    "\n",
    "# dictionary with mixed keys\n",
    "my_dict2 = {1:\"hi\", \"name\":666, 1.5:(\"yes\",\"very much\"), 9: [3, 6, 9]}\n",
    "print(my_dict2)        # ▶ {1: 'hi', 'name': 666, 1.5: ('yes', 'very much'), 9: [3, 6, 9]}\n",
    "\n",
    "# from sequence having each item as a pair\n",
    "my_dict3 = dict([(1,'apple'), (2,'ball')])\n",
    "print(type([(1,'apple'), (2,'ball')])) # nested list\n",
    "print(my_dict3)        # ▶ {1: 'apple', 2: 'ball'}\n",
    "print(len(my_dict3))   # ▶ 2"
   ]
  },
  {
   "cell_type": "code",
   "execution_count": 1,
   "metadata": {},
   "outputs": [
    {
     "name": "stdout",
     "output_type": "stream",
     "text": [
      "<class 'set'>\n"
     ]
    }
   ],
   "source": [
    "x = {5}\n",
    "print(type(x))"
   ]
  },
  {
   "cell_type": "code",
   "execution_count": 3,
   "metadata": {},
   "outputs": [
    {
     "name": "stdout",
     "output_type": "stream",
     "text": [
      "<class 'dict'>\n"
     ]
    }
   ],
   "source": [
    "x = {5:\"T\"}\n",
    "print(type(x))"
   ]
  },
  {
   "cell_type": "code",
   "execution_count": 4,
   "metadata": {},
   "outputs": [
    {
     "name": "stdout",
     "output_type": "stream",
     "text": [
      "<class 'dict'>\n"
     ]
    }
   ],
   "source": [
    "x ={}\n",
    "print(type(x))"
   ]
  },
  {
   "cell_type": "code",
   "execution_count": 5,
   "metadata": {},
   "outputs": [
    {
     "name": "stdout",
     "output_type": "stream",
     "text": [
      "<class 'set'>\n"
     ]
    }
   ],
   "source": [
    "x =set()\n",
    "print(type(x))"
   ]
  },
  {
   "cell_type": "code",
   "execution_count": 2,
   "metadata": {
    "scrolled": true
   },
   "outputs": [
    {
     "data": {
      "text/plain": [
       "({1: 100, 'bar': 200}, {'foo': 100, 'bar': 200})"
      ]
     },
     "execution_count": 2,
     "metadata": {},
     "output_type": "execute_result"
    }
   ],
   "source": [
    "dict([(1, 100), ('bar', 200)]), dict(foo=100, bar=200)"
   ]
  },
  {
   "cell_type": "markdown",
   "metadata": {},
   "source": [
    "As you can see from above, we can also create a dictionary using the built-in **`dict()`** function."
   ]
  },
  {
   "cell_type": "markdown",
   "metadata": {
    "jp-MarkdownHeadingCollapsed": true
   },
   "source": [
    "## Accessing Elements from Dictionary\n",
    "\n",
    "While indexing is used with other data types to access values, a dictionary uses **`keys`**. Keys can be used either inside square brackets **`[]`** or with the **`get()`** method.\n",
    "\n",
    "If we use the square brackets **`[]`**, **`KeyError`** is raised in case a key is not found in the dictionary. On the other hand, the **`get()`** method returns **`None`** if the key is not found."
   ]
  },
  {
   "cell_type": "code",
   "execution_count": 3,
   "metadata": {
    "ExecuteTime": {
     "end_time": "2021-10-03T15:24:34.899634Z",
     "start_time": "2021-10-03T15:24:34.177947Z"
    }
   },
   "outputs": [
    {
     "name": "stdout",
     "output_type": "stream",
     "text": [
      "Python\n",
      "Gods language\n",
      "None\n"
     ]
    },
    {
     "ename": "KeyError",
     "evalue": "4",
     "output_type": "error",
     "traceback": [
      "\u001b[1;31m---------------------------------------------------------------------------\u001b[0m",
      "\u001b[1;31mKeyError\u001b[0m                                  Traceback (most recent call last)",
      "\u001b[1;32m~\\AppData\\Local\\Temp\\ipykernel_16016\\1031344677.py\u001b[0m in \u001b[0;36m<module>\u001b[1;34m\u001b[0m\n\u001b[0;32m     12\u001b[0m \u001b[0mprint\u001b[0m\u001b[1;33m(\u001b[0m\u001b[0mmy_dict\u001b[0m\u001b[1;33m.\u001b[0m\u001b[0mget\u001b[0m\u001b[1;33m(\u001b[0m\u001b[1;36m4\u001b[0m\u001b[1;33m)\u001b[0m\u001b[1;33m)\u001b[0m     \u001b[1;31m# ▶ None\u001b[0m\u001b[1;33m\u001b[0m\u001b[1;33m\u001b[0m\u001b[0m\n\u001b[0;32m     13\u001b[0m \u001b[1;33m\u001b[0m\u001b[0m\n\u001b[1;32m---> 14\u001b[1;33m \u001b[0mprint\u001b[0m\u001b[1;33m(\u001b[0m\u001b[0mmy_dict\u001b[0m\u001b[1;33m[\u001b[0m\u001b[1;36m4\u001b[0m\u001b[1;33m]\u001b[0m\u001b[1;33m)\u001b[0m         \u001b[1;31m# ▶ KeyError!\u001b[0m\u001b[1;33m\u001b[0m\u001b[1;33m\u001b[0m\u001b[0m\n\u001b[0m",
      "\u001b[1;31mKeyError\u001b[0m: 4"
     ]
    }
   ],
   "source": [
    "# Example: get vs [] for retrieving elements\n",
    "\n",
    "my_dict = {1:'Python', 2:'Java', 3:'C++', 'c': 'Gods language'}\n",
    "\n",
    "# method: 1\n",
    "print(my_dict[1])         # ▶ Python\n",
    "\n",
    "# method: 2\n",
    "print(my_dict.get('c'))   # ▶ Gods language\n",
    "\n",
    "# Trying to access keys which doesn't exist in dictionary:\n",
    "print(my_dict.get(4))     # ▶ None\n",
    "\n",
    "print(my_dict[4])         # ▶ KeyError!"
   ]
  },
  {
   "cell_type": "markdown",
   "metadata": {},
   "source": [
    "* iterate all elemnet using for loop for **`keys()`** method, **`keys()`** method return list of all keys in dictionary."
   ]
  },
  {
   "cell_type": "code",
   "execution_count": 50,
   "metadata": {
    "ExecuteTime": {
     "end_time": "2021-10-03T15:24:46.489676Z",
     "start_time": "2021-10-03T15:24:46.473079Z"
    },
    "scrolled": true
   },
   "outputs": [
    {
     "name": "stdout",
     "output_type": "stream",
     "text": [
      "dict_keys([1, 2, 3, 'c'])\n",
      "Python\n",
      "Java\n",
      "C++\n",
      "Gods language\n"
     ]
    }
   ],
   "source": [
    "# Example:\n",
    "\n",
    "dict = {1:'Python', 2:'Java', 3:'C++', 'c': 'Gods language'}\n",
    "print(dict.keys())\n",
    "for x in dict.keys():\n",
    "    print(dict[x])"
   ]
  },
  {
   "cell_type": "markdown",
   "metadata": {
    "jp-MarkdownHeadingCollapsed": true
   },
   "source": [
    "## Changing and Adding Dictionary elements\n",
    "\n",
    "Dictionaries are mutable. We can add new items or change the value of existing items using an assignment operator.\n",
    "\n",
    "If the key is already present, then the existing value gets updated. In case the key is not present, a new **`(key: value)`** pair is added to the dictionary."
   ]
  },
  {
   "cell_type": "code",
   "execution_count": 51,
   "metadata": {
    "ExecuteTime": {
     "end_time": "2021-10-03T15:24:47.367623Z",
     "start_time": "2021-10-03T15:24:47.345164Z"
    }
   },
   "outputs": [
    {
     "name": "stdout",
     "output_type": "stream",
     "text": [
      "{'name': 'Arthur', 'age': 25}\n",
      "{'name': 'Arthur', 'age': 25, 'address': 'Downtown'}\n"
     ]
    }
   ],
   "source": [
    "# Example 1: Changing and adding Dictionary Elements\n",
    "\n",
    "my_dict = {'name':'Arthur', 'age':24}\n",
    "\n",
    "my_dict['age'] = 25   # update value\n",
    "print(my_dict)        # ▶ {'age': 25, 'name': 'Arthur'}\n",
    "\n",
    "my_dict['address'] = 'Downtown'  # add item\n",
    "print(my_dict)        # ▶ {'name': 'Arthur', 'age': 25, 'address': 'Downtown'}"
   ]
  },
  {
   "cell_type": "code",
   "execution_count": 2,
   "metadata": {
    "ExecuteTime": {
     "end_time": "2021-10-03T15:24:47.707473Z",
     "start_time": "2021-10-03T15:24:47.698687Z"
    }
   },
   "outputs": [
    {
     "name": "stdout",
     "output_type": "stream",
     "text": [
      "{1: 'Python', 2: 'Java', 3: 'R', 4: 'PHP'}\n"
     ]
    }
   ],
   "source": [
    "# Example 2: \n",
    "\n",
    "my_dict = {1:'Python', 2:'Java', 3:'C++'}\n",
    "my_dict[3]=\"R\"     # update value\n",
    "my_dict[4]=\"PHP\"   # insert new value\n",
    "print(my_dict)     # ▶ {1: 'Python', 2: 'Java', 3: 'R', 4: 'PHP'}"
   ]
  },
  {
   "cell_type": "markdown",
   "metadata": {},
   "source": [
    "## Removing elements from Dictionary\n",
    "\n",
    "We can remove a particular item in a dictionary by using the **`pop()`** method. This method removes an item with the provided **`key`** and returns the **`value`**.\n",
    "\n",
    "The **`popitem()`** method can be used to remove and return an arbitrary **`(key, value)`** item pair from the dictionary. All the items can be removed at once, using the **`clear()`** method.\n",
    "\n",
    "We can also use the **`del`** keyword to remove individual items or the entire dictionary itself."
   ]
  },
  {
   "cell_type": "code",
   "execution_count": 132,
   "metadata": {},
   "outputs": [
    {
     "data": {
      "text/plain": [
       "True"
      ]
     },
     "execution_count": 132,
     "metadata": {},
     "output_type": "execute_result"
    }
   ],
   "source": [
    "my_dict =  {0:0,1:\"C#\",2: \"Java\",3:'Best language'}\n",
    "all(my_dict)\n",
    "any(my_dict)"
   ]
  },
  {
   "cell_type": "code",
   "execution_count": 134,
   "metadata": {},
   "outputs": [
    {
     "data": {
      "text/plain": [
       "4"
      ]
     },
     "execution_count": 134,
     "metadata": {},
     "output_type": "execute_result"
    }
   ],
   "source": [
    "len(my_dict)"
   ]
  },
  {
   "cell_type": "code",
   "execution_count": 140,
   "metadata": {},
   "outputs": [
    {
     "data": {
      "text/plain": [
       "[1, 2, 3, 4]"
      ]
     },
     "execution_count": 140,
     "metadata": {},
     "output_type": "execute_result"
    }
   ],
   "source": [
    "my_dict =  {1:\"python\",2:\"C#\",3: \"Java\",4:'Best language'}\n",
    "sorted(my_dict)"
   ]
  },
  {
   "cell_type": "code",
   "execution_count": 148,
   "metadata": {},
   "outputs": [
    {
     "data": {
      "text/plain": [
       "['python', 'Java', 'C#', 'Best language']"
      ]
     },
     "execution_count": 148,
     "metadata": {},
     "output_type": "execute_result"
    }
   ],
   "source": [
    "my_dict =  {\"python\":1,\"C#\":2,\"Java\":3,'Best language':4}\n",
    "sorted(my_dict,reverse= True)"
   ]
  },
  {
   "cell_type": "code",
   "execution_count": 152,
   "metadata": {},
   "outputs": [],
   "source": [
    "my_dict =  {1:\"python\",2:\"C#\",3: \"Java\",'C':'Best language'}\n"
   ]
  },
  {
   "cell_type": "code",
   "execution_count": 150,
   "metadata": {},
   "outputs": [
    {
     "name": "stdout",
     "output_type": "stream",
     "text": [
      "Help on built-in function sorted in module builtins:\n",
      "\n",
      "sorted(iterable, /, *, key=None, reverse=False)\n",
      "    Return a new list containing all items from the iterable in ascending order.\n",
      "\n",
      "    A custom key function can be supplied to customize the sort order, and the\n",
      "    reverse flag can be set to request the result in descending order.\n",
      "\n"
     ]
    }
   ],
   "source": [
    "help(sorted)"
   ]
  },
  {
   "cell_type": "code",
   "execution_count": 162,
   "metadata": {},
   "outputs": [
    {
     "data": {
      "text/plain": [
       "[-10, 1, 4, 5]"
      ]
     },
     "execution_count": 162,
     "metadata": {},
     "output_type": "execute_result"
    }
   ],
   "source": [
    "my_dict =  {1:\"python\",-10:\"C#\",5: \"Java\",4:'Best language'}\n",
    "sorted(my_dict)"
   ]
  },
  {
   "cell_type": "code",
   "execution_count": 164,
   "metadata": {},
   "outputs": [
    {
     "data": {
      "text/plain": [
       "[1, 4, 5, -10]"
      ]
     },
     "execution_count": 164,
     "metadata": {},
     "output_type": "execute_result"
    }
   ],
   "source": [
    "sorted(my_dict,key=abs)"
   ]
  },
  {
   "cell_type": "code",
   "execution_count": 192,
   "metadata": {},
   "outputs": [
    {
     "data": {
      "text/plain": [
       "[{'name': 'bob', 'grade': 75},\n",
       " {'name': 'devel', 'grade': 82},\n",
       " {'name': 'ali', 'grade': 88},\n",
       " {'name': 'bara', 'grade': 95}]"
      ]
     },
     "execution_count": 192,
     "metadata": {},
     "output_type": "execute_result"
    }
   ],
   "source": [
    "students = [\n",
    "    {\"name\":\"ali\",\"grade\":88},\n",
    "    {\"name\":\"bob\",\"grade\":75},\n",
    "    {\"name\":\"bara\",\"grade\":95},\n",
    "    {\"name\":\"devel\",\"grade\":82},\n",
    "]\n",
    "sort_std = sorted(students,key=  lambda students:students['grade'])\n",
    "sort_std"
   ]
  },
  {
   "cell_type": "code",
   "execution_count": 198,
   "metadata": {},
   "outputs": [
    {
     "data": {
      "text/plain": [
       "[{'name': 'bob', 'grade': 75},\n",
       " {'name': 'ali', 'grade': 88},\n",
       " {'name': 'devel', 'grade': 95},\n",
       " {'name': 'fara', 'grade': 95}]"
      ]
     },
     "execution_count": 198,
     "metadata": {},
     "output_type": "execute_result"
    }
   ],
   "source": [
    "students = [\n",
    "    {\"name\":\"ali\",\"grade\":88},\n",
    "    {\"name\":\"bob\",\"grade\":75},\n",
    "    {\"name\":\"fara\",\"grade\":95},\n",
    "    {\"name\":\"devel\",\"grade\":95},\n",
    "]\n",
    "sort_std = sorted(students,key=  lambda students:(students['grade'],students['name']))\n",
    "sort_std"
   ]
  },
  {
   "cell_type": "code",
   "execution_count": null,
   "metadata": {},
   "outputs": [],
   "source": []
  },
  {
   "cell_type": "code",
   "execution_count": null,
   "metadata": {},
   "outputs": [],
   "source": []
  },
  {
   "cell_type": "code",
   "execution_count": null,
   "metadata": {},
   "outputs": [],
   "source": []
  },
  {
   "cell_type": "code",
   "execution_count": null,
   "metadata": {},
   "outputs": [],
   "source": []
  },
  {
   "cell_type": "code",
   "execution_count": null,
   "metadata": {},
   "outputs": [],
   "source": []
  },
  {
   "cell_type": "code",
   "execution_count": 180,
   "metadata": {},
   "outputs": [
    {
     "data": {
      "text/plain": [
       "11"
      ]
     },
     "execution_count": 180,
     "metadata": {},
     "output_type": "execute_result"
    }
   ],
   "source": [
    "def add_without_lambda(x,y):\n",
    "    return x +y\n",
    "\n",
    "add_without_lambda(5,6)\n",
    "\n"
   ]
  },
  {
   "cell_type": "code",
   "execution_count": 182,
   "metadata": {},
   "outputs": [
    {
     "data": {
      "text/plain": [
       "11"
      ]
     },
     "execution_count": 182,
     "metadata": {},
     "output_type": "execute_result"
    }
   ],
   "source": [
    "\n",
    "add_lambda=lambda x,y:x+y\n",
    "add_lambda(5,6)"
   ]
  },
  {
   "cell_type": "code",
   "execution_count": null,
   "metadata": {},
   "outputs": [],
   "source": [
    "students"
   ]
  },
  {
   "cell_type": "code",
   "execution_count": null,
   "metadata": {},
   "outputs": [],
   "source": []
  },
  {
   "cell_type": "code",
   "execution_count": null,
   "metadata": {},
   "outputs": [],
   "source": []
  },
  {
   "cell_type": "code",
   "execution_count": 53,
   "metadata": {
    "ExecuteTime": {
     "end_time": "2021-10-03T15:24:48.339320Z",
     "start_time": "2021-10-03T15:24:48.319789Z"
    }
   },
   "outputs": [
    {
     "name": "stdout",
     "output_type": "stream",
     "text": [
      "16\n",
      "{1: 1, 2: 4, 3: 9, 5: 25}\n",
      "(5, 25)\n",
      "{1: 1, 2: 4, 3: 9}\n",
      "{}\n"
     ]
    },
    {
     "ename": "NameError",
     "evalue": "name 'squares' is not defined",
     "output_type": "error",
     "traceback": [
      "\u001b[1;31m---------------------------------------------------------------------------\u001b[0m",
      "\u001b[1;31mNameError\u001b[0m                                 Traceback (most recent call last)",
      "\u001b[1;32m<ipython-input-53-bb99b9cebaa8>\u001b[0m in \u001b[0;36m<module>\u001b[1;34m\u001b[0m\n\u001b[0;32m     16\u001b[0m \u001b[1;33m\u001b[0m\u001b[0m\n\u001b[0;32m     17\u001b[0m \u001b[1;32mdel\u001b[0m \u001b[0msquares\u001b[0m              \u001b[1;31m# delete the dictionary itself\u001b[0m\u001b[1;33m\u001b[0m\u001b[1;33m\u001b[0m\u001b[0m\n\u001b[1;32m---> 18\u001b[1;33m \u001b[0mprint\u001b[0m\u001b[1;33m(\u001b[0m\u001b[0msquares\u001b[0m\u001b[1;33m)\u001b[0m           \u001b[1;31m# ▶ NameError!!!\u001b[0m\u001b[1;33m\u001b[0m\u001b[1;33m\u001b[0m\u001b[0m\n\u001b[0m",
      "\u001b[1;31mNameError\u001b[0m: name 'squares' is not defined"
     ]
    }
   ],
   "source": [
    "# Example: Removing elements from a dictionary\n",
    "\n",
    "\n",
    "squares = {1:1, 2:4, 3:9, 4:16, 5:25}   # create a dictionary\n",
    "\n",
    "# remove a particular item, returns its value\n",
    "print(squares.pop(4))    # ▶ 16\n",
    "print(squares)           # ▶ {1: 1, 2: 4, 3: 9, 5: 25}\n",
    "\n",
    "# remove an arbitrary item, return (key,value)\n",
    "print(squares.popitem()) # ▶ (5, 25)\n",
    "print(squares)           # ▶ {1: 1, 2: 4, 3: 9}\n",
    "\n",
    "squares.clear()          # remove all items\n",
    "print(squares)           # ▶ {}\n",
    "\n",
    "del squares              # delete the dictionary itself\n",
    "print(squares)           # ▶ NameError!!!"
   ]
  },
  {
   "cell_type": "code",
   "execution_count": 8,
   "metadata": {
    "ExecuteTime": {
     "end_time": "2021-10-03T15:24:48.676242Z",
     "start_time": "2021-10-03T15:24:48.649873Z"
    }
   },
   "outputs": [
    {
     "name": "stdout",
     "output_type": "stream",
     "text": [
      "{1: 'Python', 2: 'Java', 4: 'PHP'}\n",
      "my_dict :  {}\n"
     ]
    },
    {
     "ename": "NameError",
     "evalue": "name 'my_dict' is not defined",
     "output_type": "error",
     "traceback": [
      "\u001b[1;31m---------------------------------------------------------------------------\u001b[0m",
      "\u001b[1;31mNameError\u001b[0m                                 Traceback (most recent call last)",
      "\u001b[1;32m<ipython-input-8-8138b0729954>\u001b[0m in \u001b[0;36m<module>\u001b[1;34m\u001b[0m\n\u001b[0;32m      9\u001b[0m \u001b[1;33m\u001b[0m\u001b[0m\n\u001b[0;32m     10\u001b[0m \u001b[1;32mdel\u001b[0m \u001b[0mmy_dict\u001b[0m       \u001b[1;31m# delete entire dictionary\u001b[0m\u001b[1;33m\u001b[0m\u001b[1;33m\u001b[0m\u001b[0m\n\u001b[1;32m---> 11\u001b[1;33m \u001b[0mprint\u001b[0m\u001b[1;33m(\u001b[0m\u001b[0mmy_dict\u001b[0m\u001b[1;33m[\u001b[0m\u001b[1;36m2\u001b[0m\u001b[1;33m]\u001b[0m\u001b[1;33m)\u001b[0m \u001b[1;31m# Error!\u001b[0m\u001b[1;33m\u001b[0m\u001b[1;33m\u001b[0m\u001b[0m\n\u001b[0m",
      "\u001b[1;31mNameError\u001b[0m: name 'my_dict' is not defined"
     ]
    }
   ],
   "source": [
    "# Example:\n",
    "\n",
    "my_dict = {1:'Python', 2:'Java', 3:'C++', 4:'PHP'}\n",
    "del my_dict[3]    # ▶ {1: 'Python', 2: 'Java', 4: 'PHP'} ∵ remove entry with key '3'\n",
    "print(my_dict)    # ▶ {}\n",
    "\n",
    "my_dict.clear()   # remove all entries in dict\n",
    "print(\"my_dict : \",my_dict)  # ▶ my_dict :  {}\n",
    "\n",
    "del my_dict       # delete entire dictionary\n",
    "print(my_dict[2]) # ▶ NameError!!!"
   ]
  },
  {
   "cell_type": "markdown",
   "metadata": {
    "jp-MarkdownHeadingCollapsed": true
   },
   "source": [
    "## Dictionary Built-in Dictionary Functions\n",
    "\n",
    "Built-in functions like **`all()`**, **`any()`**, **`len()`**, **`sorted()`**, **`str()`**, **`type()`**, etc. are commonly used with dictionaries to perform different tasks."
   ]
  },
  {
   "cell_type": "markdown",
   "metadata": {},
   "source": [
    "| Function | Description |\n",
    "|:----| :--- |\n",
    "| **[all()]()** | Returns **`True`** if all keys of the dictionary are true (or if the dictionary is empty). | \n",
    "| **[any()]()** | Returns **`True`** if any key of the dictionary is true. If the dictionary is empty, return **`False`**. | \n",
    "| **[len()]()** | Returns the length (the number of items) in the dictionary. | \n",
    "| **[sorted()]()** | Returns a new sorted list of keys in the dictionary. | \n",
    "| **[str()]()** | Produces a printable string representation of a dictionary. | \n",
    "| **[type()]()** | Returns the type of the passed variable. If passed variable is dictionary,then it would return a dictionary type. | "
   ]
  },
  {
   "cell_type": "markdown",
   "metadata": {},
   "source": [
    "Here are some examples that use built-in functions to work with a dictionary."
   ]
  },
  {
   "cell_type": "code",
   "execution_count": 2,
   "metadata": {
    "ExecuteTime": {
     "end_time": "2021-10-03T15:24:49.930164Z",
     "start_time": "2021-10-03T15:24:49.912592Z"
    }
   },
   "outputs": [
    {
     "name": "stdout",
     "output_type": "stream",
     "text": [
      "False\n",
      "True\n",
      "6\n",
      "[0, 1, 3, 5, 7, 9]\n"
     ]
    }
   ],
   "source": [
    "# Example: Dictionary Built-in Functions\n",
    "\n",
    "# all will give True if all \"Key\" is \"True\". 0 is also consider as False \n",
    "\n",
    "squares = {0:0, 1:1, 3:9, 5:25, 7:49, 9:81}\n",
    "\n",
    "print(all(squares))     # ▶ False\n",
    "print(any(squares))     # ▶ True\n",
    "print(len(squares))     # ▶ 6\n",
    "print(sorted(squares))  # ▶ [0, 1, 3, 5, 7, 9]"
   ]
  },
  {
   "cell_type": "markdown",
   "metadata": {},
   "source": [
    "### `all(dict)` - The `all()` function returns True when all elements in the given iterable are true. If not, it returns False.\n",
    "\n",
    "In case of dictionaries, if all keys (not values) are true or the dictionary is empty, **`all()`** returns **`True`**. Else, it returns **`false`** for all other cases."
   ]
  },
  {
   "cell_type": "code",
   "execution_count": 10,
   "metadata": {
    "ExecuteTime": {
     "end_time": "2021-10-03T15:24:50.637213Z",
     "start_time": "2021-10-03T15:24:50.623543Z"
    }
   },
   "outputs": [
    {
     "name": "stdout",
     "output_type": "stream",
     "text": [
      "False\n",
      "True\n",
      "False\n",
      "True\n",
      "True\n"
     ]
    }
   ],
   "source": [
    "# Example 1: How all() works with Python dictionaries?\n",
    "# In case of dictionaries, if all keys (not values) are true or the dictionary is empty, \n",
    "# all() returns True. Else, it returns false for all other cases.\n",
    "\n",
    "my_dict = {0:'False', 1:'False'}\n",
    "print(all(my_dict))   # ▶ False\n",
    "\n",
    "my_dict = {1:'True', 2:'True'}\n",
    "print(all(my_dict))   # ▶ True\n",
    "\n",
    "my_dict = {1:'True', False:0}\n",
    "print(all(my_dict))   # ▶ False\n",
    "\n",
    "my_dict = {}\n",
    "print(all(my_dict))   # ▶ True\n",
    "\n",
    "# 0 is False\n",
    "# '0' is True\n",
    "my_dict = {'0':'True'}\n",
    "print(all(my_dict))   # ▶ True"
   ]
  },
  {
   "cell_type": "markdown",
   "metadata": {},
   "source": [
    "### `any(dict)` - The `any()` function returns True if any element of an iterable is True. If not, any() returns False.\n",
    "\n",
    "In the case of dictionaries, if all keys (not values) are false or the dictionary is empty, **`any()`** returns **`False`**. If at least one key is true, **`any()`** returns **`True`**."
   ]
  },
  {
   "cell_type": "code",
   "execution_count": 11,
   "metadata": {
    "ExecuteTime": {
     "end_time": "2021-10-03T15:24:51.145031Z",
     "start_time": "2021-10-03T15:24:51.131363Z"
    }
   },
   "outputs": [
    {
     "name": "stdout",
     "output_type": "stream",
     "text": [
      "False\n",
      "True\n",
      "False\n",
      "False\n",
      "True\n"
     ]
    }
   ],
   "source": [
    "# Example 1: How any() works with Python dictionaries?\n",
    "\n",
    "my_dict = {0:'False'}             \n",
    "print(any(my_dict))                # ▶ False ∵ 0 is False\n",
    "\n",
    "my_dict = {0:'False', 1:'True'}  \n",
    "print(any(my_dict))                # ▶ True ∵ 1 is True\n",
    "\n",
    "my_dict = {0:'False', False:0}   \n",
    "print(any(my_dict))                # ▶ False ∵ both 0 and False are False\n",
    "\n",
    "my_dict = {}                       \n",
    "print(any(my_dict))                # ▶ False ∵ iterable is empty\n",
    "\n",
    "# 0 is False\n",
    "# '0' is True\n",
    "my_dict = {'0':'False'}           \n",
    "print(any(my_dict))                # ▶ True"
   ]
  },
  {
   "cell_type": "markdown",
   "metadata": {},
   "source": [
    "### **`len(dict)`** - The `len()` function gives the total length of the dictionary. This would be equal to the number of items in the dictionary."
   ]
  },
  {
   "cell_type": "code",
   "execution_count": 12,
   "metadata": {
    "ExecuteTime": {
     "end_time": "2021-10-03T15:24:51.557638Z",
     "start_time": "2021-10-03T15:24:51.544944Z"
    }
   },
   "outputs": [
    {
     "name": "stdout",
     "output_type": "stream",
     "text": [
      "4\n"
     ]
    }
   ],
   "source": [
    "# Example:\n",
    "\n",
    "my_dict = {1:'Python', 2:'Java', 3:'C++', 4:'PHP'}\n",
    "print(len(my_dict))  # ▶ 4"
   ]
  },
  {
   "cell_type": "markdown",
   "metadata": {},
   "source": [
    "### **`sorted(dict)`** - The `sorted()` function sorts the elements of a given iterable in a specific order (either **ascending** or **descending**) and returns the sorted iterable as a list."
   ]
  },
  {
   "cell_type": "code",
   "execution_count": 23,
   "metadata": {},
   "outputs": [
    {
     "name": "stdout",
     "output_type": "stream",
     "text": [
      "Help on built-in function sorted in module builtins:\n",
      "\n",
      "sorted(iterable, /, *, key=None, reverse=False)\n",
      "    Return a new list containing all items from the iterable in ascending order.\n",
      "\n",
      "    A custom key function can be supplied to customize the sort order, and the\n",
      "    reverse flag can be set to request the result in descending order.\n",
      "\n"
     ]
    }
   ],
   "source": [
    "help(sorted)"
   ]
  },
  {
   "cell_type": "code",
   "execution_count": 30,
   "metadata": {
    "ExecuteTime": {
     "end_time": "2021-10-03T15:24:52.002957Z",
     "start_time": "2021-10-03T15:24:51.992215Z"
    }
   },
   "outputs": [
    {
     "name": "stdout",
     "output_type": "stream",
     "text": [
      "['a', 'e', 'i', 'o', 'u']\n",
      "['u', 'o', 'i', 'e', 'a']\n"
     ]
    }
   ],
   "source": [
    "# Example:\n",
    "\n",
    "my_dict = {'e':1, 'a':2, 'u':3, 'o':4, 'i':5}\n",
    "print(sorted(my_dict))               # ▶ ['a', 'e', 'i', 'o', 'u']\n",
    "print(sorted(my_dict, reverse=True)) # ▶ ['u', 'o', 'i', 'e', 'a']"
   ]
  },
  {
   "cell_type": "code",
   "execution_count": 25,
   "metadata": {},
   "outputs": [
    {
     "name": "stdout",
     "output_type": "stream",
     "text": [
      "[0, -1, 2, 3, -4, 5, -7]\n"
     ]
    }
   ],
   "source": [
    "numbers = [-4, -1, -7, 2, 0, 5, 3]\n",
    "\n",
    "sorted_numbers = sorted(numbers, key=abs)\n",
    "\n",
    "print(sorted_numbers)"
   ]
  },
  {
   "cell_type": "code",
   "execution_count": 27,
   "metadata": {},
   "outputs": [
    {
     "name": "stdout",
     "output_type": "stream",
     "text": [
      "{'name': 'Bob', 'grade': 75}\n",
      "{'name': 'David', 'grade': 82}\n",
      "{'name': 'Alice', 'grade': 88}\n",
      "{'name': 'Charlie', 'grade': 95}\n"
     ]
    }
   ],
   "source": [
    "students = [\n",
    "    {\"name\": \"Alice\", \"grade\": 88},\n",
    "    {\"name\": \"Bob\", \"grade\": 75},\n",
    "    {\"name\": \"Charlie\", \"grade\": 95},\n",
    "    {\"name\": \"David\", \"grade\": 82}\n",
    "]\n",
    "\n",
    "sorted_students = sorted(students, key=lambda student: student['grade'])\n",
    "\n",
    "for student in sorted_students:\n",
    "    print(student)"
   ]
  },
  {
   "cell_type": "code",
   "execution_count": 29,
   "metadata": {},
   "outputs": [
    {
     "name": "stdout",
     "output_type": "stream",
     "text": [
      "{'name': 'David', 'grade': 82}\n",
      "{'name': 'Alice', 'grade': 88}\n",
      "{'name': 'Bob', 'grade': 95}\n",
      "{'name': 'Charlie', 'grade': 95}\n"
     ]
    }
   ],
   "source": [
    "#student['grade'], student['name'])\n",
    "students = [\n",
    "    {\"name\": \"Alice\", \"grade\": 88},\n",
    "    {\"name\": \"Bob\", \"grade\": 95},\n",
    "    {\"name\": \"Charlie\", \"grade\": 95},\n",
    "    {\"name\": \"David\", \"grade\": 82}\n",
    "]\n",
    "\n",
    "sorted_students = sorted(students, key=lambda student: (student['grade'], student['name']))\n",
    "\n",
    "for student in sorted_students:\n",
    "    print(student)"
   ]
  },
  {
   "cell_type": "code",
   "execution_count": null,
   "metadata": {},
   "outputs": [],
   "source": []
  },
  {
   "cell_type": "code",
   "execution_count": 3,
   "metadata": {},
   "outputs": [],
   "source": [
    "from countries_details_dat import countries_data\n"
   ]
  },
  {
   "cell_type": "code",
   "execution_count": 35,
   "metadata": {},
   "outputs": [
    {
     "name": "stdout",
     "output_type": "stream",
     "text": [
      "Total number of languages: 112\n",
      "Ten most populated countries:\n",
      "China: population 1377422166\n",
      "India: population 1295210000\n",
      "United States of America: population 323947000\n",
      "Indonesia: population 258705000\n",
      "Brazil: population 206135893\n",
      "Pakistan: population 194125062\n",
      "Nigeria: population 186988000\n",
      "Bangladesh: population 161006790\n",
      "Russian Federation: population 146599183\n",
      "Japan: population 126960000\n"
     ]
    }
   ],
   "source": [
    "\n",
    "# Step 2: Calculate the Total Number of Languages\n",
    "\n",
    "# Collect all languages in a set to ensure uniqueness\n",
    "languages_set = set()\n",
    "for country in countries_data:\n",
    "    languages_set.update(country['languages'])\n",
    "\n",
    "total_languages = len(languages_set)\n",
    "print(f\"Total number of languages: {total_languages}\")\n",
    "\n",
    "\n",
    "# Step4: Find the Ten Most Populated Countries\n",
    "\n",
    "# Sort countries by population\n",
    "most_populated_countries = sorted(countries_data, key=lambda x: x['population'], reverse=True)[:10]\n",
    "\n",
    "print(\"Ten most populated countries:\")\n",
    "for country in most_populated_countries:\n",
    "    print(f\"{country['name']}: population {country['population']}\")"
   ]
  },
  {
   "cell_type": "markdown",
   "metadata": {},
   "source": [
    "#### The basic syntax of a lambda function is:\n",
    "#### lambda arguments: expression\r",
    "#### Traditional function\r",
    "''' \n",
    "def add(x, y):\r\n",
    "    return x + 'y####\n",
    "\r\n",
    "# Equivalent lambda func\n",
    "tion\r\n",
    "add_lambda = lambda x, y: x ###+ y\r\n",
    "\r\n",
    "# Usage\r\n",
    "print(add(3, 5))        # Output: 8\r\n",
    "print(add_lambda(3, 5)) # Output: 8\r\n",
    "\n",
    "\n"
   ]
  },
  {
   "cell_type": "code",
   "execution_count": 21,
   "metadata": {},
   "outputs": [
    {
     "name": "stdout",
     "output_type": "stream",
     "text": [
      "Ten most populated countries:\n",
      "China: population 1377422166\n",
      "India: population 1295210000\n",
      "United States of America: population 323947000\n",
      "Indonesia: population 258705000\n",
      "Brazil: population 206135893\n",
      "Pakistan: population 194125062\n",
      "Nigeria: population 186988000\n",
      "Bangladesh: population 161006790\n",
      "Russian Federation: population 146599183\n",
      "Japan: population 126960000\n"
     ]
    }
   ],
   "source": [
    "\n",
    "# Step 4: Find the Ten Most Populated Countries\n",
    "# Sort countries by population\n",
    "most_populated_countries = sorted(countries_data, key=lambda x: x['population'], reverse=True)[:10]\n",
    "\n",
    "print(\"Ten most populated countries:\")\n",
    "for country in most_populated_countries:\n",
    "    print(f\"{country['name']}: population {country['population']}\")"
   ]
  },
  {
   "cell_type": "code",
   "execution_count": null,
   "metadata": {},
   "outputs": [],
   "source": []
  },
  {
   "cell_type": "markdown",
   "metadata": {},
   "source": [
    "### **`str(dict)`** - The `str()` function produces a printable string representation of a dictionary."
   ]
  },
  {
   "cell_type": "code",
   "execution_count": 14,
   "metadata": {
    "ExecuteTime": {
     "end_time": "2021-10-03T15:24:52.557653Z",
     "start_time": "2021-10-03T15:24:52.545940Z"
    }
   },
   "outputs": [
    {
     "name": "stdout",
     "output_type": "stream",
     "text": [
      "{1: 'Python', 2: 'Java', 3: 'C++', 4: 'PHP'}\n"
     ]
    }
   ],
   "source": [
    "# Example:\n",
    "\n",
    "my_dict = {1:'Python', 2:'Java', 3:'C++', 4:'PHP'}\n",
    "print(str(my_dict)) # ▶ {1: 'Python', 2: 'Java', 3: 'C++', 4: 'PHP'}"
   ]
  },
  {
   "cell_type": "markdown",
   "metadata": {},
   "source": [
    "### **`type()`** - The `type()` function returns the type of the passed variable. If passed variable is dictionary then it would return a dictionary type."
   ]
  },
  {
   "cell_type": "code",
   "execution_count": 15,
   "metadata": {
    "ExecuteTime": {
     "end_time": "2021-10-03T15:24:52.896528Z",
     "start_time": "2021-10-03T15:24:52.889694Z"
    }
   },
   "outputs": [
    {
     "name": "stdout",
     "output_type": "stream",
     "text": [
      "<class 'dict'>\n"
     ]
    }
   ],
   "source": [
    "# Example:\n",
    "\n",
    "my_dict = {1:'Python', 2:'Java', 3:'C++', 4:'PHP'}\n",
    "print(type(my_dict))  # ▶ <class 'dict'>"
   ]
  },
  {
   "cell_type": "code",
   "execution_count": 252,
   "metadata": {},
   "outputs": [
    {
     "data": {
      "text/plain": [
       "dict_items([(1, 'Python'), (2, 'Java'), (3, 'C++'), (4, 'PHP')])"
      ]
     },
     "execution_count": 252,
     "metadata": {},
     "output_type": "execute_result"
    }
   ],
   "source": [
    "my_dict = {1:'Python', 2:'Java', 3:'C++', 4:'PHP'}\n",
    "my_dict.items()"
   ]
  },
  {
   "cell_type": "code",
   "execution_count": 270,
   "metadata": {},
   "outputs": [
    {
     "data": {
      "text/plain": [
       "{'Python': [40, 12], 'Java': [40, 12], 'c++': [40, 12]}"
      ]
     },
     "execution_count": 270,
     "metadata": {},
     "output_type": "execute_result"
    }
   ],
   "source": [
    "seq = ('Python','Java',\"c++\")\n",
    "my_dict = my_dict.fromkeys(seq,[40,12])\n",
    "my_dict"
   ]
  },
  {
   "cell_type": "code",
   "execution_count": 278,
   "metadata": {},
   "outputs": [
    {
     "data": {
      "text/plain": [
       "{'name': 'ali', 'age': 45, 'emp_id': 5465, 'company': 'DFA company'}"
      ]
     },
     "execution_count": 278,
     "metadata": {},
     "output_type": "execute_result"
    }
   ],
   "source": [
    "emy_info = {'name':'ali','age':45 ,'emp_id':5465,'company':\"DFA company\"}\n",
    "emy_info.setdefault('company',\"ABC company\")\n",
    "emy_info"
   ]
  },
  {
   "cell_type": "code",
   "execution_count": 7,
   "metadata": {},
   "outputs": [],
   "source": [
    "emy_info = {'name':'ali'}\n",
    "emy_info[\"age\"] = 120"
   ]
  },
  {
   "cell_type": "code",
   "execution_count": 9,
   "metadata": {},
   "outputs": [
    {
     "data": {
      "text/plain": [
       "{'name': 'ali', 'age': 120}"
      ]
     },
     "execution_count": 9,
     "metadata": {},
     "output_type": "execute_result"
    }
   ],
   "source": [
    "emy_info"
   ]
  },
  {
   "cell_type": "markdown",
   "metadata": {
    "jp-MarkdownHeadingCollapsed": true
   },
   "source": [
    "## Python Dictionary Methods\r\n",
    "\r\n",
    "Methods that are available with a dictionary are tabulated below. Some of them have already been used in the above examples.\r\n",
    "\r\n",
    "| Method | Description |\r\n",
    "|:----| :--- |\r\n",
    "| **clear()** | Removes all items from the dictionary. | \r\n",
    "| **copy()** | Returns a shallow copy of the dictionary. | \r\n",
    "| **fromkeys(seq[, v])** | Returns a new dictionary with keys from **`seq`** and value equal to **`v`** (defaults to **`None`**). | \r\n",
    "| **get(key[,d])** | Returns the value of the **`key`**. If the **`key`** does not exist, returns **`d`** (defaults to **`None`**). | \r\n",
    "| **items()** | Return a new object of the dictionary's items in **`(key, value)`** format. | \r\n",
    "| **keys()** | Returns a new object of the dictionary's keys. | \r\n",
    "| **pop(key[,d])** | Removes the item with the **`key`** and returns its value or **`d`** if **`key`** is not found. If **`d`** is not provided and the **`key`** is not found, it raises **`KeyError`**. | \r\n",
    "| **popitem()** | Removes and returns an arbitrary item **`(key, value)`**. Raises **`KeyError`** if the dictionary is empty. | \r\n",
    "| **setdefault(key[,d])** | Returns the corresponding value if the **`key`** is in the dictionary. If not, inserts the **`key`** with a value of **`d`** and returns **`d`** (defaults to **`None`**). | \r\n",
    "| **update([other])** | Updates the dictionary with the key/value pairs from **`other`**, overwriting existing keys. |  \r\n",
    "| **values()** | Returns a new object of the dictionary's values. |\r\n"
   ]
  },
  {
   "cell_type": "markdown",
   "metadata": {},
   "source": [
    "Here are a few example use cases of these methods."
   ]
  },
  {
   "cell_type": "code",
   "execution_count": 16,
   "metadata": {
    "ExecuteTime": {
     "end_time": "2021-10-03T15:24:53.793026Z",
     "start_time": "2021-10-03T15:24:53.784240Z"
    },
    "scrolled": true
   },
   "outputs": [
    {
     "name": "stdout",
     "output_type": "stream",
     "text": [
      "{'Math': 0, 'English': 0, 'Science': 0}\n",
      "('Math', 0)\n",
      "('English', 0)\n",
      "('Science', 0)\n",
      "['English', 'Math', 'Science']\n"
     ]
    }
   ],
   "source": [
    "# Example: Dictionary Methods\n",
    "\n",
    "marks = {}.fromkeys(['Math', 'English', 'Science'], 0)\n",
    "print(marks)                        # ▶ {'English': 0, 'Math': 0, 'Science': 0}\n",
    "\n",
    "for item in marks.items():\n",
    "    print(item)\n",
    "\n",
    "print(list(sorted(marks.keys())))   # ▶ ['English', 'Math', 'Science']"
   ]
  },
  {
   "cell_type": "markdown",
   "metadata": {},
   "source": [
    "### **`clear()`** - The method `clear()` removes all items from the dictionary."
   ]
  },
  {
   "cell_type": "code",
   "execution_count": 17,
   "metadata": {
    "ExecuteTime": {
     "end_time": "2021-10-03T15:24:54.659252Z",
     "start_time": "2021-10-03T15:24:54.640699Z"
    }
   },
   "outputs": [
    {
     "name": "stdout",
     "output_type": "stream",
     "text": [
      "{1: 'Python', 2: 'Java', 3: 'C++', 4: 'PHP'}\n",
      "{1: 'Python', 2: 'Java', 3: 'C++', 4: 'PHP'}\n"
     ]
    }
   ],
   "source": [
    "# Example:\n",
    "\n",
    "my_dict = {1:'Python', 2:'Java', 3:'C++', 4:'PHP'}\n",
    "\n",
    "print(str(my_dict))  # ▶ {1: 'Python', 2: 'Java', 3: 'C++', 4: 'PHP'}\n",
    "dict.clear()\n",
    "print(str(my_dict))  # ▶ {}"
   ]
  },
  {
   "cell_type": "markdown",
   "metadata": {},
   "source": [
    "### **`copy()`** - The method `copy()` returns a shallow copy of the dictionary."
   ]
  },
  {
   "cell_type": "code",
   "execution_count": 18,
   "metadata": {
    "ExecuteTime": {
     "end_time": "2021-10-03T15:24:55.398522Z",
     "start_time": "2021-10-03T15:24:55.378016Z"
    }
   },
   "outputs": [
    {
     "name": "stdout",
     "output_type": "stream",
     "text": [
      "{1: 'Python', 2: 'Java', 3: 'C++', 4: 'PHP'}\n"
     ]
    }
   ],
   "source": [
    "# Example:\n",
    "\n",
    "dict1 = {1:'Python', 2:'Java', 3:'C++', 4:'PHP'}\n",
    "dict2 = dict1.copy()\n",
    "print(dict2)  # ▶ {1: 'Python', 2: 'Java', 3: 'C++', 4: 'PHP'}"
   ]
  },
  {
   "cell_type": "markdown",
   "metadata": {},
   "source": [
    "### **`itmes()`** - The method `items()` returns a list of dict's (key, value) tuple pairs."
   ]
  },
  {
   "cell_type": "code",
   "execution_count": 19,
   "metadata": {
    "ExecuteTime": {
     "end_time": "2021-10-03T15:24:56.016694Z",
     "start_time": "2021-10-03T15:24:56.001074Z"
    },
    "scrolled": true
   },
   "outputs": [
    {
     "name": "stdout",
     "output_type": "stream",
     "text": [
      "dict_items([(1, 'Python'), (2, 'Java'), (3, 'C++'), (4, 'PHP')])\n"
     ]
    }
   ],
   "source": [
    "# Example:\n",
    "\n",
    "my_dict = {1:'Python', 2:'Java', 3:'C++', 4:'PHP'}\n",
    "print(my_dict.items()) # ▶ dict_items([(1, 'Python'), (2, 'Java'), (3, 'C++'), (4, 'PHP')])"
   ]
  },
  {
   "cell_type": "markdown",
   "metadata": {},
   "source": [
    "### **`keys()`** - The method `keys()` returns a list of all the available keys in the dictionary."
   ]
  },
  {
   "cell_type": "code",
   "execution_count": 20,
   "metadata": {
    "ExecuteTime": {
     "end_time": "2021-10-03T15:24:56.801865Z",
     "start_time": "2021-10-03T15:24:56.792102Z"
    }
   },
   "outputs": [
    {
     "name": "stdout",
     "output_type": "stream",
     "text": [
      "dict_keys([1, 2, 3, 4])\n"
     ]
    }
   ],
   "source": [
    "# Example:\n",
    "\n",
    "my_dict = {1:'Python', 2:'Java', 3:'C++', 4:'PHP'}\n",
    "all_keys=my_dict.keys()\n",
    "print(all_keys)  # ▶ dict_keys([1, 2, 3, 4])"
   ]
  },
  {
   "cell_type": "markdown",
   "metadata": {},
   "source": [
    "### **`fromkeys()`** - The method `fromkeys()` creates a new dictionary with keys from seq and values set to value.\n",
    "\n",
    "**Syntax:**\n",
    "\n",
    "```python \n",
    "dict.fromkeys(seq[, value])\n",
    "```"
   ]
  },
  {
   "cell_type": "code",
   "execution_count": 15,
   "metadata": {
    "ExecuteTime": {
     "end_time": "2021-10-03T15:24:57.402460Z",
     "start_time": "2021-10-03T15:24:57.384888Z"
    },
    "scrolled": true
   },
   "outputs": [
    {
     "name": "stdout",
     "output_type": "stream",
     "text": [
      "new_dict : {'Python': None, 'Java': None, 'C++': None}\n",
      "new_dict : {'Python': 50, 'Java': 50, 'C++': 50}\n"
     ]
    }
   ],
   "source": [
    "# Example:\n",
    "\n",
    "seq = ('Python', 'Java', 'C++')\n",
    "my_dict = my_dict.fromkeys(seq)\n",
    "\n",
    "print (\"new_dict : %s\" % str(my_dict)) # ▶ new_dict : {'python': None, 'java': None, 'c++': None}\n",
    "my_dict = my_dict.fromkeys(seq, 50)\n",
    "print (\"new_dict : %s\" % str(my_dict)) # ▶ new_dict : {'python': 50, 'java': 50, 'c++': 50}"
   ]
  },
  {
   "cell_type": "markdown",
   "metadata": {},
   "source": [
    "### **`setdefault()`** - The method `setdefault()` is similar to `get` but will set `dict[key] = default` if key is not already in dict.\n",
    "\n",
    "**Syntax:**\n",
    "\n",
    "```python\n",
    "dict.setdefault(key, default = None)\n",
    "```\n",
    "\n",
    "* key −> This is the key to be searched. \n",
    "* default −> This is the Value to be returned in case key is not found. "
   ]
  },
  {
   "cell_type": "code",
   "execution_count": 20,
   "metadata": {
    "ExecuteTime": {
     "end_time": "2021-10-03T15:24:58.004034Z",
     "start_time": "2021-10-03T15:24:57.984506Z"
    }
   },
   "outputs": [
    {
     "name": "stdout",
     "output_type": "stream",
     "text": [
      "{'emp_name': 'Milaan', 'age': 96, 'emp_id': 999, 'company': 'JLUFE'}\n",
      "Milaan\n",
      "JLUFE\n"
     ]
    }
   ],
   "source": [
    "# Example:\n",
    "\n",
    "my_dict={'emp_name':'Milaan', 'age':96, 'emp_id':999}\n",
    "my_dict.setdefault('company','JLUFE')\n",
    "print(my_dict)\n",
    "print(my_dict['emp_name'])   # ▶ Milaan\n",
    "print(my_dict['company'])    # ▶ JLUFE"
   ]
  },
  {
   "cell_type": "markdown",
   "metadata": {},
   "source": [
    "### **`update()`** - The method `update()` adds dictionary dict2's key-values pairs in to dict. This function does not return anything.\n",
    "\n",
    "**Syntax:**\n",
    "\n",
    "```python\n",
    "dict.update(dict2)\n",
    "```"
   ]
  },
  {
   "cell_type": "code",
   "execution_count": 22,
   "metadata": {
    "ExecuteTime": {
     "end_time": "2021-10-03T15:24:58.542619Z",
     "start_time": "2021-10-03T15:24:58.535783Z"
    }
   },
   "outputs": [
    {
     "name": "stdout",
     "output_type": "stream",
     "text": [
      "{1: 'Python3', 2: 'Java', 3: 'C++', 4: 'PHP', 5: 'C'}\n"
     ]
    }
   ],
   "source": [
    "# Example:\n",
    "\n",
    "dict1 = {1:'Python', 2:'Java', 3:'C++', 4:'PHP'}\n",
    "dict2 = {1: 'Python3',5:'C'}  # update Python to Python3\n",
    "dict1.update(dict2)\n",
    "print(dict1)   # ▶ {1: 'Python3', 2: 'Java', 3: 'C++', 4: 'PHP', 5: 'C'}"
   ]
  },
  {
   "cell_type": "markdown",
   "metadata": {},
   "source": [
    "### **`value()`** - The method `values()` returns a list of all the values available in a given dictionary."
   ]
  },
  {
   "cell_type": "code",
   "execution_count": 23,
   "metadata": {
    "ExecuteTime": {
     "end_time": "2021-10-03T15:24:59.022118Z",
     "start_time": "2021-10-03T15:24:59.010400Z"
    }
   },
   "outputs": [
    {
     "name": "stdout",
     "output_type": "stream",
     "text": [
      "dict_values(['Python', 'Java', 'C++', 'PHP'])\n"
     ]
    }
   ],
   "source": [
    "# Example:\n",
    "\n",
    "dict1 = {1:'Python', 2:'Java', 3:'C++', 4:'PHP'}\n",
    "values= dict1.values()\n",
    "print(values)"
   ]
  },
  {
   "cell_type": "markdown",
   "metadata": {},
   "source": [
    "## Python Dictionary Comprehension\n",
    "\n",
    "Dictionary comprehension is an elegant and concise way to create a new dictionary from an iterable in Python.\n",
    "\n",
    "Dictionary comprehension consists of an expression pair **`(key: value)`** followed by a **`for`** statement inside curly braces **`{}`**.\n",
    "\n",
    "Here is an example to make a dictionary with each item being a pair of a number and its square."
   ]
  },
  {
   "cell_type": "code",
   "execution_count": 26,
   "metadata": {
    "ExecuteTime": {
     "end_time": "2021-10-03T15:25:00.281910Z",
     "start_time": "2021-10-03T15:25:00.272143Z"
    }
   },
   "outputs": [
    {
     "name": "stdout",
     "output_type": "stream",
     "text": [
      "{0: 0, 1: 1, 2: 4, 3: 9, 4: 16, 5: 25}\n"
     ]
    }
   ],
   "source": [
    "# Example:\n",
    "\n",
    "squares = {}\n",
    "for x in range(6):\n",
    "    squares[x] = x*x\n",
    "print(squares)  # ▶ {0: 0, 1: 1, 2: 4, 3: 9, 4: 16, 5: 25}"
   ]
  },
  {
   "cell_type": "code",
   "execution_count": 4,
   "metadata": {
    "ExecuteTime": {
     "end_time": "2021-10-03T15:24:59.697909Z",
     "start_time": "2021-10-03T15:24:59.680335Z"
    }
   },
   "outputs": [
    {
     "name": "stdout",
     "output_type": "stream",
     "text": [
      "{0: 0, 1: 1, 2: 4, 3: 9, 4: 16, 5: 25}\n"
     ]
    }
   ],
   "source": [
    "# Example: Dictionary Comprehension\n",
    "\n",
    "squares = {x: x*x for x in range(6)}\n",
    "print(squares)  # ▶ {0: 0, 1: 1, 2: 4, 3: 9, 4: 16, 5: 25}"
   ]
  },
  {
   "cell_type": "markdown",
   "metadata": {},
   "source": [
    "This code is equivalent to"
   ]
  },
  {
   "cell_type": "markdown",
   "metadata": {},
   "source": [
    "A dictionary comprehension can optionally contain more **[for](https://github.com/milaan9/03_Python_Flow_Control/blob/main/005_Python_for_Loop.ipynb)** or **[if](https://github.com/milaan9/03_Python_Flow_Control/blob/main/001_Python_if_statement.ipynb)** statements.\n",
    "\n",
    "An optional **`if`** statement can filter out items to form the new dictionary.\n",
    "\n",
    "Here are some examples to make a dictionary with only odd items."
   ]
  },
  {
   "cell_type": "code",
   "execution_count": 27,
   "metadata": {
    "ExecuteTime": {
     "end_time": "2021-10-03T15:25:00.836601Z",
     "start_time": "2021-10-03T15:25:00.823910Z"
    }
   },
   "outputs": [
    {
     "name": "stdout",
     "output_type": "stream",
     "text": [
      "{1: 1, 3: 9, 5: 25, 7: 49, 9: 81}\n"
     ]
    }
   ],
   "source": [
    "# Example: Dictionary Comprehension with if conditional\n",
    "\n",
    "odd_squares = {x: x*x for x in range(11) if x % 2 == 1}\n",
    "print(odd_squares)  # ▶ {1: 1, 3: 9, 5: 25, 7: 49, 9: 81}"
   ]
  },
  {
   "cell_type": "markdown",
   "metadata": {},
   "source": [
    "## Other Dictionary Operations"
   ]
  },
  {
   "cell_type": "markdown",
   "metadata": {
    "jp-MarkdownHeadingCollapsed": true
   },
   "source": [
    "### 1. Dictionary Membership Test\n",
    "\n",
    "We can test if a **`key`** is in a dictionary or not using the keyword **`in`**. Notice that the membership test is only for the **`keys`** and not for the **`values`**."
   ]
  },
  {
   "cell_type": "code",
   "execution_count": 28,
   "metadata": {
    "ExecuteTime": {
     "end_time": "2021-10-03T15:25:02.965546Z",
     "start_time": "2021-10-03T15:25:02.944061Z"
    }
   },
   "outputs": [
    {
     "name": "stdout",
     "output_type": "stream",
     "text": [
      "True\n",
      "True\n",
      "False\n"
     ]
    }
   ],
   "source": [
    "# Example: Membership Test for Dictionary Keys\n",
    "\n",
    "squares = {1: 1, 3: 9, 5: 25, 7: 99, 9: 61}\n",
    "\n",
    "print(1 in squares)      # ▶ True\n",
    "\n",
    "print(2 not in squares)  # ▶ True\n",
    "\n",
    "# membership tests for key only not value\n",
    "print(99 in squares)     # ▶ False"
   ]
  },
  {
   "cell_type": "markdown",
   "metadata": {
    "jp-MarkdownHeadingCollapsed": true
   },
   "source": [
    "### 2. Iterating Through a Dictionary\n",
    "\n",
    "We can iterate through each key in a dictionary using a **`for`** loop."
   ]
  },
  {
   "cell_type": "code",
   "execution_count": 29,
   "metadata": {
    "ExecuteTime": {
     "end_time": "2021-10-03T15:25:04.387444Z",
     "start_time": "2021-10-03T15:25:04.376702Z"
    }
   },
   "outputs": [
    {
     "name": "stdout",
     "output_type": "stream",
     "text": [
      "1\n",
      "9\n",
      "25\n",
      "49\n",
      "81\n"
     ]
    }
   ],
   "source": [
    "# Example: Iterating through a Dictionary\n",
    "\n",
    "squares = {1: 1, 3: 9, 5: 25, 7: 49, 9: 81}\n",
    "for i in squares:\n",
    "    print(squares[i])"
   ]
  },
  {
   "cell_type": "markdown",
   "metadata": {},
   "source": []
  },
  {
   "cell_type": "markdown",
   "metadata": {},
   "source": [
    "## 💻 Exercises ➞ <span class='label label-default'>Dictionary</span>\n",
    "\n",
    "1. Create a **`student`** dictionary and add **`first_name`**, **`last_name`**, **`gender`**, **`age`**, **`marital_status`**, **`skills`**, **`country`**, **`city`** and **`address`** as keys for the dictionary\n",
    "2. Get the length of the **`student`** dictionary\n",
    "3. Get the value of **`skills`** \n",
    "4. Modify the **`skills`** values by adding one or two skills\n",
    "5. Get the dictionary keys as a list\n",
    "6. Get the dictionary values as a list\n",
    "7. Change the dictionary to a list of tuples using **`items()`** method\n",
    "8. Delete one of the items in the dictionary\n",
    "9. Delete one of the dictionaries"
   ]
  },
  {
   "cell_type": "code",
   "execution_count": null,
   "metadata": {},
   "outputs": [],
   "source": []
  },
  {
   "cell_type": "code",
   "execution_count": 3,
   "metadata": {},
   "outputs": [],
   "source": [
    "a = {\"name\":\"baraa\"}\n",
    "a[\"age\"]= 50"
   ]
  },
  {
   "cell_type": "code",
   "execution_count": 5,
   "metadata": {},
   "outputs": [
    {
     "data": {
      "text/plain": [
       "{'name': 'baraa', 'age': 50}"
      ]
     },
     "execution_count": 5,
     "metadata": {},
     "output_type": "execute_result"
    }
   ],
   "source": [
    "a"
   ]
  },
  {
   "cell_type": "code",
   "execution_count": null,
   "metadata": {},
   "outputs": [],
   "source": []
  },
  {
   "cell_type": "code",
   "execution_count": null,
   "metadata": {},
   "outputs": [],
   "source": []
  },
  {
   "cell_type": "code",
   "execution_count": 200,
   "metadata": {},
   "outputs": [],
   "source": [
    "from countries_details_dat import countries_data"
   ]
  },
  {
   "cell_type": "code",
   "execution_count": 230,
   "metadata": {},
   "outputs": [
    {
     "data": {
      "text/plain": [
       "{'name': 'Afghanistan',\n",
       " 'capital': 'Kabul',\n",
       " 'languages': ['Pashto', 'Uzbek', 'Turkmen'],\n",
       " 'population': 27657145,\n",
       " 'flag': 'https://restcountries.eu/data/afg.svg',\n",
       " 'currency': 'Afghan afghani'}"
      ]
     },
     "execution_count": 230,
     "metadata": {},
     "output_type": "execute_result"
    }
   ],
   "source": [
    "countries_data[0]"
   ]
  },
  {
   "cell_type": "code",
   "execution_count": null,
   "metadata": {},
   "outputs": [],
   "source": []
  },
  {
   "cell_type": "code",
   "execution_count": 244,
   "metadata": {},
   "outputs": [],
   "source": [
    "most_ten = sorted(countries_data, key= lambda x: x[\"population\"],reverse = True)[:10]"
   ]
  },
  {
   "cell_type": "code",
   "execution_count": 250,
   "metadata": {},
   "outputs": [
    {
     "data": {
      "text/plain": [
       "[{'name': 'China',\n",
       "  'capital': 'Beijing',\n",
       "  'languages': ['Chinese'],\n",
       "  'population': 1377422166,\n",
       "  'flag': 'https://restcountries.eu/data/chn.svg',\n",
       "  'currency': 'Chinese yuan'},\n",
       " {'name': 'India',\n",
       "  'capital': 'New Delhi',\n",
       "  'languages': ['Hindi', 'English'],\n",
       "  'population': 1295210000,\n",
       "  'flag': 'https://restcountries.eu/data/ind.svg',\n",
       "  'currency': 'Indian rupee'},\n",
       " {'name': 'United States of America',\n",
       "  'capital': 'Washington, D.C.',\n",
       "  'languages': ['English'],\n",
       "  'population': 323947000,\n",
       "  'flag': 'https://restcountries.eu/data/usa.svg',\n",
       "  'currency': 'United States dollar'},\n",
       " {'name': 'Indonesia',\n",
       "  'capital': 'Jakarta',\n",
       "  'languages': ['Indonesian'],\n",
       "  'population': 258705000,\n",
       "  'flag': 'https://restcountries.eu/data/idn.svg',\n",
       "  'currency': 'Indonesian rupiah'},\n",
       " {'name': 'Brazil',\n",
       "  'capital': 'Brasília',\n",
       "  'languages': ['Portuguese'],\n",
       "  'population': 206135893,\n",
       "  'flag': 'https://restcountries.eu/data/bra.svg',\n",
       "  'currency': 'Brazilian real'},\n",
       " {'name': 'Pakistan',\n",
       "  'capital': 'Islamabad',\n",
       "  'languages': ['English', 'Urdu'],\n",
       "  'population': 194125062,\n",
       "  'flag': 'https://restcountries.eu/data/pak.svg',\n",
       "  'currency': 'Pakistani rupee'},\n",
       " {'name': 'Nigeria',\n",
       "  'capital': 'Abuja',\n",
       "  'languages': ['English'],\n",
       "  'population': 186988000,\n",
       "  'flag': 'https://restcountries.eu/data/nga.svg',\n",
       "  'currency': 'Nigerian naira'},\n",
       " {'name': 'Bangladesh',\n",
       "  'capital': 'Dhaka',\n",
       "  'languages': ['Bengali'],\n",
       "  'population': 161006790,\n",
       "  'flag': 'https://restcountries.eu/data/bgd.svg',\n",
       "  'currency': 'Bangladeshi taka'},\n",
       " {'name': 'Russian Federation',\n",
       "  'capital': 'Moscow',\n",
       "  'languages': ['Russian'],\n",
       "  'population': 146599183,\n",
       "  'flag': 'https://restcountries.eu/data/rus.svg',\n",
       "  'currency': 'Russian ruble'},\n",
       " {'name': 'Japan',\n",
       "  'capital': 'Tokyo',\n",
       "  'languages': ['Japanese'],\n",
       "  'population': 126960000,\n",
       "  'flag': 'https://restcountries.eu/data/jpn.svg',\n",
       "  'currency': 'Japanese yen'}]"
      ]
     },
     "execution_count": 250,
     "metadata": {},
     "output_type": "execute_result"
    }
   ],
   "source": [
    "most_ten"
   ]
  },
  {
   "cell_type": "code",
   "execution_count": 248,
   "metadata": {},
   "outputs": [
    {
     "name": "stdout",
     "output_type": "stream",
     "text": [
      "China is 1377422166\n",
      "India is 1295210000\n",
      "United States of America is 323947000\n",
      "Indonesia is 258705000\n",
      "Brazil is 206135893\n",
      "Pakistan is 194125062\n",
      "Nigeria is 186988000\n",
      "Bangladesh is 161006790\n",
      "Russian Federation is 146599183\n",
      "Japan is 126960000\n"
     ]
    }
   ],
   "source": [
    "for countruy in most_ten:\n",
    "    print(countruy['name'],\"is\",countruy['population'])"
   ]
  },
  {
   "cell_type": "code",
   "execution_count": null,
   "metadata": {},
   "outputs": [],
   "source": []
  },
  {
   "cell_type": "code",
   "execution_count": 226,
   "metadata": {},
   "outputs": [
    {
     "name": "stdout",
     "output_type": "stream",
     "text": [
      "368\n"
     ]
    }
   ],
   "source": [
    "my_languages= []\n",
    "for country in countries_data:\n",
    "        my_languages.extend(country['languages'])\n",
    "\n",
    "\n",
    "print(len(my_languages))\n",
    "   "
   ]
  },
  {
   "cell_type": "code",
   "execution_count": 228,
   "metadata": {},
   "outputs": [
    {
     "name": "stdout",
     "output_type": "stream",
     "text": [
      "112\n"
     ]
    }
   ],
   "source": [
    "my_languages= set()\n",
    "for country in countries_data:\n",
    "        my_languages.update(country['languages'])\n",
    "\n",
    "\n",
    "print(len(my_languages))\n",
    "   "
   ]
  },
  {
   "cell_type": "code",
   "execution_count": 218,
   "metadata": {},
   "outputs": [
    {
     "name": "stdout",
     "output_type": "stream",
     "text": [
      "['Pashto', 'Uzbek', 'Turkmen']\n"
     ]
    }
   ],
   "source": [
    "for country in countries_data:\n",
    "    print(country['languages'])\n",
    "    break"
   ]
  },
  {
   "cell_type": "code",
   "execution_count": null,
   "metadata": {},
   "outputs": [],
   "source": []
  },
  {
   "cell_type": "code",
   "execution_count": null,
   "metadata": {},
   "outputs": [],
   "source": []
  },
  {
   "cell_type": "code",
   "execution_count": null,
   "metadata": {},
   "outputs": [],
   "source": []
  },
  {
   "cell_type": "code",
   "execution_count": null,
   "metadata": {},
   "outputs": [],
   "source": []
  },
  {
   "cell_type": "code",
   "execution_count": null,
   "metadata": {},
   "outputs": [],
   "source": []
  },
  {
   "cell_type": "code",
   "execution_count": null,
   "metadata": {},
   "outputs": [],
   "source": []
  },
  {
   "cell_type": "code",
   "execution_count": null,
   "metadata": {},
   "outputs": [],
   "source": []
  },
  {
   "cell_type": "code",
   "execution_count": null,
   "metadata": {},
   "outputs": [],
   "source": []
  },
  {
   "cell_type": "code",
   "execution_count": null,
   "metadata": {},
   "outputs": [],
   "source": []
  },
  {
   "cell_type": "code",
   "execution_count": null,
   "metadata": {},
   "outputs": [],
   "source": []
  },
  {
   "cell_type": "code",
   "execution_count": 13,
   "metadata": {},
   "outputs": [],
   "source": [
    "num1 = 1 \n",
    "if num1 > 5: # F\n",
    "    print(num1)"
   ]
  },
  {
   "cell_type": "code",
   "execution_count": 33,
   "metadata": {},
   "outputs": [
    {
     "name": "stdout",
     "output_type": "stream",
     "text": [
      "F\n",
      "END\n"
     ]
    }
   ],
   "source": [
    "num1 =-1\n",
    "3\n",
    "if num1 > 5: \n",
    "    num1 = num1 +50\n",
    "    num1 = num1 + 10\n",
    "    print(num1) \n",
    "elif num1 >2:\n",
    "    num1=num1-50\n",
    "    num1= num1+5\n",
    "    print(num1)\n",
    "else:\n",
    "    print(\"F\")\n",
    "print(\"END\")"
   ]
  },
  {
   "cell_type": "code",
   "execution_count": null,
   "metadata": {},
   "outputs": [],
   "source": []
  },
  {
   "cell_type": "code",
   "execution_count": null,
   "metadata": {},
   "outputs": [],
   "source": []
  },
  {
   "cell_type": "code",
   "execution_count": null,
   "metadata": {},
   "outputs": [],
   "source": []
  },
  {
   "cell_type": "code",
   "execution_count": null,
   "metadata": {},
   "outputs": [],
   "source": []
  },
  {
   "cell_type": "code",
   "execution_count": null,
   "metadata": {},
   "outputs": [],
   "source": []
  },
  {
   "cell_type": "code",
   "execution_count": null,
   "metadata": {},
   "outputs": [],
   "source": [
    "x = "
   ]
  },
  {
   "cell_type": "code",
   "execution_count": null,
   "metadata": {},
   "outputs": [],
   "source": []
  },
  {
   "cell_type": "code",
   "execution_count": null,
   "metadata": {},
   "outputs": [],
   "source": []
  }
 ],
 "metadata": {
  "hide_input": false,
  "kernelspec": {
   "display_name": "Python 3 (ipykernel)",
   "language": "python",
   "name": "python3"
  },
  "language_info": {
   "codemirror_mode": {
    "name": "ipython",
    "version": 3
   },
   "file_extension": ".py",
   "mimetype": "text/x-python",
   "name": "python",
   "nbconvert_exporter": "python",
   "pygments_lexer": "ipython3",
   "version": "3.12.4"
  },
  "toc": {
   "base_numbering": 1,
   "nav_menu": {},
   "number_sections": true,
   "sideBar": true,
   "skip_h1_title": false,
   "title_cell": "Table of Contents",
   "title_sidebar": "Contents",
   "toc_cell": false,
   "toc_position": {},
   "toc_section_display": true,
   "toc_window_display": false
  },
  "varInspector": {
   "cols": {
    "lenName": 16,
    "lenType": 16,
    "lenVar": 40
   },
   "kernels_config": {
    "python": {
     "delete_cmd_postfix": "",
     "delete_cmd_prefix": "del ",
     "library": "var_list.py",
     "varRefreshCmd": "print(var_dic_list())"
    },
    "r": {
     "delete_cmd_postfix": ") ",
     "delete_cmd_prefix": "rm(",
     "library": "var_list.r",
     "varRefreshCmd": "cat(var_dic_list()) "
    }
   },
   "types_to_exclude": [
    "module",
    "function",
    "builtin_function_or_method",
    "instance",
    "_Feature"
   ],
   "window_display": false
  }
 },
 "nbformat": 4,
 "nbformat_minor": 4
}
