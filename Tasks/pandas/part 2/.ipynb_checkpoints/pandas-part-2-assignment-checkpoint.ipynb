{
 "cells": [
  {
   "cell_type": "markdown",
   "id": "ebd92ddf-97b2-4229-a252-3b17215a0fed",
   "metadata": {},
   "source": [
    "# Pandas Part 2 Assignment: Student Dataset\n",
    "- Name: Khalid Salim\n",
    "- Group: CAI3_AIS4_G1"
   ]
  },
  {
   "cell_type": "markdown",
   "id": "34387cbe-b787-4d6b-8dd7-b18f0a017ce6",
   "metadata": {},
   "source": [
    "## Importing Necessary Libraries"
   ]
  },
  {
   "cell_type": "code",
   "execution_count": 1,
   "id": "506c0f16-9ac5-4eda-a314-ed10029a173c",
   "metadata": {},
   "outputs": [],
   "source": [
    "import pandas as pd\n",
    "import matplotlib.pyplot"
   ]
  },
  {
   "cell_type": "markdown",
   "id": "177ba0b2-d183-4f60-b0e4-73909b761a3c",
   "metadata": {},
   "source": [
    "## Reading CSV File"
   ]
  },
  {
   "cell_type": "code",
   "execution_count": 4,
   "id": "fdbb6014-db33-42d4-a24f-cf0b0e0424fe",
   "metadata": {
    "scrolled": true
   },
   "outputs": [
    {
     "data": {
      "text/html": [
       "<div>\n",
       "<style scoped>\n",
       "    .dataframe tbody tr th:only-of-type {\n",
       "        vertical-align: middle;\n",
       "    }\n",
       "\n",
       "    .dataframe tbody tr th {\n",
       "        vertical-align: top;\n",
       "    }\n",
       "\n",
       "    .dataframe thead th {\n",
       "        text-align: right;\n",
       "    }\n",
       "</style>\n",
       "<table border=\"1\" class=\"dataframe\">\n",
       "  <thead>\n",
       "    <tr style=\"text-align: right;\">\n",
       "      <th></th>\n",
       "      <th>fNAME</th>\n",
       "      <th>lNAME</th>\n",
       "      <th>Age</th>\n",
       "      <th>gender</th>\n",
       "      <th>country</th>\n",
       "      <th>residence</th>\n",
       "      <th>entryEXAM</th>\n",
       "      <th>prevEducation</th>\n",
       "      <th>studyHOURS</th>\n",
       "      <th>Python</th>\n",
       "      <th>DB</th>\n",
       "    </tr>\n",
       "  </thead>\n",
       "  <tbody>\n",
       "    <tr>\n",
       "      <th>0</th>\n",
       "      <td>Christina</td>\n",
       "      <td>Binger</td>\n",
       "      <td>44</td>\n",
       "      <td>Female</td>\n",
       "      <td>Norway</td>\n",
       "      <td>Private</td>\n",
       "      <td>72</td>\n",
       "      <td>Masters</td>\n",
       "      <td>158</td>\n",
       "      <td>59.0</td>\n",
       "      <td>55</td>\n",
       "    </tr>\n",
       "    <tr>\n",
       "      <th>1</th>\n",
       "      <td>Alex</td>\n",
       "      <td>Walekhwa</td>\n",
       "      <td>60</td>\n",
       "      <td>M</td>\n",
       "      <td>Kenya</td>\n",
       "      <td>Private</td>\n",
       "      <td>79</td>\n",
       "      <td>Diploma</td>\n",
       "      <td>150</td>\n",
       "      <td>60.0</td>\n",
       "      <td>75</td>\n",
       "    </tr>\n",
       "    <tr>\n",
       "      <th>2</th>\n",
       "      <td>Philip</td>\n",
       "      <td>Leo</td>\n",
       "      <td>25</td>\n",
       "      <td>Male</td>\n",
       "      <td>Uganda</td>\n",
       "      <td>Sognsvann</td>\n",
       "      <td>55</td>\n",
       "      <td>HighSchool</td>\n",
       "      <td>130</td>\n",
       "      <td>74.0</td>\n",
       "      <td>50</td>\n",
       "    </tr>\n",
       "    <tr>\n",
       "      <th>3</th>\n",
       "      <td>Shoni</td>\n",
       "      <td>Hlongwane</td>\n",
       "      <td>22</td>\n",
       "      <td>F</td>\n",
       "      <td>Rsa</td>\n",
       "      <td>Sognsvann</td>\n",
       "      <td>40</td>\n",
       "      <td>High School</td>\n",
       "      <td>120</td>\n",
       "      <td>NaN</td>\n",
       "      <td>44</td>\n",
       "    </tr>\n",
       "    <tr>\n",
       "      <th>4</th>\n",
       "      <td>Maria</td>\n",
       "      <td>Kedibone</td>\n",
       "      <td>23</td>\n",
       "      <td>Female</td>\n",
       "      <td>South Africa</td>\n",
       "      <td>Sognsvann</td>\n",
       "      <td>65</td>\n",
       "      <td>High School</td>\n",
       "      <td>122</td>\n",
       "      <td>91.0</td>\n",
       "      <td>80</td>\n",
       "    </tr>\n",
       "  </tbody>\n",
       "</table>\n",
       "</div>"
      ],
      "text/plain": [
       "       fNAME      lNAME  Age  gender       country  residence  entryEXAM  \\\n",
       "0  Christina     Binger   44  Female        Norway    Private         72   \n",
       "1       Alex   Walekhwa   60       M         Kenya    Private         79   \n",
       "2     Philip        Leo   25    Male        Uganda  Sognsvann         55   \n",
       "3      Shoni  Hlongwane   22       F           Rsa  Sognsvann         40   \n",
       "4      Maria   Kedibone   23  Female  South Africa  Sognsvann         65   \n",
       "\n",
       "  prevEducation  studyHOURS  Python  DB  \n",
       "0       Masters         158    59.0  55  \n",
       "1       Diploma         150    60.0  75  \n",
       "2    HighSchool         130    74.0  50  \n",
       "3   High School         120     NaN  44  \n",
       "4   High School         122    91.0  80  "
      ]
     },
     "execution_count": 4,
     "metadata": {},
     "output_type": "execute_result"
    }
   ],
   "source": [
    "df = pd.read_csv('bi.csv', encoding='latin1')\n",
    "df.head()"
   ]
  },
  {
   "cell_type": "markdown",
   "id": "46e00fb8-c19c-48b6-bfeb-b90de941abf2",
   "metadata": {
    "jp-MarkdownHeadingCollapsed": true
   },
   "source": [
    "## Part 1 - Data Cleaning"
   ]
  },
  {
   "cell_type": "markdown",
   "id": "3a1cacd9-9f91-4f96-a114-937c21c23f31",
   "metadata": {},
   "source": [
    "### 1.1 Check Data Structure"
   ]
  },
  {
   "cell_type": "code",
   "execution_count": null,
   "id": "f63e1a82-ea4f-40c4-8315-89a89c641850",
   "metadata": {},
   "outputs": [],
   "source": [
    "df.shape"
   ]
  },
  {
   "cell_type": "code",
   "execution_count": null,
   "id": "3ea5bcfc-278e-4c6b-8ab1-1c4356931f3d",
   "metadata": {},
   "outputs": [],
   "source": [
    "df.info()"
   ]
  },
  {
   "cell_type": "code",
   "execution_count": null,
   "id": "e5014a32-ffbf-489f-996d-b426f4f95ab0",
   "metadata": {
    "scrolled": true
   },
   "outputs": [],
   "source": [
    "df.head()"
   ]
  },
  {
   "cell_type": "markdown",
   "id": "63fd8c79-70ae-4c99-8469-73655c8b72ef",
   "metadata": {},
   "source": [
    "**Q: Which columns should be categorical and which should be numerical?**\n",
    "\n",
    "**Answer:**\n",
    "\n",
    "**Categorical:** gender, country, residence, prevEducation\n",
    "\n",
    "**Numerical:** Age, entryEXAM, studyHOURS, Python, DB"
   ]
  },
  {
   "cell_type": "markdown",
   "id": "d5507fa1-c7bf-4bfe-9030-2f30f5f11faa",
   "metadata": {
    "jp-MarkdownHeadingCollapsed": true
   },
   "source": [
    "### 1.2 Detect & fix inconsistent categories"
   ]
  },
  {
   "cell_type": "code",
   "execution_count": null,
   "id": "acf55e3a-6649-4401-8565-0bde28cc26c0",
   "metadata": {},
   "outputs": [],
   "source": [
    "df.head()"
   ]
  },
  {
   "cell_type": "code",
   "execution_count": null,
   "id": "ee07ed8c-7d1f-4ba3-bc45-4c77f76e4b04",
   "metadata": {},
   "outputs": [],
   "source": [
    "df['gender'].unique()"
   ]
  },
  {
   "cell_type": "code",
   "execution_count": null,
   "id": "a87a9258-9771-449d-83c4-5aec5224b15e",
   "metadata": {},
   "outputs": [],
   "source": [
    "df['country'].unique()"
   ]
  },
  {
   "cell_type": "code",
   "execution_count": null,
   "id": "c3ce4ced-e265-426e-b719-c401890d06ba",
   "metadata": {},
   "outputs": [],
   "source": [
    "df['prevEducation'].unique()"
   ]
  },
  {
   "cell_type": "code",
   "execution_count": null,
   "id": "88cbbb6b-8e6c-4249-8803-6ffdd327c30e",
   "metadata": {},
   "outputs": [],
   "source": [
    "# fixing gender column by title() format\n",
    "df['gender'] = df['gender'].str.title()\n",
    "df['gender'].unique()"
   ]
  },
  {
   "cell_type": "code",
   "execution_count": null,
   "id": "a59cd22a-f69b-433c-93e1-59d1134ad74b",
   "metadata": {},
   "outputs": [],
   "source": [
    "# fixing gender column by replacing values\n",
    "df['gender'] = df['gender'].replace({'M': 'Male', 'F': 'Female'})\n",
    "df['gender'].unique()"
   ]
  },
  {
   "cell_type": "code",
   "execution_count": null,
   "id": "0dfaa45e-2175-4447-9fcf-ca3dec2061d6",
   "metadata": {},
   "outputs": [],
   "source": [
    "# fixing country column\n",
    "df['country'] = df['country'].str.title().replace({'Rsa': 'South Africa', 'Norge': 'Norway', 'Somali': 'Somalia'})\n",
    "df['country'].unique()"
   ]
  },
  {
   "cell_type": "code",
   "execution_count": null,
   "id": "6ee5179a-280e-4167-b4c3-52d4886b4422",
   "metadata": {},
   "outputs": [],
   "source": [
    "# fixing prevEducation column\n",
    "df['prevEducation'] = df['prevEducation'].str.title().replace({'Highschool': 'High School', 'Barrrchelors': 'Bachelors', 'Diplomaaa': 'Diploma'})\n",
    "df['prevEducation'].unique()"
   ]
  },
  {
   "cell_type": "markdown",
   "id": "836757bb-6b94-44bf-aead-c85311dff088",
   "metadata": {
    "jp-MarkdownHeadingCollapsed": true
   },
   "source": [
    "### 1.3 Handle duplicates"
   ]
  },
  {
   "cell_type": "code",
   "execution_count": null,
   "id": "d89c3230-fcab-45fb-ac56-b7cd9a06d425",
   "metadata": {},
   "outputs": [],
   "source": [
    "df.duplicated().sum()"
   ]
  },
  {
   "cell_type": "markdown",
   "id": "f73dc285-8fef-4ef4-8d90-97481c948fa8",
   "metadata": {},
   "source": [
    "## Part 2 - Missing Data"
   ]
  },
  {
   "cell_type": "markdown",
   "id": "a4323b16-8573-4286-9a7a-c113fe32dce8",
   "metadata": {},
   "source": [
    "### 2.1 Identify missing values"
   ]
  },
  {
   "cell_type": "code",
   "execution_count": null,
   "id": "dce21031-5a10-4ac8-897b-0ebb6d51ac7f",
   "metadata": {},
   "outputs": [],
   "source": [
    "# Identify missing values\n",
    "df.isnull().sum()"
   ]
  },
  {
   "cell_type": "markdown",
   "id": "d39a7cda-7131-49da-9347-c14ef12d15c6",
   "metadata": {},
   "source": [
    "**Q:** Question: Which columns are most affected by missing values?\n",
    "\n",
    "**A:** Python column"
   ]
  },
  {
   "cell_type": "code",
   "execution_count": null,
   "id": "ba7f89c7-1940-498b-9581-96386dae9e6d",
   "metadata": {},
   "outputs": [],
   "source": [
    "df[]"
   ]
  }
 ],
 "metadata": {
  "kernelspec": {
   "display_name": "depi3",
   "language": "python",
   "name": "depi3"
  },
  "language_info": {
   "codemirror_mode": {
    "name": "ipython",
    "version": 3
   },
   "file_extension": ".py",
   "mimetype": "text/x-python",
   "name": "python",
   "nbconvert_exporter": "python",
   "pygments_lexer": "ipython3",
   "version": "3.13.5"
  }
 },
 "nbformat": 4,
 "nbformat_minor": 5
}
