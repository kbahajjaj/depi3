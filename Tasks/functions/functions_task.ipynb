{
 "cells": [
  {
   "cell_type": "markdown",
   "id": "6dfe1bb6-7e40-4eb0-b521-45268760b50a",
   "metadata": {},
   "source": [
    "# Functions Task #1"
   ]
  },
  {
   "cell_type": "markdown",
   "id": "8fd30777-26c2-48ab-ac42-986a632fa3f1",
   "metadata": {},
   "source": [
    "#### 1. **`evens_and_odds`** Function"
   ]
  },
  {
   "cell_type": "code",
   "execution_count": 15,
   "id": "b17f1e02-83c8-4458-8db6-4f2e7613be69",
   "metadata": {},
   "outputs": [],
   "source": [
    "def evens_and_odds(x):\n",
    "    even_count, odd_count = (0, 0)\n",
    "    for num in range(x+1):\n",
    "        if num % 2 == 0:\n",
    "            even_count += 1\n",
    "        else:\n",
    "            odd_count += 1\n",
    "    return f\"The number of odds are {odd_count}. \\nThe number of evens are {even_count}.\""
   ]
  },
  {
   "cell_type": "code",
   "execution_count": 16,
   "id": "64f9584d-f564-4d3b-ab30-e47d51136869",
   "metadata": {},
   "outputs": [
    {
     "name": "stdout",
     "output_type": "stream",
     "text": [
      "The number of odds are 50. \n",
      "The number of evens are 51.\n"
     ]
    }
   ],
   "source": [
    "print(evens_and_odds(100))"
   ]
  },
  {
   "cell_type": "markdown",
   "id": "475f28b9-b529-481a-b52b-1c4956448cb4",
   "metadata": {},
   "source": [
    "#### 2. **`calculate_mean`**, **`calculate_median`**, **`calculate_mode`** Functions"
   ]
  },
  {
   "cell_type": "code",
   "execution_count": 17,
   "id": "b2831120-69c9-49a1-8ce4-d5a635a08cf4",
   "metadata": {},
   "outputs": [],
   "source": [
    "def calculate_mean(x):\n",
    "    return sum(x)/len(x)\n",
    "print(calculate_mean([1, 2, 3, 4, 5]))"
   ]
  },
  {
   "cell_type": "code",
   "execution_count": 44,
   "id": "b975cbcf-df39-4427-bf5e-85afeffcd1bd",
   "metadata": {},
   "outputs": [],
   "source": [
    "def calculate_median(x):\n",
    "    x_sorted = sorted(x)\n",
    "    if len(x) % 2 == 0:\n",
    "        median = (x_sorted[int(len(x)/2) - 1] + x_sorted[int(len(x)/2) + 1])/2\n",
    "    else:\n",
    "        median = x_sorted[int((len(x)+1) / 2) - 1]\n",
    "    return median"
   ]
  },
  {
   "cell_type": "code",
   "execution_count": 88,
   "id": "4dc90947-1ab8-4de1-84ed-b51db6714e64",
   "metadata": {},
   "outputs": [
    {
     "name": "stdout",
     "output_type": "stream",
     "text": [
      "3.2\n",
      "4.0\n"
     ]
    }
   ],
   "source": [
    "odd_list = [2, 1, 5, 3.2, 4]\n",
    "even_list = [2, 1, 6, 5, 3, 4]\n",
    "print(calculate_median(odd_list))\n",
    "print(calculate_median(even_list))"
   ]
  },
  {
   "cell_type": "markdown",
   "id": "eb516093-af75-4a4f-8b71-f07215138770",
   "metadata": {},
   "source": [
    "##### Mode: Method 1"
   ]
  },
  {
   "cell_type": "code",
   "execution_count": 85,
   "id": "7e823536-4d9d-452e-8828-725c9caaca95",
   "metadata": {},
   "outputs": [],
   "source": [
    "def calculate_mode1(x): # Method 1 \n",
    "    # count number of appearences for each list number\n",
    "    num_count = {}\n",
    "    for num in x:\n",
    "        if num not in num_count:\n",
    "            num_count[num] = 1\n",
    "        else:\n",
    "            num_count[num] += 1\n",
    "    # sort num_count dictionary according to it's values (appearences)\n",
    "    num_count_sorted = sorted(num_count.items(), key=lambda x : x[1], reverse=True)\n",
    "    # converting a list of tuples into a dictionary\n",
    "    num_count_sorted = dict(num_count_sorted)\n",
    "    # get the elements with highest appearences as modes\n",
    "    mode_list = []\n",
    "    for k, v in num_count_sorted.items():\n",
    "        if v == max(list(dict(y).values())):\n",
    "            mode_list.append(k)   \n",
    "    return mode_list"
   ]
  },
  {
   "cell_type": "code",
   "execution_count": 86,
   "id": "aa804646-e0e0-433b-b4a0-4a305df5dc0f",
   "metadata": {
    "scrolled": true
   },
   "outputs": [
    {
     "name": "stdout",
     "output_type": "stream",
     "text": [
      "[10, 8]\n"
     ]
    }
   ],
   "source": [
    "x = [1, 2, 10, 10, 6, 8, 10, 8, 2, 8]\n",
    "print(calculate_mode1(x))"
   ]
  },
  {
   "cell_type": "markdown",
   "id": "21eaafa1-19b2-425b-9d85-33c4a490d676",
   "metadata": {},
   "source": [
    "##### Mode: Method 2"
   ]
  },
  {
   "cell_type": "code",
   "execution_count": null,
   "id": "6de13757-c54f-40e5-9516-70cf657b587a",
   "metadata": {},
   "outputs": [],
   "source": [
    "def calculate_mode2(x): # Method 2\n",
    "    # count number of appearences for each list number\n",
    "    x_unique = list(set(x))\n",
    "    counts = []   \n",
    "    for num in x_unique:\n",
    "        counts.append(x.count(num))\n",
    "    # get the elements with highest appearences as modes\n",
    "    mode_list = []\n",
    "    for i in range(len(x_unique)):\n",
    "        if counts[i] == max(counts):\n",
    "            mode_list.append(x_unique[i])\n",
    "    return mode_list"
   ]
  },
  {
   "cell_type": "code",
   "execution_count": 87,
   "id": "379bc9d5-3801-41fd-b272-e569f7ee72ef",
   "metadata": {},
   "outputs": [
    {
     "name": "stdout",
     "output_type": "stream",
     "text": [
      "[8, 10]\n"
     ]
    }
   ],
   "source": [
    "print(calculate_mode2(x))"
   ]
  }
 ],
 "metadata": {
  "kernelspec": {
   "display_name": "Python 3 (ipykernel)",
   "language": "python",
   "name": "python3"
  },
  "language_info": {
   "codemirror_mode": {
    "name": "ipython",
    "version": 3
   },
   "file_extension": ".py",
   "mimetype": "text/x-python",
   "name": "python",
   "nbconvert_exporter": "python",
   "pygments_lexer": "ipython3",
   "version": "3.11.7"
  }
 },
 "nbformat": 4,
 "nbformat_minor": 5
}
