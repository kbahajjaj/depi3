{
 "cells": [
  {
   "cell_type": "markdown",
   "id": "c3d3cc01-4ab1-49fb-baf4-b2820b9c0ae0",
   "metadata": {},
   "source": [
    "# Web scraping Task\n",
    "##### Student: Khalid Salim\n",
    "##### Student Number: 2\n",
    "##### Group: CAI3_AIS4_G1"
   ]
  },
  {
   "cell_type": "markdown",
   "id": "33517d0b-2669-4a87-b249-90a3457956d2",
   "metadata": {},
   "source": [
    "## For the webpage: https://baraasalout.github.io/test.html, perform the following tasks"
   ]
  },
  {
   "cell_type": "markdown",
   "id": "e4ab92ef-b1cd-4785-b844-037d54aca31d",
   "metadata": {},
   "source": [
    "### Task 1 - Extract Text Data:"
   ]
  },
  {
   "cell_type": "markdown",
   "id": "cd88f4d3-fa3d-4992-bcef-5d7c199d4eb1",
   "metadata": {},
   "source": [
    "- Extract all headings `(<h1>, <h2>)`.\n",
    "- Extract all text content inside `<p>` and `<li>` tags\n",
    "- Save this data into a `Extract_Text_Data.CSV` file.\n",
    "- https://www.pythontutorial.net/python-basics/python-write-csv-file/"
   ]
  },
  {
   "cell_type": "code",
   "execution_count": 1,
   "id": "d8fdfa99-98f2-4394-b7e0-98a59d97fd68",
   "metadata": {},
   "outputs": [
    {
     "name": "stdout",
     "output_type": "stream",
     "text": [
      "Looking in indexes: https://pypi.org/simple, https://pypi.ngc.nvidia.com\n",
      "Requirement already satisfied: requests in c:\\users\\khalid\\anaconda3\\envs\\depi3\\lib\\site-packages (2.32.4)\n",
      "Requirement already satisfied: charset_normalizer<4,>=2 in c:\\users\\khalid\\anaconda3\\envs\\depi3\\lib\\site-packages (from requests) (3.3.2)\n",
      "Requirement already satisfied: idna<4,>=2.5 in c:\\users\\khalid\\anaconda3\\envs\\depi3\\lib\\site-packages (from requests) (3.10)\n",
      "Requirement already satisfied: urllib3<3,>=1.21.1 in c:\\users\\khalid\\anaconda3\\envs\\depi3\\lib\\site-packages (from requests) (2.5.0)\n",
      "Requirement already satisfied: certifi>=2017.4.17 in c:\\users\\khalid\\anaconda3\\envs\\depi3\\lib\\site-packages (from requests) (2025.8.3)\n",
      "Looking in indexes: https://pypi.org/simple, https://pypi.ngc.nvidia.com\n",
      "Requirement already satisfied: beautifulsoup4 in c:\\users\\khalid\\anaconda3\\envs\\depi3\\lib\\site-packages (4.13.4)\n",
      "Requirement already satisfied: soupsieve>1.2 in c:\\users\\khalid\\anaconda3\\envs\\depi3\\lib\\site-packages (from beautifulsoup4) (2.5)\n",
      "Requirement already satisfied: typing-extensions>=4.0.0 in c:\\users\\khalid\\anaconda3\\envs\\depi3\\lib\\site-packages (from beautifulsoup4) (4.12.2)\n"
     ]
    }
   ],
   "source": [
    "# Installing required libraries\n",
    "!pip install requests\n",
    "!pip install beautifulsoup4"
   ]
  },
  {
   "cell_type": "code",
   "execution_count": 15,
   "id": "c6a7e1a9-1622-4afb-b1ad-a7f520c973e3",
   "metadata": {},
   "outputs": [],
   "source": [
    "# Importing required modules and functions\n",
    "import requests\n",
    "from bs4 import BeautifulSoup\n",
    "import csv\n",
    "import pandas as pd"
   ]
  },
  {
   "cell_type": "code",
   "execution_count": 16,
   "id": "ddc9a5a7-93f1-4ebc-b818-849cb13d08c9",
   "metadata": {},
   "outputs": [
    {
     "name": "stdout",
     "output_type": "stream",
     "text": [
      "b'<!DOCTYPE html>\\n\\n<html>\\n\\n    <head>\\n        <title>Web Scraping Task with Form</title>\\n\\n         <style>\\n        body {\\n            font-family: Arial, sans-serif;\\n            margin: 20px;\\n            background-color: #f5f5f5;\\n        }\\n\\n        h1 {\\n            color: darkred;\\n            text-align: center;\\n        }\\n\\n        h2 {\\n            color: darkblue;\\n            font-style: italic;\\n        }\\n\\n        p {\\n            color: #555;\\n            font-size: 14px;\\n        }\\n\\n        img {\\n            width: 250px;\\n            height: auto;\\n            border-radius: 10px;\\n        }\\n\\n        table {\\n            width: 100%;\\n            border-collapse: collapse;\\n            margin: 20px 0;\\n        }\\n\\n        table, th, td {\\n            border: 1px solid #ccc;\\n        }\\n\\n        th {\\n            background-color: #333;\\n            color: white;\\n            padding: 10px;\\n        }\\n\\n        td {\\n            text-align: center;\\n            padding: 10px;\\n        }\\n\\n        .btn {\\n            background-color: darkgreen;\\n            color: white;\\n            border: none;\\n            padding: 10px 20px;\\n            cursor: pointer;\\n            text-transform: uppercase;\\n            font-weight: bold;\\n        }\\n\\n        .btn:hover {\\n            background-color: green;\\n        }\\n\\n        ul {\\n            list-style-type: square;\\n        }\\n\\n        iframe {\\n            display: block;\\n            margin: 20px auto;\\n            border: none;\\n        }\\n\\n        .footer {\\n            background-color: #333;\\n            color: white;\\n            text-align: center;\\n            padding: 10px 0;\\n            margin-top: 30px;\\n        }\\n\\n        .highlight {\\n            background-color: yellow;\\n            font-weight: bold;\\n        }\\n\\n        form {\\n            margin: 20px 0;\\n            background-color: #fff;\\n            padding: 20px;\\n            border: 1px solid #ccc;\\n            border-radius: 5px;\\n        }\\n\\n        form input, form select, form button {\\n            display: block;\\n            margin: 10px 0;\\n            padding: 10px;\\n            width: 100%;\\n            max-width: 400px;\\n            border: 1px solid #ccc;\\n            border-radius: 5px;\\n        }\\n\\n        .products {\\n            display: flex;\\n            flex-wrap: wrap;\\n            justify-content: center;\\n            gap: 20px;\\n            margin-top: 30px;\\n        }\\n\\n        .product-card {\\n            width: 250px;\\n            border: 1px solid #ddd;\\n            border-radius: 8px;\\n            background-color: #fff;\\n            box-shadow: 0 4px 6px rgba(0, 0, 0, 0.1);\\n            text-align: center;\\n            overflow: hidden;\\n            transition: transform 0.3s ease, box-shadow 0.3s ease;\\n        }\\n\\n        .product-card:hover {\\n            transform: translateY(-5px);\\n            box-shadow: 0 8px 12px rgba(0, 0, 0, 0.2);\\n        }\\n\\n        .product-card img {\\n            width: 100%;\\n            height: 150px;\\n            object-fit: cover;\\n        }\\n\\n        .product-card .name {\\n            font-size: 18px;\\n            font-weight: bold;\\n            margin: 15px 0 5px;\\n            color: #333;\\n        }\\n\\n        .product-card .price {\\n            font-size: 16px;\\n            color: #28a745;\\n            margin: 5px 0;\\n        }\\n\\n        .product-card .colors {\\n            font-size: 14px;\\n            color: #666;\\n            margin-bottom: 15px;\\n        }\\n\\n        .product-card button {\\n            background-color: #007bff;\\n            color: white;\\n            border: none;\\n            padding: 10px 20px;\\n            margin: 10px 0;\\n            cursor: pointer;\\n            border-radius: 5px;\\n            font-size: 14px;\\n            transition: background-color 0.3s ease;\\n        }\\n\\n        .product-card button:hover {\\n            background-color: #0056b3;\\n        }\\n    </style>\\n    </head>\\n\\n    <body>\\n        <h1>Web Scraping Practice</h1>\\n        <p>Welcome to the web scraping task! Use your skills to extract the required data from this page.</p>\\n\\n        <h2>Available Products</h2>\\n        <ul>\\n            <li class=\"highlight\">Laptop</li>\\n            <li>Smartphone</li>\\n            <li>Tablet</li>\\n            <li>Smartwatch</li>\\n        </ul>\\n\\n        <h2>Product Table</h2>\\n        <table>\\n            <tr>\\n                <th>Product</th>\\n                <th>Price</th>\\n                <th>In Stock</th>\\n            </tr>\\n            <tr>\\n                <td>Laptop</td>\\n                <td>$1000</td>\\n                <td>Yes</td>\\n            </tr>\\n            <tr>\\n                <td>Smartphone</td>\\n                <td>$800</td>\\n                <td>No</td>\\n            </tr>\\n            <tr>\\n                <td>Tablet</td>\\n                <td>$500</td>\\n                <td>Yes</td>\\n            </tr>\\n        </table>\\n\\n        <h2>Watch This Video</h2>\\n        <iframe width=\"560\" height=\"315\" src=\"https://www.youtube.com/watch?v=ujf9RNuBdCU\"></iframe>\\n        \\n        \\n\\n        \\n        <h2>Contact Us</h2>\\n        <form>\\n            <label for=\"username\">Username:</label>\\n            <input type=\"text\" id=\"username\" name=\"username\" placeholder=\"Enter your username\">\\n\\n            <label for=\"password\">Password:</label>\\n            <input type=\"password\" id=\"password\" name=\"password\" placeholder=\"Enter your password\">\\n\\n            <label for=\"options\">Choose an option:</label>\\n            <select id=\"options\" name=\"options\">\\n                <option value=\"option1\">Option 1</option>\\n                <option value=\"option2\">Option 2</option>\\n                <option value=\"option3\">Option 3</option>\\n            </select>\\n\\n            <label>\\n                <input type=\"checkbox\" name=\"terms\"> I agree to the terms and conditions\\n            </label>\\n\\n            <input type=\"submit\" value=\"Submit\">\\n        </form>\\n\\n    <h2>Product Information</h2>\\n    <div class=\"book-products\" style=\"display: flex; justify-content: space-around; margin-top: 20px;\">\\n        <div style=\"text-align: center; width: 200px; border: 1px solid #ddd; padding: 10px; border-radius: 5px;\">\\n            <img src=\"http://books.toscrape.com/media/cache/26/0c/260c6ae16bce31c8f8c95daddd9f4a1c.jpg\" alt=\"Sharp Objects\" style=\"width: 100%; height: auto; border-radius: 5px;\">\\n            <p><strong>Sharp Objects</strong></p>\\n            <p style=\"color: green;\">\\xc2\\xa347.82</p>\\n            <p style=\"color: green;\">\\xe2\\x9c\\x94 In stock</p>\\n            <button style=\"background-color: blue; color: white; border: none; padding: 10px 15px; border-radius: 5px; cursor: pointer;\">Add to basket</button>\\n        </div>\\n\\n        <div style=\"text-align: center; width: 200px; border: 1px solid #ddd; padding: 10px; border-radius: 5px;\">\\n            <img src=\"http://books.toscrape.com/media/cache/92/27/92274a95b7c251fea59a2b8a78275ab4.jpg\" alt=\"In a Dark, Dark Wood\" style=\"width: 100%; height: auto; border-radius: 5px;\">\\n            <p><strong>In a Dark, Dark Wood</strong></p>\\n            <p style=\"color: green;\">\\xc2\\xa319.63</p>\\n            <p style=\"color: green;\">\\xe2\\x9c\\x94 In stock</p>\\n            <button style=\"background-color: blue; color: white; border: none; padding: 10px 15px; border-radius: 5px; cursor: pointer;\">Add to basket</button>\\n        </div>\\n\\n        <div style=\"text-align: center; width: 200px; border: 1px solid #ddd; padding: 10px; border-radius: 5px;\">\\n            <img src=\"http://books.toscrape.com/media/cache/c0/59/c05972805aa7201171b8fc71a5b00292.jpg\" alt=\"The Past Never Ends\" style=\"width: 100%; height: auto; border-radius: 5px;\">\\n            <p><strong>The Past Never Ends</strong></p>\\n            <p style=\"color: green;\">\\xc2\\xa356.50</p>\\n            <p style=\"color: green;\">\\xe2\\x9c\\x94 In stock</p>\\n            <button style=\"background-color: blue; color: white; border: none; padding: 10px 15px; border-radius: 5px; cursor: pointer;\">Add to basket</button>\\n        </div>\\n\\n        <div style=\"text-align: center; width: 200px; border: 1px solid #ddd; padding: 10px; border-radius: 5px;\">\\n            <img src=\"http://books.toscrape.com/media/cache/97/27/97275841c81e66d53bf9313cba06f23e.jpg\" alt=\"A Murder in Time\" style=\"width: 100%; height: auto; border-radius: 5px;\">\\n            <p><strong>A Murder in Time</strong></p>\\n            <p style=\"color: green;\">\\xc2\\xa316.64</p>\\n            <p style=\"color: green;\"> Out stock</p>\\n            <button style=\"background-color: blue; color: white; border: none; padding: 10px 15px; border-radius: 5px; cursor: pointer;\">Add to basket</button>\\n        </div>\\n    </div>\\n\\n    \\n\\n    <h2>Featured Products</h2>\\n    <div class=\"products\">\\n        <div class=\"product-card\" data-id=\"101\">\\n            <img src=\"https://via.placeholder.com/250x150?text=Product+1\" alt=\"Wireless Headphones\">\\n            <p class=\"name\">Wireless Headphones</p>\\n            <p class=\"price\" style=\"display: none;\">$49.99</p>\\n            <p class=\"colors\">Available colors: Black, White, Blue</p>\\n            <button>Add to Basket</button>\\n        </div>\\n        <div class=\"product-card\" data-id=\"102\">\\n            <img src=\"https://via.placeholder.com/250x150?text=Product+2\" alt=\"Smart Speaker\">\\n            <p class=\"name\">Smart Speaker</p>\\n            <p class=\"price\" style=\"display: none;\">$89.99</p>\\n            <p class=\"colors\">Available colors: Grey, Black</p>\\n            <button>Add to Basket</button>\\n        </div>\\n        <div class=\"product-card\" data-id=\"103\">\\n            <img src=\"https://via.placeholder.com/250x150?text=Product+3\" alt=\"Smart Watch\">\\n            <p class=\"name\">Smart Watch</p>\\n            <p class=\"price\" style=\"display: none;\">$149.99</p>\\n            <p class=\"colors\">Available colors: Black, Silver, Gold</p>\\n            <button>Add to Basket</button>\\n        </div>\\n    </div>\\n\\n    <div class=\"footer\">\\n            <p>&copy; 2024 Web Scraping Practice. All Rights Reserved.</p>\\n        </div>\\n    </body>\\n</html>\\n'\n"
     ]
    }
   ],
   "source": [
    "# Getting page HTML code\n",
    "url = 'https://baraasalout.github.io/test.html'\n",
    "\n",
    "page = requests.get(url)\n",
    "print(page.content)"
   ]
  },
  {
   "cell_type": "code",
   "execution_count": 17,
   "id": "fb14a850-4aab-4198-8c63-557ab3cecc63",
   "metadata": {},
   "outputs": [
    {
     "name": "stdout",
     "output_type": "stream",
     "text": [
      "<!DOCTYPE html>\n",
      "\n",
      "<html>\n",
      "<head>\n",
      "<title>Web Scraping Task with Form</title>\n",
      "<style>\n",
      "        body {\n",
      "            font-family: Arial, sans-serif;\n",
      "            margin: 20px;\n",
      "            background-color: #f5f5f5;\n",
      "        }\n",
      "\n",
      "        h1 {\n",
      "            color: darkred;\n",
      "            text-align: center;\n",
      "        }\n",
      "\n",
      "        h2 {\n",
      "            color: darkblue;\n",
      "            font-style: italic;\n",
      "        }\n",
      "\n",
      "        p {\n",
      "            color: #555;\n",
      "            font-size: 14px;\n",
      "        }\n",
      "\n",
      "        img {\n",
      "            width: 250px;\n",
      "            height: auto;\n",
      "            border-radius: 10px;\n",
      "        }\n",
      "\n",
      "        table {\n",
      "            width: 100%;\n",
      "            border-collapse: collapse;\n",
      "            margin: 20px 0;\n",
      "        }\n",
      "\n",
      "        table, th, td {\n",
      "            border: 1px solid #ccc;\n",
      "        }\n",
      "\n",
      "        th {\n",
      "            background-color: #333;\n",
      "            color: white;\n",
      "            padding: 10px;\n",
      "        }\n",
      "\n",
      "        td {\n",
      "            text-align: center;\n",
      "            padding: 10px;\n",
      "        }\n",
      "\n",
      "        .btn {\n",
      "            background-color: darkgreen;\n",
      "            color: white;\n",
      "            border: none;\n",
      "            padding: 10px 20px;\n",
      "            cursor: pointer;\n",
      "            text-transform: uppercase;\n",
      "            font-weight: bold;\n",
      "        }\n",
      "\n",
      "        .btn:hover {\n",
      "            background-color: green;\n",
      "        }\n",
      "\n",
      "        ul {\n",
      "            list-style-type: square;\n",
      "        }\n",
      "\n",
      "        iframe {\n",
      "            display: block;\n",
      "            margin: 20px auto;\n",
      "            border: none;\n",
      "        }\n",
      "\n",
      "        .footer {\n",
      "            background-color: #333;\n",
      "            color: white;\n",
      "            text-align: center;\n",
      "            padding: 10px 0;\n",
      "            margin-top: 30px;\n",
      "        }\n",
      "\n",
      "        .highlight {\n",
      "            background-color: yellow;\n",
      "            font-weight: bold;\n",
      "        }\n",
      "\n",
      "        form {\n",
      "            margin: 20px 0;\n",
      "            background-color: #fff;\n",
      "            padding: 20px;\n",
      "            border: 1px solid #ccc;\n",
      "            border-radius: 5px;\n",
      "        }\n",
      "\n",
      "        form input, form select, form button {\n",
      "            display: block;\n",
      "            margin: 10px 0;\n",
      "            padding: 10px;\n",
      "            width: 100%;\n",
      "            max-width: 400px;\n",
      "            border: 1px solid #ccc;\n",
      "            border-radius: 5px;\n",
      "        }\n",
      "\n",
      "        .products {\n",
      "            display: flex;\n",
      "            flex-wrap: wrap;\n",
      "            justify-content: center;\n",
      "            gap: 20px;\n",
      "            margin-top: 30px;\n",
      "        }\n",
      "\n",
      "        .product-card {\n",
      "            width: 250px;\n",
      "            border: 1px solid #ddd;\n",
      "            border-radius: 8px;\n",
      "            background-color: #fff;\n",
      "            box-shadow: 0 4px 6px rgba(0, 0, 0, 0.1);\n",
      "            text-align: center;\n",
      "            overflow: hidden;\n",
      "            transition: transform 0.3s ease, box-shadow 0.3s ease;\n",
      "        }\n",
      "\n",
      "        .product-card:hover {\n",
      "            transform: translateY(-5px);\n",
      "            box-shadow: 0 8px 12px rgba(0, 0, 0, 0.2);\n",
      "        }\n",
      "\n",
      "        .product-card img {\n",
      "            width: 100%;\n",
      "            height: 150px;\n",
      "            object-fit: cover;\n",
      "        }\n",
      "\n",
      "        .product-card .name {\n",
      "            font-size: 18px;\n",
      "            font-weight: bold;\n",
      "            margin: 15px 0 5px;\n",
      "            color: #333;\n",
      "        }\n",
      "\n",
      "        .product-card .price {\n",
      "            font-size: 16px;\n",
      "            color: #28a745;\n",
      "            margin: 5px 0;\n",
      "        }\n",
      "\n",
      "        .product-card .colors {\n",
      "            font-size: 14px;\n",
      "            color: #666;\n",
      "            margin-bottom: 15px;\n",
      "        }\n",
      "\n",
      "        .product-card button {\n",
      "            background-color: #007bff;\n",
      "            color: white;\n",
      "            border: none;\n",
      "            padding: 10px 20px;\n",
      "            margin: 10px 0;\n",
      "            cursor: pointer;\n",
      "            border-radius: 5px;\n",
      "            font-size: 14px;\n",
      "            transition: background-color 0.3s ease;\n",
      "        }\n",
      "\n",
      "        .product-card button:hover {\n",
      "            background-color: #0056b3;\n",
      "        }\n",
      "    </style>\n",
      "</head>\n",
      "<body>\n",
      "<h1>Web Scraping Practice</h1>\n",
      "<p>Welcome to the web scraping task! Use your skills to extract the required data from this page.</p>\n",
      "<h2>Available Products</h2>\n",
      "<ul>\n",
      "<li class=\"highlight\">Laptop</li>\n",
      "<li>Smartphone</li>\n",
      "<li>Tablet</li>\n",
      "<li>Smartwatch</li>\n",
      "</ul>\n",
      "<h2>Product Table</h2>\n",
      "<table>\n",
      "<tr>\n",
      "<th>Product</th>\n",
      "<th>Price</th>\n",
      "<th>In Stock</th>\n",
      "</tr>\n",
      "<tr>\n",
      "<td>Laptop</td>\n",
      "<td>$1000</td>\n",
      "<td>Yes</td>\n",
      "</tr>\n",
      "<tr>\n",
      "<td>Smartphone</td>\n",
      "<td>$800</td>\n",
      "<td>No</td>\n",
      "</tr>\n",
      "<tr>\n",
      "<td>Tablet</td>\n",
      "<td>$500</td>\n",
      "<td>Yes</td>\n",
      "</tr>\n",
      "</table>\n",
      "<h2>Watch This Video</h2>\n",
      "<iframe height=\"315\" src=\"https://www.youtube.com/watch?v=ujf9RNuBdCU\" width=\"560\"></iframe>\n",
      "<h2>Contact Us</h2>\n",
      "<form>\n",
      "<label for=\"username\">Username:</label>\n",
      "<input id=\"username\" name=\"username\" placeholder=\"Enter your username\" type=\"text\"/>\n",
      "<label for=\"password\">Password:</label>\n",
      "<input id=\"password\" name=\"password\" placeholder=\"Enter your password\" type=\"password\"/>\n",
      "<label for=\"options\">Choose an option:</label>\n",
      "<select id=\"options\" name=\"options\">\n",
      "<option value=\"option1\">Option 1</option>\n",
      "<option value=\"option2\">Option 2</option>\n",
      "<option value=\"option3\">Option 3</option>\n",
      "</select>\n",
      "<label>\n",
      "<input name=\"terms\" type=\"checkbox\"/> I agree to the terms and conditions\n",
      "            </label>\n",
      "<input type=\"submit\" value=\"Submit\"/>\n",
      "</form>\n",
      "<h2>Product Information</h2>\n",
      "<div class=\"book-products\" style=\"display: flex; justify-content: space-around; margin-top: 20px;\">\n",
      "<div style=\"text-align: center; width: 200px; border: 1px solid #ddd; padding: 10px; border-radius: 5px;\">\n",
      "<img alt=\"Sharp Objects\" src=\"http://books.toscrape.com/media/cache/26/0c/260c6ae16bce31c8f8c95daddd9f4a1c.jpg\" style=\"width: 100%; height: auto; border-radius: 5px;\"/>\n",
      "<p><strong>Sharp Objects</strong></p>\n",
      "<p style=\"color: green;\">£47.82</p>\n",
      "<p style=\"color: green;\">✔ In stock</p>\n",
      "<button style=\"background-color: blue; color: white; border: none; padding: 10px 15px; border-radius: 5px; cursor: pointer;\">Add to basket</button>\n",
      "</div>\n",
      "<div style=\"text-align: center; width: 200px; border: 1px solid #ddd; padding: 10px; border-radius: 5px;\">\n",
      "<img alt=\"In a Dark, Dark Wood\" src=\"http://books.toscrape.com/media/cache/92/27/92274a95b7c251fea59a2b8a78275ab4.jpg\" style=\"width: 100%; height: auto; border-radius: 5px;\"/>\n",
      "<p><strong>In a Dark, Dark Wood</strong></p>\n",
      "<p style=\"color: green;\">£19.63</p>\n",
      "<p style=\"color: green;\">✔ In stock</p>\n",
      "<button style=\"background-color: blue; color: white; border: none; padding: 10px 15px; border-radius: 5px; cursor: pointer;\">Add to basket</button>\n",
      "</div>\n",
      "<div style=\"text-align: center; width: 200px; border: 1px solid #ddd; padding: 10px; border-radius: 5px;\">\n",
      "<img alt=\"The Past Never Ends\" src=\"http://books.toscrape.com/media/cache/c0/59/c05972805aa7201171b8fc71a5b00292.jpg\" style=\"width: 100%; height: auto; border-radius: 5px;\"/>\n",
      "<p><strong>The Past Never Ends</strong></p>\n",
      "<p style=\"color: green;\">£56.50</p>\n",
      "<p style=\"color: green;\">✔ In stock</p>\n",
      "<button style=\"background-color: blue; color: white; border: none; padding: 10px 15px; border-radius: 5px; cursor: pointer;\">Add to basket</button>\n",
      "</div>\n",
      "<div style=\"text-align: center; width: 200px; border: 1px solid #ddd; padding: 10px; border-radius: 5px;\">\n",
      "<img alt=\"A Murder in Time\" src=\"http://books.toscrape.com/media/cache/97/27/97275841c81e66d53bf9313cba06f23e.jpg\" style=\"width: 100%; height: auto; border-radius: 5px;\"/>\n",
      "<p><strong>A Murder in Time</strong></p>\n",
      "<p style=\"color: green;\">£16.64</p>\n",
      "<p style=\"color: green;\"> Out stock</p>\n",
      "<button style=\"background-color: blue; color: white; border: none; padding: 10px 15px; border-radius: 5px; cursor: pointer;\">Add to basket</button>\n",
      "</div>\n",
      "</div>\n",
      "<h2>Featured Products</h2>\n",
      "<div class=\"products\">\n",
      "<div class=\"product-card\" data-id=\"101\">\n",
      "<img alt=\"Wireless Headphones\" src=\"https://via.placeholder.com/250x150?text=Product+1\"/>\n",
      "<p class=\"name\">Wireless Headphones</p>\n",
      "<p class=\"price\" style=\"display: none;\">$49.99</p>\n",
      "<p class=\"colors\">Available colors: Black, White, Blue</p>\n",
      "<button>Add to Basket</button>\n",
      "</div>\n",
      "<div class=\"product-card\" data-id=\"102\">\n",
      "<img alt=\"Smart Speaker\" src=\"https://via.placeholder.com/250x150?text=Product+2\"/>\n",
      "<p class=\"name\">Smart Speaker</p>\n",
      "<p class=\"price\" style=\"display: none;\">$89.99</p>\n",
      "<p class=\"colors\">Available colors: Grey, Black</p>\n",
      "<button>Add to Basket</button>\n",
      "</div>\n",
      "<div class=\"product-card\" data-id=\"103\">\n",
      "<img alt=\"Smart Watch\" src=\"https://via.placeholder.com/250x150?text=Product+3\"/>\n",
      "<p class=\"name\">Smart Watch</p>\n",
      "<p class=\"price\" style=\"display: none;\">$149.99</p>\n",
      "<p class=\"colors\">Available colors: Black, Silver, Gold</p>\n",
      "<button>Add to Basket</button>\n",
      "</div>\n",
      "</div>\n",
      "<div class=\"footer\">\n",
      "<p>© 2024 Web Scraping Practice. All Rights Reserved.</p>\n",
      "</div>\n",
      "</body>\n",
      "</html>\n",
      "\n"
     ]
    }
   ],
   "source": [
    "# Parsing HTML content\n",
    "soup = BeautifulSoup(page.content, 'html.parser')\n",
    "print(soup)"
   ]
  },
  {
   "cell_type": "code",
   "execution_count": 18,
   "id": "36e48443-a4fe-41d5-923b-54cc4f3d9f9c",
   "metadata": {},
   "outputs": [
    {
     "name": "stdout",
     "output_type": "stream",
     "text": [
      "\n",
      "\n",
      "\n",
      "Web Scraping Task with Form\n",
      "\n",
      "\n",
      "\n",
      "Web Scraping Practice\n",
      "Welcome to the web scraping task! Use your skills to extract the required data from this page.\n",
      "Available Products\n",
      "\n",
      "Laptop\n",
      "Smartphone\n",
      "Tablet\n",
      "Smartwatch\n",
      "\n",
      "Product Table\n",
      "\n",
      "\n",
      "Product\n",
      "Price\n",
      "In Stock\n",
      "\n",
      "\n",
      "Laptop\n",
      "$1000\n",
      "Yes\n",
      "\n",
      "\n",
      "Smartphone\n",
      "$800\n",
      "No\n",
      "\n",
      "\n",
      "Tablet\n",
      "$500\n",
      "Yes\n",
      "\n",
      "\n",
      "Watch This Video\n",
      "\n",
      "Contact Us\n",
      "\n",
      "Username:\n",
      "\n",
      "Password:\n",
      "\n",
      "Choose an option:\n",
      "\n",
      "Option 1\n",
      "Option 2\n",
      "Option 3\n",
      "\n",
      "\n",
      " I agree to the terms and conditions\n",
      "            \n",
      "\n",
      "\n",
      "Product Information\n",
      "\n",
      "\n",
      "\n",
      "Sharp Objects\n",
      "£47.82\n",
      "✔ In stock\n",
      "Add to basket\n",
      "\n",
      "\n",
      "\n",
      "In a Dark, Dark Wood\n",
      "£19.63\n",
      "✔ In stock\n",
      "Add to basket\n",
      "\n",
      "\n",
      "\n",
      "The Past Never Ends\n",
      "£56.50\n",
      "✔ In stock\n",
      "Add to basket\n",
      "\n",
      "\n",
      "\n",
      "A Murder in Time\n",
      "£16.64\n",
      " Out stock\n",
      "Add to basket\n",
      "\n",
      "\n",
      "Featured Products\n",
      "\n",
      "\n",
      "\n",
      "Wireless Headphones\n",
      "$49.99\n",
      "Available colors: Black, White, Blue\n",
      "Add to Basket\n",
      "\n",
      "\n",
      "\n",
      "Smart Speaker\n",
      "$89.99\n",
      "Available colors: Grey, Black\n",
      "Add to Basket\n",
      "\n",
      "\n",
      "\n",
      "Smart Watch\n",
      "$149.99\n",
      "Available colors: Black, Silver, Gold\n",
      "Add to Basket\n",
      "\n",
      "\n",
      "\n",
      "© 2024 Web Scraping Practice. All Rights Reserved.\n",
      "\n",
      "\n",
      "\n",
      "\n"
     ]
    }
   ],
   "source": [
    "print(soup.text)"
   ]
  },
  {
   "cell_type": "markdown",
   "id": "b595d7f8-d74e-4f56-8218-24a7ec05b725",
   "metadata": {},
   "source": [
    "#### Extract all headings (`<h1>`, `<h2>`)."
   ]
  },
  {
   "cell_type": "code",
   "execution_count": 19,
   "id": "369cbf86-be52-46a9-892f-89acddf2d6ab",
   "metadata": {},
   "outputs": [
    {
     "data": {
      "text/plain": [
       "[<h1>Web Scraping Practice</h1>]"
      ]
     },
     "execution_count": 19,
     "metadata": {},
     "output_type": "execute_result"
    }
   ],
   "source": [
    "h1_headings = soup.find_all('h1')\n",
    "h1_headings"
   ]
  },
  {
   "cell_type": "code",
   "execution_count": 20,
   "id": "dc7fa964-b766-46a5-aae4-d8b209bed4d2",
   "metadata": {},
   "outputs": [
    {
     "name": "stdout",
     "output_type": "stream",
     "text": [
      "Web Scraping Practice\n"
     ]
    }
   ],
   "source": [
    "print(h1_headings[0].get_text())"
   ]
  },
  {
   "cell_type": "code",
   "execution_count": 21,
   "id": "4d5876b9-d9f9-434f-b677-5c5236eed3da",
   "metadata": {},
   "outputs": [
    {
     "data": {
      "text/plain": [
       "[<h2>Available Products</h2>,\n",
       " <h2>Product Table</h2>,\n",
       " <h2>Watch This Video</h2>,\n",
       " <h2>Contact Us</h2>,\n",
       " <h2>Product Information</h2>,\n",
       " <h2>Featured Products</h2>]"
      ]
     },
     "execution_count": 21,
     "metadata": {},
     "output_type": "execute_result"
    }
   ],
   "source": [
    "h2_headings = soup.find_all('h2')\n",
    "h2_headings"
   ]
  },
  {
   "cell_type": "code",
   "execution_count": 22,
   "id": "8786436b-49a2-48ff-aa8e-2b1c9ad47538",
   "metadata": {},
   "outputs": [
    {
     "name": "stdout",
     "output_type": "stream",
     "text": [
      "Available Products\n",
      "Product Table\n",
      "Watch This Video\n",
      "Contact Us\n",
      "Product Information\n",
      "Featured Products\n"
     ]
    }
   ],
   "source": [
    "for heading in h2_headings:\n",
    "    print(heading.get_text())"
   ]
  },
  {
   "cell_type": "markdown",
   "id": "61adddde-0a68-43ee-983a-cf0ae5fb46e7",
   "metadata": {},
   "source": [
    "#### Extract all text content inside `<p>` and `<li>` tags"
   ]
  },
  {
   "cell_type": "code",
   "execution_count": 23,
   "id": "f12dd7a0-6007-4914-8197-831a3949e7e4",
   "metadata": {},
   "outputs": [
    {
     "name": "stdout",
     "output_type": "stream",
     "text": [
      "Welcome to the web scraping task! Use your skills to extract the required data from this page.\n",
      "Sharp Objects\n",
      "£47.82\n",
      "✔ In stock\n",
      "In a Dark, Dark Wood\n",
      "£19.63\n",
      "✔ In stock\n",
      "The Past Never Ends\n",
      "£56.50\n",
      "✔ In stock\n",
      "A Murder in Time\n",
      "£16.64\n",
      " Out stock\n",
      "Wireless Headphones\n",
      "$49.99\n",
      "Available colors: Black, White, Blue\n",
      "Smart Speaker\n",
      "$89.99\n",
      "Available colors: Grey, Black\n",
      "Smart Watch\n",
      "$149.99\n",
      "Available colors: Black, Silver, Gold\n",
      "© 2024 Web Scraping Practice. All Rights Reserved.\n"
     ]
    },
    {
     "data": {
      "text/plain": [
       "[<p>Welcome to the web scraping task! Use your skills to extract the required data from this page.</p>,\n",
       " <p><strong>Sharp Objects</strong></p>,\n",
       " <p style=\"color: green;\">£47.82</p>,\n",
       " <p style=\"color: green;\">✔ In stock</p>,\n",
       " <p><strong>In a Dark, Dark Wood</strong></p>,\n",
       " <p style=\"color: green;\">£19.63</p>,\n",
       " <p style=\"color: green;\">✔ In stock</p>,\n",
       " <p><strong>The Past Never Ends</strong></p>,\n",
       " <p style=\"color: green;\">£56.50</p>,\n",
       " <p style=\"color: green;\">✔ In stock</p>,\n",
       " <p><strong>A Murder in Time</strong></p>,\n",
       " <p style=\"color: green;\">£16.64</p>,\n",
       " <p style=\"color: green;\"> Out stock</p>,\n",
       " <p class=\"name\">Wireless Headphones</p>,\n",
       " <p class=\"price\" style=\"display: none;\">$49.99</p>,\n",
       " <p class=\"colors\">Available colors: Black, White, Blue</p>,\n",
       " <p class=\"name\">Smart Speaker</p>,\n",
       " <p class=\"price\" style=\"display: none;\">$89.99</p>,\n",
       " <p class=\"colors\">Available colors: Grey, Black</p>,\n",
       " <p class=\"name\">Smart Watch</p>,\n",
       " <p class=\"price\" style=\"display: none;\">$149.99</p>,\n",
       " <p class=\"colors\">Available colors: Black, Silver, Gold</p>,\n",
       " <p>© 2024 Web Scraping Practice. All Rights Reserved.</p>]"
      ]
     },
     "execution_count": 23,
     "metadata": {},
     "output_type": "execute_result"
    }
   ],
   "source": [
    "paragraphs = soup.find_all('p')\n",
    "for para in paragraphs:\n",
    "    print(para.get_text())\n",
    "paragraphs"
   ]
  },
  {
   "cell_type": "code",
   "execution_count": 24,
   "id": "00bf6ed4-02e1-4d5d-83d5-9a29d6b0ff95",
   "metadata": {},
   "outputs": [
    {
     "name": "stdout",
     "output_type": "stream",
     "text": [
      "Laptop\n",
      "Smartphone\n",
      "Tablet\n",
      "Smartwatch\n"
     ]
    }
   ],
   "source": [
    "listings = soup.find_all('li')\n",
    "for list in listings:\n",
    "    print(list.get_text())"
   ]
  },
  {
   "cell_type": "markdown",
   "id": "7bba8f05-d315-4508-a56c-7470aa3141e3",
   "metadata": {},
   "source": [
    "#### Save this data into a `Extract_Text_Data.CSV` file."
   ]
  },
  {
   "cell_type": "code",
   "execution_count": 25,
   "id": "f936e265-836a-4daf-91e2-7413e81cad25",
   "metadata": {},
   "outputs": [
    {
     "name": "stdout",
     "output_type": "stream",
     "text": [
      "['Laptop', 'Smartphone', 'Tablet', 'Smartwatch']\n"
     ]
    },
    {
     "ename": "NameError",
     "evalue": "name 'pretty' is not defined",
     "output_type": "error",
     "traceback": [
      "\u001b[31m---------------------------------------------------------------------------\u001b[39m",
      "\u001b[31mNameError\u001b[39m                                 Traceback (most recent call last)",
      "\u001b[36mCell\u001b[39m\u001b[36m \u001b[39m\u001b[32mIn[25]\u001b[39m\u001b[32m, line 9\u001b[39m\n\u001b[32m      7\u001b[39m \u001b[38;5;28mprint\u001b[39m(li)\n\u001b[32m      8\u001b[39m data = [h1, h2, paragraphs, listings]\n\u001b[32m----> \u001b[39m\u001b[32m9\u001b[39m pretty(data)\n",
      "\u001b[31mNameError\u001b[39m: name 'pretty' is not defined"
     ]
    }
   ],
   "source": [
    "header = ['h1_headings', 'h2_headings', 'paragraphs', 'listings']\n",
    "# converting lists of html tags to list of \n",
    "h1 = [heading.get_text() for heading in h1_headings]\n",
    "h2 = [heading.get_text() for heading in h1_headings]\n",
    "p = [para.get_text() for para in paragraphs]\n",
    "li = [listing.get_text() for listing in listings]\n",
    "print(li)\n",
    "data = [h1, h2, paragraphs, listings]\n",
    "pretty(data)"
   ]
  },
  {
   "cell_type": "code",
   "execution_count": null,
   "id": "61ab50d2-8f14-47a8-8fc1-32f7bb648034",
   "metadata": {},
   "outputs": [],
   "source": [
    "h1_headers"
   ]
  },
  {
   "cell_type": "code",
   "execution_count": null,
   "id": "7dbcc41c-28e7-489e-97a6-94759ff51bf0",
   "metadata": {},
   "outputs": [],
   "source": []
  },
  {
   "cell_type": "code",
   "execution_count": null,
   "id": "132eed33-db0a-4403-8a62-dc9f07b2fa33",
   "metadata": {},
   "outputs": [],
   "source": []
  },
  {
   "cell_type": "code",
   "execution_count": null,
   "id": "a0b7fd51-fb1b-405e-a4e0-0a876fff891c",
   "metadata": {},
   "outputs": [],
   "source": []
  },
  {
   "cell_type": "code",
   "execution_count": null,
   "id": "327bd688-f413-4691-bf31-c4f0ea21a41c",
   "metadata": {},
   "outputs": [],
   "source": []
  },
  {
   "cell_type": "code",
   "execution_count": null,
   "id": "a1f2a07a-c2af-4ff9-9a6b-501d6d5aa366",
   "metadata": {},
   "outputs": [],
   "source": []
  },
  {
   "cell_type": "code",
   "execution_count": null,
   "id": "6f0ec58c-7903-46bb-8dc9-e79c00f3c7e2",
   "metadata": {},
   "outputs": [],
   "source": []
  }
 ],
 "metadata": {
  "kernelspec": {
   "display_name": "depi3",
   "language": "python",
   "name": "depi3"
  },
  "language_info": {
   "codemirror_mode": {
    "name": "ipython",
    "version": 3
   },
   "file_extension": ".py",
   "mimetype": "text/x-python",
   "name": "python",
   "nbconvert_exporter": "python",
   "pygments_lexer": "ipython3",
   "version": "3.13.5"
  }
 },
 "nbformat": 4,
 "nbformat_minor": 5
}
