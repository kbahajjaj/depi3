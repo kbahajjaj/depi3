{
 "cells": [
  {
   "cell_type": "markdown",
   "id": "c3d3cc01-4ab1-49fb-baf4-b2820b9c0ae0",
   "metadata": {},
   "source": [
    "# Web scraping Task\n",
    "##### Student: Khalid Salim\n",
    "##### Student Number: 2\n",
    "##### Group: CAI3_AIS4_G1"
   ]
  },
  {
   "cell_type": "markdown",
   "id": "33517d0b-2669-4a87-b249-90a3457956d2",
   "metadata": {},
   "source": [
    "## For the webpage: https://baraasalout.github.io/test.html, perform the following tasks"
   ]
  },
  {
   "cell_type": "markdown",
   "id": "deb60c15-4ff9-4231-97d7-2ca80154772b",
   "metadata": {},
   "source": [
    "### Importing required libraries and modules"
   ]
  },
  {
   "cell_type": "code",
   "execution_count": 1,
   "id": "d8fdfa99-98f2-4394-b7e0-98a59d97fd68",
   "metadata": {},
   "outputs": [],
   "source": [
    "# Installing required libraries\n",
    "#!pip install requests\n",
    "#!pip install beautifulsoup4"
   ]
  },
  {
   "cell_type": "code",
   "execution_count": 2,
   "id": "c6a7e1a9-1622-4afb-b1ad-a7f520c973e3",
   "metadata": {},
   "outputs": [
    {
     "name": "stderr",
     "output_type": "stream",
     "text": [
      "C:\\Users\\Khalid\\anaconda3\\envs\\depi3\\Lib\\site-packages\\requests\\__init__.py:86: RequestsDependencyWarning: Unable to find acceptable character detection dependency (chardet or charset_normalizer).\n",
      "  warnings.warn(\n"
     ]
    }
   ],
   "source": [
    "# Importing required modules and functions\n",
    "import requests\n",
    "from bs4 import BeautifulSoup\n",
    "import csv\n",
    "import pandas as pd\n",
    "import gc"
   ]
  },
  {
   "cell_type": "markdown",
   "id": "e4ab92ef-b1cd-4785-b844-037d54aca31d",
   "metadata": {},
   "source": [
    "### Task 1 - Extract Text Data:"
   ]
  },
  {
   "cell_type": "code",
   "execution_count": 3,
   "id": "ddc9a5a7-93f1-4ebc-b818-849cb13d08c9",
   "metadata": {},
   "outputs": [],
   "source": [
    "# Getting page HTML code\n",
    "url = 'https://baraasalout.github.io/test.html'\n",
    "\n",
    "page = requests.get(url)\n",
    "#print(page.content)"
   ]
  },
  {
   "cell_type": "code",
   "execution_count": 20,
   "id": "fb14a850-4aab-4198-8c63-557ab3cecc63",
   "metadata": {},
   "outputs": [
    {
     "data": {
      "text/plain": [
       "<!DOCTYPE html>\n",
       "\n",
       "<html>\n",
       "<head>\n",
       "<title>Web Scraping Task with Form</title>\n",
       "<style>\n",
       "        body {\n",
       "            font-family: Arial, sans-serif;\n",
       "            margin: 20px;\n",
       "            background-color: #f5f5f5;\n",
       "        }\n",
       "\n",
       "        h1 {\n",
       "            color: darkred;\n",
       "            text-align: center;\n",
       "        }\n",
       "\n",
       "        h2 {\n",
       "            color: darkblue;\n",
       "            font-style: italic;\n",
       "        }\n",
       "\n",
       "        p {\n",
       "            color: #555;\n",
       "            font-size: 14px;\n",
       "        }\n",
       "\n",
       "        img {\n",
       "            width: 250px;\n",
       "            height: auto;\n",
       "            border-radius: 10px;\n",
       "        }\n",
       "\n",
       "        table {\n",
       "            width: 100%;\n",
       "            border-collapse: collapse;\n",
       "            margin: 20px 0;\n",
       "        }\n",
       "\n",
       "        table, th, td {\n",
       "            border: 1px solid #ccc;\n",
       "        }\n",
       "\n",
       "        th {\n",
       "            background-color: #333;\n",
       "            color: white;\n",
       "            padding: 10px;\n",
       "        }\n",
       "\n",
       "        td {\n",
       "            text-align: center;\n",
       "            padding: 10px;\n",
       "        }\n",
       "\n",
       "        .btn {\n",
       "            background-color: darkgreen;\n",
       "            color: white;\n",
       "            border: none;\n",
       "            padding: 10px 20px;\n",
       "            cursor: pointer;\n",
       "            text-transform: uppercase;\n",
       "            font-weight: bold;\n",
       "        }\n",
       "\n",
       "        .btn:hover {\n",
       "            background-color: green;\n",
       "        }\n",
       "\n",
       "        ul {\n",
       "            list-style-type: square;\n",
       "        }\n",
       "\n",
       "        iframe {\n",
       "            display: block;\n",
       "            margin: 20px auto;\n",
       "            border: none;\n",
       "        }\n",
       "\n",
       "        .footer {\n",
       "            background-color: #333;\n",
       "            color: white;\n",
       "            text-align: center;\n",
       "            padding: 10px 0;\n",
       "            margin-top: 30px;\n",
       "        }\n",
       "\n",
       "        .highlight {\n",
       "            background-color: yellow;\n",
       "            font-weight: bold;\n",
       "        }\n",
       "\n",
       "        form {\n",
       "            margin: 20px 0;\n",
       "            background-color: #fff;\n",
       "            padding: 20px;\n",
       "            border: 1px solid #ccc;\n",
       "            border-radius: 5px;\n",
       "        }\n",
       "\n",
       "        form input, form select, form button {\n",
       "            display: block;\n",
       "            margin: 10px 0;\n",
       "            padding: 10px;\n",
       "            width: 100%;\n",
       "            max-width: 400px;\n",
       "            border: 1px solid #ccc;\n",
       "            border-radius: 5px;\n",
       "        }\n",
       "\n",
       "        .products {\n",
       "            display: flex;\n",
       "            flex-wrap: wrap;\n",
       "            justify-content: center;\n",
       "            gap: 20px;\n",
       "            margin-top: 30px;\n",
       "        }\n",
       "\n",
       "        .product-card {\n",
       "            width: 250px;\n",
       "            border: 1px solid #ddd;\n",
       "            border-radius: 8px;\n",
       "            background-color: #fff;\n",
       "            box-shadow: 0 4px 6px rgba(0, 0, 0, 0.1);\n",
       "            text-align: center;\n",
       "            overflow: hidden;\n",
       "            transition: transform 0.3s ease, box-shadow 0.3s ease;\n",
       "        }\n",
       "\n",
       "        .product-card:hover {\n",
       "            transform: translateY(-5px);\n",
       "            box-shadow: 0 8px 12px rgba(0, 0, 0, 0.2);\n",
       "        }\n",
       "\n",
       "        .product-card img {\n",
       "            width: 100%;\n",
       "            height: 150px;\n",
       "            object-fit: cover;\n",
       "        }\n",
       "\n",
       "        .product-card .name {\n",
       "            font-size: 18px;\n",
       "            font-weight: bold;\n",
       "            margin: 15px 0 5px;\n",
       "            color: #333;\n",
       "        }\n",
       "\n",
       "        .product-card .price {\n",
       "            font-size: 16px;\n",
       "            color: #28a745;\n",
       "            margin: 5px 0;\n",
       "        }\n",
       "\n",
       "        .product-card .colors {\n",
       "            font-size: 14px;\n",
       "            color: #666;\n",
       "            margin-bottom: 15px;\n",
       "        }\n",
       "\n",
       "        .product-card button {\n",
       "            background-color: #007bff;\n",
       "            color: white;\n",
       "            border: none;\n",
       "            padding: 10px 20px;\n",
       "            margin: 10px 0;\n",
       "            cursor: pointer;\n",
       "            border-radius: 5px;\n",
       "            font-size: 14px;\n",
       "            transition: background-color 0.3s ease;\n",
       "        }\n",
       "\n",
       "        .product-card button:hover {\n",
       "            background-color: #0056b3;\n",
       "        }\n",
       "    </style>\n",
       "</head>\n",
       "<body>\n",
       "<h1>Web Scraping Practice</h1>\n",
       "<p>Welcome to the web scraping task! Use your skills to extract the required data from this page.</p>\n",
       "<h2>Available Products</h2>\n",
       "<ul>\n",
       "<li class=\"highlight\">Laptop</li>\n",
       "<li>Smartphone</li>\n",
       "<li>Tablet</li>\n",
       "<li>Smartwatch</li>\n",
       "</ul>\n",
       "<h2>Product Table</h2>\n",
       "<table>\n",
       "<tr>\n",
       "<th>Product</th>\n",
       "<th>Price</th>\n",
       "<th>In Stock</th>\n",
       "</tr>\n",
       "<tr>\n",
       "<td>Laptop</td>\n",
       "<td>$1000</td>\n",
       "<td>Yes</td>\n",
       "</tr>\n",
       "<tr>\n",
       "<td>Smartphone</td>\n",
       "<td>$800</td>\n",
       "<td>No</td>\n",
       "</tr>\n",
       "<tr>\n",
       "<td>Tablet</td>\n",
       "<td>$500</td>\n",
       "<td>Yes</td>\n",
       "</tr>\n",
       "</table>\n",
       "<h2>Watch This Video</h2>\n",
       "<iframe height=\"315\" src=\"https://www.youtube.com/watch?v=ujf9RNuBdCU\" width=\"560\"></iframe>\n",
       "<h2>Contact Us</h2>\n",
       "<form>\n",
       "<label for=\"username\">Username:</label>\n",
       "<input id=\"username\" name=\"username\" placeholder=\"Enter your username\" type=\"text\"/>\n",
       "<label for=\"password\">Password:</label>\n",
       "<input id=\"password\" name=\"password\" placeholder=\"Enter your password\" type=\"password\"/>\n",
       "<label for=\"options\">Choose an option:</label>\n",
       "<select id=\"options\" name=\"options\">\n",
       "<option value=\"option1\">Option 1</option>\n",
       "<option value=\"option2\">Option 2</option>\n",
       "<option value=\"option3\">Option 3</option>\n",
       "</select>\n",
       "<label>\n",
       "<input name=\"terms\" type=\"checkbox\"/> I agree to the terms and conditions\n",
       "            </label>\n",
       "<input type=\"submit\" value=\"Submit\"/>\n",
       "</form>\n",
       "<h2>Product Information</h2>\n",
       "<div class=\"book-products\" style=\"display: flex; justify-content: space-around; margin-top: 20px;\">\n",
       "<div style=\"text-align: center; width: 200px; border: 1px solid #ddd; padding: 10px; border-radius: 5px;\">\n",
       "<img alt=\"Sharp Objects\" src=\"http://books.toscrape.com/media/cache/26/0c/260c6ae16bce31c8f8c95daddd9f4a1c.jpg\" style=\"width: 100%; height: auto; border-radius: 5px;\"/>\n",
       "<p><strong>Sharp Objects</strong></p>\n",
       "<p style=\"color: green;\">£47.82</p>\n",
       "<p style=\"color: green;\">✔ In stock</p>\n",
       "<button style=\"background-color: blue; color: white; border: none; padding: 10px 15px; border-radius: 5px; cursor: pointer;\">Add to basket</button>\n",
       "</div>\n",
       "<div style=\"text-align: center; width: 200px; border: 1px solid #ddd; padding: 10px; border-radius: 5px;\">\n",
       "<img alt=\"In a Dark, Dark Wood\" src=\"http://books.toscrape.com/media/cache/92/27/92274a95b7c251fea59a2b8a78275ab4.jpg\" style=\"width: 100%; height: auto; border-radius: 5px;\"/>\n",
       "<p><strong>In a Dark, Dark Wood</strong></p>\n",
       "<p style=\"color: green;\">£19.63</p>\n",
       "<p style=\"color: green;\">✔ In stock</p>\n",
       "<button style=\"background-color: blue; color: white; border: none; padding: 10px 15px; border-radius: 5px; cursor: pointer;\">Add to basket</button>\n",
       "</div>\n",
       "<div style=\"text-align: center; width: 200px; border: 1px solid #ddd; padding: 10px; border-radius: 5px;\">\n",
       "<img alt=\"The Past Never Ends\" src=\"http://books.toscrape.com/media/cache/c0/59/c05972805aa7201171b8fc71a5b00292.jpg\" style=\"width: 100%; height: auto; border-radius: 5px;\"/>\n",
       "<p><strong>The Past Never Ends</strong></p>\n",
       "<p style=\"color: green;\">£56.50</p>\n",
       "<p style=\"color: green;\">✔ In stock</p>\n",
       "<button style=\"background-color: blue; color: white; border: none; padding: 10px 15px; border-radius: 5px; cursor: pointer;\">Add to basket</button>\n",
       "</div>\n",
       "<div style=\"text-align: center; width: 200px; border: 1px solid #ddd; padding: 10px; border-radius: 5px;\">\n",
       "<img alt=\"A Murder in Time\" src=\"http://books.toscrape.com/media/cache/97/27/97275841c81e66d53bf9313cba06f23e.jpg\" style=\"width: 100%; height: auto; border-radius: 5px;\"/>\n",
       "<p><strong>A Murder in Time</strong></p>\n",
       "<p style=\"color: green;\">£16.64</p>\n",
       "<p style=\"color: green;\"> Out stock</p>\n",
       "<button style=\"background-color: blue; color: white; border: none; padding: 10px 15px; border-radius: 5px; cursor: pointer;\">Add to basket</button>\n",
       "</div>\n",
       "</div>\n",
       "<h2>Featured Products</h2>\n",
       "<div class=\"products\">\n",
       "<div class=\"product-card\" data-id=\"101\">\n",
       "<img alt=\"Wireless Headphones\" src=\"https://via.placeholder.com/250x150?text=Product+1\"/>\n",
       "<p class=\"name\">Wireless Headphones</p>\n",
       "<p class=\"price\" style=\"display: none;\">$49.99</p>\n",
       "<p class=\"colors\">Available colors: Black, White, Blue</p>\n",
       "<button>Add to Basket</button>\n",
       "</div>\n",
       "<div class=\"product-card\" data-id=\"102\">\n",
       "<img alt=\"Smart Speaker\" src=\"https://via.placeholder.com/250x150?text=Product+2\"/>\n",
       "<p class=\"name\">Smart Speaker</p>\n",
       "<p class=\"price\" style=\"display: none;\">$89.99</p>\n",
       "<p class=\"colors\">Available colors: Grey, Black</p>\n",
       "<button>Add to Basket</button>\n",
       "</div>\n",
       "<div class=\"product-card\" data-id=\"103\">\n",
       "<img alt=\"Smart Watch\" src=\"https://via.placeholder.com/250x150?text=Product+3\"/>\n",
       "<p class=\"name\">Smart Watch</p>\n",
       "<p class=\"price\" style=\"display: none;\">$149.99</p>\n",
       "<p class=\"colors\">Available colors: Black, Silver, Gold</p>\n",
       "<button>Add to Basket</button>\n",
       "</div>\n",
       "</div>\n",
       "<div class=\"footer\">\n",
       "<p>© 2024 Web Scraping Practice. All Rights Reserved.</p>\n",
       "</div>\n",
       "</body>\n",
       "</html>"
      ]
     },
     "execution_count": 20,
     "metadata": {},
     "output_type": "execute_result"
    }
   ],
   "source": [
    "# Parsing HTML content\n",
    "soup = BeautifulSoup(page.content, 'html.parser')\n",
    "soup"
   ]
  },
  {
   "cell_type": "code",
   "execution_count": 5,
   "id": "36e48443-a4fe-41d5-923b-54cc4f3d9f9c",
   "metadata": {},
   "outputs": [],
   "source": [
    "#print(soup.text)"
   ]
  },
  {
   "cell_type": "markdown",
   "id": "b595d7f8-d74e-4f56-8218-24a7ec05b725",
   "metadata": {},
   "source": [
    "#### Extract all headings (`<h1>`, `<h2>`)."
   ]
  },
  {
   "cell_type": "code",
   "execution_count": 6,
   "id": "369cbf86-be52-46a9-892f-89acddf2d6ab",
   "metadata": {},
   "outputs": [
    {
     "data": {
      "text/plain": [
       "[<h1>Web Scraping Practice</h1>]"
      ]
     },
     "execution_count": 6,
     "metadata": {},
     "output_type": "execute_result"
    }
   ],
   "source": [
    "h1_headings = soup.find_all('h1')\n",
    "h1_headings"
   ]
  },
  {
   "cell_type": "code",
   "execution_count": 7,
   "id": "dc7fa964-b766-46a5-aae4-d8b209bed4d2",
   "metadata": {},
   "outputs": [],
   "source": [
    "#print(h1_headings[0].get_text())"
   ]
  },
  {
   "cell_type": "code",
   "execution_count": 8,
   "id": "4d5876b9-d9f9-434f-b677-5c5236eed3da",
   "metadata": {},
   "outputs": [
    {
     "data": {
      "text/plain": [
       "[<h2>Available Products</h2>,\n",
       " <h2>Product Table</h2>,\n",
       " <h2>Watch This Video</h2>,\n",
       " <h2>Contact Us</h2>,\n",
       " <h2>Product Information</h2>,\n",
       " <h2>Featured Products</h2>]"
      ]
     },
     "execution_count": 8,
     "metadata": {},
     "output_type": "execute_result"
    }
   ],
   "source": [
    "h2_headings = soup.find_all('h2')\n",
    "h2_headings"
   ]
  },
  {
   "cell_type": "code",
   "execution_count": 9,
   "id": "8786436b-49a2-48ff-aa8e-2b1c9ad47538",
   "metadata": {},
   "outputs": [],
   "source": [
    "#for heading in h2_headings:\n",
    "#    print(heading.get_text())"
   ]
  },
  {
   "cell_type": "markdown",
   "id": "61adddde-0a68-43ee-983a-cf0ae5fb46e7",
   "metadata": {},
   "source": [
    "#### Extract all text content inside `<p>` and `<li>` tags"
   ]
  },
  {
   "cell_type": "code",
   "execution_count": 10,
   "id": "f12dd7a0-6007-4914-8197-831a3949e7e4",
   "metadata": {},
   "outputs": [
    {
     "data": {
      "text/plain": [
       "[<p>Welcome to the web scraping task! Use your skills to extract the required data from this page.</p>,\n",
       " <p><strong>Sharp Objects</strong></p>,\n",
       " <p style=\"color: green;\">£47.82</p>,\n",
       " <p style=\"color: green;\">✔ In stock</p>,\n",
       " <p><strong>In a Dark, Dark Wood</strong></p>,\n",
       " <p style=\"color: green;\">£19.63</p>,\n",
       " <p style=\"color: green;\">✔ In stock</p>,\n",
       " <p><strong>The Past Never Ends</strong></p>,\n",
       " <p style=\"color: green;\">£56.50</p>,\n",
       " <p style=\"color: green;\">✔ In stock</p>,\n",
       " <p><strong>A Murder in Time</strong></p>,\n",
       " <p style=\"color: green;\">£16.64</p>,\n",
       " <p style=\"color: green;\"> Out stock</p>,\n",
       " <p class=\"name\">Wireless Headphones</p>,\n",
       " <p class=\"price\" style=\"display: none;\">$49.99</p>,\n",
       " <p class=\"colors\">Available colors: Black, White, Blue</p>,\n",
       " <p class=\"name\">Smart Speaker</p>,\n",
       " <p class=\"price\" style=\"display: none;\">$89.99</p>,\n",
       " <p class=\"colors\">Available colors: Grey, Black</p>,\n",
       " <p class=\"name\">Smart Watch</p>,\n",
       " <p class=\"price\" style=\"display: none;\">$149.99</p>,\n",
       " <p class=\"colors\">Available colors: Black, Silver, Gold</p>,\n",
       " <p>© 2024 Web Scraping Practice. All Rights Reserved.</p>]"
      ]
     },
     "execution_count": 10,
     "metadata": {},
     "output_type": "execute_result"
    }
   ],
   "source": [
    "paragraphs = soup.find_all('p')\n",
    "paragraphs"
   ]
  },
  {
   "cell_type": "code",
   "execution_count": 11,
   "id": "00bf6ed4-02e1-4d5d-83d5-9a29d6b0ff95",
   "metadata": {},
   "outputs": [
    {
     "data": {
      "text/plain": [
       "[<li class=\"highlight\">Laptop</li>,\n",
       " <li>Smartphone</li>,\n",
       " <li>Tablet</li>,\n",
       " <li>Smartwatch</li>]"
      ]
     },
     "execution_count": 11,
     "metadata": {},
     "output_type": "execute_result"
    }
   ],
   "source": [
    "listings = soup.find_all('li')\n",
    "listings"
   ]
  },
  {
   "cell_type": "markdown",
   "id": "7bba8f05-d315-4508-a56c-7470aa3141e3",
   "metadata": {},
   "source": [
    "#### Save this data into a `Extract_Text_Data.CSV` file."
   ]
  },
  {
   "cell_type": "code",
   "execution_count": 12,
   "id": "f936e265-836a-4daf-91e2-7413e81cad25",
   "metadata": {},
   "outputs": [],
   "source": [
    "# Arranging data\n",
    "header = [['Type', 'Content']] # csv file header\n",
    "h1_headings_data = [['Heading', row.get_text()] for row in h1_headings]\n",
    "#print(*h1_headings_data, sep='\\n')\n",
    "h2_headings_data = [['Heading', row.get_text()] for row in h2_headings]\n",
    "paragraph_data = [['Paragraph', row.get_text()] for row in paragraphs]\n",
    "#print(*paragraph_data, sep='\\n')\n",
    "listing_data = [['Listing', row.get_text()] for row in listings]\n",
    "#print(*listing_data, sep='\\n')\n",
    "\n",
    "# data to be saved into csv\n",
    "extracted_data = header\n",
    "extracted_data.extend(h1_headings_data)\n",
    "extracted_data.extend(h2_headings_data)\n",
    "extracted_data.extend(paragraph_data)\n",
    "extracted_data.extend(listing_data)\n",
    "#print(extracted_data)"
   ]
  },
  {
   "cell_type": "code",
   "execution_count": 13,
   "id": "61ab50d2-8f14-47a8-8fc1-32f7bb648034",
   "metadata": {},
   "outputs": [],
   "source": [
    "# creating csv file to save data into\n",
    "with open('extract_text_data.csv', 'w', encoding='utf-8', newline='') as f:\n",
    "    writer = csv.writer(f)\n",
    "    writer.writerows(extracted_data)"
   ]
  },
  {
   "cell_type": "code",
   "execution_count": 14,
   "id": "7dbcc41c-28e7-489e-97a6-94759ff51bf0",
   "metadata": {},
   "outputs": [
    {
     "data": {
      "text/plain": [
       "27"
      ]
     },
     "execution_count": 14,
     "metadata": {},
     "output_type": "execute_result"
    }
   ],
   "source": [
    "del extracted_data\n",
    "del paragraph_data\n",
    "del listing_data\n",
    "del h1_headings_data\n",
    "del h2_headings_data\n",
    "gc.collect()"
   ]
  },
  {
   "cell_type": "markdown",
   "id": "143cb8c9-1572-40b3-bf14-b014808d5eda",
   "metadata": {},
   "source": [
    "### Task 2 - Extract Table Data:"
   ]
  },
  {
   "cell_type": "code",
   "execution_count": 15,
   "id": "132eed33-db0a-4403-8a62-dc9f07b2fa33",
   "metadata": {},
   "outputs": [
    {
     "name": "stdout",
     "output_type": "stream",
     "text": [
      "['\\n\\nProduct\\nPrice\\nIn Stock', 'Laptop\\n$1000\\nYes', 'Smartphone\\n$800\\nNo', 'Tablet\\n$500\\nYes\\n\\n']\n",
      "[['', '', 'Product', 'Price', 'In Stock'], ['Laptop', '$1000', 'Yes'], ['Smartphone', '$800', 'No'], ['Tablet', '$500', 'Yes', '', '']]\n"
     ]
    }
   ],
   "source": [
    "# preparing table data for csv file\n",
    "tables = soup.find('table')\n",
    "tables = tables.get_text().split('\\n\\n\\n')\n",
    "tables_data = [row.split('\\n') for row in tables]\n",
    "extracted_data = [[item for item in row if item != \"\"] for row in tables_data]\n",
    "print(tables)\n",
    "print(tables_data)"
   ]
  },
  {
   "cell_type": "code",
   "execution_count": 16,
   "id": "f862fa80-f350-49c6-a609-422f53118cba",
   "metadata": {},
   "outputs": [],
   "source": [
    "# creating csv file for table data\n",
    "with open('extract_table_data.csv', 'w', encoding='utf-8', newline='') as f:\n",
    "    writer = csv.writer(f)\n",
    "    writer.writerows(extracted_data)"
   ]
  },
  {
   "cell_type": "markdown",
   "id": "ce44f705-bf7b-4e65-aef2-33f5932eafbe",
   "metadata": {},
   "source": [
    "### Task 3 - Extract Product Information (Card Section):"
   ]
  },
  {
   "cell_type": "code",
   "execution_count": null,
   "id": "a1f2a07a-c2af-4ff9-9a6b-501d6d5aa366",
   "metadata": {},
   "outputs": [],
   "source": [
    "# Extracting card section\n",
    "cards = soup.find('div')\n",
    "cards"
   ]
  },
  {
   "cell_type": "code",
   "execution_count": 34,
   "id": "6b75d2a5-d194-4a4b-ade8-a31ab874e12c",
   "metadata": {},
   "outputs": [
    {
     "data": {
      "text/plain": [
       "[<p><strong>Sharp Objects</strong></p>,\n",
       " <p style=\"color: green;\">£47.82</p>,\n",
       " <p style=\"color: green;\">✔ In stock</p>,\n",
       " <p><strong>In a Dark, Dark Wood</strong></p>,\n",
       " <p style=\"color: green;\">£19.63</p>,\n",
       " <p style=\"color: green;\">✔ In stock</p>,\n",
       " <p><strong>The Past Never Ends</strong></p>,\n",
       " <p style=\"color: green;\">£56.50</p>,\n",
       " <p style=\"color: green;\">✔ In stock</p>,\n",
       " <p><strong>A Murder in Time</strong></p>,\n",
       " <p style=\"color: green;\">£16.64</p>,\n",
       " <p style=\"color: green;\"> Out stock</p>]"
      ]
     },
     "execution_count": 34,
     "metadata": {},
     "output_type": "execute_result"
    }
   ],
   "source": [
    "cards_titles = cards.find_all('p')\n",
    "cards_titles"
   ]
  },
  {
   "cell_type": "code",
   "execution_count": 56,
   "id": "18882b43-0536-4a43-ad10-43727feff82b",
   "metadata": {},
   "outputs": [
    {
     "data": {
      "text/plain": [
       "[['', ''],\n",
       " ['', '', 'Sharp Objects', '£47.82', '✔ In stock', 'Add to basket', ''],\n",
       " ['', ''],\n",
       " ['', '', 'In a Dark, Dark Wood', '£19.63', '✔ In stock', 'Add to basket', ''],\n",
       " ['', ''],\n",
       " ['', '', 'The Past Never Ends', '£56.50', '✔ In stock', 'Add to basket', ''],\n",
       " ['', ''],\n",
       " ['', '', 'A Murder in Time', '£16.64', ' Out stock', 'Add to basket', ''],\n",
       " ['', '']]"
      ]
     },
     "execution_count": 56,
     "metadata": {},
     "output_type": "execute_result"
    }
   ],
   "source": [
    "book_info = [title.get_text().split('\\n') for title in cards]\n",
    "book_info"
   ]
  },
  {
   "cell_type": "code",
   "execution_count": 57,
   "id": "5a599196-6597-41b3-a3e9-8e2007079d90",
   "metadata": {},
   "outputs": [
    {
     "data": {
      "text/plain": [
       "[['Sharp Objects', '£47.82', '✔ In stock', 'Add to basket'],\n",
       " ['In a Dark, Dark Wood', '£19.63', '✔ In stock', 'Add to basket'],\n",
       " ['The Past Never Ends', '£56.50', '✔ In stock', 'Add to basket'],\n",
       " ['A Murder in Time', '£16.64', ' Out stock', 'Add to basket']]"
      ]
     },
     "execution_count": 57,
     "metadata": {},
     "output_type": "execute_result"
    }
   ],
   "source": [
    "book_info = [[info for info in book if info !=\"\"] for book in book_info]\n",
    "book_info = [row for row in book_info if row]\n",
    "book_info"
   ]
  },
  {
   "cell_type": "code",
   "execution_count": null,
   "id": "6f0ec58c-7903-46bb-8dc9-e79c00f3c7e2",
   "metadata": {},
   "outputs": [],
   "source": []
  }
 ],
 "metadata": {
  "kernelspec": {
   "display_name": "depi3",
   "language": "python",
   "name": "depi3"
  },
  "language_info": {
   "codemirror_mode": {
    "name": "ipython",
    "version": 3
   },
   "file_extension": ".py",
   "mimetype": "text/x-python",
   "name": "python",
   "nbconvert_exporter": "python",
   "pygments_lexer": "ipython3",
   "version": "3.13.5"
  }
 },
 "nbformat": 4,
 "nbformat_minor": 5
}
