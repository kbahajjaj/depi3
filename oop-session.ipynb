{
 "cells": [
  {
   "cell_type": "code",
   "execution_count": 8,
   "id": "9e795734-9403-4c16-8854-eb70aa8b017f",
   "metadata": {},
   "outputs": [],
   "source": [
    "# template\n",
    "class Person:\n",
    "    #pass\n",
    "    company = \"IBM\"   # class attribute\n",
    "    def __init__(self, name, age, dept): # __init__ constructor (one for each object)\n",
    "        self.name = name     # instance attributes\n",
    "        self.age = age\n",
    "        self.dept = dept"
   ]
  },
  {
   "cell_type": "code",
   "execution_count": 9,
   "id": "d06986ae-a36a-470f-9b3b-370e54ca36f8",
   "metadata": {},
   "outputs": [
    {
     "name": "stdout",
     "output_type": "stream",
     "text": [
      "<class '__main__.Person'>\n"
     ]
    }
   ],
   "source": [
    "print(Person)"
   ]
  },
  {
   "cell_type": "code",
   "execution_count": 11,
   "id": "e1d6cf5a-751c-4e9a-9835-0af37be12be8",
   "metadata": {},
   "outputs": [
    {
     "name": "stdout",
     "output_type": "stream",
     "text": [
      "<__main__.Person object at 0x000002A1580C73E0>\n"
     ]
    }
   ],
   "source": [
    "p1 = Person(\"Baraa\", 28, \"IT\") # create object from Person Class\n",
    "print(p1)"
   ]
  },
  {
   "cell_type": "code",
   "execution_count": 13,
   "id": "f72346ae-af1f-4216-a5a9-aea9a1e2a00e",
   "metadata": {},
   "outputs": [
    {
     "data": {
      "text/plain": [
       "'Baraa'"
      ]
     },
     "execution_count": 13,
     "metadata": {},
     "output_type": "execute_result"
    }
   ],
   "source": [
    "p1.name"
   ]
  },
  {
   "cell_type": "code",
   "execution_count": 14,
   "id": "da3776b4-9094-4499-9909-d62383158205",
   "metadata": {},
   "outputs": [
    {
     "data": {
      "text/plain": [
       "28"
      ]
     },
     "execution_count": 14,
     "metadata": {},
     "output_type": "execute_result"
    }
   ],
   "source": [
    "p1.age"
   ]
  },
  {
   "cell_type": "code",
   "execution_count": 18,
   "id": "0e9d1162-e020-4429-a219-d6437ca6241e",
   "metadata": {},
   "outputs": [
    {
     "name": "stdout",
     "output_type": "stream",
     "text": [
      "Hellow Baraa with age 28\n"
     ]
    }
   ],
   "source": [
    "print(f\"Hellow {p1.name} with age {p1.age}\")"
   ]
  },
  {
   "cell_type": "code",
   "execution_count": null,
   "id": "828d4efb-0b5a-4c2d-96a3-87f03b1d4933",
   "metadata": {},
   "outputs": [],
   "source": [
    "print(f\"Hellow {p1.name} with age {p1.age}\")"
   ]
  },
  {
   "cell_type": "code",
   "execution_count": 20,
   "id": "7b578bf1-7abd-4845-b8d5-25d23a6c5b25",
   "metadata": {},
   "outputs": [
    {
     "name": "stdout",
     "output_type": "stream",
     "text": [
      "<__main__.Person object at 0x000002A158B02960>\n"
     ]
    }
   ],
   "source": [
    "p2 = Person(\"Islam\", 34, \"Doctor\")\n",
    "print(p2)"
   ]
  },
  {
   "cell_type": "code",
   "execution_count": null,
   "id": "16c85c5d-ff5e-496f-a9c0-ed25c6ff2f00",
   "metadata": {},
   "outputs": [],
   "source": []
  },
  {
   "cell_type": "code",
   "execution_count": 16,
   "id": "6ff0531d-998e-4f59-a0e4-6719a74c5cf0",
   "metadata": {},
   "outputs": [
    {
     "data": {
      "text/plain": [
       "3.141592653589793"
      ]
     },
     "execution_count": 16,
     "metadata": {},
     "output_type": "execute_result"
    }
   ],
   "source": [
    "import math\n",
    "math.pi"
   ]
  },
  {
   "cell_type": "code",
   "execution_count": 17,
   "id": "eae1f2cd-74ff-42ec-8e62-4116d81f5740",
   "metadata": {},
   "outputs": [
    {
     "data": {
      "text/plain": [
       "-0.4480736161291701"
      ]
     },
     "execution_count": 17,
     "metadata": {},
     "output_type": "execute_result"
    }
   ],
   "source": [
    "math.cos(90)"
   ]
  },
  {
   "cell_type": "code",
   "execution_count": null,
   "id": "2903f5ee-5167-4d6e-baf9-c960ea4abe76",
   "metadata": {},
   "outputs": [],
   "source": []
  }
 ],
 "metadata": {
  "kernelspec": {
   "display_name": "Python [conda env:base] *",
   "language": "python",
   "name": "conda-base-py"
  },
  "language_info": {
   "codemirror_mode": {
    "name": "ipython",
    "version": 3
   },
   "file_extension": ".py",
   "mimetype": "text/x-python",
   "name": "python",
   "nbconvert_exporter": "python",
   "pygments_lexer": "ipython3",
   "version": "3.12.4"
  }
 },
 "nbformat": 4,
 "nbformat_minor": 5
}
