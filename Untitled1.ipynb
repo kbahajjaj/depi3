{
 "cells": [
  {
   "cell_type": "markdown",
   "id": "e6dc552b-545c-43c3-bacf-c2fc13ba0433",
   "metadata": {},
   "source": [
    "- item 1\n",
    "- item 2"
   ]
  },
  {
   "cell_type": "markdown",
   "id": "148a623f-afdd-4efc-b97a-65e5dbc4393a",
   "metadata": {},
   "source": [
    "```python\n",
    "s = 'syntax highlighting for Python'\n",
    "print(x)x\n",
    "```"
   ]
  },
  {
   "cell_type": "code",
   "execution_count": 3,
   "id": "013ba360-d38e-497a-a188-0adfcf38f156",
   "metadata": {},
   "outputs": [
    {
     "name": "stdout",
     "output_type": "stream",
     "text": [
      " Volume in drive C is OS\n",
      " Volume Serial Number is 662F-F308\n",
      "\n",
      " Directory of C:\\projects\\depi3\n",
      "\n",
      "08/03/2025  01:12 AM    <DIR>          .\n",
      "08/03/2025  01:12 AM    <DIR>          ..\n",
      "08/01/2025  02:06 PM    <DIR>          .ipynb_checkpoints\n",
      "07/14/2025  07:31 PM    <DIR>          anaconda_projects\n",
      "07/25/2025  12:50 AM    <DIR>          lec1&2 DEPI\n",
      "07/06/2025  12:53 PM        11,434,630 lec1&2 DEPI.zip\n",
      "08/01/2025  03:07 PM    <DIR>          oop\n",
      "07/28/2025  06:49 PM             4,391 oop-session.ipynb\n",
      "08/01/2025  02:16 PM            10,444 oop-session-tasks.ipynb\n",
      "07/14/2025  07:04 PM               828 python-s1.ipynb\n",
      "07/18/2025  03:12 PM               827 python-s2.ipynb\n",
      "07/28/2025  06:16 PM    <DIR>          Tasks & Assignments\n",
      "07/24/2025  10:23 PM             6,780 Untitled.ipynb\n",
      "08/03/2025  01:12 AM             1,494 Untitled1.ipynb\n",
      "               7 File(s)     11,459,394 bytes\n",
      "               7 Dir(s)  52,944,453,632 bytes free\n"
     ]
    }
   ],
   "source": [
    "ls"
   ]
  },
  {
   "cell_type": "code",
   "execution_count": 4,
   "id": "91f6a8be-a6e1-4713-a0c8-c4376d3f8d79",
   "metadata": {},
   "outputs": [
    {
     "name": "stdout",
     "output_type": "stream",
     "text": [
      " Volume in drive C is OS\n",
      " Volume Serial Number is 662F-F308\n",
      "\n",
      " Directory of C:\\projects\\depi3\n",
      "\n"
     ]
    },
    {
     "name": "stderr",
     "output_type": "stream",
     "text": [
      "File Not Found\n"
     ]
    }
   ],
   "source": [
    "ls -l"
   ]
  },
  {
   "cell_type": "code",
   "execution_count": 5,
   "id": "36c82853-76c8-4ee1-a466-de4f75e011ed",
   "metadata": {},
   "outputs": [
    {
     "name": "stdout",
     "output_type": "stream",
     "text": [
      "/c/projects/depi3\n",
      "total 11224\n",
      "drwxr-xr-x 1 Khalid Salim 197121        0 Jul 28 18:16 Tasks & Assignments\n",
      "-rw-r--r-- 1 Khalid Salim 197121     6780 Jul 24 22:23 Untitled.ipynb\n",
      "-rw-r--r-- 1 Khalid Salim 197121     1494 Aug  3 01:12 Untitled1.ipynb\n",
      "drwxr-xr-x 1 Khalid Salim 197121        0 Jul 14 19:31 anaconda_projects\n",
      "drwxr-xr-x 1 Khalid Salim 197121        0 Jul 25 00:50 lec1&2 DEPI\n",
      "-rw-r--r-- 1 Khalid Salim 197121 11434630 Jul  6 12:53 lec1&2 DEPI.zip\n",
      "drwxr-xr-x 1 Khalid Salim 197121        0 Aug  1 15:07 oop\n",
      "-rw-r--r-- 1 Khalid Salim 197121    10444 Aug  1 14:16 oop-session-tasks.ipynb\n",
      "-rw-r--r-- 1 Khalid Salim 197121     4391 Jul 28 18:49 oop-session.ipynb\n",
      "-rw-r--r-- 1 Khalid Salim 197121      828 Jul 14 19:04 python-s1.ipynb\n",
      "-rw-r--r-- 1 Khalid Salim 197121      827 Jul 18 15:12 python-s2.ipynb\n",
      "Sun Aug  3 02:58:03 EDT 2025\n"
     ]
    }
   ],
   "source": [
    "%%bash\n",
    "pwd\n",
    "ls -l\n",
    "date"
   ]
  },
  {
   "cell_type": "code",
   "execution_count": 6,
   "id": "095d1ce2-8919-4d1b-8db2-1301ccb1a063",
   "metadata": {},
   "outputs": [
    {
     "name": "stdout",
     "output_type": "stream",
     "text": [
      " Volume in drive C is OS\n",
      " Volume Serial Number is 662F-F308\n",
      "\n",
      " Directory of C:\\projects\\depi3\n",
      "\n",
      "08/03/2025  02:58 AM    <DIR>          .\n",
      "08/03/2025  02:58 AM    <DIR>          ..\n",
      "08/01/2025  02:06 PM    <DIR>          .ipynb_checkpoints\n",
      "07/14/2025  07:31 PM    <DIR>          anaconda_projects\n",
      "07/25/2025  12:50 AM    <DIR>          lec1&2 DEPI\n",
      "07/06/2025  12:53 PM        11,434,630 lec1&2 DEPI.zip\n",
      "08/01/2025  03:07 PM    <DIR>          oop\n",
      "07/28/2025  06:49 PM             4,391 oop-session.ipynb\n",
      "08/01/2025  02:16 PM            10,444 oop-session-tasks.ipynb\n",
      "07/14/2025  07:04 PM               828 python-s1.ipynb\n",
      "07/18/2025  03:12 PM               827 python-s2.ipynb\n",
      "07/28/2025  06:16 PM    <DIR>          Tasks & Assignments\n",
      "07/24/2025  10:23 PM             6,780 Untitled.ipynb\n",
      "08/03/2025  02:58 AM             4,758 Untitled1.ipynb\n",
      "               7 File(s)     11,462,658 bytes\n",
      "               7 Dir(s)  52,940,382,208 bytes free\n"
     ]
    }
   ],
   "source": [
    "ls"
   ]
  },
  {
   "cell_type": "code",
   "execution_count": 7,
   "id": "1f7d4b6d-89bc-4f85-b586-32fe9588079b",
   "metadata": {},
   "outputs": [
    {
     "name": "stdout",
     "output_type": "stream",
     "text": [
      " Volume in drive C is OS\n",
      " Volume Serial Number is 662F-F308\n",
      "\n",
      " Directory of C:\\projects\\depi3\n",
      "\n"
     ]
    },
    {
     "name": "stderr",
     "output_type": "stream",
     "text": [
      "File Not Found\n"
     ]
    }
   ],
   "source": [
    "ls -l"
   ]
  },
  {
   "cell_type": "code",
   "execution_count": 8,
   "id": "754e8da6-2776-4c7f-a918-f91f34ce5058",
   "metadata": {},
   "outputs": [
    {
     "name": "stdout",
     "output_type": "stream",
     "text": [
      " Volume in drive C is OS\n",
      " Volume Serial Number is 662F-F308\n",
      "\n",
      " Directory of C:\\projects\\depi3\n",
      "\n"
     ]
    },
    {
     "name": "stderr",
     "output_type": "stream",
     "text": [
      "File Not Found\n"
     ]
    }
   ],
   "source": [
    "ls -l"
   ]
  },
  {
   "cell_type": "code",
   "execution_count": 9,
   "id": "a61fba62-a4ed-4b64-86b8-345ffebcded1",
   "metadata": {},
   "outputs": [
    {
     "name": "stderr",
     "output_type": "stream",
     "text": [
      "UsageError: %%bash is a cell magic, but the cell body is empty.\n"
     ]
    }
   ],
   "source": [
    "%%bash"
   ]
  },
  {
   "cell_type": "code",
   "execution_count": 10,
   "id": "f37d1675-350d-4216-bbfd-c3fe5f9facb4",
   "metadata": {},
   "outputs": [
    {
     "name": "stdout",
     "output_type": "stream",
     "text": [
      "total 11228\n",
      "drwxr-xr-x 1 Khalid Salim 197121        0 Jul 28 18:16 Tasks & Assignments\n",
      "-rw-r--r-- 1 Khalid Salim 197121     6780 Jul 24 22:23 Untitled.ipynb\n",
      "-rw-r--r-- 1 Khalid Salim 197121     4758 Aug  3 02:58 Untitled1.ipynb\n",
      "drwxr-xr-x 1 Khalid Salim 197121        0 Jul 14 19:31 anaconda_projects\n",
      "drwxr-xr-x 1 Khalid Salim 197121        0 Jul 25 00:50 lec1&2 DEPI\n",
      "-rw-r--r-- 1 Khalid Salim 197121 11434630 Jul  6 12:53 lec1&2 DEPI.zip\n",
      "drwxr-xr-x 1 Khalid Salim 197121        0 Aug  1 15:07 oop\n",
      "-rw-r--r-- 1 Khalid Salim 197121    10444 Aug  1 14:16 oop-session-tasks.ipynb\n",
      "-rw-r--r-- 1 Khalid Salim 197121     4391 Jul 28 18:49 oop-session.ipynb\n",
      "-rw-r--r-- 1 Khalid Salim 197121      828 Jul 14 19:04 python-s1.ipynb\n",
      "-rw-r--r-- 1 Khalid Salim 197121      827 Jul 18 15:12 python-s2.ipynb\n"
     ]
    }
   ],
   "source": [
    "%%bash\n",
    "ls -l"
   ]
  },
  {
   "cell_type": "code",
   "execution_count": 11,
   "id": "0afd5339-7ffc-4444-ba59-04ea6fa0d314",
   "metadata": {},
   "outputs": [
    {
     "name": "stdout",
     "output_type": "stream",
     "text": [
      "Tasks & Assignments\n",
      "Untitled.ipynb\n",
      "Untitled1.ipynb\n",
      "anaconda_projects\n",
      "lec1&2 DEPI\n",
      "lec1&2 DEPI.zip\n",
      "oop\n",
      "oop-session-tasks.ipynb\n",
      "oop-session.ipynb\n",
      "python-s1.ipynb\n",
      "python-s2.ipynb\n"
     ]
    }
   ],
   "source": [
    "%%bash\n",
    "ls"
   ]
  },
  {
   "cell_type": "code",
   "execution_count": 12,
   "id": "e5e94da8-8456-4095-bea0-2e06c1544883",
   "metadata": {},
   "outputs": [
    {
     "data": {
      "text/plain": [
       "'C:\\\\projects\\\\depi3'"
      ]
     },
     "execution_count": 12,
     "metadata": {},
     "output_type": "execute_result"
    }
   ],
   "source": [
    "pwd"
   ]
  },
  {
   "cell_type": "code",
   "execution_count": null,
   "id": "3b9ebffa-d569-48e3-b5ba-bed5cae9a885",
   "metadata": {},
   "outputs": [],
   "source": []
  },
  {
   "cell_type": "code",
   "execution_count": null,
   "id": "44ce4e7b-f301-4933-9393-42d5c7cc00f2",
   "metadata": {},
   "outputs": [],
   "source": []
  },
  {
   "cell_type": "code",
   "execution_count": null,
   "id": "259f00d7-d587-4546-b46d-a0d317cd0544",
   "metadata": {},
   "outputs": [],
   "source": []
  },
  {
   "cell_type": "code",
   "execution_count": null,
   "id": "e3824f88-dabd-4d9c-9475-d8e7614d951b",
   "metadata": {},
   "outputs": [],
   "source": []
  }
 ],
 "metadata": {
  "kernelspec": {
   "display_name": "Python [conda env:base] *",
   "language": "python",
   "name": "conda-base-py"
  },
  "language_info": {
   "codemirror_mode": {
    "name": "ipython",
    "version": 3
   },
   "file_extension": ".py",
   "mimetype": "text/x-python",
   "name": "python",
   "nbconvert_exporter": "python",
   "pygments_lexer": "ipython3",
   "version": "3.12.4"
  }
 },
 "nbformat": 4,
 "nbformat_minor": 5
}
