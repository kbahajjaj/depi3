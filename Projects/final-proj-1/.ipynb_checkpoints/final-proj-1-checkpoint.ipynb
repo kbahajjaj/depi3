{
 "cells": [
  {
   "cell_type": "markdown",
   "id": "f174515a-d615-4794-8bc2-92f195b95831",
   "metadata": {},
   "source": [
    "# Project Description:"
   ]
  },
  {
   "cell_type": "markdown",
   "id": "555875c2-6c63-453b-b455-77b15f2814bb",
   "metadata": {},
   "source": [
    " Create a Python program that allows users to manage employee records using a single class (EmployeeManager)."
   ]
  },
  {
   "cell_type": "code",
   "execution_count": 1,
   "id": "ff34f7fe-b60a-4993-a932-861fbbe738fd",
   "metadata": {},
   "outputs": [],
   "source": [
    "# Import required modules & functions\n",
    "import csv\n",
    "import os.path\n",
    "import gc # Garbage Collector module to free up memory"
   ]
  },
  {
   "cell_type": "code",
   "execution_count": 62,
   "id": "d5374e4f-fbbd-497e-9b78-f4dc5e880513",
   "metadata": {},
   "outputs": [],
   "source": [
    "class EmployeeManager:\n",
    "    # Employee list\n",
    "    \n",
    "    # constructor\n",
    "    def __init__(self, id, name, position, salary, email):\n",
    "        self.id = id\n",
    "        self.name = name\n",
    "        self.position = position\n",
    "        self.salary = salary\n",
    "        self.email = email\n",
    "\n",
    "    def add_employee(self):        \n",
    "        # save employee object to dictionary\n",
    "        employee = {'ID' : self.id, 'Name' : self.name,'Position' : self.position,\n",
    "                    'Salary' : self.salary, 'Email' : self.email}\n",
    "\n",
    "        # open csv file and add a header if there is no header\n",
    "        header = ['ID', 'Name', 'Position', 'Salary', 'Email']   \n",
    "        \n",
    "        with open('employees.csv', 'a+', newline='') as f:\n",
    "            # check csv for header\n",
    "            f.seek(0)\n",
    "            csv_header = f.readline().strip().split(\",\")\n",
    "            #print(csv_header)\n",
    "\n",
    "            # Write header (if it doesn't exist) and data into csv file    \n",
    "            writer = csv.DictWriter(f, fieldnames=header)\n",
    "            \n",
    "            # add header if it doesn't exist\n",
    "            if csv_header != header:\n",
    "                writer.writeheader()    \n",
    "            \n",
    "            # write data row to the csv file if the ID entry isn't duplicated\n",
    "            employee_ids = []\n",
    "            reader = csv.reader(f)\n",
    "            for row in reader:\n",
    "                employee_ids.append(int(row[0]))\n",
    "                #print(employee_ids)\n",
    "            \n",
    "            if employee['ID'] in employee_ids:\n",
    "                print(f\"Employee ID: [{employee['ID']}] aready exists\\nNot added to database\")\n",
    "            else:\n",
    "                writer.writerow(employee)\n",
    "                print(f\"Employee ID: [{employee['ID']}] data is added to database\")\n",
    "\n",
    "        # Clear memory:\n",
    "        del employee\n",
    "        del header\n",
    "        del csv_header\n",
    "        del writer\n",
    "        del employee_ids\n",
    "        gc.collect()\n",
    "\n",
    "\n",
    "\n",
    "def search_employee(id):\n",
    "    with open('employees.csv', 'r') as f:\n",
    "        reader = csv.reader(f)\n",
    "        header = f.readline().strip().split(\",\")\n",
    "        #next(reader) # skip header row\n",
    "        found = False # default state of search\n",
    "        for row in reader:\n",
    "            if id == int(row[0]):\n",
    "                found = True\n",
    "                print(f\"{'-' * 100}\")\n",
    "                print(f\"{header[0].ljust(5)}{header[1].ljust(25)}{header[2].ljust(25)}{header[3].ljust(10)}{header[4]}\")\n",
    "                print(f\"{'-' * 100}\")\n",
    "                print(f\"{row[0].ljust(4)}{row[1].ljust(25)}{row[2].ljust(25)}{row[3].ljust(10)}{row[4]}\")\n",
    "                break\n",
    "        if not found:\n",
    "            print(f\"Employee ID: [{id}] not found in database\")\n",
    "\n",
    "def view_employees():\n",
    "    with open('employees.csv', 'r') as f:\n",
    "        \n",
    "        # create a csv.reader object\n",
    "        csv_reader = csv.reader(f)\n",
    "        header = f.readline().strip().split(\",\")\n",
    "        #print(csv_reader)\n",
    "\n",
    "        # use a loop to iterate over each row in the csv file\n",
    "        #employee_rows = []\n",
    "        print(f\"{'-' * 100}\")\n",
    "        print(f\"{header[0].ljust(5)}{header[1].ljust(25)}{header[2].ljust(25)}{header[3].ljust(10)}{header[4]}\")\n",
    "        print(f\"{'-' * 100}\")\n",
    "        for row in csv_reader:\n",
    "            print(f\"{row[0].ljust(5)}{row[1].ljust(25)}{row[2].ljust(25)}{row[3].ljust(10)}{row[4]}\")            \n",
    "\n",
    "def clear_all_data():\n",
    "    filename = \"employees.csv\"\n",
    "    f = open(filename, \"w+\")\n",
    "    f.close()\n",
    "    print(\"Employee database cleared!\")\n",
    "\n",
    "def delete_employee(id):\n",
    "    with open('employees.csv', 'r', newline='') as f:\n",
    "        f.seek(0)\n",
    "        header = f.readline().strip().split(\",\")\n",
    "        reader = csv.reader(f)\n",
    "        found = False # default state of search\n",
    "        rows = [header] # keep the header for the output file\n",
    "        \n",
    "        for row in reader:\n",
    "            if id == int(row[0]):\n",
    "                found = True\n",
    "            else:\n",
    "                rows.append(row)\n",
    "        #print(rows)\n",
    "    with open('employees.csv', 'w', newline='') as f:\n",
    "                writer = csv.writer(f)\n",
    "                writer.writerows(rows)\n",
    "                #print(f\"{header[0].ljust(4)}{header[1].ljust(25)}{header[2].ljust(25)}{header[3].ljust(10)}{header[4]}\")\n",
    "                #print(f\"{row[0].ljust(4)}{row[1].ljust(25)}{row[2].ljust(25)}{row[3].ljust(10)}{row[4]}\")\n",
    "    if not found:\n",
    "        print(f\"Can't Delete Employee ID: [{id}], not found in database\")\n",
    "    else:\n",
    "        print(f\"Employee ID: [{id}] was successfuly deleted from database\")\n",
    "\n",
    "    # Clear memory:\n",
    "    del reader\n",
    "    del header\n",
    "    del rows\n",
    "    del writer\n",
    "    gc.collect()\n",
    "\n",
    "def update_employee(id, updates):\n",
    "    updates.insert(0, id)\n",
    "    with open('employees.csv', 'r', newline='') as f:\n",
    "        f.seek(0)\n",
    "        header = f.readline().strip().split(\",\")\n",
    "        reader = csv.reader(f)\n",
    "        found = False # default state of search\n",
    "        rows = [header] # keep the header for the output file\n",
    "        \n",
    "        for row in reader:\n",
    "            if id == int(row[0]):\n",
    "                found = True\n",
    "                if \"\" in updates:\n",
    "                    index_of_empty = updates.index(\"\")\n",
    "                    updates[index_of_empty] = row[index_of_empty]\n",
    "                rows.append(updates)\n",
    "            else:\n",
    "                rows.append(row)\n",
    "\n",
    "    with open('employees.csv', 'w', newline='') as f:\n",
    "                writer = csv.writer(f)\n",
    "                writer.writerows(rows)\n",
    "                #print(f\"{header[0].ljust(4)}{header[1].ljust(25)}{header[2].ljust(25)}{header[3].ljust(10)}{header[4]}\")\n",
    "                #print(f\"{row[0].ljust(4)}{row[1].ljust(25)}{row[2].ljust(25)}{row[3].ljust(10)}{row[4]}\")\n",
    "    if not found:\n",
    "        print(f\"Can't Update Data for Employee ID: [{id}], not found in database\")\n",
    "    else:\n",
    "        print(f\"Employee ID: [{id}] data was successfuly updated in database\")\n",
    "\n",
    "    # Clear memory:\n",
    "    del reader\n",
    "    del header\n",
    "    del rows\n",
    "    del writer\n",
    "    gc.collect()"
   ]
  },
  {
   "cell_type": "code",
   "execution_count": 63,
   "id": "17f24c8f-fcd1-4139-9311-7ff1a97fb064",
   "metadata": {},
   "outputs": [
    {
     "name": "stdout",
     "output_type": "stream",
     "text": [
      "Employee database cleared!\n"
     ]
    }
   ],
   "source": [
    "clear_all_data()"
   ]
  },
  {
   "cell_type": "code",
   "execution_count": 64,
   "id": "9d98ee5c-a3c5-45c8-b515-708ead62880f",
   "metadata": {},
   "outputs": [],
   "source": [
    "khalid = EmployeeManager(1, 'Khalid Salim', 'Data Analyst', 10000, 'k.bahajjaj@gmail.com')\n",
    "mghany = EmployeeManager(2, 'Mohamed Abdel Ghany', 'Database Admin', 12000, 'mohabdelghany@outlook.com')\n",
    "mali = EmployeeManager(3, 'Mohamed Ali', 'Office Assistant', 7000, 'no_email')"
   ]
  },
  {
   "cell_type": "code",
   "execution_count": 65,
   "id": "a22d8c07-297f-45b0-9b24-c9b1519a0b8b",
   "metadata": {},
   "outputs": [
    {
     "name": "stdout",
     "output_type": "stream",
     "text": [
      "Employee ID: [1] data is added to database\n",
      "Employee ID: [2] data is added to database\n",
      "Employee ID: [3] data is added to database\n"
     ]
    }
   ],
   "source": [
    "khalid.add_employee()\n",
    "mghany.add_employee()\n",
    "mali.add_employee()"
   ]
  },
  {
   "cell_type": "code",
   "execution_count": 66,
   "id": "c65c2d02-392d-4dea-b9b4-f7b60419f40b",
   "metadata": {},
   "outputs": [
    {
     "name": "stdout",
     "output_type": "stream",
     "text": [
      "----------------------------------------------------------------------------------------------------\n",
      "ID   Name                     Position                 Salary    Email\n",
      "----------------------------------------------------------------------------------------------------\n",
      "1    Khalid Salim             Data Analyst             10000     k.bahajjaj@gmail.com\n",
      "2    Mohamed Abdel Ghany      Database Admin           12000     mohabdelghany@outlook.com\n",
      "3    Mohamed Ali              Office Assistant         7000      no_email\n"
     ]
    }
   ],
   "source": [
    "view_employees()"
   ]
  },
  {
   "cell_type": "code",
   "execution_count": 67,
   "id": "e6d18304-f149-44b2-84d2-fe79461b1f7e",
   "metadata": {},
   "outputs": [
    {
     "name": "stdout",
     "output_type": "stream",
     "text": [
      "----------------------------------------------------------------------------------------------------\n",
      "ID   Name                     Position                 Salary    Email\n",
      "----------------------------------------------------------------------------------------------------\n",
      "2   Mohamed Abdel Ghany      Database Admin           12000     mohabdelghany@outlook.com\n"
     ]
    }
   ],
   "source": [
    "search_employee(2)"
   ]
  },
  {
   "cell_type": "code",
   "execution_count": 68,
   "id": "fb9106b0-aea4-468a-b0b0-92ba2e9db707",
   "metadata": {},
   "outputs": [
    {
     "name": "stdout",
     "output_type": "stream",
     "text": [
      "Employee ID: [1] was successfuly deleted from database\n"
     ]
    }
   ],
   "source": [
    "delete_employee(1)"
   ]
  },
  {
   "cell_type": "code",
   "execution_count": 69,
   "id": "07deb033-5af5-43ec-b60b-2ae70031941c",
   "metadata": {},
   "outputs": [
    {
     "name": "stdout",
     "output_type": "stream",
     "text": [
      "Employee ID: [2] data was successfuly updated in database\n"
     ]
    }
   ],
   "source": [
    "id = 2\n",
    "employee_updated_data = ['Rania Elsharkawy', 'Dean of Education', '50000', 'r_m_elsharkawy@gmail.com']\n",
    "update_employee(id, employee_updated_data)"
   ]
  },
  {
   "cell_type": "code",
   "execution_count": 70,
   "id": "f7602ffe-3f86-4130-bf4a-c25dec619c40",
   "metadata": {},
   "outputs": [
    {
     "name": "stdout",
     "output_type": "stream",
     "text": [
      "----------------------------------------------------------------------------------------------------\n",
      "ID   Name                     Position                 Salary    Email\n",
      "----------------------------------------------------------------------------------------------------\n",
      "2    Rania Elsharkawy         Dean of Education        50000     r_m_elsharkawy@gmail.com\n",
      "3    Mohamed Ali              Office Assistant         7000      no_email\n"
     ]
    }
   ],
   "source": [
    "view_employees()"
   ]
  },
  {
   "cell_type": "code",
   "execution_count": 71,
   "id": "65be543f-3a3a-4c2f-ac3b-ba48c027519f",
   "metadata": {},
   "outputs": [
    {
     "name": "stdout",
     "output_type": "stream",
     "text": [
      "----------------------------------------------------------------------------------------------------\n",
      "ID   Name                     Position                 Salary    Email\n",
      "----------------------------------------------------------------------------------------------------\n",
      "2   Rania Elsharkawy         Dean of Education        50000     r_m_elsharkawy@gmail.com\n"
     ]
    }
   ],
   "source": [
    "search_employee(id)"
   ]
  },
  {
   "cell_type": "code",
   "execution_count": null,
   "id": "eacb56e1-636e-41f7-b1f1-8783c9646739",
   "metadata": {},
   "outputs": [],
   "source": []
  }
 ],
 "metadata": {
  "kernelspec": {
   "display_name": "Python 3 (ipykernel)",
   "language": "python",
   "name": "python3"
  },
  "language_info": {
   "codemirror_mode": {
    "name": "ipython",
    "version": 3
   },
   "file_extension": ".py",
   "mimetype": "text/x-python",
   "name": "python",
   "nbconvert_exporter": "python",
   "pygments_lexer": "ipython3",
   "version": "3.11.7"
  }
 },
 "nbformat": 4,
 "nbformat_minor": 5
}
