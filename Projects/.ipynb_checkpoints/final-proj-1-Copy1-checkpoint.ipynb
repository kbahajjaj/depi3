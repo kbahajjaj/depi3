{
 "cells": [
  {
   "cell_type": "markdown",
   "id": "7c76b20f-9dae-4195-98ea-b0eae3bb4fad",
   "metadata": {},
   "source": [
    "# Final Technical Project 1\n",
    "### Student: Khalid Salim Bahajjaj\n",
    "### Group: CAI3_AIS4_G1"
   ]
  },
  {
   "cell_type": "markdown",
   "id": "f174515a-d615-4794-8bc2-92f195b95831",
   "metadata": {},
   "source": [
    "## Project Description:"
   ]
  },
  {
   "cell_type": "markdown",
   "id": "555875c2-6c63-453b-b455-77b15f2814bb",
   "metadata": {},
   "source": [
    " Create a Python program that allows users to manage employee records using a single class (EmployeeManager)."
   ]
  },
  {
   "cell_type": "markdown",
   "id": "6bfbee27-a98c-4a81-a0de-30576ed8fe91",
   "metadata": {},
   "source": [
    "## Importing my custom modules and their dependencies"
   ]
  },
  {
   "cell_type": "code",
   "execution_count": 1,
   "id": "ff34f7fe-b60a-4993-a932-861fbbe738fd",
   "metadata": {},
   "outputs": [],
   "source": [
    "# employee class and add objects function\n",
    "from emp_create import EmployeeManager\n",
    "\n",
    "# Employy search, update, view, and delete functions\n",
    "from emp_fun import search_employee, view_employees, clear_all_data, delete_employee, update_employee"
   ]
  },
  {
   "cell_type": "markdown",
   "id": "e11ee4d1-105a-4e8b-8a33-23e17d1eb39f",
   "metadata": {},
   "source": [
    "## User Interface\n"
   ]
  },
  {
   "cell_type": "markdown",
   "id": "26b59b73-85b6-4c2d-a85a-2620359f2ac8",
   "metadata": {},
   "source": [
    "### Welcome Messages & Menu:"
   ]
  },
  {
   "cell_type": "code",
   "execution_count": 13,
   "id": "a5ade9c7-0e2e-4555-8981-c5a591d95a92",
   "metadata": {},
   "outputs": [],
   "source": [
    "welcome_msg = \"\"\"\n",
    "--------------------------------\n",
    "Welcome to the Employee DataBase\n",
    "--------------------------------\n",
    "\n",
    "Please choose from the menu below:\n",
    "1: Add Employee to DataBase\n",
    "2. View All Emplyees Data\n",
    "3. Update Employee Data in DataBase\n",
    "4. Delete Employee Data from DataBase\n",
    "5. Search Employee Data\n",
    "6. Exit\n",
    "7. [WARNING] - Clear All DataBase content\n",
    "\"\"\"\n",
    "\n",
    "options = ['1', '2', '3', '4', '5', '6', '7']\n",
    "ids = [str(id) for id in range(1, 51)]"
   ]
  },
  {
   "cell_type": "markdown",
   "id": "c7aee278-9c03-4ac8-ae21-1ddaff49b67f",
   "metadata": {},
   "source": [
    "### Processing User Input"
   ]
  },
  {
   "cell_type": "code",
   "execution_count": 28,
   "id": "f0a666e1-23f0-4cd5-aac0-e8e79f3e39e3",
   "metadata": {},
   "outputs": [
    {
     "name": "stdin",
     "output_type": "stream",
     "text": [
      "\n",
      "--------------------------------\n",
      "Welcome to the Employee DataBase\n",
      "--------------------------------\n",
      "\n",
      "Please choose from the menu below:\n",
      "1: Add Employee to DataBase\n",
      "2. View All Emplyees Data\n",
      "3. Update Employee Data in DataBase\n",
      "4. Delete Employee Data from DataBase\n",
      "5. Search Employee Data\n",
      "6. Exit\n",
      "7. [WARNING] - Clear All DataBase content\n",
      " 1\n",
      "Employee ID: 1\n",
      "Employee First Name: a\n",
      "Employee Last Name: a\n",
      "Employee Position: m @\n",
      "Position should only contain Alphanumeric characters [a->z] & [0-9] m 3\n",
      "Employee Salary 5@@\n",
      "Salary should only contain Numeric characters [0-9] 5,000\n"
     ]
    },
    {
     "ename": "KeyboardInterrupt",
     "evalue": "Interrupted by user",
     "output_type": "error",
     "traceback": [
      "\u001b[31m---------------------------------------------------------------------------\u001b[39m",
      "\u001b[31mKeyboardInterrupt\u001b[39m                         Traceback (most recent call last)",
      "\u001b[36mCell\u001b[39m\u001b[36m \u001b[39m\u001b[32mIn[28]\u001b[39m\u001b[32m, line 40\u001b[39m\n\u001b[32m     37\u001b[39m     salary = \u001b[38;5;28minput\u001b[39m(\u001b[33m'\u001b[39m\u001b[33mSalary should only contain Numeric characters [0-9]\u001b[39m\u001b[33m'\u001b[39m).strip()\n\u001b[32m     38\u001b[39m     check = salary.replace(\u001b[33m\"\u001b[39m\u001b[33m,\u001b[39m\u001b[33m\"\u001b[39m, \u001b[33m\"\u001b[39m\u001b[33m\"\u001b[39m).isnumeric()\n\u001b[32m---> \u001b[39m\u001b[32m40\u001b[39m email = \u001b[38;5;28minput\u001b[39m(\u001b[33m'\u001b[39m\u001b[33mEmployee Email\u001b[39m\u001b[33m'\u001b[39m).strip()\n\u001b[32m     41\u001b[39m check = email.isalnum() \u001b[38;5;129;01mand\u001b[39;00m ()\n\u001b[32m     42\u001b[39m \u001b[38;5;28;01mwhile\u001b[39;00m \u001b[38;5;129;01mnot\u001b[39;00m check:\n",
      "\u001b[36mFile \u001b[39m\u001b[32m~\\anaconda3\\envs\\depi3\\Lib\\site-packages\\ipykernel\\kernelbase.py:1282\u001b[39m, in \u001b[36mKernel.raw_input\u001b[39m\u001b[34m(self, prompt)\u001b[39m\n\u001b[32m   1280\u001b[39m     msg = \u001b[33m\"\u001b[39m\u001b[33mraw_input was called, but this frontend does not support input requests.\u001b[39m\u001b[33m\"\u001b[39m\n\u001b[32m   1281\u001b[39m     \u001b[38;5;28;01mraise\u001b[39;00m StdinNotImplementedError(msg)\n\u001b[32m-> \u001b[39m\u001b[32m1282\u001b[39m \u001b[38;5;28;01mreturn\u001b[39;00m \u001b[38;5;28mself\u001b[39m._input_request(\n\u001b[32m   1283\u001b[39m     \u001b[38;5;28mstr\u001b[39m(prompt),\n\u001b[32m   1284\u001b[39m     \u001b[38;5;28mself\u001b[39m._parent_ident[\u001b[33m\"\u001b[39m\u001b[33mshell\u001b[39m\u001b[33m\"\u001b[39m],\n\u001b[32m   1285\u001b[39m     \u001b[38;5;28mself\u001b[39m.get_parent(\u001b[33m\"\u001b[39m\u001b[33mshell\u001b[39m\u001b[33m\"\u001b[39m),\n\u001b[32m   1286\u001b[39m     password=\u001b[38;5;28;01mFalse\u001b[39;00m,\n\u001b[32m   1287\u001b[39m )\n",
      "\u001b[36mFile \u001b[39m\u001b[32m~\\anaconda3\\envs\\depi3\\Lib\\site-packages\\ipykernel\\kernelbase.py:1325\u001b[39m, in \u001b[36mKernel._input_request\u001b[39m\u001b[34m(self, prompt, ident, parent, password)\u001b[39m\n\u001b[32m   1322\u001b[39m \u001b[38;5;28;01mexcept\u001b[39;00m \u001b[38;5;167;01mKeyboardInterrupt\u001b[39;00m:\n\u001b[32m   1323\u001b[39m     \u001b[38;5;66;03m# re-raise KeyboardInterrupt, to truncate traceback\u001b[39;00m\n\u001b[32m   1324\u001b[39m     msg = \u001b[33m\"\u001b[39m\u001b[33mInterrupted by user\u001b[39m\u001b[33m\"\u001b[39m\n\u001b[32m-> \u001b[39m\u001b[32m1325\u001b[39m     \u001b[38;5;28;01mraise\u001b[39;00m \u001b[38;5;167;01mKeyboardInterrupt\u001b[39;00m(msg) \u001b[38;5;28;01mfrom\u001b[39;00m\u001b[38;5;250m \u001b[39m\u001b[38;5;28;01mNone\u001b[39;00m\n\u001b[32m   1326\u001b[39m \u001b[38;5;28;01mexcept\u001b[39;00m \u001b[38;5;167;01mException\u001b[39;00m:\n\u001b[32m   1327\u001b[39m     \u001b[38;5;28mself\u001b[39m.log.warning(\u001b[33m\"\u001b[39m\u001b[33mInvalid Message:\u001b[39m\u001b[33m\"\u001b[39m, exc_info=\u001b[38;5;28;01mTrue\u001b[39;00m)\n",
      "\u001b[31mKeyboardInterrupt\u001b[39m: Interrupted by user"
     ]
    }
   ],
   "source": [
    "option = input(welcome_msg).strip()\n",
    "\n",
    "# User choise is not in available options:\n",
    "while option not in options:\n",
    "    option = input(\"Invalid choice, please choose from 1 to 6.\")\n",
    "\n",
    "# ----------------- #\n",
    "# Option 1 Response #\n",
    "# ----------------- #\n",
    "if option == '1':\n",
    "    id = input('Employee ID:')\n",
    "    while id not in ids:\n",
    "        id = input('Please input a number from 1 to 50').strip()\n",
    "        \n",
    "    first_name = input('Employee First Name:').strip()\n",
    "    check = first_name.isalpha()\n",
    "    while not check:\n",
    "        first_name = input('Name should only contain Alphabetic characters [a->z]').strip()\n",
    "        check = first_name.isalpha()\n",
    "\n",
    "    last_name = input('Employee Last Name:').strip()\n",
    "    check = last_name.isalpha()\n",
    "    while not check:\n",
    "        last_name = input('Name should only contain Alphabetic characters [a->z]').strip()\n",
    "        check = last_name.isalpha()\n",
    "    name = first_name + \" \" + last_name\n",
    "    \n",
    "    position = input('Employee Position:').strip()\n",
    "    check = position.replace(\" \", \"\").isalnum()\n",
    "    while not check:\n",
    "        position = input('Position should only contain Alphanumeric characters [a->z] & [0-9]').strip()\n",
    "        check = position.replace(\" \", \"\").isalnum()\n",
    "\n",
    "    salary = input('Employee Salary').strip().replace(\",\", \"\")\n",
    "    check = salary.isnumeric()\n",
    "    while not check:\n",
    "        salary = input('Salary should only contain Numeric characters [0-9]').strip()\n",
    "        check = salary.replace(\",\", \"\").isnumeric()\n",
    "\n",
    "    email = input('Employee Email').strip()\n",
    "    check = email.isalnum()\n",
    "    while not check:\n",
    "        salary = input('Salary should only contain Numeric characters [0-9]').strip()\n",
    "        check = salary.isnumeric()    \n",
    "    \n",
    "# ----------------- #\n",
    "# Option 7 Response #\n",
    "# ----------------- #\n",
    "if option == '7':\n",
    "    answer = input('Are you sure you want to CLEAR ALL DATA in DataBase?! [y/n]').strip()\n",
    "    while answer not in ['y', 'n']:\n",
    "        answer = input('Invalid choice, please choose from y or n.').strip()\n",
    "    if answer == 'y':\n",
    "        clear_all_data()\n",
    "    elif answer == 'n':\n",
    "        print(\"DataBase is INTACT\\nThank you!\")"
   ]
  },
  {
   "cell_type": "code",
   "execution_count": 23,
   "id": "465c19f2-eb40-472b-b080-ced2e287702c",
   "metadata": {},
   "outputs": [
    {
     "name": "stdout",
     "output_type": "stream",
     "text": [
      "5000\n"
     ]
    }
   ],
   "source": [
    "print(salary)"
   ]
  },
  {
   "cell_type": "code",
   "execution_count": 34,
   "id": "9d98ee5c-a3c5-45c8-b515-708ead62880f",
   "metadata": {},
   "outputs": [],
   "source": [
    "khalid = EmployeeManager('1', 'Khalid Salim', 'Data Analyst', '10000', 'k.bahajjaj@gmail.com')\n",
    "mghany = EmployeeManager('2', 'Mohamed Abdel Ghany', 'Database Admin', '12000', 'mohabdelghany@outlook.com')\n",
    "mali = EmployeeManager('3', 'Mohamed Ali', 'Office Assistant', 7000, 'no_email')"
   ]
  },
  {
   "cell_type": "code",
   "execution_count": 35,
   "id": "a22d8c07-297f-45b0-9b24-c9b1519a0b8b",
   "metadata": {},
   "outputs": [
    {
     "name": "stdout",
     "output_type": "stream",
     "text": [
      "Employee ID: [1] data is added to database\n",
      "Employee ID: [2] data is added to database\n",
      "Employee ID: [3] data is added to database\n"
     ]
    }
   ],
   "source": [
    "khalid.add_employee()\n",
    "mghany.add_employee()\n",
    "mali.add_employee()"
   ]
  },
  {
   "cell_type": "code",
   "execution_count": 36,
   "id": "c65c2d02-392d-4dea-b9b4-f7b60419f40b",
   "metadata": {},
   "outputs": [
    {
     "name": "stdout",
     "output_type": "stream",
     "text": [
      "----------------------------------------------------------------------------------------------------\n",
      "ID   Name                     Position                 Salary    Email\n",
      "----------------------------------------------------------------------------------------------------\n",
      "1    Khalid Salim             Data Analyst             10000     k.bahajjaj@gmail.com\n",
      "2    Mohamed Abdel Ghany      Database Admin           12000     mohabdelghany@outlook.com\n",
      "3    Mohamed Ali              Office Assistant         7000      no_email\n"
     ]
    }
   ],
   "source": [
    "view_employees()"
   ]
  },
  {
   "cell_type": "code",
   "execution_count": 37,
   "id": "e6d18304-f149-44b2-84d2-fe79461b1f7e",
   "metadata": {},
   "outputs": [
    {
     "name": "stdout",
     "output_type": "stream",
     "text": [
      "----------------------------------------------------------------------------------------------------\n",
      "ID   Name                     Position                 Salary    Email\n",
      "----------------------------------------------------------------------------------------------------\n",
      "2   Mohamed Abdel Ghany      Database Admin           12000     mohabdelghany@outlook.com\n"
     ]
    }
   ],
   "source": [
    "search_employee(2)"
   ]
  },
  {
   "cell_type": "code",
   "execution_count": 38,
   "id": "fb9106b0-aea4-468a-b0b0-92ba2e9db707",
   "metadata": {},
   "outputs": [
    {
     "name": "stdout",
     "output_type": "stream",
     "text": [
      "Employee ID: [1] was successfuly deleted from database\n"
     ]
    }
   ],
   "source": [
    "delete_employee(1)"
   ]
  },
  {
   "cell_type": "code",
   "execution_count": 39,
   "id": "07deb033-5af5-43ec-b60b-2ae70031941c",
   "metadata": {},
   "outputs": [
    {
     "name": "stdout",
     "output_type": "stream",
     "text": [
      "Employee ID: [2] data was successfuly updated in database\n"
     ]
    }
   ],
   "source": [
    "id = 2\n",
    "employee_updated_data = ['Rania Elsharkawy', 'Dean of Education', '', 'r_m_elsharkawy@gmail.com']\n",
    "update_employee(id, employee_updated_data)"
   ]
  },
  {
   "cell_type": "code",
   "execution_count": 40,
   "id": "f7602ffe-3f86-4130-bf4a-c25dec619c40",
   "metadata": {},
   "outputs": [
    {
     "name": "stdout",
     "output_type": "stream",
     "text": [
      "----------------------------------------------------------------------------------------------------\n",
      "ID   Name                     Position                 Salary    Email\n",
      "----------------------------------------------------------------------------------------------------\n",
      "2    Rania Elsharkawy         Dean of Education        12000     r_m_elsharkawy@gmail.com\n",
      "3    Mohamed Ali              Office Assistant         7000      no_email\n"
     ]
    }
   ],
   "source": [
    "view_employees()"
   ]
  },
  {
   "cell_type": "code",
   "execution_count": 41,
   "id": "65be543f-3a3a-4c2f-ac3b-ba48c027519f",
   "metadata": {},
   "outputs": [
    {
     "name": "stdout",
     "output_type": "stream",
     "text": [
      "----------------------------------------------------------------------------------------------------\n",
      "ID   Name                     Position                 Salary    Email\n",
      "----------------------------------------------------------------------------------------------------\n",
      "2   Rania Elsharkawy         Dean of Education        12000     r_m_elsharkawy@gmail.com\n"
     ]
    }
   ],
   "source": [
    "search_employee(id)"
   ]
  },
  {
   "cell_type": "code",
   "execution_count": null,
   "id": "eacb56e1-636e-41f7-b1f1-8783c9646739",
   "metadata": {},
   "outputs": [],
   "source": []
  },
  {
   "cell_type": "code",
   "execution_count": null,
   "id": "080abf9a-3abe-43b1-a41d-a289892745cc",
   "metadata": {},
   "outputs": [],
   "source": []
  }
 ],
 "metadata": {
  "kernelspec": {
   "display_name": "Python (depi3)",
   "language": "python",
   "name": "depi3"
  },
  "language_info": {
   "codemirror_mode": {
    "name": "ipython",
    "version": 3
   },
   "file_extension": ".py",
   "mimetype": "text/x-python",
   "name": "python",
   "nbconvert_exporter": "python",
   "pygments_lexer": "ipython3",
   "version": "3.13.5"
  }
 },
 "nbformat": 4,
 "nbformat_minor": 5
}
